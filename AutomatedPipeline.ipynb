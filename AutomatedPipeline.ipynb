{
  "nbformat": 4,
  "nbformat_minor": 0,
  "metadata": {
    "colab": {
      "provenance": [],
      "authorship_tag": "ABX9TyNJ3dEO8LKdSxO9ODxqhG02",
      "include_colab_link": true
    },
    "kernelspec": {
      "name": "python3",
      "display_name": "Python 3"
    },
    "language_info": {
      "name": "python"
    }
  },
  "cells": [
    {
      "cell_type": "markdown",
      "metadata": {
        "id": "view-in-github",
        "colab_type": "text"
      },
      "source": [
        "<a href=\"https://colab.research.google.com/github/ankesh86/PySparkNotebooks/blob/main/AutomatedPipeline.ipynb\" target=\"_parent\"><img src=\"https://colab.research.google.com/assets/colab-badge.svg\" alt=\"Open In Colab\"/></a>"
      ]
    },
    {
      "cell_type": "markdown",
      "source": [
        "Machine Learning Lifecycle\n",
        "Pipeline Req. for framework - Binary target (KS, ROC, Accuracy)\n",
        "\n",
        "## CRISP-DM\n",
        "* Data manipulations\n",
        "* Feature selection\n",
        "* Model building\n",
        "*Metrics calculation\n",
        "* Validation and plot generation\n",
        "* Model selection\n",
        "* Score code creation\n",
        "* Collating results\n",
        "* Framework to handle all the preceding steps\n"
      ],
      "metadata": {
        "id": "_lax89DkHleg"
      }
    },
    {
      "cell_type": "code",
      "execution_count": null,
      "metadata": {
        "id": "LllByT0DHeoP"
      },
      "outputs": [],
      "source": []
    }
  ]
}
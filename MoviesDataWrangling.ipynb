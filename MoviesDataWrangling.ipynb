{
  "nbformat": 4,
  "nbformat_minor": 0,
  "metadata": {
    "colab": {
      "provenance": [],
      "authorship_tag": "ABX9TyNIUIdO6T1T5WdpOiyikPvB",
      "include_colab_link": true
    },
    "kernelspec": {
      "name": "python3",
      "display_name": "Python 3"
    },
    "language_info": {
      "name": "python"
    }
  },
  "cells": [
    {
      "cell_type": "markdown",
      "metadata": {
        "id": "view-in-github",
        "colab_type": "text"
      },
      "source": [
        "<a href=\"https://colab.research.google.com/github/ankesh86/PySparkNotebooks/blob/main/MoviesDataWrangling.ipynb\" target=\"_parent\"><img src=\"https://colab.research.google.com/assets/colab-badge.svg\" alt=\"Open In Colab\"/></a>"
      ]
    },
    {
      "cell_type": "code",
      "execution_count": 1,
      "metadata": {
        "id": "uC1u6H8bWyh6",
        "colab": {
          "base_uri": "https://localhost:8080/"
        },
        "outputId": "3d88f27d-9cd7-49ee-a24d-cc61f8e49783"
      },
      "outputs": [
        {
          "output_type": "stream",
          "name": "stdout",
          "text": [
            "Collecting pyspark==3.4.0\n",
            "  Downloading pyspark-3.4.0.tar.gz (310.8 MB)\n",
            "\u001b[2K     \u001b[90m━━━━━━━━━━━━━━━━━━━━━━━━━━━━━━━━━━━━━━━━\u001b[0m \u001b[32m310.8/310.8 MB\u001b[0m \u001b[31m3.2 MB/s\u001b[0m eta \u001b[36m0:00:00\u001b[0m\n",
            "\u001b[?25h  Preparing metadata (setup.py) ... \u001b[?25l\u001b[?25hdone\n",
            "Requirement already satisfied: py4j==0.10.9.7 in /usr/local/lib/python3.10/dist-packages (from pyspark==3.4.0) (0.10.9.7)\n",
            "Building wheels for collected packages: pyspark\n",
            "  Building wheel for pyspark (setup.py) ... \u001b[?25l\u001b[?25hdone\n",
            "  Created wheel for pyspark: filename=pyspark-3.4.0-py2.py3-none-any.whl size=311317122 sha256=bc503a4fde9b8090e0cd6984f68900ab3ea47b77fd1ab070027f59b1143fee49\n",
            "  Stored in directory: /root/.cache/pip/wheels/7b/1b/4b/3363a1d04368e7ff0d408e57ff57966fcdf00583774e761327\n",
            "Successfully built pyspark\n",
            "Installing collected packages: pyspark\n",
            "Successfully installed pyspark-3.4.0\n"
          ]
        }
      ],
      "source": [
        "!pip install pyspark==3.4.0"
      ]
    },
    {
      "cell_type": "code",
      "source": [
        "from pyspark.sql import SparkSession\n",
        "spark = SparkSession.builder.appName(\"Data_Wrangling\").getOrCreate()"
      ],
      "metadata": {
        "id": "AQr5AZBRW9_Q"
      },
      "execution_count": 3,
      "outputs": []
    },
    {
      "cell_type": "code",
      "source": [
        "#reading data from file\n",
        "file_loc = \"sample_data/movie_data_part1.csv\"\n",
        "file_typ = \"csv\"\n",
        "infer_Schema = \"False\"\n",
        "first_row_is_header = \"True\"\n",
        "delimiter = \"|\""
      ],
      "metadata": {
        "id": "UcjAMvklX1D4"
      },
      "execution_count": 6,
      "outputs": []
    },
    {
      "cell_type": "code",
      "source": [
        "df = spark.read.format(file_typ).option(\"inferSchema\",infer_Schema).option(\"header\",first_row_is_header).option(\"sep\",delimiter).load(file_loc)"
      ],
      "metadata": {
        "id": "xEgrkvBIYY_Z"
      },
      "execution_count": 7,
      "outputs": []
    },
    {
      "cell_type": "code",
      "source": [
        "df.printSchema()"
      ],
      "metadata": {
        "colab": {
          "base_uri": "https://localhost:8080/"
        },
        "id": "3YhFUU1VY7hH",
        "outputId": "70787b21-f85d-49ac-f004-38ed048cedac"
      },
      "execution_count": 8,
      "outputs": [
        {
          "output_type": "stream",
          "name": "stdout",
          "text": [
            "root\n",
            " |-- belongs_to_collection: string (nullable = true)\n",
            " |-- budget: string (nullable = true)\n",
            " |-- id: string (nullable = true)\n",
            " |-- original_language: string (nullable = true)\n",
            " |-- original_title: string (nullable = true)\n",
            " |-- overview: string (nullable = true)\n",
            " |-- popularity: string (nullable = true)\n",
            " |-- production_companies: string (nullable = true)\n",
            " |-- production_countries: string (nullable = true)\n",
            " |-- release_date: string (nullable = true)\n",
            " |-- revenue: string (nullable = true)\n",
            " |-- runtime: string (nullable = true)\n",
            " |-- status: string (nullable = true)\n",
            " |-- tagline: string (nullable = true)\n",
            " |-- title: string (nullable = true)\n",
            " |-- vote_average: string (nullable = true)\n",
            "\n"
          ]
        }
      ]
    },
    {
      "cell_type": "code",
      "source": [
        "df.dtypes"
      ],
      "metadata": {
        "colab": {
          "base_uri": "https://localhost:8080/"
        },
        "id": "dByCiiktZTgW",
        "outputId": "2541a24f-e98a-4bb8-8bce-99c0ca818939"
      },
      "execution_count": 9,
      "outputs": [
        {
          "output_type": "execute_result",
          "data": {
            "text/plain": [
              "[('belongs_to_collection', 'string'),\n",
              " ('budget', 'string'),\n",
              " ('id', 'string'),\n",
              " ('original_language', 'string'),\n",
              " ('original_title', 'string'),\n",
              " ('overview', 'string'),\n",
              " ('popularity', 'string'),\n",
              " ('production_companies', 'string'),\n",
              " ('production_countries', 'string'),\n",
              " ('release_date', 'string'),\n",
              " ('revenue', 'string'),\n",
              " ('runtime', 'string'),\n",
              " ('status', 'string'),\n",
              " ('tagline', 'string'),\n",
              " ('title', 'string'),\n",
              " ('vote_average', 'string')]"
            ]
          },
          "metadata": {},
          "execution_count": 9
        }
      ]
    },
    {
      "cell_type": "code",
      "source": [
        "df.count()"
      ],
      "metadata": {
        "colab": {
          "base_uri": "https://localhost:8080/"
        },
        "id": "dJjvGGZ7ZqE-",
        "outputId": "3d561238-7bef-4dbe-b9cc-4d127b5821da"
      },
      "execution_count": 10,
      "outputs": [
        {
          "output_type": "execute_result",
          "data": {
            "text/plain": [
              "43998"
            ]
          },
          "metadata": {},
          "execution_count": 10
        }
      ]
    },
    {
      "cell_type": "code",
      "source": [
        "select_col = [\"id\",\"budget\",\"popularity\",\"release_date\",\"revenue\",\"title\"]\n",
        "df = df.select(*select_col)\n",
        "df.show()"
      ],
      "metadata": {
        "colab": {
          "base_uri": "https://localhost:8080/"
        },
        "id": "Fg2lB5nqZ3Ax",
        "outputId": "7306cfbc-30ab-4c4b-fbec-274a88e8d5b3"
      },
      "execution_count": 11,
      "outputs": [
        {
          "output_type": "stream",
          "name": "stdout",
          "text": [
            "+-----+-------+------------------+------------+-------+--------------------+\n",
            "|   id| budget|        popularity|release_date|revenue|               title|\n",
            "+-----+-------+------------------+------------+-------+--------------------+\n",
            "|43000|      0|             2.503|  1962-05-23|      0|The Elusive Corporal|\n",
            "|43001|      0|              5.51|  1962-11-12|      0|  Sundays and Cybele|\n",
            "|43002|      0|              5.62|  1962-05-24|      0|Lonely Are the Brave|\n",
            "|43003|      0|             7.159|  1975-03-12|      0|          F for Fake|\n",
            "|43004| 500000|             3.988|  1962-10-09|      0|Long Day's Journe...|\n",
            "|43006|      0|             3.194|  1962-03-09|      0|           My Geisha|\n",
            "|43007|      0|             2.689|  1962-10-31|      0|Period of Adjustment|\n",
            "|43008|      0|             6.537|  1959-03-13|      0|    The Hanging Tree|\n",
            "|43010|      0|             4.297|  1962-01-01|      0|Sherlock Holmes a...|\n",
            "|43011|      0|             4.417|  1962-01-01|      0|  Sodom and Gomorrah|\n",
            "|43012|7000000|4.7219999999999995|  1962-11-21|4000000|         Taras Bulba|\n",
            "|43013|      0|             2.543|  1962-04-17|      0|The Counterfeit T...|\n",
            "|43014|      0|             4.303|  1962-10-24|      0|     Tower of London|\n",
            "|43015|      0|             3.493|  1962-12-07|      0|Varan the Unbelie...|\n",
            "|43016|      0|             2.851|  1962-01-01|      0|Waltz of the Tore...|\n",
            "|43017|      0|             4.047|  1961-10-11|      0|         Back Street|\n",
            "|43018|      0|             2.661|  1961-06-02|      0|Gidget Goes Hawaiian|\n",
            "|43019|      0|             3.225|  2010-05-28|      0|Schuks Tshabalala...|\n",
            "|43020|      0|              5.72|  1961-06-15|      0|The Colossus of R...|\n",
            "|43021|      0|             3.292|  2008-08-22|      0|          Sex Galaxy|\n",
            "+-----+-------+------------------+------------+-------+--------------------+\n",
            "only showing top 20 rows\n",
            "\n"
          ]
        }
      ]
    },
    {
      "cell_type": "code",
      "source": [
        "# missing values\n",
        "from pyspark.sql.functions import *\n",
        "df.filter((df['popularity']=='')|(df['popularity'].isNull())|isnan(df['popularity'])).count()"
      ],
      "metadata": {
        "colab": {
          "base_uri": "https://localhost:8080/"
        },
        "id": "Q4YJGvbfadvq",
        "outputId": "9bc59ea6-7ff2-4852-840f-ac77aa6b33ff"
      },
      "execution_count": 12,
      "outputs": [
        {
          "output_type": "execute_result",
          "data": {
            "text/plain": [
              "215"
            ]
          },
          "metadata": {},
          "execution_count": 12
        }
      ]
    },
    {
      "cell_type": "code",
      "source": [
        "# all null values\n",
        "df.select([count(when((col(c)=='') | col(c).isNull() |isnan(c), c)).alias(c) for c in df.columns]).show()"
      ],
      "metadata": {
        "colab": {
          "base_uri": "https://localhost:8080/"
        },
        "id": "d8JoD5_fbYfI",
        "outputId": "7f61eb48-2949-495b-e502-e8111e6d9aac"
      },
      "execution_count": 13,
      "outputs": [
        {
          "output_type": "stream",
          "name": "stdout",
          "text": [
            "+---+------+----------+------------+-------+-----+\n",
            "| id|budget|popularity|release_date|revenue|title|\n",
            "+---+------+----------+------------+-------+-----+\n",
            "|125|   125|       215|         221|    215|  304|\n",
            "+---+------+----------+------------+-------+-----+\n",
            "\n"
          ]
        }
      ]
    },
    {
      "cell_type": "code",
      "source": [],
      "metadata": {
        "id": "BCggqU5RcfKK"
      },
      "execution_count": null,
      "outputs": []
    }
  ]
}
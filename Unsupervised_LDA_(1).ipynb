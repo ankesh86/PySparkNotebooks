{
  "cells": [
    {
      "cell_type": "markdown",
      "metadata": {
        "id": "view-in-github",
        "colab_type": "text"
      },
      "source": [
        "<a href=\"https://colab.research.google.com/github/ankesh86/PySparkNotebooks/blob/main/Unsupervised_LDA_(1).ipynb\" target=\"_parent\"><img src=\"https://colab.research.google.com/assets/colab-badge.svg\" alt=\"Open In Colab\"/></a>"
      ]
    },
    {
      "cell_type": "markdown",
      "metadata": {
        "application/vnd.databricks.v1+cell": {
          "cellMetadata": {},
          "inputWidgets": {},
          "nuid": "4fe9f7d6-4330-4711-9b01-d8359e283094",
          "showTitle": false,
          "title": ""
        },
        "id": "Vje2mxzFaMGP"
      },
      "source": [
        "# **Latent Dirichlet Allocation (LDA)**"
      ]
    },
    {
      "cell_type": "code",
      "execution_count": null,
      "metadata": {
        "application/vnd.databricks.v1+cell": {
          "cellMetadata": {},
          "collapsed": true,
          "inputWidgets": {},
          "nuid": "4ff6d56e-64a9-4d26-8441-04287771ca11",
          "showTitle": false,
          "title": ""
        },
        "colab": {
          "base_uri": "https://localhost:8080/"
        },
        "id": "ZZA-PHPfaEat",
        "outputId": "9895c2f8-69a5-490c-a95d-75af29cb89d7"
      },
      "outputs": [
        {
          "output_type": "stream",
          "name": "stdout",
          "text": [
            "Requirement already satisfied: pyspark==3.4.0 in /usr/local/lib/python3.10/dist-packages (3.4.0)\nRequirement already satisfied: py4j==0.10.9.7 in /usr/local/lib/python3.10/dist-packages (from pyspark==3.4.0) (0.10.9.7)\n"
          ]
        }
      ],
      "source": [
        "!pip install pyspark==3.4.0"
      ]
    },
    {
      "cell_type": "code",
      "execution_count": null,
      "metadata": {
        "application/vnd.databricks.v1+cell": {
          "cellMetadata": {
            "byteLimit": 2048000,
            "rowLimit": 10000
          },
          "inputWidgets": {},
          "nuid": "01504841-58f5-4e1d-bd01-8ad1fdacbb07",
          "showTitle": false,
          "title": ""
        },
        "id": "Ld3zs83oaYQE"
      },
      "outputs": [],
      "source": [
        "# Import Sparksession\n",
        "from pyspark.sql import SparkSession\n",
        "spark=SparkSession.builder.appName(\"LDA\").getOrCreate()"
      ]
    },
    {
      "cell_type": "code",
      "execution_count": null,
      "metadata": {
        "application/vnd.databricks.v1+cell": {
          "cellMetadata": {
            "byteLimit": 2048000,
            "rowLimit": 10000
          },
          "inputWidgets": {},
          "nuid": "c43a4036-ed09-495d-bef9-d8686f2f6f7b",
          "showTitle": false,
          "title": ""
        },
        "colab": {
          "base_uri": "https://localhost:8080/"
        },
        "id": "lyy-zdCkaqQM",
        "outputId": "a7e226f5-8a75-4746-9966-0832c682689b"
      },
      "outputs": [
        {
          "output_type": "stream",
          "name": "stdout",
          "text": [
            "Python version: 3.9.5 (default, Nov 23 2021, 15:27:38) \n[GCC 9.3.0]\nSparrk Session: 3.3.2\n"
          ]
        }
      ],
      "source": [
        "import sys\n",
        "print(\"Python version: \"+sys.version)\n",
        "print(\"Sparrk Session: \"+spark.version)"
      ]
    },
    {
      "cell_type": "markdown",
      "metadata": {
        "application/vnd.databricks.v1+cell": {
          "cellMetadata": {},
          "inputWidgets": {},
          "nuid": "e80b6281-cbd0-4894-b504-ccb2c7ed6b9b",
          "showTitle": false,
          "title": ""
        },
        "id": "ZFewZ46ta1Yh"
      },
      "source": [
        "## Reading the data"
      ]
    },
    {
      "cell_type": "code",
      "execution_count": null,
      "metadata": {
        "application/vnd.databricks.v1+cell": {
          "cellMetadata": {
            "byteLimit": 2048000,
            "rowLimit": 10000
          },
          "inputWidgets": {},
          "nuid": "589ebc09-a383-4863-b337-6ce8baf69f80",
          "showTitle": false,
          "title": ""
        },
        "id": "fFqqlZ32a0rC"
      },
      "outputs": [],
      "source": [
        "file_location = \"/FileStore/tables/lda_data-1.csv\"\n",
        "file_type = \"csv\"\n",
        "infer_schema = \"false\"\n",
        "first_row_is_header = \"true\"\n",
        "\n",
        "df = spark.read.format(file_type)\\\n",
        ".option(\"inferSchema\", infer_schema)\\\n",
        ".option(\"header\", first_row_is_header)\\\n",
        ".load(file_location)"
      ]
    },
    {
      "cell_type": "code",
      "execution_count": null,
      "metadata": {
        "application/vnd.databricks.v1+cell": {
          "cellMetadata": {
            "byteLimit": 2048000,
            "rowLimit": 10000
          },
          "inputWidgets": {},
          "nuid": "94a0edb7-0225-4a94-94fa-2a1b18cfabe8",
          "showTitle": false,
          "title": ""
        },
        "colab": {
          "base_uri": "https://localhost:8080/"
        },
        "id": "LR1vA8Txbnun",
        "outputId": "2da3e11b-4ebc-439e-88b1-1d3ede044053"
      },
      "outputs": [
        {
          "output_type": "stream",
          "name": "stdout",
          "text": [
            "root\n |-- Pageurl: string (nullable = true)\n |-- Title: string (nullable = true)\n |-- Review Text: string (nullable = true)\n |-- Review Color: string (nullable = true)\n |-- User Verified: string (nullable = true)\n |-- Review Date: string (nullable = true)\n |-- Review Useful Count: string (nullable = true)\n |-- Configuration Text: string (nullable = true)\n |-- Rating: string (nullable = true)\n |-- Declaration Text: string (nullable = true)\n\n"
          ]
        }
      ],
      "source": [
        "df.printSchema()"
      ]
    },
    {
      "cell_type": "code",
      "execution_count": null,
      "metadata": {
        "application/vnd.databricks.v1+cell": {
          "cellMetadata": {
            "byteLimit": 2048000,
            "rowLimit": 10000
          },
          "inputWidgets": {},
          "nuid": "8167c961-93d6-4dfe-9857-b3def6af5a76",
          "showTitle": false,
          "title": ""
        },
        "colab": {
          "base_uri": "https://localhost:8080/"
        },
        "id": "nde5edP-cPu3",
        "outputId": "b61db745-1082-4e79-d65b-a8901e9cab23"
      },
      "outputs": [
        {
          "output_type": "stream",
          "name": "stdout",
          "text": [
            "Out[8]: 6855"
          ]
        }
      ],
      "source": [
        "df.count()"
      ]
    },
    {
      "cell_type": "code",
      "execution_count": null,
      "metadata": {
        "application/vnd.databricks.v1+cell": {
          "cellMetadata": {
            "byteLimit": 2048000,
            "rowLimit": 10000
          },
          "inputWidgets": {},
          "nuid": "a420c857-6232-465f-a3b6-39bf3fd9a97a",
          "showTitle": false,
          "title": ""
        },
        "colab": {
          "base_uri": "https://localhost:8080/"
        },
        "id": "HeqvIJ4GcWxq",
        "outputId": "b06b82e6-f00a-4fb5-e539-215f26b6fd0f"
      },
      "outputs": [
        {
          "output_type": "stream",
          "name": "stdout",
          "text": [
            "Collecting nltk\r\n  Downloading nltk-3.8.1-py3-none-any.whl (1.5 MB)\r\n\u001b[?25l\r\u001b[K     |▏                               | 10 kB 20.6 MB/s eta 0:00:01\r\u001b[K     |▍                               | 20 kB 7.6 MB/s eta 0:00:01\r\u001b[K     |▋                               | 30 kB 10.5 MB/s eta 0:00:01\r\u001b[K     |▉                               | 40 kB 5.7 MB/s eta 0:00:01\r\u001b[K     |█                               | 51 kB 5.0 MB/s eta 0:00:01\r\u001b[K     |█▎                              | 61 kB 5.9 MB/s eta 0:00:01\r\u001b[K     |█▌                              | 71 kB 6.5 MB/s eta 0:00:01\r\u001b[K     |█▊                              | 81 kB 5.4 MB/s eta 0:00:01\r\u001b[K     |██                              | 92 kB 6.0 MB/s eta 0:00:01\r\u001b[K     |██▏                             | 102 kB 5.7 MB/s eta 0:00:01\r\u001b[K     |██▍                             | 112 kB 5.7 MB/s eta 0:00:01\r\u001b[K     |██▋                             | 122 kB 5.7 MB/s eta 0:00:01\r\u001b[K     |██▉                             | 133 kB 5.7 MB/s eta 0:00:01\r\u001b[K     |███                             | 143 kB 5.7 MB/s eta 0:00:01\r\u001b[K     |███▎                            | 153 kB 5.7 MB/s eta 0:00:01\r\u001b[K     |███▌                            | 163 kB 5.7 MB/s eta 0:00:01\r\u001b[K     |███▊                            | 174 kB 5.7 MB/s eta 0:00:01\r\u001b[K     |████                            | 184 kB 5.7 MB/s eta 0:00:01\r\u001b[K     |████▏                           | 194 kB 5.7 MB/s eta 0:00:01\r\u001b[K     |████▍                           | 204 kB 5.7 MB/s eta 0:00:01\r\u001b[K     |████▌                           | 215 kB 5.7 MB/s eta 0:00:01\r\u001b[K     |████▊                           | 225 kB 5.7 MB/s eta 0:00:01\r\u001b[K     |█████                           | 235 kB 5.7 MB/s eta 0:00:01\r\u001b[K     |█████▏                          | 245 kB 5.7 MB/s eta 0:00:01\r\u001b[K     |█████▍                          | 256 kB 5.7 MB/s eta 0:00:01\r\u001b[K     |█████▋                          | 266 kB 5.7 MB/s eta 0:00:01\r\u001b[K     |█████▉                          | 276 kB 5.7 MB/s eta 0:00:01\r\u001b[K     |██████                          | 286 kB 5.7 MB/s eta 0:00:01\r\u001b[K     |██████▎                         | 296 kB 5.7 MB/s eta 0:00:01\r\u001b[K     |██████▌                         | 307 kB 5.7 MB/s eta 0:00:01\r\u001b[K     |██████▊                         | 317 kB 5.7 MB/s eta 0:00:01\r\u001b[K     |███████                         | 327 kB 5.7 MB/s eta 0:00:01\r\u001b[K     |███████▏                        | 337 kB 5.7 MB/s eta 0:00:01\r\u001b[K     |███████▍                        | 348 kB 5.7 MB/s eta 0:00:01\r\u001b[K     |███████▋                        | 358 kB 5.7 MB/s eta 0:00:01\r\u001b[K     |███████▉                        | 368 kB 5.7 MB/s eta 0:00:01\r\u001b[K     |████████                        | 378 kB 5.7 MB/s eta 0:00:01\r\u001b[K     |████████▎                       | 389 kB 5.7 MB/s eta 0:00:01\r\u001b[K     |████████▌                       | 399 kB 5.7 MB/s eta 0:00:01\r\u001b[K     |████████▊                       | 409 kB 5.7 MB/s eta 0:00:01\r\u001b[K     |█████████                       | 419 kB 5.7 MB/s eta 0:00:01\r\u001b[K     |█████████                       | 430 kB 5.7 MB/s eta 0:00:01\r\u001b[K     |█████████▎                      | 440 kB 5.7 MB/s eta 0:00:01\r\u001b[K     |█████████▌                      | 450 kB 5.7 MB/s eta 0:00:01\r\u001b[K     |█████████▊                      | 460 kB 5.7 MB/s eta 0:00:01\r\u001b[K     |██████████                      | 471 kB 5.7 MB/s eta 0:00:01\r\u001b[K     |██████████▏                     | 481 kB 5.7 MB/s eta 0:00:01\r\u001b[K     |██████████▍                     | 491 kB 5.7 MB/s eta 0:00:01\r\u001b[K     |██████████▋                     | 501 kB 5.7 MB/s eta 0:00:01\r\u001b[K     |██████████▉                     | 512 kB 5.7 MB/s eta 0:00:01\r\u001b[K     |███████████                     | 522 kB 5.7 MB/s eta 0:00:01\r\u001b[K     |███████████▎                    | 532 kB 5.7 MB/s eta 0:00:01\r\u001b[K     |███████████▌                    | 542 kB 5.7 MB/s eta 0:00:01\r\u001b[K     |███████████▊                    | 552 kB 5.7 MB/s eta 0:00:01\r\u001b[K     |████████████                    | 563 kB 5.7 MB/s eta 0:00:01\r\u001b[K     |████████████▏                   | 573 kB 5.7 MB/s eta 0:00:01\r\u001b[K     |████████████▍                   | 583 kB 5.7 MB/s eta 0:00:01\r\u001b[K     |████████████▋                   | 593 kB 5.7 MB/s eta 0:00:01\r\u001b[K     |████████████▉                   | 604 kB 5.7 MB/s eta 0:00:01\r\u001b[K     |█████████████                   | 614 kB 5.7 MB/s eta 0:00:01\r\u001b[K     |█████████████▎                  | 624 kB 5.7 MB/s eta 0:00:01\r\u001b[K     |█████████████▌                  | 634 kB 5.7 MB/s eta 0:00:01\r\u001b[K     |█████████████▋                  | 645 kB 5.7 MB/s eta 0:00:01\r\u001b[K     |█████████████▉                  | 655 kB 5.7 MB/s eta 0:00:01\r\u001b[K     |██████████████                  | 665 kB 5.7 MB/s eta 0:00:01\r\u001b[K     |██████████████▎                 | 675 kB 5.7 MB/s eta 0:00:01\r\u001b[K     |██████████████▌                 | 686 kB 5.7 MB/s eta 0:00:01\r\u001b[K     |██████████████▊                 | 696 kB 5.7 MB/s eta 0:00:01\r\u001b[K     |███████████████                 | 706 kB 5.7 MB/s eta 0:00:01\r\u001b[K     |███████████████▏                | 716 kB 5.7 MB/s eta 0:00:01\r\u001b[K     |███████████████▍                | 727 kB 5.7 MB/s eta 0:00:01\r\u001b[K     |███████████████▋                | 737 kB 5.7 MB/s eta 0:00:01\r\u001b[K     |███████████████▉                | 747 kB 5.7 MB/s eta 0:00:01\r\u001b[K     |████████████████                | 757 kB 5.7 MB/s eta 0:00:01\r\u001b[K     |████████████████▎               | 768 kB 5.7 MB/s eta 0:00:01\r\u001b[K     |████████████████▌               | 778 kB 5.7 MB/s eta 0:00:01\r\u001b[K     |████████████████▊               | 788 kB 5.7 MB/s eta 0:00:01\r\u001b[K     |█████████████████               | 798 kB 5.7 MB/s eta 0:00:01\r\u001b[K     |█████████████████▏              | 808 kB 5.7 MB/s eta 0:00:01\r\u001b[K     |█████████████████▍              | 819 kB 5.7 MB/s eta 0:00:01\r\u001b[K     |█████████████████▋              | 829 kB 5.7 MB/s eta 0:00:01\r\u001b[K     |█████████████████▉              | 839 kB 5.7 MB/s eta 0:00:01\r\u001b[K     |██████████████████              | 849 kB 5.7 MB/s eta 0:00:01\r\u001b[K     |██████████████████▏             | 860 kB 5.7 MB/s eta 0:00:01\r\u001b[K     |██████████████████▍             | 870 kB 5.7 MB/s eta 0:00:01\r\u001b[K     |██████████████████▋             | 880 kB 5.7 MB/s eta 0:00:01\r\u001b[K     |██████████████████▉             | 890 kB 5.7 MB/s eta 0:00:01\r\u001b[K     |███████████████████             | 901 kB 5.7 MB/s eta 0:00:01\r\u001b[K     |███████████████████▎            | 911 kB 5.7 MB/s eta 0:00:01\r\u001b[K     |███████████████████▌            | 921 kB 5.7 MB/s eta 0:00:01\r\u001b[K     |███████████████████▊            | 931 kB 5.7 MB/s eta 0:00:01\r\u001b[K     |████████████████████            | 942 kB 5.7 MB/s eta 0:00:01\r\u001b[K     |████████████████████▏           | 952 kB 5.7 MB/s eta 0:00:01\r\u001b[K     |████████████████████▍           | 962 kB 5.7 MB/s eta 0:00:01\r\u001b[K     |████████████████████▋           | 972 kB 5.7 MB/s eta 0:00:01\r\u001b[K     |████████████████████▉           | 983 kB 5.7 MB/s eta 0:00:01\r\u001b[K     |█████████████████████           | 993 kB 5.7 MB/s eta 0:00:01\r\u001b[K     |█████████████████████▎          | 1.0 MB 5.7 MB/s eta 0:00:01\r\u001b[K     |█████████████████████▌          | 1.0 MB 5.7 MB/s eta 0:00:01\r\u001b[K     |█████████████████████▊          | 1.0 MB 5.7 MB/s eta 0:00:01\r\u001b[K     |██████████████████████          | 1.0 MB 5.7 MB/s eta 0:00:01\r\u001b[K     |██████████████████████▏         | 1.0 MB 5.7 MB/s eta 0:00:01\r\u001b[K     |██████████████████████▍         | 1.1 MB 5.7 MB/s eta 0:00:01\r\u001b[K     |██████████████████████▋         | 1.1 MB 5.7 MB/s eta 0:00:01\r\u001b[K     |██████████████████████▊         | 1.1 MB 5.7 MB/s eta 0:00:01\r\u001b[K     |███████████████████████         | 1.1 MB 5.7 MB/s eta 0:00:01\r\u001b[K     |███████████████████████▏        | 1.1 MB 5.7 MB/s eta 0:00:01\r\u001b[K     |███████████████████████▍        | 1.1 MB 5.7 MB/s eta 0:00:01\r\u001b[K     |███████████████████████▋        | 1.1 MB 5.7 MB/s eta 0:00:01\r\u001b[K     |███████████████████████▉        | 1.1 MB 5.7 MB/s eta 0:00:01\r\u001b[K     |████████████████████████        | 1.1 MB 5.7 MB/s eta 0:00:01\r\u001b[K     |████████████████████████▎       | 1.1 MB 5.7 MB/s eta 0:00:01\r\u001b[K     |████████████████████████▌       | 1.2 MB 5.7 MB/s eta 0:00:01\r\u001b[K     |████████████████████████▊       | 1.2 MB 5.7 MB/s eta 0:00:01\r\u001b[K     |█████████████████████████       | 1.2 MB 5.7 MB/s eta 0:00:01\r\u001b[K     |█████████████████████████▏      | 1.2 MB 5.7 MB/s eta 0:00:01\r\u001b[K     |█████████████████████████▍      | 1.2 MB 5.7 MB/s eta 0:00:01\r\u001b[K     |█████████████████████████▋      | 1.2 MB 5.7 MB/s eta 0:00:01\r\u001b[K     |█████████████████████████▉      | 1.2 MB 5.7 MB/s eta 0:00:01\r\u001b[K     |██████████████████████████      | 1.2 MB 5.7 MB/s eta 0:00:01\r\u001b[K     |██████████████████████████▎     | 1.2 MB 5.7 MB/s eta 0:00:01\r\u001b[K     |██████████████████████████▌     | 1.2 MB 5.7 MB/s eta 0:00:01\r\u001b[K     |██████████████████████████▊     | 1.3 MB 5.7 MB/s eta 0:00:01\r\u001b[K     |███████████████████████████     | 1.3 MB 5.7 MB/s eta 0:00:01\r\u001b[K     |███████████████████████████▏    | 1.3 MB 5.7 MB/s eta 0:00:01\r\u001b[K     |███████████████████████████▎    | 1.3 MB 5.7 MB/s eta 0:00:01\r\u001b[K     |███████████████████████████▌    | 1.3 MB 5.7 MB/s eta 0:00:01\r\u001b[K     |███████████████████████████▊    | 1.3 MB 5.7 MB/s eta 0:00:01\r\u001b[K     |████████████████████████████    | 1.3 MB 5.7 MB/s eta 0:00:01\r\u001b[K     |████████████████████████████▏   | 1.3 MB 5.7 MB/s eta 0:00:01\r\u001b[K     |████████████████████████████▍   | 1.3 MB 5.7 MB/s eta 0:00:01\r\u001b[K     |████████████████████████████▋   | 1.4 MB 5.7 MB/s eta 0:00:01\r\u001b[K     |████████████████████████████▉   | 1.4 MB 5.7 MB/s eta 0:00:01\r\u001b[K     |█████████████████████████████   | 1.4 MB 5.7 MB/s eta 0:00:01\r\u001b[K     |█████████████████████████████▎  | 1.4 MB 5.7 MB/s eta 0:00:01\r\u001b[K     |█████████████████████████████▌  | 1.4 MB 5.7 MB/s eta 0:00:01\r\u001b[K     |█████████████████████████████▊  | 1.4 MB 5.7 MB/s eta 0:00:01\r\u001b[K     |██████████████████████████████  | 1.4 MB 5.7 MB/s eta 0:00:01\r\u001b[K     |██████████████████████████████▏ | 1.4 MB 5.7 MB/s eta 0:00:01\r\u001b[K     |██████████████████████████████▍ | 1.4 MB 5.7 MB/s eta 0:00:01\r\u001b[K     |██████████████████████████████▋ | 1.4 MB 5.7 MB/s eta 0:00:01\r\u001b[K     |██████████████████████████████▉ | 1.5 MB 5.7 MB/s eta 0:00:01\r\u001b[K     |███████████████████████████████ | 1.5 MB 5.7 MB/s eta 0:00:01\r\u001b[K     |███████████████████████████████▎| 1.5 MB 5.7 MB/s eta 0:00:01\r\u001b[K     |███████████████████████████████▌| 1.5 MB 5.7 MB/s eta 0:00:01\r\u001b[K     |███████████████████████████████▊| 1.5 MB 5.7 MB/s eta 0:00:01\r\u001b[K     |███████████████████████████████▉| 1.5 MB 5.7 MB/s eta 0:00:01\r\u001b[K     |████████████████████████████████| 1.5 MB 5.7 MB/s \r\n\u001b[?25hCollecting tqdm\r\n  Downloading tqdm-4.66.4-py3-none-any.whl (78 kB)\r\n\u001b[?25l\r\u001b[K     |████▏                           | 10 kB 26.9 MB/s eta 0:00:01\r\u001b[K     |████████▍                       | 20 kB 28.4 MB/s eta 0:00:01\r\u001b[K     |████████████▋                   | 30 kB 32.6 MB/s eta 0:00:01\r\u001b[K     |████████████████▊               | 40 kB 36.3 MB/s eta 0:00:01\r\u001b[K     |█████████████████████           | 51 kB 39.0 MB/s eta 0:00:01\r\u001b[K     |█████████████████████████▏      | 61 kB 41.0 MB/s eta 0:00:01\r\u001b[K     |█████████████████████████████▎  | 71 kB 42.4 MB/s eta 0:00:01\r\u001b[K     |████████████████████████████████| 78 kB 8.0 MB/s \r\n\u001b[?25hRequirement already satisfied: click in /databricks/python3/lib/python3.9/site-packages (from nltk) (8.0.4)\r\nCollecting regex>=2021.8.3\r\n  Downloading regex-2024.5.10-cp39-cp39-manylinux_2_17_x86_64.manylinux2014_x86_64.whl (773 kB)\r\n\u001b[?25l\r\u001b[K     |▍                               | 10 kB 23.6 MB/s eta 0:00:01\r\u001b[K     |▉                               | 20 kB 29.4 MB/s eta 0:00:01\r\u001b[K     |█▎                              | 30 kB 35.6 MB/s eta 0:00:01\r\u001b[K     |█▊                              | 40 kB 37.6 MB/s eta 0:00:01\r\u001b[K     |██▏                             | 51 kB 38.7 MB/s eta 0:00:01\r\u001b[K     |██▌                             | 61 kB 40.7 MB/s eta 0:00:01\r\u001b[K     |███                             | 71 kB 41.6 MB/s eta 0:00:01\r\u001b[K     |███▍                            | 81 kB 43.9 MB/s eta 0:00:01\r\u001b[K     |███▉                            | 92 kB 44.6 MB/s eta 0:00:01\r\u001b[K     |████▎                           | 102 kB 45.8 MB/s eta 0:00:01\r\u001b[K     |████▋                           | 112 kB 45.8 MB/s eta 0:00:01\r\u001b[K     |█████                           | 122 kB 45.8 MB/s eta 0:00:01\r\u001b[K     |█████▌                          | 133 kB 45.8 MB/s eta 0:00:01\r\u001b[K     |██████                          | 143 kB 45.8 MB/s eta 0:00:01\r\u001b[K     |██████▍                         | 153 kB 45.8 MB/s eta 0:00:01\r\u001b[K     |██████▉                         | 163 kB 45.8 MB/s eta 0:00:01\r\u001b[K     |███████▏                        | 174 kB 45.8 MB/s eta 0:00:01\r\u001b[K     |███████▋                        | 184 kB 45.8 MB/s eta 0:00:01\r\u001b[K     |████████                        | 194 kB 45.8 MB/s eta 0:00:01\r\u001b[K     |████████▌                       | 204 kB 45.8 MB/s eta 0:00:01\r\u001b[K     |█████████                       | 215 kB 45.8 MB/s eta 0:00:01\r\u001b[K     |█████████▎                      | 225 kB 45.8 MB/s eta 0:00:01\r\u001b[K     |█████████▊                      | 235 kB 45.8 MB/s eta 0:00:01\r\u001b[K     |██████████▏                     | 245 kB 45.8 MB/s eta 0:00:01\r\u001b[K     |██████████▋                     | 256 kB 45.8 MB/s eta 0:00:01\r\u001b[K     |███████████                     | 266 kB 45.8 MB/s eta 0:00:01\r\u001b[K     |███████████▍                    | 276 kB 45.8 MB/s eta 0:00:01\r\u001b[K     |███████████▉                    | 286 kB 45.8 MB/s eta 0:00:01\r\u001b[K     |████████████▎                   | 296 kB 45.8 MB/s eta 0:00:01\r\u001b[K     |████████████▊                   | 307 kB 45.8 MB/s eta 0:00:01\r\u001b[K     |█████████████▏                  | 317 kB 45.8 MB/s eta 0:00:01\r\u001b[K     |█████████████▋                  | 327 kB 45.8 MB/s eta 0:00:01\r\u001b[K     |██████████████                  | 337 kB 45.8 MB/s eta 0:00:01\r\u001b[K     |██████████████▍                 | 348 kB 45.8 MB/s eta 0:00:01\r\u001b[K     |██████████████▉                 | 358 kB 45.8 MB/s eta 0:00:01\r\u001b[K     |███████████████▎                | 368 kB 45.8 MB/s eta 0:00:01\r\u001b[K     |███████████████▊                | 378 kB 45.8 MB/s eta 0:00:01\r\u001b[K     |████████████████                | 389 kB 45.8 MB/s eta 0:00:01\r\u001b[K     |████████████████▌               | 399 kB 45.8 MB/s eta 0:00:01\r\u001b[K     |█████████████████               | 409 kB 45.8 MB/s eta 0:00:01\r\u001b[K     |█████████████████▍              | 419 kB 45.8 MB/s eta 0:00:01\r\u001b[K     |█████████████████▉              | 430 kB 45.8 MB/s eta 0:00:01\r\u001b[K     |██████████████████▏             | 440 kB 45.8 MB/s eta 0:00:01\r\u001b[K     |██████████████████▋             | 450 kB 45.8 MB/s eta 0:00:01\r\u001b[K     |███████████████████             | 460 kB 45.8 MB/s eta 0:00:01\r\u001b[K     |███████████████████▌            | 471 kB 45.8 MB/s eta 0:00:01\r\u001b[K     |████████████████████            | 481 kB 45.8 MB/s eta 0:00:01\r\u001b[K     |████████████████████▍           | 491 kB 45.8 MB/s eta 0:00:01\r\u001b[K     |████████████████████▊           | 501 kB 45.8 MB/s eta 0:00:01\r\u001b[K     |█████████████████████▏          | 512 kB 45.8 MB/s eta 0:00:01\r\u001b[K     |█████████████████████▋          | 522 kB 45.8 MB/s eta 0:00:01\r\u001b[K     |██████████████████████          | 532 kB 45.8 MB/s eta 0:00:01\r\u001b[K     |██████████████████████▌         | 542 kB 45.8 MB/s eta 0:00:01\r\u001b[K     |██████████████████████▉         | 552 kB 45.8 MB/s eta 0:00:01\r\u001b[K     |███████████████████████▎        | 563 kB 45.8 MB/s eta 0:00:01\r\u001b[K     |███████████████████████▊        | 573 kB 45.8 MB/s eta 0:00:01\r\u001b[K     |████████████████████████▏       | 583 kB 45.8 MB/s eta 0:00:01\r\u001b[K     |████████████████████████▋       | 593 kB 45.8 MB/s eta 0:00:01\r\u001b[K     |█████████████████████████       | 604 kB 45.8 MB/s eta 0:00:01\r\u001b[K     |█████████████████████████▍      | 614 kB 45.8 MB/s eta 0:00:01\r\u001b[K     |█████████████████████████▉      | 624 kB 45.8 MB/s eta 0:00:01\r\u001b[K     |██████████████████████████▎     | 634 kB 45.8 MB/s eta 0:00:01\r\u001b[K     |██████████████████████████▊     | 645 kB 45.8 MB/s eta 0:00:01\r\u001b[K     |███████████████████████████▏    | 655 kB 45.8 MB/s eta 0:00:01\r\u001b[K     |███████████████████████████▌    | 665 kB 45.8 MB/s eta 0:00:01\r\u001b[K     |████████████████████████████    | 675 kB 45.8 MB/s eta 0:00:01\r\u001b[K     |████████████████████████████▍   | 686 kB 45.8 MB/s eta 0:00:01\r\u001b[K     |████████████████████████████▉   | 696 kB 45.8 MB/s eta 0:00:01\r\u001b[K     |█████████████████████████████▎  | 706 kB 45.8 MB/s eta 0:00:01\r\u001b[K     |█████████████████████████████▋  | 716 kB 45.8 MB/s eta 0:00:01\r\u001b[K     |██████████████████████████████  | 727 kB 45.8 MB/s eta 0:00:01\r\u001b[K     |██████████████████████████████▌ | 737 kB 45.8 MB/s eta 0:00:01\r\u001b[K     |███████████████████████████████ | 747 kB 45.8 MB/s eta 0:00:01\r\u001b[K     |███████████████████████████████▍| 757 kB 45.8 MB/s eta 0:00:01\r\u001b[K     |███████████████████████████████▊| 768 kB 45.8 MB/s eta 0:00:01\r\u001b[K     |████████████████████████████████| 773 kB 45.8 MB/s \r\n\u001b[?25hRequirement already satisfied: joblib in /databricks/python3/lib/python3.9/site-packages (from nltk) (1.1.1)\r\nInstalling collected packages: tqdm, regex, nltk\r\nSuccessfully installed nltk-3.8.1 regex-2024.5.10 tqdm-4.66.4\r\n\u001b[33mWARNING: You are using pip version 21.2.4; however, version 24.0 is available.\r\nYou should consider upgrading via the '/local_disk0/.ephemeral_nfs/envs/pythonEnv-67dc6bfb-9e6d-44f1-b4ac-a11c8b2dbd9d/bin/python -m pip install --upgrade pip' command.\u001b[0m\r\n"
          ]
        }
      ],
      "source": [
        "!pip install nltk"
      ]
    },
    {
      "cell_type": "code",
      "execution_count": null,
      "metadata": {
        "application/vnd.databricks.v1+cell": {
          "cellMetadata": {
            "byteLimit": 2048000,
            "rowLimit": 10000
          },
          "inputWidgets": {},
          "nuid": "67b7aac8-a7a3-48d9-88d3-f9362fb206a2",
          "showTitle": false,
          "title": ""
        },
        "colab": {
          "base_uri": "https://localhost:8080/"
        },
        "id": "aAG9tHGPcnrH",
        "outputId": "4142bbbc-7677-4a46-df35-c889c9b1ac03"
      },
      "outputs": [
        {
          "output_type": "stream",
          "name": "stderr",
          "text": [
            "[nltk_data] Downloading package stopwords to /root/nltk_data...\n[nltk_data]   Unzipping corpora/stopwords.zip.\n"
          ]
        },
        {
          "output_type": "stream",
          "name": "stdout",
          "text": [
            "Out[10]: True"
          ]
        }
      ],
      "source": [
        "#import libraries\n",
        "from pyspark.sql.types import *\n",
        "from pyspark.mllib.linalg import Vector, Vectors\n",
        "from pyspark.ml.feature import CountVectorizer, IDF\n",
        "from pyspark.mllib.clustering import LDA, LDAModel\n",
        "from pyspark.mllib.linalg import Vectors as MLlibVectors\n",
        "\n",
        "import re\n",
        "import nltk\n",
        "nltk.download('stopwords')\n"
      ]
    },
    {
      "cell_type": "code",
      "execution_count": null,
      "metadata": {
        "application/vnd.databricks.v1+cell": {
          "cellMetadata": {
            "byteLimit": 2048000,
            "rowLimit": 10000
          },
          "inputWidgets": {},
          "nuid": "3c34e6ff-031a-49ec-9656-bff757199089",
          "showTitle": false,
          "title": ""
        },
        "id": "gcS1U8xXdLVE"
      },
      "outputs": [],
      "source": [
        "from nltk.corpus import stopwords\n",
        "\n",
        "reviews = df.rdd.map(lambda x: x['Review Text']).filter(lambda x: x is not None)\n",
        "StopWords = stopwords.words(\"english\")\n",
        "tokens = reviews.map(lambda document: document.strip().lower())\\\n",
        "    .map( lambda document: re.split(\"[\\s;,#]\", document)) \\\n",
        "    .map( lambda word: [x for x in word if x.isalpha()]) \\\n",
        "    .map( lambda word: [x for x in word if len(x) > 3] )\\\n",
        "    .map( lambda word: [x for x in word if x not in StopWords]).zipWithIndex()"
      ]
    },
    {
      "cell_type": "code",
      "execution_count": null,
      "metadata": {
        "application/vnd.databricks.v1+cell": {
          "cellMetadata": {
            "byteLimit": 2048000,
            "rowLimit": 10000
          },
          "inputWidgets": {},
          "nuid": "b7eef822-452c-401f-8b86-d3fe13752aa6",
          "showTitle": false,
          "title": ""
        },
        "id": "jfCgSyuMfC7N"
      },
      "outputs": [],
      "source": [
        "#convert the rdd to dataframe\n",
        "df_txts = spark.createDataFrame(tokens, ['list_of_words','index'])\n",
        "\n",
        "#TF (Text doc to vector)\n",
        "cv = CountVectorizer(inputCol=\"list_of_words\", outputCol=\"raw-features\", vocabSize=5000, minDF=10)\n",
        "cvmodel = cv.fit(df_txts)\n",
        "result_cv = cvmodel.transform(df_txts)\n",
        "\n",
        "#IDF (features to lower values)\n",
        "idf = IDF(inputCol=\"raw-features\", outputCol=\"features\")\n",
        "idfModel = idf.fit(result_cv)\n",
        "result_tfidf = idfModel.transform(result_cv)"
      ]
    },
    {
      "cell_type": "code",
      "execution_count": null,
      "metadata": {
        "application/vnd.databricks.v1+cell": {
          "cellMetadata": {
            "byteLimit": 2048000,
            "rowLimit": 10000
          },
          "inputWidgets": {},
          "nuid": "04eb5940-44b5-4895-b804-2860dda5717c",
          "showTitle": false,
          "title": ""
        },
        "id": "PyUlYDlahXWu"
      },
      "outputs": [],
      "source": [
        "num_topics = 10\n",
        "max_iterations = 100\n",
        "lda_model = LDA.train(result_tfidf.select(\"index\", \"features\").rdd.mapValues(MLlibVectors.fromML).map(list), k=num_topics, maxIterations = max_iterations)\n"
      ]
    },
    {
      "cell_type": "code",
      "execution_count": null,
      "metadata": {
        "application/vnd.databricks.v1+cell": {
          "cellMetadata": {
            "byteLimit": 2048000,
            "rowLimit": 10000
          },
          "inputWidgets": {},
          "nuid": "7e23361c-ba22-40e8-ab0b-244982452a17",
          "showTitle": false,
          "title": ""
        },
        "id": "F1x1FvUEie1u",
        "outputId": "0bd0b0a6-b33f-4bbf-d3c3-f35e9005760d"
      },
      "outputs": [
        {
          "output_type": "stream",
          "name": "stdout",
          "text": [
            "Topic0:\nhome\nsmart\nusing\nhouse\nlights\n\n\nTopic1:\ntime\nalexa\nevery\nfind\ngoogle\n\n\nTopic2:\nwould\neven\nwork\nmany\neverything\n\n\nTopic3:\nspeaker\nsound\necho\nbetter\nvoice\n\n\nTopic4:\ndevice\namazon\nanother\nback\nnever\n\n\nTopic5:\nthings\nweather\nquestions\nnews\nknow\n\n\nTopic6:\nmuch\nstill\neasy\nphone\nwell\n\n\nTopic7:\nlove\ngreat\nlittle\nproduct\nthing\n\n\nTopic8:\nworks\nbought\ncould\nnice\ngift\n\n\nTopic9:\nmusic\nplay\nwant\nable\nlisten\n\n\n"
          ]
        }
      ],
      "source": [
        "wordNumbers = 5\n",
        "data_topics = lda_model.describeTopics(maxTermsPerTopic= wordNumbers)\n",
        "vocabArray = cvmodel.vocabulary\n",
        "\n",
        "topicIndices = spark.sparkContext.parallelize(data_topics)\n",
        "def topic_render(topic):\n",
        "    terms = topic[0]\n",
        "    result = []\n",
        "    for i in range(wordNumbers):\n",
        "        term = vocabArray[terms[i]]\n",
        "        result.append(term)\n",
        "    return result\n",
        "\n",
        "\n",
        "\n",
        "topics_final = topicIndices.map(lambda topic: topic_render(topic)).collect()\n",
        "for topic in range(len(topics_final)):\n",
        "    print (\"Topic\" + str(topic) + \":\")\n",
        "    for term in topics_final[topic]:\n",
        "        print (term)\n",
        "    print ('\\n')"
      ]
    },
    {
      "cell_type": "code",
      "execution_count": null,
      "metadata": {
        "application/vnd.databricks.v1+cell": {
          "cellMetadata": {},
          "inputWidgets": {},
          "nuid": "f07b0e27-6e06-4a7c-8a74-59ed95495261",
          "showTitle": false,
          "title": ""
        },
        "id": "B_Bjsa_IyY1J"
      },
      "outputs": [],
      "source": []
    }
  ],
  "metadata": {
    "accelerator": "GPU",
    "application/vnd.databricks.v1+notebook": {
      "dashboards": [],
      "language": "python",
      "notebookMetadata": {
        "pythonIndentUnit": 4
      },
      "notebookName": "Unsupervised_LDA",
      "widgets": {}
    },
    "colab": {
      "gpuType": "T4",
      "provenance": [],
      "include_colab_link": true
    },
    "kernelspec": {
      "display_name": "Python 3",
      "name": "python3"
    },
    "language_info": {
      "name": "python"
    }
  },
  "nbformat": 4,
  "nbformat_minor": 0
}
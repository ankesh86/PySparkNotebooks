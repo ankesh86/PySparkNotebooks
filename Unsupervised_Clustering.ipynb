{
  "nbformat": 4,
  "nbformat_minor": 0,
  "metadata": {
    "colab": {
      "provenance": [],
      "gpuType": "T4",
      "authorship_tag": "ABX9TyPwFXr+AVpnMPcg/p03X3F1",
      "include_colab_link": true
    },
    "kernelspec": {
      "name": "python3",
      "display_name": "Python 3"
    },
    "language_info": {
      "name": "python"
    },
    "accelerator": "GPU"
  },
  "cells": [
    {
      "cell_type": "markdown",
      "metadata": {
        "id": "view-in-github",
        "colab_type": "text"
      },
      "source": [
        "<a href=\"https://colab.research.google.com/github/ankesh86/PySparkNotebooks/blob/main/Unsupervised_Clustering.ipynb\" target=\"_parent\"><img src=\"https://colab.research.google.com/assets/colab-badge.svg\" alt=\"Open In Colab\"/></a>"
      ]
    },
    {
      "cell_type": "markdown",
      "source": [
        "# **Reviewing the Dataset**"
      ],
      "metadata": {
        "id": "7rm1cVU5ULaO"
      }
    },
    {
      "cell_type": "markdown",
      "source": [
        "## **Importing SparkSession and Creating an object**"
      ],
      "metadata": {
        "id": "BT9WE9jsXdJr"
      }
    },
    {
      "cell_type": "code",
      "execution_count": 1,
      "metadata": {
        "colab": {
          "base_uri": "https://localhost:8080/"
        },
        "id": "TMweoBqXT985",
        "outputId": "0a1ebaac-fbdb-4e1f-b384-78281da87898"
      },
      "outputs": [
        {
          "output_type": "stream",
          "name": "stdout",
          "text": [
            "Collecting pyspark==3.4.0\n",
            "  Downloading pyspark-3.4.0.tar.gz (310.8 MB)\n",
            "\u001b[2K     \u001b[90m━━━━━━━━━━━━━━━━━━━━━━━━━━━━━━━━━━━━━━━━\u001b[0m \u001b[32m310.8/310.8 MB\u001b[0m \u001b[31m2.4 MB/s\u001b[0m eta \u001b[36m0:00:00\u001b[0m\n",
            "\u001b[?25h  Preparing metadata (setup.py) ... \u001b[?25l\u001b[?25hdone\n",
            "Requirement already satisfied: py4j==0.10.9.7 in /usr/local/lib/python3.10/dist-packages (from pyspark==3.4.0) (0.10.9.7)\n",
            "Building wheels for collected packages: pyspark\n",
            "  Building wheel for pyspark (setup.py) ... \u001b[?25l\u001b[?25hdone\n",
            "  Created wheel for pyspark: filename=pyspark-3.4.0-py2.py3-none-any.whl size=311317122 sha256=353fc4897dfbb1e384aab945aae8706a0923b4c984d8c0e25ac254f8504dbf80\n",
            "  Stored in directory: /root/.cache/pip/wheels/7b/1b/4b/3363a1d04368e7ff0d408e57ff57966fcdf00583774e761327\n",
            "Successfully built pyspark\n",
            "Installing collected packages: pyspark\n",
            "Successfully installed pyspark-3.4.0\n"
          ]
        }
      ],
      "source": [
        "!pip install pyspark==3.4.0"
      ]
    },
    {
      "cell_type": "code",
      "source": [
        "import pyspark\n",
        "import pandas as pd\n",
        "import numpy as np\n",
        "import matplotlib.pyplot as plt\n",
        "from pyspark.sql.functions import *\n",
        "from pyspark.sql.types import *\n",
        "from pyspark.sql.functions import rand, randn\n",
        "from pyspark.ml.clustering import KMeans\n",
        "from pyspark.sql.functions import sha2"
      ],
      "metadata": {
        "id": "YItVb63sUel7"
      },
      "execution_count": 3,
      "outputs": []
    },
    {
      "cell_type": "code",
      "source": [
        "from pyspark.sql import SparkSession\n",
        "spark = SparkSession.builder.appName('unsupervised_ml').getOrCreate()"
      ],
      "metadata": {
        "id": "n7ei6haAVi-q"
      },
      "execution_count": 5,
      "outputs": []
    },
    {
      "cell_type": "code",
      "source": [
        "df=spark.read.csv('sample_data/music_data.csv',inferSchema=True, header=True)\n",
        "df.count()"
      ],
      "metadata": {
        "colab": {
          "base_uri": "https://localhost:8080/"
        },
        "id": "F5WwXeJGVBcU",
        "outputId": "2ea13b55-8784-4725-9d66-bca63719fd4b"
      },
      "execution_count": 6,
      "outputs": [
        {
          "output_type": "execute_result",
          "data": {
            "text/plain": [
              "429023"
            ]
          },
          "metadata": {},
          "execution_count": 6
        }
      ]
    },
    {
      "cell_type": "code",
      "source": [
        "df.printSchema()"
      ],
      "metadata": {
        "colab": {
          "base_uri": "https://localhost:8080/"
        },
        "id": "VkOqbDRNVcSu",
        "outputId": "e14b0958-6091-4e25-dbe1-2311eeb3dffa"
      },
      "execution_count": 7,
      "outputs": [
        {
          "output_type": "stream",
          "name": "stdout",
          "text": [
            "root\n",
            " |-- user_id: string (nullable = true)\n",
            " |-- music category: string (nullable = true)\n",
            "\n"
          ]
        }
      ]
    },
    {
      "cell_type": "code",
      "source": [
        "df.select('music category').distinct().count()"
      ],
      "metadata": {
        "colab": {
          "base_uri": "https://localhost:8080/"
        },
        "id": "kMneXKr3VtLN",
        "outputId": "5f98f76f-7a24-4cc2-ab67-5c95f21dbf85"
      },
      "execution_count": 8,
      "outputs": [
        {
          "output_type": "execute_result",
          "data": {
            "text/plain": [
              "21"
            ]
          },
          "metadata": {},
          "execution_count": 8
        }
      ]
    },
    {
      "cell_type": "code",
      "source": [
        "df.groupBy('music category').count().orderBy('count', ascending=False).show(100,False)"
      ],
      "metadata": {
        "colab": {
          "base_uri": "https://localhost:8080/"
        },
        "id": "AG9Yso3LWHB6",
        "outputId": "03a969fd-cdf0-4b50-b74b-1ce592a422d7"
      },
      "execution_count": 9,
      "outputs": [
        {
          "output_type": "stream",
          "name": "stdout",
          "text": [
            "+-----------------+-----+\n",
            "|music category   |count|\n",
            "+-----------------+-----+\n",
            "|Alternative Music|64227|\n",
            "|Blues            |54647|\n",
            "|Classical Music  |43117|\n",
            "|Country Music    |39891|\n",
            "|Dance Music      |35779|\n",
            "|Easy Listening   |34356|\n",
            "|Electronic Music |30985|\n",
            "|Rap              |29569|\n",
            "|Hip Hop          |16895|\n",
            "|Indie Pop        |16244|\n",
            "|Motivational     |10118|\n",
            "|Asian Pop        |8444 |\n",
            "|Jazz             |7685 |\n",
            "|Latin Music      |7302 |\n",
            "|New Age          |7053 |\n",
            "|Opera            |6188 |\n",
            "|Hindi Music      |5689 |\n",
            "|Popular          |4729 |\n",
            "|Soulful          |2403 |\n",
            "|Reggae           |1970 |\n",
            "|Rock             |1732 |\n",
            "+-----------------+-----+\n",
            "\n"
          ]
        }
      ]
    },
    {
      "cell_type": "code",
      "source": [
        "df.select('user_id').distinct().count()"
      ],
      "metadata": {
        "colab": {
          "base_uri": "https://localhost:8080/"
        },
        "id": "JaoZLXZDWUoR",
        "outputId": "84b3c4f9-d225-451e-e200-266211f73155"
      },
      "execution_count": 10,
      "outputs": [
        {
          "output_type": "execute_result",
          "data": {
            "text/plain": [
              "775"
            ]
          },
          "metadata": {},
          "execution_count": 10
        }
      ]
    },
    {
      "cell_type": "code",
      "source": [
        "df.groupBy('user_id').count().orderBy('count',ascending=False).show(20,False)"
      ],
      "metadata": {
        "colab": {
          "base_uri": "https://localhost:8080/"
        },
        "id": "qoPByq1mWhLq",
        "outputId": "6b924ff9-3901-44e6-b255-a1bc262e53be"
      },
      "execution_count": 11,
      "outputs": [
        {
          "output_type": "stream",
          "name": "stdout",
          "text": [
            "+----------------------------------------------------------------+-----+\n",
            "|user_id                                                         |count|\n",
            "+----------------------------------------------------------------+-----+\n",
            "|628119a73b9725466e6c309f803d30cfc3b11d2a426cdd5f0d62a496e105c914|14257|\n",
            "|179dd34be075e729f14dadc28a34459226c4f62797af5f186bddbb7428b8fc78|11804|\n",
            "|2d765ea4ffc6554c95a1c703afcd3470bc118a65c2f0728871f4d0f40628f41b|11001|\n",
            "|ca60aad85306a7fdd51a469ca6a5d27109dfd5f5781d7da985c70574d2520d23|10479|\n",
            "|03bfd7e24d3a7ce9e3973f9d42ad89e4c1710b89bec59b2b08712ba73372dcbc|10075|\n",
            "|7660ca8a4f5df748976aac001d5f0c5b7c8806f5c08197542d26c2eac4b20f85|9932 |\n",
            "|b6eb8ef9cacc79b6779a7e065c3b0fb5174397ea983d70453bc978b6e46f95e2|7694 |\n",
            "|e92f348b4a29089c9d7b82095d0bd49422153b60bbde08527015121e44699990|7210 |\n",
            "|da03e0ef521fecb209f01410eefff11c115fda2d217dde51fd870761b31bb968|7182 |\n",
            "|04cd1fc5c925a8a702607d6c1a047b8e0cbe170bdaed5270369d321f73254b53|6853 |\n",
            "|a2374ccb47b0af60aafabeed11b979acf0d72e1afe7f96b671302aaa51592531|6730 |\n",
            "|1ed20907b0eb013b6d2b8097671c5faaaae884ac9ae4b77753ee7d640036e080|6612 |\n",
            "|19152e9dc36bd8fdded0be20e1a371cc5a57edd5a248973c9fa5b8ed4c8bdb0c|5378 |\n",
            "|dd69f69a8df66f0d79c8a2ce41ace204dbb74e1a5a3ae36c511b8cd9ef9000a5|5255 |\n",
            "|1b2dfdebfa64564c8eb7785c77b9f1cdaee6059b63b30a59c2701fee6c20407c|4928 |\n",
            "|7cc577809aedea3d9423fccf6091258b9a7a0b66089d6aa86689548139c36e4b|4450 |\n",
            "|0d5b7fbb167130690b8a7149d81529a2048242945a64b46c427915e8fded9e75|4371 |\n",
            "|7a39568d24f3b1a953c2bc98d638cdc2b7eb02f0e6ddcee29bbc5034ec9ad76e|4324 |\n",
            "|e6f90a69588f335223ac774391f7a1835d9225dc8f2090fd59265d9836783f25|4301 |\n",
            "|4ab70e2a682304ce1b4b3b292b015ae343f255aca18863a4fe47a69ffd3470f8|4277 |\n",
            "+----------------------------------------------------------------+-----+\n",
            "only showing top 20 rows\n",
            "\n"
          ]
        }
      ]
    },
    {
      "cell_type": "code",
      "source": [
        "df.groupBy('user_id').count().orderBy('count',ascending=True).show(20,False)"
      ],
      "metadata": {
        "colab": {
          "base_uri": "https://localhost:8080/"
        },
        "id": "I-fRhizLWukn",
        "outputId": "199d6aba-3b2a-4458-c508-9fa336a64d7b"
      },
      "execution_count": 12,
      "outputs": [
        {
          "output_type": "stream",
          "name": "stdout",
          "text": [
            "+----------------------------------------------------------------+-----+\n",
            "|user_id                                                         |count|\n",
            "+----------------------------------------------------------------+-----+\n",
            "|54f2e60bd31a775aca7fb60816c6990a415fe66694098d1ee64cc9e13f831a64|1    |\n",
            "|a09074b27cd4ab61654c0f4e21bc5e97dc86a611743a1f8b37db3a76df8e306e|1    |\n",
            "|402c7aac3776a3758ca143819a0653c6cd33c6c35dd831d9ba5aad1dff43a888|1    |\n",
            "|1e3e7153bf1aa5f43b1d1f27c940087587a50d40d399f4cf31b58546a39b9f26|1    |\n",
            "|4d5920f000b000d60fdc63043886f47cc056d2835d3a73e50f389a5694b19115|1    |\n",
            "|ecb27d9bf54e751018cd6c1cc5a0f2d812ff08585271acfc980bdacb742a7a02|1    |\n",
            "|bdb448f271ec83b324acd32248f1401964cb1f5f716e94eebed508f02e889e14|1    |\n",
            "|e6e6ceb674b7ca53391ac404558a3f8d222db82c643b8c21070db4f029a50095|1    |\n",
            "|8691b41f5ae65644c8aca0ec9d738eb3b5537b106f0fdcb3f652cc77b7ab7dd6|1    |\n",
            "|8aced64c96741dbeab4659f102f34c157189b3f7a63807d87bad5d8c663005cb|1    |\n",
            "|55efc631da61b192de874d5e2b05ea1e04ec08bd2e3009ebcd0053a84bbd4341|1    |\n",
            "|ba35ab150a757e0b3abf9c5f11b7686e5394f6cdcb59d257f9fd2e1dd7cf23c2|1    |\n",
            "|1e6fb89e6aca7641dba8bbd87e97badb8306f1ce50c02c2b0a6f36457e843221|1    |\n",
            "|d631ffaf7f6731b146cecbf16c02fc543d02f5a8377561e5dd60a9eba603e001|1    |\n",
            "|760430c89527a8b503dd02bada46926938c5ad036b7ca08a21d685fe5a89f01e|1    |\n",
            "|7ba2fabcbbd4705128a8966d4d5fcf9d3e284c77fada7752da397f479ad4a12e|1    |\n",
            "|8caf42bf00baea90141dec822bece26fc54bf9884c7dbf0439b445fb98b50152|1    |\n",
            "|597affc56ba81274561da2b3541a8e1a30f7bbcf75cb54a9f9c1a885d88f7f7b|1    |\n",
            "|db8ad4bcda32a37e0e3c0fc3f8a92a42aaafb4e7156aeba003602e84f85e8880|2    |\n",
            "|56d4eb0c723782150ff98694f7573d287c55b658a9c2bf9502d5313f856d9e02|2    |\n",
            "+----------------------------------------------------------------+-----+\n",
            "only showing top 20 rows\n",
            "\n"
          ]
        }
      ]
    },
    {
      "cell_type": "markdown",
      "source": [
        "## **Reshaping a Dataframe for Clustering**"
      ],
      "metadata": {
        "id": "s5XEj9pLXTcX"
      }
    },
    {
      "cell_type": "code",
      "source": [
        "feature_df = df.stat.crosstab(\"user_id\",\"music category\")\n",
        "feature_df.printSchema()"
      ],
      "metadata": {
        "colab": {
          "base_uri": "https://localhost:8080/"
        },
        "id": "R2iikerBXIZD",
        "outputId": "27992ef2-7b86-45de-8eb6-36645aefe6cb"
      },
      "execution_count": 13,
      "outputs": [
        {
          "output_type": "stream",
          "name": "stdout",
          "text": [
            "root\n",
            " |-- user_id_music category: string (nullable = true)\n",
            " |-- Alternative Music: long (nullable = false)\n",
            " |-- Asian Pop: long (nullable = false)\n",
            " |-- Blues: long (nullable = false)\n",
            " |-- Classical Music: long (nullable = false)\n",
            " |-- Country Music: long (nullable = false)\n",
            " |-- Dance Music: long (nullable = false)\n",
            " |-- Easy Listening: long (nullable = false)\n",
            " |-- Electronic Music: long (nullable = false)\n",
            " |-- Hindi Music: long (nullable = false)\n",
            " |-- Hip Hop: long (nullable = false)\n",
            " |-- Indie Pop: long (nullable = false)\n",
            " |-- Jazz: long (nullable = false)\n",
            " |-- Latin Music: long (nullable = false)\n",
            " |-- Motivational: long (nullable = false)\n",
            " |-- New Age: long (nullable = false)\n",
            " |-- Opera: long (nullable = false)\n",
            " |-- Popular: long (nullable = false)\n",
            " |-- Rap: long (nullable = false)\n",
            " |-- Reggae: long (nullable = false)\n",
            " |-- Rock: long (nullable = false)\n",
            " |-- Soulful: long (nullable = false)\n",
            "\n"
          ]
        }
      ]
    },
    {
      "cell_type": "code",
      "source": [
        "feature_df.show(3,False)"
      ],
      "metadata": {
        "colab": {
          "base_uri": "https://localhost:8080/"
        },
        "id": "AWSJDYggX0QS",
        "outputId": "f7339cfd-55fe-4fb2-afd8-d849f86c68a7"
      },
      "execution_count": 14,
      "outputs": [
        {
          "output_type": "stream",
          "name": "stdout",
          "text": [
            "+----------------------------------------------------------------+-----------------+---------+-----+---------------+-------------+-----------+--------------+----------------+-----------+-------+---------+----+-----------+------------+-------+-----+-------+---+------+----+-------+\n",
            "|user_id_music category                                          |Alternative Music|Asian Pop|Blues|Classical Music|Country Music|Dance Music|Easy Listening|Electronic Music|Hindi Music|Hip Hop|Indie Pop|Jazz|Latin Music|Motivational|New Age|Opera|Popular|Rap|Reggae|Rock|Soulful|\n",
            "+----------------------------------------------------------------+-----------------+---------+-----+---------------+-------------+-----------+--------------+----------------+-----------+-------+---------+----+-----------+------------+-------+-----+-------+---+------+----+-------+\n",
            "|f0aead442015795909760d6557c0ac7228a2b5beeedeb5daf2de29040c528f22|58               |0        |4    |2              |4            |7          |29            |3               |0          |12     |6        |0   |0          |10          |1      |2    |1      |0  |0     |2   |7      |\n",
            "|113e8bf3d09529d0cc246227019e26d4463a72820c298864be6c651d29dcf6e4|295              |19       |580  |417            |210          |306        |166           |97              |5          |65     |25       |1   |1          |56          |2      |61   |46     |234|1     |0   |1      |\n",
            "|d20e466a7b1817e9efd791d9b80c87c8eeffe50f091ab7ad8206e7416f3defed|6                |0        |21   |3              |1            |6          |13            |5               |5          |24     |58       |0   |0          |5           |0      |0    |8      |0  |0     |0   |5      |\n",
            "+----------------------------------------------------------------+-----------------+---------+-----+---------------+-------------+-----------+--------------+----------------+-----------+-------+---------+----+-----------+------------+-------+-----+-------+---+------+----+-------+\n",
            "only showing top 3 rows\n",
            "\n"
          ]
        }
      ]
    },
    {
      "cell_type": "code",
      "source": [
        "feature_df.count()"
      ],
      "metadata": {
        "colab": {
          "base_uri": "https://localhost:8080/"
        },
        "id": "drSlgxaeX7P7",
        "outputId": "22c1c777-40b2-497d-9600-e9737a2a796b"
      },
      "execution_count": 15,
      "outputs": [
        {
          "output_type": "execute_result",
          "data": {
            "text/plain": [
              "775"
            ]
          },
          "metadata": {},
          "execution_count": 15
        }
      ]
    },
    {
      "cell_type": "code",
      "source": [
        "from pyspark.ml.linalg import Vectors\n",
        "from pyspark.ml.feature import VectorAssembler"
      ],
      "metadata": {
        "id": "f64ClJY0YDx1"
      },
      "execution_count": 16,
      "outputs": []
    },
    {
      "cell_type": "code",
      "source": [
        "print(feature_df.columns)"
      ],
      "metadata": {
        "colab": {
          "base_uri": "https://localhost:8080/"
        },
        "id": "GrIjPdpQYjhD",
        "outputId": "981be27c-1cd9-4bae-b1fe-b0cb92011ed6"
      },
      "execution_count": 17,
      "outputs": [
        {
          "output_type": "stream",
          "name": "stdout",
          "text": [
            "['user_id_music category', 'Alternative Music', 'Asian Pop', 'Blues', 'Classical Music', 'Country Music', 'Dance Music', 'Easy Listening', 'Electronic Music', 'Hindi Music', 'Hip Hop', 'Indie Pop', 'Jazz', 'Latin Music', 'Motivational', 'New Age', 'Opera', 'Popular', 'Rap', 'Reggae', 'Rock', 'Soulful']\n"
          ]
        }
      ]
    },
    {
      "cell_type": "code",
      "source": [
        "feat_cols = [col for col in feature_df.columns if col != 'user_id_music category']\n",
        "print(feat_cols)"
      ],
      "metadata": {
        "colab": {
          "base_uri": "https://localhost:8080/"
        },
        "id": "n8ZcgW16YnAX",
        "outputId": "fc1abe48-b2ec-4cb2-b22f-bfb8b9ae3a19"
      },
      "execution_count": 18,
      "outputs": [
        {
          "output_type": "stream",
          "name": "stdout",
          "text": [
            "['Alternative Music', 'Asian Pop', 'Blues', 'Classical Music', 'Country Music', 'Dance Music', 'Easy Listening', 'Electronic Music', 'Hindi Music', 'Hip Hop', 'Indie Pop', 'Jazz', 'Latin Music', 'Motivational', 'New Age', 'Opera', 'Popular', 'Rap', 'Reggae', 'Rock', 'Soulful']\n"
          ]
        }
      ]
    },
    {
      "cell_type": "code",
      "source": [
        "vec_assembler = VectorAssembler(inputCols= feat_cols, outputCol='features')\n",
        "final_data = vec_assembler.transform(feature_df)\n",
        "\n",
        "final_data.printSchema()"
      ],
      "metadata": {
        "colab": {
          "base_uri": "https://localhost:8080/"
        },
        "id": "y7d9YDIZZOJX",
        "outputId": "2dd77dfc-d21a-482c-d4e1-99d51b911e2c"
      },
      "execution_count": 19,
      "outputs": [
        {
          "output_type": "stream",
          "name": "stdout",
          "text": [
            "root\n",
            " |-- user_id_music category: string (nullable = true)\n",
            " |-- Alternative Music: long (nullable = false)\n",
            " |-- Asian Pop: long (nullable = false)\n",
            " |-- Blues: long (nullable = false)\n",
            " |-- Classical Music: long (nullable = false)\n",
            " |-- Country Music: long (nullable = false)\n",
            " |-- Dance Music: long (nullable = false)\n",
            " |-- Easy Listening: long (nullable = false)\n",
            " |-- Electronic Music: long (nullable = false)\n",
            " |-- Hindi Music: long (nullable = false)\n",
            " |-- Hip Hop: long (nullable = false)\n",
            " |-- Indie Pop: long (nullable = false)\n",
            " |-- Jazz: long (nullable = false)\n",
            " |-- Latin Music: long (nullable = false)\n",
            " |-- Motivational: long (nullable = false)\n",
            " |-- New Age: long (nullable = false)\n",
            " |-- Opera: long (nullable = false)\n",
            " |-- Popular: long (nullable = false)\n",
            " |-- Rap: long (nullable = false)\n",
            " |-- Reggae: long (nullable = false)\n",
            " |-- Rock: long (nullable = false)\n",
            " |-- Soulful: long (nullable = false)\n",
            " |-- features: vector (nullable = true)\n",
            "\n"
          ]
        }
      ]
    },
    {
      "cell_type": "code",
      "source": [
        "final_data.show(10,False)"
      ],
      "metadata": {
        "colab": {
          "base_uri": "https://localhost:8080/"
        },
        "id": "cYn6Z85tacOE",
        "outputId": "a2d7fb38-e89f-487f-dcef-a24ba22ba3b1"
      },
      "execution_count": 21,
      "outputs": [
        {
          "output_type": "stream",
          "name": "stdout",
          "text": [
            "+----------------------------------------------------------------+-----------------+---------+-----+---------------+-------------+-----------+--------------+----------------+-----------+-------+---------+----+-----------+------------+-------+-----+-------+---+------+----+-------+----------------------------------------------------------------------------------------------------------+\n",
            "|user_id_music category                                          |Alternative Music|Asian Pop|Blues|Classical Music|Country Music|Dance Music|Easy Listening|Electronic Music|Hindi Music|Hip Hop|Indie Pop|Jazz|Latin Music|Motivational|New Age|Opera|Popular|Rap|Reggae|Rock|Soulful|features                                                                                                  |\n",
            "+----------------------------------------------------------------+-----------------+---------+-----+---------------+-------------+-----------+--------------+----------------+-----------+-------+---------+----+-----------+------------+-------+-----+-------+---+------+----+-------+----------------------------------------------------------------------------------------------------------+\n",
            "|f0aead442015795909760d6557c0ac7228a2b5beeedeb5daf2de29040c528f22|58               |0        |4    |2              |4            |7          |29            |3               |0          |12     |6        |0   |0          |10          |1      |2    |1      |0  |0     |2   |7      |[58.0,0.0,4.0,2.0,4.0,7.0,29.0,3.0,0.0,12.0,6.0,0.0,0.0,10.0,1.0,2.0,1.0,0.0,0.0,2.0,7.0]                 |\n",
            "|113e8bf3d09529d0cc246227019e26d4463a72820c298864be6c651d29dcf6e4|295              |19       |580  |417            |210          |306        |166           |97              |5          |65     |25       |1   |1          |56          |2      |61   |46     |234|1     |0   |1      |[295.0,19.0,580.0,417.0,210.0,306.0,166.0,97.0,5.0,65.0,25.0,1.0,1.0,56.0,2.0,61.0,46.0,234.0,1.0,0.0,1.0]|\n",
            "|d20e466a7b1817e9efd791d9b80c87c8eeffe50f091ab7ad8206e7416f3defed|6                |0        |21   |3              |1            |6          |13            |5               |5          |24     |58       |0   |0          |5           |0      |0    |8      |0  |0     |0   |5      |[6.0,0.0,21.0,3.0,1.0,6.0,13.0,5.0,5.0,24.0,58.0,0.0,0.0,5.0,0.0,0.0,8.0,0.0,0.0,0.0,5.0]                 |\n",
            "|9b126a6f98cb8d162f56c4c6b19f0a56656bcd9a5227a68406e6065f0a3b81e0|16               |15       |11   |16             |10           |41         |28            |1               |74         |1      |86       |0   |0          |0           |49     |6    |3      |2  |0     |0   |1      |[16.0,15.0,11.0,16.0,10.0,41.0,28.0,1.0,74.0,1.0,86.0,0.0,0.0,0.0,49.0,6.0,3.0,2.0,0.0,0.0,1.0]           |\n",
            "|87b0bba0e0cd5de24fa81ad84ada517eaef2390f0d189cd602dc5a6ba8a8f454|2                |0        |7    |0              |4            |13         |1             |3               |0          |4      |6        |0   |0          |0           |0      |0    |6      |0  |0     |0   |0      |(21,[0,2,4,5,6,7,9,10,16],[2.0,7.0,4.0,13.0,1.0,3.0,4.0,6.0,6.0])                                         |\n",
            "|11823c5255dc7ec28e8a60ec7c079136e914a155c631474b6a6a2ac217335e34|502              |6        |112  |62             |49           |152        |29            |45              |2          |69     |14       |0   |1          |8           |135    |16   |20     |4  |0     |5   |0      |[502.0,6.0,112.0,62.0,49.0,152.0,29.0,45.0,2.0,69.0,14.0,0.0,1.0,8.0,135.0,16.0,20.0,4.0,0.0,5.0,0.0]     |\n",
            "|e7fbd81ffdc83686931bb800157063e78de9dabee0d1eb6b3885fb9658ab0c72|31               |0        |85   |5              |51           |16         |10            |8               |13         |19     |21       |0   |0          |1           |4      |17   |8      |76 |0     |0   |0      |[31.0,0.0,85.0,5.0,51.0,16.0,10.0,8.0,13.0,19.0,21.0,0.0,0.0,1.0,4.0,17.0,8.0,76.0,0.0,0.0,0.0]           |\n",
            "|c35319ee2098f691c5c90e35bb7a68f5b679d3eab1f6b955f27bad71ee907ab8|65               |0        |458  |98             |99           |598        |5             |95              |14         |46     |60       |38  |0          |22          |0      |6    |35     |15 |0     |3   |43     |[65.0,0.0,458.0,98.0,99.0,598.0,5.0,95.0,14.0,46.0,60.0,38.0,0.0,22.0,0.0,6.0,35.0,15.0,0.0,3.0,43.0]     |\n",
            "|586c34c75e5d16597cf974a34e2cba6720521a238971e4abf988b5c711adbfae|211              |0        |224  |9              |39           |73         |5             |6               |0          |23     |5        |0   |0          |0           |6      |29   |0      |4  |12    |0   |4      |[211.0,0.0,224.0,9.0,39.0,73.0,5.0,6.0,0.0,23.0,5.0,0.0,0.0,0.0,6.0,29.0,0.0,4.0,12.0,0.0,4.0]            |\n",
            "|81c8c9a7ae9605609e49964e73b022e02d6bbb9b5c69fa21edec9bbb177d459e|3                |0        |1    |0              |0            |1          |0             |0               |0          |0      |0        |6   |0          |0           |0      |2    |2      |1  |0     |0   |0      |(21,[0,2,5,11,15,16,17],[3.0,1.0,1.0,6.0,2.0,2.0,1.0])                                                    |\n",
            "+----------------------------------------------------------------+-----------------+---------+-----+---------------+-------------+-----------+--------------+----------------+-----------+-------+---------+----+-----------+------------+-------+-----+-------+---+------+----+-------+----------------------------------------------------------------------------------------------------------+\n",
            "only showing top 10 rows\n",
            "\n"
          ]
        }
      ]
    },
    {
      "cell_type": "code",
      "source": [
        "from pyspark.ml.feature import StandardScaler\n",
        "#scaling the features\n",
        "scaler = StandardScaler(inputCol=\"features\",outputCol=\"scaledFeatures\", withStd=True, withMean=False)\n",
        "# Compute summary statistics by fitting the StandardScaler\n",
        "scalerModel = scaler.fit(final_data)\n"
      ],
      "metadata": {
        "id": "JvKtqAh2ZlWa"
      },
      "execution_count": 23,
      "outputs": []
    },
    {
      "cell_type": "code",
      "source": [
        "# Normalize each feature to have unit standard deviation.\n",
        "cluster_final_data = scalerModel.transform(final_data)\n",
        "cluster_final_data.columns"
      ],
      "metadata": {
        "colab": {
          "base_uri": "https://localhost:8080/"
        },
        "id": "XvnNMFTFbGFH",
        "outputId": "6a5e02cf-a892-47f5-d01b-6d1a90cccac3"
      },
      "execution_count": 24,
      "outputs": [
        {
          "output_type": "execute_result",
          "data": {
            "text/plain": [
              "['user_id_music category',\n",
              " 'Alternative Music',\n",
              " 'Asian Pop',\n",
              " 'Blues',\n",
              " 'Classical Music',\n",
              " 'Country Music',\n",
              " 'Dance Music',\n",
              " 'Easy Listening',\n",
              " 'Electronic Music',\n",
              " 'Hindi Music',\n",
              " 'Hip Hop',\n",
              " 'Indie Pop',\n",
              " 'Jazz',\n",
              " 'Latin Music',\n",
              " 'Motivational',\n",
              " 'New Age',\n",
              " 'Opera',\n",
              " 'Popular',\n",
              " 'Rap',\n",
              " 'Reggae',\n",
              " 'Rock',\n",
              " 'Soulful',\n",
              " 'features',\n",
              " 'scaledFeatures']"
            ]
          },
          "metadata": {},
          "execution_count": 24
        }
      ]
    },
    {
      "cell_type": "code",
      "source": [
        "cluster_final_data.show(10,False)"
      ],
      "metadata": {
        "colab": {
          "base_uri": "https://localhost:8080/"
        },
        "id": "tpK_frCRazHC",
        "outputId": "81e94c41-0f0b-4e2c-c6c8-3762c177d8b9"
      },
      "execution_count": 25,
      "outputs": [
        {
          "output_type": "stream",
          "name": "stdout",
          "text": [
            "+----------------------------------------------------------------+-----------------+---------+-----+---------------+-------------+-----------+--------------+----------------+-----------+-------+---------+----+-----------+------------+-------+-----+-------+---+------+----+-------+----------------------------------------------------------------------------------------------------------+------------------------------------------------------------------------------------------------------------------------------------------------------------------------------------------------------------------------------------------------------------------------------------------------------------------------------------------------------------------------------------------------------------+\n",
            "|user_id_music category                                          |Alternative Music|Asian Pop|Blues|Classical Music|Country Music|Dance Music|Easy Listening|Electronic Music|Hindi Music|Hip Hop|Indie Pop|Jazz|Latin Music|Motivational|New Age|Opera|Popular|Rap|Reggae|Rock|Soulful|features                                                                                                  |scaledFeatures                                                                                                                                                                                                                                                                                                                                                                                              |\n",
            "+----------------------------------------------------------------+-----------------+---------+-----+---------------+-------------+-----------+--------------+----------------+-----------+-------+---------+----+-----------+------------+-------+-----+-------+---+------+----+-------+----------------------------------------------------------------------------------------------------------+------------------------------------------------------------------------------------------------------------------------------------------------------------------------------------------------------------------------------------------------------------------------------------------------------------------------------------------------------------------------------------------------------------+\n",
            "|f0aead442015795909760d6557c0ac7228a2b5beeedeb5daf2de29040c528f22|58               |0        |4    |2              |4            |7          |29            |3               |0          |12     |6        |0   |0          |10          |1      |2    |1      |0  |0     |2   |7      |[58.0,0.0,4.0,2.0,4.0,7.0,29.0,3.0,0.0,12.0,6.0,0.0,0.0,10.0,1.0,2.0,1.0,0.0,0.0,2.0,7.0]                 |[0.21269062715230824,0.0,0.024074595854993747,0.008017312248871129,0.024595033401086507,0.033021258448530134,0.14858141813238973,0.018567899333939545,0.0,0.11347046049559029,0.10123083835969196,0.0,0.0,0.1660468576068832,0.01799147182632359,0.06420707331873461,0.04664837465103281,0.0,0.0,0.2123246035717075,0.8291031544433797]                                                                     |\n",
            "|113e8bf3d09529d0cc246227019e26d4463a72820c298864be6c651d29dcf6e4|295              |19       |580  |417            |210          |306        |166           |97              |5          |65     |25       |1   |1          |56          |2      |61   |46     |234|1     |0   |1      |[295.0,19.0,580.0,417.0,210.0,306.0,166.0,97.0,5.0,65.0,25.0,1.0,1.0,56.0,2.0,61.0,46.0,234.0,1.0,0.0,1.0]|[1.0817885346539815,0.38296952844450777,3.4908163989740935,1.6716096038896304,1.2912392535570416,1.4435007264643174,0.8505005313785067,0.6003620784640453,0.15818808227434936,0.6146316610177807,0.42179515983204985,0.014998283256131275,0.005438146722951124,0.9298624025985458,0.03598294365264718,1.9583157362214056,2.1458252339475092,1.3355266743675707,0.043569957475663806,0.0,0.11844330777762567]|\n",
            "|d20e466a7b1817e9efd791d9b80c87c8eeffe50f091ab7ad8206e7416f3defed|6                |0        |21   |3              |1            |6          |13            |5               |5          |24     |58       |0   |0          |5           |0      |0    |8      |0  |0     |0   |5      |[6.0,0.0,21.0,3.0,1.0,6.0,13.0,5.0,5.0,24.0,58.0,0.0,0.0,5.0,0.0,0.0,8.0,0.0,0.0,0.0,5.0]                 |[0.02200247867092844,0.0,0.12639162823871716,0.012025968373306693,0.006148758350271627,0.02830393581302583,0.06660546330072643,0.030946498889899244,0.15818808227434936,0.22694092099118057,0.9785647708103556,0.0,0.0,0.0830234288034416,0.0,0.0,0.3731869972082625,0.0,0.0,0.0,0.5922165388881283]                                                                                                        |\n",
            "|9b126a6f98cb8d162f56c4c6b19f0a56656bcd9a5227a68406e6065f0a3b81e0|16               |15       |11   |16             |10           |41         |28            |1               |74         |1      |86       |0   |0          |0           |49     |6    |3      |2  |0     |0   |1      |[16.0,15.0,11.0,16.0,10.0,41.0,28.0,1.0,74.0,1.0,86.0,0.0,0.0,0.0,49.0,6.0,3.0,2.0,0.0,0.0,1.0]           |[0.05867327645580917,0.3023443645614535,0.06620513860123281,0.06413849799096903,0.06148758350271627,0.1934102280556765,0.14345792095541077,0.006189299777979849,2.3411836176603704,0.009455871707965857,1.4509753498222515,0.0,0.0,0.0,0.881582119489856,0.19262121995620385,0.13994512395309844,0.011414757900577527,0.0,0.0,0.11844330777762567]                                                          |\n",
            "|87b0bba0e0cd5de24fa81ad84ada517eaef2390f0d189cd602dc5a6ba8a8f454|2                |0        |7    |0              |4            |13         |1             |3               |0          |4      |6        |0   |0          |0           |0      |0    |6      |0  |0     |0   |0      |(21,[0,2,4,5,6,7,9,10,16],[2.0,7.0,4.0,13.0,1.0,3.0,4.0,6.0,6.0])                                         |(21,[0,2,4,5,6,7,9,10,16],[0.0073341595569761464,0.04213054274623906,0.024595033401086507,0.061325194261555964,0.005123497176978956,0.018567899333939545,0.03782348683186343,0.10123083835969196,0.2798902479061969])                                                                                                                                                                                       |\n",
            "|11823c5255dc7ec28e8a60ec7c079136e914a155c631474b6a6a2ac217335e34|502              |6        |112  |62             |49           |152        |29            |45              |2          |69     |14       |0   |1          |8           |135    |16   |20     |4  |0     |5   |0      |[502.0,6.0,112.0,62.0,49.0,152.0,29.0,45.0,2.0,69.0,14.0,0.0,1.0,8.0,135.0,16.0,20.0,4.0,0.0,5.0,0.0]     |[1.8408740488010127,0.1209377458245814,0.6740886839398249,0.248536679715005,0.3012891591633097,0.7170330405966543,0.14858141813238973,0.2785184900090932,0.06327523290973974,0.6524551478496441,0.2362052895059479,0.0,0.005438146722951124,0.13283748608550655,2.428848696553685,0.5136565865498769,0.9329674930206562,0.022829515801155054,0.0,0.5308115089292688,0.0]                                    |\n",
            "|e7fbd81ffdc83686931bb800157063e78de9dabee0d1eb6b3885fb9658ab0c72|31               |0        |85   |5              |51           |16         |10            |8               |13         |19     |21       |0   |0          |1           |4      |17   |8      |76 |0     |0   |0      |[31.0,0.0,85.0,5.0,51.0,16.0,10.0,8.0,13.0,19.0,21.0,0.0,0.0,1.0,4.0,17.0,8.0,76.0,0.0,0.0,0.0]           |[0.11367947313313027,0.0,0.5115851619186171,0.020043280622177823,0.31358667586385297,0.07547716216806888,0.05123497176978956,0.04951439822383879,0.4112890139133083,0.1796615624513513,0.3543079342589219,0.0,0.0,0.01660468576068832,0.07196588730529437,0.5457601232092442,0.3731869972082625,0.433760800221946,0.0,0.0,0.0]                                                                              |\n",
            "|c35319ee2098f691c5c90e35bb7a68f5b679d3eab1f6b955f27bad71ee907ab8|65               |0        |458  |98             |99           |598        |5             |95              |14         |46     |60       |38  |0          |22          |0      |6    |35     |15 |0     |3   |43     |[65.0,0.0,458.0,98.0,99.0,598.0,5.0,95.0,14.0,46.0,60.0,38.0,0.0,22.0,0.0,6.0,35.0,15.0,0.0,3.0,43.0]     |[0.23836018560172476,0.0,2.756541225396784,0.3928483001946853,0.6087270766768911,2.8209589360315745,0.02561748588489478,0.5879834789080857,0.4429266303681782,0.43497009856642943,1.0123083835969195,0.5699347637329885,0.0,0.365303086735143,0.0,0.19262121995620385,1.6326931127861484,0.08561068425433145,0.0,0.31848690535756125,5.0930622344379035]                                                    |\n",
            "|586c34c75e5d16597cf974a34e2cba6720521a238971e4abf988b5c711adbfae|211              |0        |224  |9              |39           |73         |5             |6               |0          |23     |5        |0   |0          |0           |6      |29   |0      |4  |12    |0   |4      |[211.0,0.0,224.0,9.0,39.0,73.0,5.0,6.0,0.0,23.0,5.0,0.0,0.0,0.0,6.0,29.0,0.0,4.0,12.0,0.0,4.0]            |[0.7737538332609835,0.0,1.3481773678796498,0.03607790511992008,0.23980157566059343,0.34436455239181424,0.02561748588489478,0.03713579866787909,0.0,0.21748504928321472,0.08435903196640997,0.0,0.0,0.0,0.10794883095794156,0.9310025631216519,0.0,0.022829515801155054,0.5228394897079657,0.0,0.4737732311105027]                                                                                           |\n",
            "|81c8c9a7ae9605609e49964e73b022e02d6bbb9b5c69fa21edec9bbb177d459e|3                |0        |1    |0              |0            |1          |0             |0               |0          |0      |0        |6   |0          |0           |0      |2    |2      |1  |0     |0   |0      |(21,[0,2,5,11,15,16,17],[3.0,1.0,1.0,6.0,2.0,2.0,1.0])                                                    |(21,[0,2,5,11,15,16,17],[0.01100123933546422,0.006018648963748437,0.004717322635504305,0.08998969953678765,0.06420707331873461,0.09329674930206562,0.005707378950288763])                                                                                                                                                                                                                                   |\n",
            "+----------------------------------------------------------------+-----------------+---------+-----+---------------+-------------+-----------+--------------+----------------+-----------+-------+---------+----+-----------+------------+-------+-----+-------+---+------+----+-------+----------------------------------------------------------------------------------------------------------+------------------------------------------------------------------------------------------------------------------------------------------------------------------------------------------------------------------------------------------------------------------------------------------------------------------------------------------------------------------------------------------------------------+\n",
            "only showing top 10 rows\n",
            "\n"
          ]
        }
      ]
    },
    {
      "cell_type": "markdown",
      "source": [
        "## **Building Clusters with K-Means**"
      ],
      "metadata": {
        "id": "zvbnx0E5bV6u"
      }
    },
    {
      "cell_type": "code",
      "source": [
        "errors = []\n",
        "\n",
        "for k in range(2, 10):\n",
        "    kmeans = KMeans(featuresCol='scaledFeatures', k=k)\n",
        "    model = kmeans.fit(cluster_final_data)\n",
        "    wssse = model.summary.trainingCost\n",
        "    errors.append(wssse)\n",
        "    print(\"With K={}\".format(k))\n",
        "    print(\"Within Set Sum of Squared Errors = \" + str(wssse))\n",
        "    print('--' * 30)"
      ],
      "metadata": {
        "colab": {
          "base_uri": "https://localhost:8080/"
        },
        "id": "CNiYeW3dbM3R",
        "outputId": "ca4851ce-32ed-44b3-97ed-093a6c075569"
      },
      "execution_count": 28,
      "outputs": [
        {
          "output_type": "stream",
          "name": "stdout",
          "text": [
            "With K=2\n",
            "Within Set Sum of Squared Errors = 12858.324030256734\n",
            "------------------------------------------------------------\n",
            "With K=3\n",
            "Within Set Sum of Squared Errors = 12227.554588101746\n",
            "------------------------------------------------------------\n",
            "With K=4\n",
            "Within Set Sum of Squared Errors = 11729.958894079231\n",
            "------------------------------------------------------------\n",
            "With K=5\n",
            "Within Set Sum of Squared Errors = 11424.1997443399\n",
            "------------------------------------------------------------\n",
            "With K=6\n",
            "Within Set Sum of Squared Errors = 9906.800633429164\n",
            "------------------------------------------------------------\n",
            "With K=7\n",
            "Within Set Sum of Squared Errors = 9370.6428258546\n",
            "------------------------------------------------------------\n",
            "With K=8\n",
            "Within Set Sum of Squared Errors = 9132.53446343389\n",
            "------------------------------------------------------------\n",
            "With K=9\n",
            "Within Set Sum of Squared Errors = 8218.503221783649\n",
            "------------------------------------------------------------\n"
          ]
        }
      ]
    },
    {
      "cell_type": "code",
      "source": [
        "cluster_number = range(2,10)\n",
        "plt.scatter(cluster_number, errors)\n",
        "plt.xlabel('clusters')\n",
        "plt.ylabel('WSSE')\n",
        "plt.show()"
      ],
      "metadata": {
        "colab": {
          "base_uri": "https://localhost:8080/",
          "height": 449
        },
        "id": "CHb5Wsd1dK4v",
        "outputId": "7058134d-77d4-4269-f02e-993f009abf72"
      },
      "execution_count": 29,
      "outputs": [
        {
          "output_type": "display_data",
          "data": {
            "text/plain": [
              "<Figure size 640x480 with 1 Axes>"
            ],
            "image/png": "[encoded data removed]"
          },
          "metadata": {}
        }
      ]
    },
    {
      "cell_type": "code",
      "source": [
        "kmeans6 = KMeans(featuresCol='scaledFeatures',k=6)\n",
        "model_k6 = kmeans6.fit(cluster_final_data)\n",
        "model_k6.transform(cluster_final_data).groupBy('prediction').count().show()"
      ],
      "metadata": {
        "colab": {
          "base_uri": "https://localhost:8080/"
        },
        "id": "X_i4FAdPeQib",
        "outputId": "b13fbc43-c904-4da4-a297-4e4fa43c4d28"
      },
      "execution_count": 30,
      "outputs": [
        {
          "output_type": "stream",
          "name": "stdout",
          "text": [
            "+----------+-----+\n",
            "|prediction|count|\n",
            "+----------+-----+\n",
            "|         1|    3|\n",
            "|         3|   47|\n",
            "|         5|    1|\n",
            "|         4|    2|\n",
            "|         2|    3|\n",
            "|         0|  719|\n",
            "+----------+-----+\n",
            "\n"
          ]
        }
      ]
    },
    {
      "cell_type": "code",
      "source": [
        "model_k6.transform(cluster_final_data).show()"
      ],
      "metadata": {
        "colab": {
          "base_uri": "https://localhost:8080/"
        },
        "id": "CoB9JcfpfMQz",
        "outputId": "7fab139e-d834-4393-f308-ac0dc41367dc"
      },
      "execution_count": 31,
      "outputs": [
        {
          "output_type": "stream",
          "name": "stdout",
          "text": [
            "+----------------------+-----------------+---------+-----+---------------+-------------+-----------+--------------+----------------+-----------+-------+---------+----+-----------+------------+-------+-----+-------+---+------+----+-------+--------------------+--------------------+----------+\n",
            "|user_id_music category|Alternative Music|Asian Pop|Blues|Classical Music|Country Music|Dance Music|Easy Listening|Electronic Music|Hindi Music|Hip Hop|Indie Pop|Jazz|Latin Music|Motivational|New Age|Opera|Popular|Rap|Reggae|Rock|Soulful|            features|      scaledFeatures|prediction|\n",
            "+----------------------+-----------------+---------+-----+---------------+-------------+-----------+--------------+----------------+-----------+-------+---------+----+-----------+------------+-------+-----+-------+---+------+----+-------+--------------------+--------------------+----------+\n",
            "|  f0aead44201579590...|               58|        0|    4|              2|            4|          7|            29|               3|          0|     12|        6|   0|          0|          10|      1|    2|      1|  0|     0|   2|      7|[58.0,0.0,4.0,2.0...|[0.21269062715230...|         0|\n",
            "|  113e8bf3d09529d0c...|              295|       19|  580|            417|          210|        306|           166|              97|          5|     65|       25|   1|          1|          56|      2|   61|     46|234|     1|   0|      1|[295.0,19.0,580.0...|[1.08178853465398...|         3|\n",
            "|  d20e466a7b1817e9e...|                6|        0|   21|              3|            1|          6|            13|               5|          5|     24|       58|   0|          0|           5|      0|    0|      8|  0|     0|   0|      5|[6.0,0.0,21.0,3.0...|[0.02200247867092...|         0|\n",
            "|  9b126a6f98cb8d162...|               16|       15|   11|             16|           10|         41|            28|               1|         74|      1|       86|   0|          0|           0|     49|    6|      3|  2|     0|   0|      1|[16.0,15.0,11.0,1...|[0.05867327645580...|         0|\n",
            "|  87b0bba0e0cd5de24...|                2|        0|    7|              0|            4|         13|             1|               3|          0|      4|        6|   0|          0|           0|      0|    0|      6|  0|     0|   0|      0|(21,[0,2,4,5,6,7,...|(21,[0,2,4,5,6,7,...|         0|\n",
            "|  11823c5255dc7ec28...|              502|        6|  112|             62|           49|        152|            29|              45|          2|     69|       14|   0|          1|           8|    135|   16|     20|  4|     0|   5|      0|[502.0,6.0,112.0,...|[1.84087404880101...|         0|\n",
            "|  e7fbd81ffdc836869...|               31|        0|   85|              5|           51|         16|            10|               8|         13|     19|       21|   0|          0|           1|      4|   17|      8| 76|     0|   0|      0|[31.0,0.0,85.0,5....|[0.11367947313313...|         0|\n",
            "|  c35319ee2098f691c...|               65|        0|  458|             98|           99|        598|             5|              95|         14|     46|       60|  38|          0|          22|      0|    6|     35| 15|     0|   3|     43|[65.0,0.0,458.0,9...|[0.23836018560172...|         3|\n",
            "|  586c34c75e5d16597...|              211|        0|  224|              9|           39|         73|             5|               6|          0|     23|        5|   0|          0|           0|      6|   29|      0|  4|    12|   0|      4|[211.0,0.0,224.0,...|[0.77375383326098...|         0|\n",
            "|  81c8c9a7ae9605609...|                3|        0|    1|              0|            0|          1|             0|               0|          0|      0|        0|   6|          0|           0|      0|    2|      2|  1|     0|   0|      0|(21,[0,2,5,11,15,...|(21,[0,2,5,11,15,...|         0|\n",
            "|  022e6af10b3c3d878...|                3|        0|   30|              8|            7|          1|             0|               2|          0|      6|        0|   2|          0|           4|      0|    0|      0| 30|     0|   0|     49|(21,[0,2,3,4,5,7,...|(21,[0,2,3,4,5,7,...|         0|\n",
            "|  e4c430a26bd6a6fe4...|               36|        0|   11|             23|            7|         29|            59|              25|         10|      9|       13|   4|          2|          11|      0|   14|      0|  4|     0|   0|      0|[36.0,0.0,11.0,23...|[0.13201487202557...|         0|\n",
            "|  8aced64c96741dbea...|                0|        0|    0|              0|            0|          0|             1|               0|          0|      0|        0|   0|          0|           0|      0|    0|      0|  0|     0|   0|      0|      (21,[6],[1.0])|(21,[6],[0.005123...|         0|\n",
            "|  aae1c3ee44ae601b1...|               16|        0|    4|             87|            1|         48|            74|               1|          1|      1|        2|   0|          0|           2|      0|   15|      0|  5|     0|   2|      3|[16.0,0.0,4.0,87....|[0.05867327645580...|         0|\n",
            "|  764970369c91e7192...|                2|        0|    2|              4|            3|          0|             0|               0|          0|      2|       30|   0|          0|           0|      0|    0|      3|  0|     0|   0|      0|(21,[0,2,3,4,9,10...|(21,[0,2,3,4,9,10...|         0|\n",
            "|  357f1386cf5b08c1c...|                6|        0|    0|              0|            0|          0|             4|               0|          0|      0|        0|   0|          0|           0|      0|    0|      0|  0|     0|   0|      0|(21,[0,6],[6.0,4.0])|(21,[0,6],[0.0220...|         0|\n",
            "|  ccc81727bfbc8b932...|              154|        0|   14|             26|            6|         66|             6|               7|         10|      2|       16|   2|          0|           0|      0|  190|      2|  2|     0|   2|      1|[154.0,0.0,14.0,2...|[0.56473028588716...|         0|\n",
            "|  796e50953823ed1e6...|                1|        0|    0|              1|            0|          2|             1|               0|          0|      0|        2|   0|          0|           0|      0|    0|      0|  1|     0|   0|      0|(21,[0,3,5,6,10,1...|(21,[0,3,5,6,10,1...|         0|\n",
            "|  6397ee63ff5541a9f...|               42|        0|  105|              7|           32|         49|            17|              14|          1|      8|       10|   0|          1|           7|      0|    2|      3| 80|     0|   1|      0|[42.0,0.0,105.0,7...|[0.15401735069649...|         0|\n",
            "|  fd0d77b43b030358f...|                1|        0|    5|              8|            2|          3|             0|               2|          0|      1|        0|   0|          0|           0|      1|    2|      0|  0|     0|   0|      0|(21,[0,2,3,4,5,7,...|(21,[0,2,3,4,5,7,...|         0|\n",
            "+----------------------+-----------------+---------+-----+---------------+-------------+-----------+--------------+----------------+-----------+-------+---------+----+-----------+------------+-------+-----+-------+---+------+----+-------+--------------------+--------------------+----------+\n",
            "only showing top 20 rows\n",
            "\n"
          ]
        }
      ]
    },
    {
      "cell_type": "code",
      "source": [
        "cluster_prediction=model_k6.transform(cluster_final_data)\n",
        "cluster_prediction.printSchema()"
      ],
      "metadata": {
        "colab": {
          "base_uri": "https://localhost:8080/"
        },
        "id": "ixr0VmU7fdf6",
        "outputId": "3b4b3b43-1a3d-4aa9-88cb-7bbfa4e179a2"
      },
      "execution_count": 32,
      "outputs": [
        {
          "output_type": "stream",
          "name": "stdout",
          "text": [
            "root\n",
            " |-- user_id_music category: string (nullable = true)\n",
            " |-- Alternative Music: long (nullable = false)\n",
            " |-- Asian Pop: long (nullable = false)\n",
            " |-- Blues: long (nullable = false)\n",
            " |-- Classical Music: long (nullable = false)\n",
            " |-- Country Music: long (nullable = false)\n",
            " |-- Dance Music: long (nullable = false)\n",
            " |-- Easy Listening: long (nullable = false)\n",
            " |-- Electronic Music: long (nullable = false)\n",
            " |-- Hindi Music: long (nullable = false)\n",
            " |-- Hip Hop: long (nullable = false)\n",
            " |-- Indie Pop: long (nullable = false)\n",
            " |-- Jazz: long (nullable = false)\n",
            " |-- Latin Music: long (nullable = false)\n",
            " |-- Motivational: long (nullable = false)\n",
            " |-- New Age: long (nullable = false)\n",
            " |-- Opera: long (nullable = false)\n",
            " |-- Popular: long (nullable = false)\n",
            " |-- Rap: long (nullable = false)\n",
            " |-- Reggae: long (nullable = false)\n",
            " |-- Rock: long (nullable = false)\n",
            " |-- Soulful: long (nullable = false)\n",
            " |-- features: vector (nullable = true)\n",
            " |-- scaledFeatures: vector (nullable = true)\n",
            " |-- prediction: integer (nullable = false)\n",
            "\n"
          ]
        }
      ]
    },
    {
      "cell_type": "markdown",
      "source": [
        "## **PCA - Dimensionality Reduction**"
      ],
      "metadata": {
        "id": "JcQde1QxgP5b"
      }
    },
    {
      "cell_type": "code",
      "source": [
        "from pyspark.ml.feature import PCA\n",
        "from pyspark.ml.linalg import Vectors"
      ],
      "metadata": {
        "id": "FlyGorlWf2Ta"
      },
      "execution_count": 33,
      "outputs": []
    },
    {
      "cell_type": "code",
      "source": [
        "pca = PCA(k=3, inputCol=\"scaledFeatures\", outputCol=\"pca_features\")\n",
        "pca_model  = pca.fit(cluster_prediction)\n",
        "\n",
        "result = pca_model.transform(cluster_prediction).select('user_id_music category','pca_features','prediction')"
      ],
      "metadata": {
        "id": "_6xZklB4gN7F"
      },
      "execution_count": 34,
      "outputs": []
    },
    {
      "cell_type": "code",
      "source": [
        "result.show(truncate=False)"
      ],
      "metadata": {
        "colab": {
          "base_uri": "https://localhost:8080/"
        },
        "id": "Ix-qJ88Lg9J5",
        "outputId": "19546dea-b596-48f7-cfa6-81cf8a43e9be"
      },
      "execution_count": 35,
      "outputs": [
        {
          "output_type": "stream",
          "name": "stdout",
          "text": [
            "+----------------------------------------------------------------+--------------------------------------------------------------------+----------+\n",
            "|user_id_music category                                          |pca_features                                                        |prediction|\n",
            "+----------------------------------------------------------------+--------------------------------------------------------------------+----------+\n",
            "|f0aead442015795909760d6557c0ac7228a2b5beeedeb5daf2de29040c528f22|[-0.4292752500730784,0.371696214465941,-0.07672747333499305]        |0         |\n",
            "|113e8bf3d09529d0cc246227019e26d4463a72820c298864be6c651d29dcf6e4|[-4.3736310646886905,1.5691189605286466,-0.08275543449067334]       |3         |\n",
            "|d20e466a7b1817e9efd791d9b80c87c8eeffe50f091ab7ad8206e7416f3defed|[-0.6698144701036585,0.22262413940175185,-0.14108133637167658]      |0         |\n",
            "|9b126a6f98cb8d162f56c4c6b19f0a56656bcd9a5227a68406e6065f0a3b81e0|[-1.0987585365868786,0.6834285979074631,-0.821130595123761]         |0         |\n",
            "|87b0bba0e0cd5de24fa81ad84ada517eaef2390f0d189cd602dc5a6ba8a8f454|[-0.14748441025903347,4.5039230544986417E-4,-0.05786056445191962]   |0         |\n",
            "|11823c5255dc7ec28e8a60ec7c079136e914a155c631474b6a6a2ac217335e34|[-1.830562004873477,1.2863353697184674,-0.07894465565288208]        |0         |\n",
            "|e7fbd81ffdc83686931bb800157063e78de9dabee0d1eb6b3885fb9658ab0c72|[-0.7824083382846667,0.42048110631362634,-0.13490259523775008]      |0         |\n",
            "|c35319ee2098f691c5c90e35bb7a68f5b679d3eab1f6b955f27bad71ee907ab8|[-3.6798756375717607,3.7888362620194953,-0.9123428571975936]        |3         |\n",
            "|586c34c75e5d16597cf974a34e2cba6720521a238971e4abf988b5c711adbfae|[-0.9768104631666614,1.3437048503088849,0.06589328432584225]        |0         |\n",
            "|81c8c9a7ae9605609e49964e73b022e02d6bbb9b5c69fa21edec9bbb177d459e|[-0.04527534080862793,0.02037268863847389,-0.06034044537823837]     |0         |\n",
            "|022e6af10b3c3d8783d21b2e5a70fcc8d8060a84a02f3f27a059fe9ea914928e|[-1.2152392196468067,2.5040153874397166,-1.1087999277035259]        |0         |\n",
            "|e4c430a26bd6a6fe48555c4e2bef6aabcd4b5797e3f59bed92e67be959a8404f|[-0.5059873094208531,0.1453883117062802,-0.18156257442216547]       |0         |\n",
            "|8aced64c96741dbeab4659f102f34c157189b3f7a63807d87bad5d8c663005cb|[-0.0016051395277402864,-0.0011242559089634648,3.154226808888292E-4]|0         |\n",
            "|aae1c3ee44ae601b177cfd7228a9bfd8b6115a77ec763ed77d1ecdcdfb916ff4|[-0.4680563214399482,0.25664774727029566,-0.1969934503483364]       |0         |\n",
            "|764970369c91e7192622133d5a0d2d093f20754730a99860c6f466c57d3fb58b|[-0.20486986118810485,-0.014601262198207503,0.05279844272381075]    |0         |\n",
            "|357f1386cf5b08c1c1d5ed06aab1739209e5521e44c8c88af9d51f762d1ef9d5|[-0.010659873802485058,5.233379805299268E-4,0.007528338491980369]   |0         |\n",
            "|ccc81727bfbc8b93202ad443d4c3c127899e44a2400b18200ab2543ed4713389|[-1.387796343851328,2.6984200935855083,-1.6966139452225486]         |0         |\n",
            "|796e50953823ed1e667edfb56792b8edf1c24e8cbf121e46eb0f226359f3a93d|[-0.016285590500955977,3.220620963215986E-4,0.009061640759422748]   |0         |\n",
            "|6397ee63ff5541a9f1b3d3ee93b180148a91e4788c855b158c2816aa45ff3aa3|[-0.6135047930769065,0.25390392505254766,0.2960533585138252]        |0         |\n",
            "|fd0d77b43b030358f16158118bcb371b662debf52837cece4d65626909e309af|[-0.039488529795117314,0.034169301698115453,-0.023536113631582038]  |0         |\n",
            "+----------------------------------------------------------------+--------------------------------------------------------------------+----------+\n",
            "only showing top 20 rows\n",
            "\n"
          ]
        }
      ]
    },
    {
      "cell_type": "markdown",
      "source": [
        "## PCA DF to Pandas df"
      ],
      "metadata": {
        "id": "iMHmqzBJhJwJ"
      }
    },
    {
      "cell_type": "code",
      "source": [
        "clusters = result.toPandas().set_index('user_id_music category')\n",
        "clusters.head(10)"
      ],
      "metadata": {
        "colab": {
          "base_uri": "https://localhost:8080/",
          "height": 567
        },
        "id": "FIvk2CP3hCpJ",
        "outputId": "3a9f966b-ba28-4ce2-d230-320dad5dc118"
      },
      "execution_count": 36,
      "outputs": [
        {
          "output_type": "execute_result",
          "data": {
            "text/plain": [
              "                                                                                         pca_features  \\\n",
              "user_id_music category                                                                                  \n",
              "f0aead442015795909760d6557c0ac7228a2b5beeedeb5d...  [-0.4292752500730784, 0.371696214465941, -0.07...   \n",
              "113e8bf3d09529d0cc246227019e26d4463a72820c29886...  [-4.3736310646886905, 1.5691189605286466, -0.0...   \n",
              "d20e466a7b1817e9efd791d9b80c87c8eeffe50f091ab7a...  [-0.6698144701036585, 0.22262413940175185, -0....   \n",
              "9b126a6f98cb8d162f56c4c6b19f0a56656bcd9a5227a68...  [-1.0987585365868786, 0.6834285979074631, -0.8...   \n",
              "87b0bba0e0cd5de24fa81ad84ada517eaef2390f0d189cd...  [-0.14748441025903347, 0.00045039230544986417,...   \n",
              "11823c5255dc7ec28e8a60ec7c079136e914a155c631474...  [-1.830562004873477, 1.2863353697184674, -0.07...   \n",
              "e7fbd81ffdc83686931bb800157063e78de9dabee0d1eb6...  [-0.7824083382846667, 0.42048110631362634, -0....   \n",
              "c35319ee2098f691c5c90e35bb7a68f5b679d3eab1f6b95...  [-3.6798756375717607, 3.7888362620194953, -0.9...   \n",
              "586c34c75e5d16597cf974a34e2cba6720521a238971e4a...  [-0.9768104631666614, 1.3437048503088849, 0.06...   \n",
              "81c8c9a7ae9605609e49964e73b022e02d6bbb9b5c69fa2...  [-0.04527534080862793, 0.02037268863847389, -0...   \n",
              "\n",
              "                                                    prediction  \n",
              "user_id_music category                                          \n",
              "f0aead442015795909760d6557c0ac7228a2b5beeedeb5d...           0  \n",
              "113e8bf3d09529d0cc246227019e26d4463a72820c29886...           3  \n",
              "d20e466a7b1817e9efd791d9b80c87c8eeffe50f091ab7a...           0  \n",
              "9b126a6f98cb8d162f56c4c6b19f0a56656bcd9a5227a68...           0  \n",
              "87b0bba0e0cd5de24fa81ad84ada517eaef2390f0d189cd...           0  \n",
              "11823c5255dc7ec28e8a60ec7c079136e914a155c631474...           0  \n",
              "e7fbd81ffdc83686931bb800157063e78de9dabee0d1eb6...           0  \n",
              "c35319ee2098f691c5c90e35bb7a68f5b679d3eab1f6b95...           3  \n",
              "586c34c75e5d16597cf974a34e2cba6720521a238971e4a...           0  \n",
              "81c8c9a7ae9605609e49964e73b022e02d6bbb9b5c69fa2...           0  "
            ],
            "text/html": [
              "\n",
              "  <div id=\"df-4c2f400d-667f-44c0-8ee0-45bfc4667310\" class=\"colab-df-container\">\n",
              "    <div>\n",
              "<style scoped>\n",
              "    .dataframe tbody tr th:only-of-type {\n",
              "        vertical-align: middle;\n",
              "    }\n",
              "\n",
              "    .dataframe tbody tr th {\n",
              "        vertical-align: top;\n",
              "    }\n",
              "\n",
              "    .dataframe thead th {\n",
              "        text-align: right;\n",
              "    }\n",
              "</style>\n",
              "<table border=\"1\" class=\"dataframe\">\n",
              "  <thead>\n",
              "    <tr style=\"text-align: right;\">\n",
              "      <th></th>\n",
              "      <th>pca_features</th>\n",
              "      <th>prediction</th>\n",
              "    </tr>\n",
              "    <tr>\n",
              "      <th>user_id_music category</th>\n",
              "      <th></th>\n",
              "      <th></th>\n",
              "    </tr>\n",
              "  </thead>\n",
              "  <tbody>\n",
              "    <tr>\n",
              "      <th>f0aead442015795909760d6557c0ac7228a2b5beeedeb5daf2de29040c528f22</th>\n",
              "      <td>[-0.4292752500730784, 0.371696214465941, -0.07...</td>\n",
              "      <td>0</td>\n",
              "    </tr>\n",
              "    <tr>\n",
              "      <th>113e8bf3d09529d0cc246227019e26d4463a72820c298864be6c651d29dcf6e4</th>\n",
              "      <td>[-4.3736310646886905, 1.5691189605286466, -0.0...</td>\n",
              "      <td>3</td>\n",
              "    </tr>\n",
              "    <tr>\n",
              "      <th>d20e466a7b1817e9efd791d9b80c87c8eeffe50f091ab7ad8206e7416f3defed</th>\n",
              "      <td>[-0.6698144701036585, 0.22262413940175185, -0....</td>\n",
              "      <td>0</td>\n",
              "    </tr>\n",
              "    <tr>\n",
              "      <th>9b126a6f98cb8d162f56c4c6b19f0a56656bcd9a5227a68406e6065f0a3b81e0</th>\n",
              "      <td>[-1.0987585365868786, 0.6834285979074631, -0.8...</td>\n",
              "      <td>0</td>\n",
              "    </tr>\n",
              "    <tr>\n",
              "      <th>87b0bba0e0cd5de24fa81ad84ada517eaef2390f0d189cd602dc5a6ba8a8f454</th>\n",
              "      <td>[-0.14748441025903347, 0.00045039230544986417,...</td>\n",
              "      <td>0</td>\n",
              "    </tr>\n",
              "    <tr>\n",
              "      <th>11823c5255dc7ec28e8a60ec7c079136e914a155c631474b6a6a2ac217335e34</th>\n",
              "      <td>[-1.830562004873477, 1.2863353697184674, -0.07...</td>\n",
              "      <td>0</td>\n",
              "    </tr>\n",
              "    <tr>\n",
              "      <th>e7fbd81ffdc83686931bb800157063e78de9dabee0d1eb6b3885fb9658ab0c72</th>\n",
              "      <td>[-0.7824083382846667, 0.42048110631362634, -0....</td>\n",
              "      <td>0</td>\n",
              "    </tr>\n",
              "    <tr>\n",
              "      <th>c35319ee2098f691c5c90e35bb7a68f5b679d3eab1f6b955f27bad71ee907ab8</th>\n",
              "      <td>[-3.6798756375717607, 3.7888362620194953, -0.9...</td>\n",
              "      <td>3</td>\n",
              "    </tr>\n",
              "    <tr>\n",
              "      <th>586c34c75e5d16597cf974a34e2cba6720521a238971e4abf988b5c711adbfae</th>\n",
              "      <td>[-0.9768104631666614, 1.3437048503088849, 0.06...</td>\n",
              "      <td>0</td>\n",
              "    </tr>\n",
              "    <tr>\n",
              "      <th>81c8c9a7ae9605609e49964e73b022e02d6bbb9b5c69fa21edec9bbb177d459e</th>\n",
              "      <td>[-0.04527534080862793, 0.02037268863847389, -0...</td>\n",
              "      <td>0</td>\n",
              "    </tr>\n",
              "  </tbody>\n",
              "</table>\n",
              "</div>\n",
              "    <div class=\"colab-df-buttons\">\n",
              "\n",
              "  <div class=\"colab-df-container\">\n",
              "    <button class=\"colab-df-convert\" onclick=\"convertToInteractive('df-4c2f400d-667f-44c0-8ee0-45bfc4667310')\"\n",
              "            title=\"Convert this dataframe to an interactive table.\"\n",
              "            style=\"display:none;\">\n",
              "\n",
              "  <svg xmlns=\"http://www.w3.org/2000/svg\" height=\"24px\" viewBox=\"0 -960 960 960\">\n",
              "    <path d=\"M120-120v-720h720v720H120Zm60-500h600v-160H180v160Zm220 220h160v-160H400v160Zm0 220h160v-160H400v160ZM180-400h160v-160H180v160Zm440 0h160v-160H620v160ZM180-180h160v-160H180v160Zm440 0h160v-160H620v160Z\"/>\n",
              "  </svg>\n",
              "    </button>\n",
              "\n",
              "  <style>\n",
              "    .colab-df-container {\n",
              "      display:flex;\n",
              "      gap: 12px;\n",
              "    }\n",
              "\n",
              "    .colab-df-convert {\n",
              "      background-color: #E8F0FE;\n",
              "      border: none;\n",
              "      border-radius: 50%;\n",
              "      cursor: pointer;\n",
              "      display: none;\n",
              "      fill: #1967D2;\n",
              "      height: 32px;\n",
              "      padding: 0 0 0 0;\n",
              "      width: 32px;\n",
              "    }\n",
              "\n",
              "    .colab-df-convert:hover {\n",
              "      background-color: #E2EBFA;\n",
              "      box-shadow: 0px 1px 2px rgba(60, 64, 67, 0.3), 0px 1px 3px 1px rgba(60, 64, 67, 0.15);\n",
              "      fill: #174EA6;\n",
              "    }\n",
              "\n",
              "    .colab-df-buttons div {\n",
              "      margin-bottom: 4px;\n",
              "    }\n",
              "\n",
              "    [theme=dark] .colab-df-convert {\n",
              "      background-color: #3B4455;\n",
              "      fill: #D2E3FC;\n",
              "    }\n",
              "\n",
              "    [theme=dark] .colab-df-convert:hover {\n",
              "      background-color: #434B5C;\n",
              "      box-shadow: 0px 1px 3px 1px rgba(0, 0, 0, 0.15);\n",
              "      filter: drop-shadow(0px 1px 2px rgba(0, 0, 0, 0.3));\n",
              "      fill: #FFFFFF;\n",
              "    }\n",
              "  </style>\n",
              "\n",
              "    <script>\n",
              "      const buttonEl =\n",
              "        document.querySelector('#df-4c2f400d-667f-44c0-8ee0-45bfc4667310 button.colab-df-convert');\n",
              "      buttonEl.style.display =\n",
              "        google.colab.kernel.accessAllowed ? 'block' : 'none';\n",
              "\n",
              "      async function convertToInteractive(key) {\n",
              "        const element = document.querySelector('#df-4c2f400d-667f-44c0-8ee0-45bfc4667310');\n",
              "        const dataTable =\n",
              "          await google.colab.kernel.invokeFunction('convertToInteractive',\n",
              "                                                    [key], {});\n",
              "        if (!dataTable) return;\n",
              "\n",
              "        const docLinkHtml = 'Like what you see? Visit the ' +\n",
              "          '<a target=\"_blank\" href=https://colab.research.google.com/notebooks/data_table.ipynb>data table notebook</a>'\n",
              "          + ' to learn more about interactive tables.';\n",
              "        element.innerHTML = '';\n",
              "        dataTable['output_type'] = 'display_data';\n",
              "        await google.colab.output.renderOutput(dataTable, element);\n",
              "        const docLink = document.createElement('div');\n",
              "        docLink.innerHTML = docLinkHtml;\n",
              "        element.appendChild(docLink);\n",
              "      }\n",
              "    </script>\n",
              "  </div>\n",
              "\n",
              "\n",
              "<div id=\"df-b15c8e75-fd8a-4924-8922-8697e2ad3e49\">\n",
              "  <button class=\"colab-df-quickchart\" onclick=\"quickchart('df-b15c8e75-fd8a-4924-8922-8697e2ad3e49')\"\n",
              "            title=\"Suggest charts\"\n",
              "            style=\"display:none;\">\n",
              "\n",
              "<svg xmlns=\"http://www.w3.org/2000/svg\" height=\"24px\"viewBox=\"0 0 24 24\"\n",
              "     width=\"24px\">\n",
              "    <g>\n",
              "        <path d=\"M19 3H5c-1.1 0-2 .9-2 2v14c0 1.1.9 2 2 2h14c1.1 0 2-.9 2-2V5c0-1.1-.9-2-2-2zM9 17H7v-7h2v7zm4 0h-2V7h2v10zm4 0h-2v-4h2v4z\"/>\n",
              "    </g>\n",
              "</svg>\n",
              "  </button>\n",
              "\n",
              "<style>\n",
              "  .colab-df-quickchart {\n",
              "      --bg-color: #E8F0FE;\n",
              "      --fill-color: #1967D2;\n",
              "      --hover-bg-color: #E2EBFA;\n",
              "      --hover-fill-color: #174EA6;\n",
              "      --disabled-fill-color: #AAA;\n",
              "      --disabled-bg-color: #DDD;\n",
              "  }\n",
              "\n",
              "  [theme=dark] .colab-df-quickchart {\n",
              "      --bg-color: #3B4455;\n",
              "      --fill-color: #D2E3FC;\n",
              "      --hover-bg-color: #434B5C;\n",
              "      --hover-fill-color: #FFFFFF;\n",
              "      --disabled-bg-color: #3B4455;\n",
              "      --disabled-fill-color: #666;\n",
              "  }\n",
              "\n",
              "  .colab-df-quickchart {\n",
              "    background-color: var(--bg-color);\n",
              "    border: none;\n",
              "    border-radius: 50%;\n",
              "    cursor: pointer;\n",
              "    display: none;\n",
              "    fill: var(--fill-color);\n",
              "    height: 32px;\n",
              "    padding: 0;\n",
              "    width: 32px;\n",
              "  }\n",
              "\n",
              "  .colab-df-quickchart:hover {\n",
              "    background-color: var(--hover-bg-color);\n",
              "    box-shadow: 0 1px 2px rgba(60, 64, 67, 0.3), 0 1px 3px 1px rgba(60, 64, 67, 0.15);\n",
              "    fill: var(--button-hover-fill-color);\n",
              "  }\n",
              "\n",
              "  .colab-df-quickchart-complete:disabled,\n",
              "  .colab-df-quickchart-complete:disabled:hover {\n",
              "    background-color: var(--disabled-bg-color);\n",
              "    fill: var(--disabled-fill-color);\n",
              "    box-shadow: none;\n",
              "  }\n",
              "\n",
              "  .colab-df-spinner {\n",
              "    border: 2px solid var(--fill-color);\n",
              "    border-color: transparent;\n",
              "    border-bottom-color: var(--fill-color);\n",
              "    animation:\n",
              "      spin 1s steps(1) infinite;\n",
              "  }\n",
              "\n",
              "  @keyframes spin {\n",
              "    0% {\n",
              "      border-color: transparent;\n",
              "      border-bottom-color: var(--fill-color);\n",
              "      border-left-color: var(--fill-color);\n",
              "    }\n",
              "    20% {\n",
              "      border-color: transparent;\n",
              "      border-left-color: var(--fill-color);\n",
              "      border-top-color: var(--fill-color);\n",
              "    }\n",
              "    30% {\n",
              "      border-color: transparent;\n",
              "      border-left-color: var(--fill-color);\n",
              "      border-top-color: var(--fill-color);\n",
              "      border-right-color: var(--fill-color);\n",
              "    }\n",
              "    40% {\n",
              "      border-color: transparent;\n",
              "      border-right-color: var(--fill-color);\n",
              "      border-top-color: var(--fill-color);\n",
              "    }\n",
              "    60% {\n",
              "      border-color: transparent;\n",
              "      border-right-color: var(--fill-color);\n",
              "    }\n",
              "    80% {\n",
              "      border-color: transparent;\n",
              "      border-right-color: var(--fill-color);\n",
              "      border-bottom-color: var(--fill-color);\n",
              "    }\n",
              "    90% {\n",
              "      border-color: transparent;\n",
              "      border-bottom-color: var(--fill-color);\n",
              "    }\n",
              "  }\n",
              "</style>\n",
              "\n",
              "  <script>\n",
              "    async function quickchart(key) {\n",
              "      const quickchartButtonEl =\n",
              "        document.querySelector('#' + key + ' button');\n",
              "      quickchartButtonEl.disabled = true;  // To prevent multiple clicks.\n",
              "      quickchartButtonEl.classList.add('colab-df-spinner');\n",
              "      try {\n",
              "        const charts = await google.colab.kernel.invokeFunction(\n",
              "            'suggestCharts', [key], {});\n",
              "      } catch (error) {\n",
              "        console.error('Error during call to suggestCharts:', error);\n",
              "      }\n",
              "      quickchartButtonEl.classList.remove('colab-df-spinner');\n",
              "      quickchartButtonEl.classList.add('colab-df-quickchart-complete');\n",
              "    }\n",
              "    (() => {\n",
              "      let quickchartButtonEl =\n",
              "        document.querySelector('#df-b15c8e75-fd8a-4924-8922-8697e2ad3e49 button');\n",
              "      quickchartButtonEl.style.display =\n",
              "        google.colab.kernel.accessAllowed ? 'block' : 'none';\n",
              "    })();\n",
              "  </script>\n",
              "</div>\n",
              "\n",
              "    </div>\n",
              "  </div>\n"
            ],
            "application/vnd.google.colaboratory.intrinsic+json": {
              "type": "dataframe",
              "variable_name": "clusters",
              "summary": "{\n  \"name\": \"clusters\",\n  \"rows\": 775,\n  \"fields\": [\n    {\n      \"column\": \"user_id_music category\",\n      \"properties\": {\n        \"dtype\": \"string\",\n        \"num_unique_values\": 775,\n        \"samples\": [\n          \"2801fb8dabcd10dcb5ea787cad728139939458f0956f0329c594b0effcb6b739\",\n          \"6fc60f1ddffb06ea962f3a279d4848fa41d6e96814f2fa2c44db896a0b8aa626\",\n          \"fc2148fc508076b81146cae96933ee640a86af95f8b55e4020c8005cf090e91d\"\n        ],\n        \"semantic_type\": \"\",\n        \"description\": \"\"\n      }\n    },\n    {\n      \"column\": \"pca_features\",\n      \"properties\": {\n        \"dtype\": \"string\",\n        \"num_unique_values\": 765,\n        \"samples\": [\n          \"[-0.05768720114314846,0.03821811669186636,-0.03336493434525209]\",\n          \"[-0.0986258241762137,0.20703154119489622,-0.07524383487938237]\",\n          \"[-0.2699417625210264,-0.1816336365505401,-0.13888592665932303]\"\n        ],\n        \"semantic_type\": \"\",\n        \"description\": \"\"\n      }\n    },\n    {\n      \"column\": \"prediction\",\n      \"properties\": {\n        \"dtype\": \"int32\",\n        \"num_unique_values\": 6,\n        \"samples\": [\n          0,\n          3,\n          4\n        ],\n        \"semantic_type\": \"\",\n        \"description\": \"\"\n      }\n    }\n  ]\n}"
            }
          },
          "metadata": {},
          "execution_count": 36
        }
      ]
    },
    {
      "cell_type": "code",
      "source": [
        "clusters[['x','y','z']] = pd.DataFrame(clusters.pca_features.values.tolist(), index=clusters.index)\n",
        "del clusters['pca_features']\n",
        "clusters.head(10)"
      ],
      "metadata": {
        "colab": {
          "base_uri": "https://localhost:8080/",
          "height": 414
        },
        "id": "FpfQ3yophkuj",
        "outputId": "6f9258a0-aefa-4912-ab3a-126d97ad4670"
      },
      "execution_count": 37,
      "outputs": [
        {
          "output_type": "execute_result",
          "data": {
            "text/plain": [
              "                                                    prediction         x  \\\n",
              "user_id_music category                                                     \n",
              "f0aead442015795909760d6557c0ac7228a2b5beeedeb5d...           0 -0.429275   \n",
              "113e8bf3d09529d0cc246227019e26d4463a72820c29886...           3 -4.373631   \n",
              "d20e466a7b1817e9efd791d9b80c87c8eeffe50f091ab7a...           0 -0.669814   \n",
              "9b126a6f98cb8d162f56c4c6b19f0a56656bcd9a5227a68...           0 -1.098759   \n",
              "87b0bba0e0cd5de24fa81ad84ada517eaef2390f0d189cd...           0 -0.147484   \n",
              "11823c5255dc7ec28e8a60ec7c079136e914a155c631474...           0 -1.830562   \n",
              "e7fbd81ffdc83686931bb800157063e78de9dabee0d1eb6...           0 -0.782408   \n",
              "c35319ee2098f691c5c90e35bb7a68f5b679d3eab1f6b95...           3 -3.679876   \n",
              "586c34c75e5d16597cf974a34e2cba6720521a238971e4a...           0 -0.976810   \n",
              "81c8c9a7ae9605609e49964e73b022e02d6bbb9b5c69fa2...           0 -0.045275   \n",
              "\n",
              "                                                           y         z  \n",
              "user_id_music category                                                  \n",
              "f0aead442015795909760d6557c0ac7228a2b5beeedeb5d...  0.371696 -0.076727  \n",
              "113e8bf3d09529d0cc246227019e26d4463a72820c29886...  1.569119 -0.082755  \n",
              "d20e466a7b1817e9efd791d9b80c87c8eeffe50f091ab7a...  0.222624 -0.141081  \n",
              "9b126a6f98cb8d162f56c4c6b19f0a56656bcd9a5227a68...  0.683429 -0.821131  \n",
              "87b0bba0e0cd5de24fa81ad84ada517eaef2390f0d189cd...  0.000450 -0.057861  \n",
              "11823c5255dc7ec28e8a60ec7c079136e914a155c631474...  1.286335 -0.078945  \n",
              "e7fbd81ffdc83686931bb800157063e78de9dabee0d1eb6...  0.420481 -0.134903  \n",
              "c35319ee2098f691c5c90e35bb7a68f5b679d3eab1f6b95...  3.788836 -0.912343  \n",
              "586c34c75e5d16597cf974a34e2cba6720521a238971e4a...  1.343705  0.065893  \n",
              "81c8c9a7ae9605609e49964e73b022e02d6bbb9b5c69fa2...  0.020373 -0.060340  "
            ],
            "text/html": [
              "\n",
              "  <div id=\"df-81c42ac7-34cb-4007-9af2-428be137d60b\" class=\"colab-df-container\">\n",
              "    <div>\n",
              "<style scoped>\n",
              "    .dataframe tbody tr th:only-of-type {\n",
              "        vertical-align: middle;\n",
              "    }\n",
              "\n",
              "    .dataframe tbody tr th {\n",
              "        vertical-align: top;\n",
              "    }\n",
              "\n",
              "    .dataframe thead th {\n",
              "        text-align: right;\n",
              "    }\n",
              "</style>\n",
              "<table border=\"1\" class=\"dataframe\">\n",
              "  <thead>\n",
              "    <tr style=\"text-align: right;\">\n",
              "      <th></th>\n",
              "      <th>prediction</th>\n",
              "      <th>x</th>\n",
              "      <th>y</th>\n",
              "      <th>z</th>\n",
              "    </tr>\n",
              "    <tr>\n",
              "      <th>user_id_music category</th>\n",
              "      <th></th>\n",
              "      <th></th>\n",
              "      <th></th>\n",
              "      <th></th>\n",
              "    </tr>\n",
              "  </thead>\n",
              "  <tbody>\n",
              "    <tr>\n",
              "      <th>f0aead442015795909760d6557c0ac7228a2b5beeedeb5daf2de29040c528f22</th>\n",
              "      <td>0</td>\n",
              "      <td>-0.429275</td>\n",
              "      <td>0.371696</td>\n",
              "      <td>-0.076727</td>\n",
              "    </tr>\n",
              "    <tr>\n",
              "      <th>113e8bf3d09529d0cc246227019e26d4463a72820c298864be6c651d29dcf6e4</th>\n",
              "      <td>3</td>\n",
              "      <td>-4.373631</td>\n",
              "      <td>1.569119</td>\n",
              "      <td>-0.082755</td>\n",
              "    </tr>\n",
              "    <tr>\n",
              "      <th>d20e466a7b1817e9efd791d9b80c87c8eeffe50f091ab7ad8206e7416f3defed</th>\n",
              "      <td>0</td>\n",
              "      <td>-0.669814</td>\n",
              "      <td>0.222624</td>\n",
              "      <td>-0.141081</td>\n",
              "    </tr>\n",
              "    <tr>\n",
              "      <th>9b126a6f98cb8d162f56c4c6b19f0a56656bcd9a5227a68406e6065f0a3b81e0</th>\n",
              "      <td>0</td>\n",
              "      <td>-1.098759</td>\n",
              "      <td>0.683429</td>\n",
              "      <td>-0.821131</td>\n",
              "    </tr>\n",
              "    <tr>\n",
              "      <th>87b0bba0e0cd5de24fa81ad84ada517eaef2390f0d189cd602dc5a6ba8a8f454</th>\n",
              "      <td>0</td>\n",
              "      <td>-0.147484</td>\n",
              "      <td>0.000450</td>\n",
              "      <td>-0.057861</td>\n",
              "    </tr>\n",
              "    <tr>\n",
              "      <th>11823c5255dc7ec28e8a60ec7c079136e914a155c631474b6a6a2ac217335e34</th>\n",
              "      <td>0</td>\n",
              "      <td>-1.830562</td>\n",
              "      <td>1.286335</td>\n",
              "      <td>-0.078945</td>\n",
              "    </tr>\n",
              "    <tr>\n",
              "      <th>e7fbd81ffdc83686931bb800157063e78de9dabee0d1eb6b3885fb9658ab0c72</th>\n",
              "      <td>0</td>\n",
              "      <td>-0.782408</td>\n",
              "      <td>0.420481</td>\n",
              "      <td>-0.134903</td>\n",
              "    </tr>\n",
              "    <tr>\n",
              "      <th>c35319ee2098f691c5c90e35bb7a68f5b679d3eab1f6b955f27bad71ee907ab8</th>\n",
              "      <td>3</td>\n",
              "      <td>-3.679876</td>\n",
              "      <td>3.788836</td>\n",
              "      <td>-0.912343</td>\n",
              "    </tr>\n",
              "    <tr>\n",
              "      <th>586c34c75e5d16597cf974a34e2cba6720521a238971e4abf988b5c711adbfae</th>\n",
              "      <td>0</td>\n",
              "      <td>-0.976810</td>\n",
              "      <td>1.343705</td>\n",
              "      <td>0.065893</td>\n",
              "    </tr>\n",
              "    <tr>\n",
              "      <th>81c8c9a7ae9605609e49964e73b022e02d6bbb9b5c69fa21edec9bbb177d459e</th>\n",
              "      <td>0</td>\n",
              "      <td>-0.045275</td>\n",
              "      <td>0.020373</td>\n",
              "      <td>-0.060340</td>\n",
              "    </tr>\n",
              "  </tbody>\n",
              "</table>\n",
              "</div>\n",
              "    <div class=\"colab-df-buttons\">\n",
              "\n",
              "  <div class=\"colab-df-container\">\n",
              "    <button class=\"colab-df-convert\" onclick=\"convertToInteractive('df-81c42ac7-34cb-4007-9af2-428be137d60b')\"\n",
              "            title=\"Convert this dataframe to an interactive table.\"\n",
              "            style=\"display:none;\">\n",
              "\n",
              "  <svg xmlns=\"http://www.w3.org/2000/svg\" height=\"24px\" viewBox=\"0 -960 960 960\">\n",
              "    <path d=\"M120-120v-720h720v720H120Zm60-500h600v-160H180v160Zm220 220h160v-160H400v160Zm0 220h160v-160H400v160ZM180-400h160v-160H180v160Zm440 0h160v-160H620v160ZM180-180h160v-160H180v160Zm440 0h160v-160H620v160Z\"/>\n",
              "  </svg>\n",
              "    </button>\n",
              "\n",
              "  <style>\n",
              "    .colab-df-container {\n",
              "      display:flex;\n",
              "      gap: 12px;\n",
              "    }\n",
              "\n",
              "    .colab-df-convert {\n",
              "      background-color: #E8F0FE;\n",
              "      border: none;\n",
              "      border-radius: 50%;\n",
              "      cursor: pointer;\n",
              "      display: none;\n",
              "      fill: #1967D2;\n",
              "      height: 32px;\n",
              "      padding: 0 0 0 0;\n",
              "      width: 32px;\n",
              "    }\n",
              "\n",
              "    .colab-df-convert:hover {\n",
              "      background-color: #E2EBFA;\n",
              "      box-shadow: 0px 1px 2px rgba(60, 64, 67, 0.3), 0px 1px 3px 1px rgba(60, 64, 67, 0.15);\n",
              "      fill: #174EA6;\n",
              "    }\n",
              "\n",
              "    .colab-df-buttons div {\n",
              "      margin-bottom: 4px;\n",
              "    }\n",
              "\n",
              "    [theme=dark] .colab-df-convert {\n",
              "      background-color: #3B4455;\n",
              "      fill: #D2E3FC;\n",
              "    }\n",
              "\n",
              "    [theme=dark] .colab-df-convert:hover {\n",
              "      background-color: #434B5C;\n",
              "      box-shadow: 0px 1px 3px 1px rgba(0, 0, 0, 0.15);\n",
              "      filter: drop-shadow(0px 1px 2px rgba(0, 0, 0, 0.3));\n",
              "      fill: #FFFFFF;\n",
              "    }\n",
              "  </style>\n",
              "\n",
              "    <script>\n",
              "      const buttonEl =\n",
              "        document.querySelector('#df-81c42ac7-34cb-4007-9af2-428be137d60b button.colab-df-convert');\n",
              "      buttonEl.style.display =\n",
              "        google.colab.kernel.accessAllowed ? 'block' : 'none';\n",
              "\n",
              "      async function convertToInteractive(key) {\n",
              "        const element = document.querySelector('#df-81c42ac7-34cb-4007-9af2-428be137d60b');\n",
              "        const dataTable =\n",
              "          await google.colab.kernel.invokeFunction('convertToInteractive',\n",
              "                                                    [key], {});\n",
              "        if (!dataTable) return;\n",
              "\n",
              "        const docLinkHtml = 'Like what you see? Visit the ' +\n",
              "          '<a target=\"_blank\" href=https://colab.research.google.com/notebooks/data_table.ipynb>data table notebook</a>'\n",
              "          + ' to learn more about interactive tables.';\n",
              "        element.innerHTML = '';\n",
              "        dataTable['output_type'] = 'display_data';\n",
              "        await google.colab.output.renderOutput(dataTable, element);\n",
              "        const docLink = document.createElement('div');\n",
              "        docLink.innerHTML = docLinkHtml;\n",
              "        element.appendChild(docLink);\n",
              "      }\n",
              "    </script>\n",
              "  </div>\n",
              "\n",
              "\n",
              "<div id=\"df-8e6964a2-c2d0-454e-9952-c667d1aef601\">\n",
              "  <button class=\"colab-df-quickchart\" onclick=\"quickchart('df-8e6964a2-c2d0-454e-9952-c667d1aef601')\"\n",
              "            title=\"Suggest charts\"\n",
              "            style=\"display:none;\">\n",
              "\n",
              "<svg xmlns=\"http://www.w3.org/2000/svg\" height=\"24px\"viewBox=\"0 0 24 24\"\n",
              "     width=\"24px\">\n",
              "    <g>\n",
              "        <path d=\"M19 3H5c-1.1 0-2 .9-2 2v14c0 1.1.9 2 2 2h14c1.1 0 2-.9 2-2V5c0-1.1-.9-2-2-2zM9 17H7v-7h2v7zm4 0h-2V7h2v10zm4 0h-2v-4h2v4z\"/>\n",
              "    </g>\n",
              "</svg>\n",
              "  </button>\n",
              "\n",
              "<style>\n",
              "  .colab-df-quickchart {\n",
              "      --bg-color: #E8F0FE;\n",
              "      --fill-color: #1967D2;\n",
              "      --hover-bg-color: #E2EBFA;\n",
              "      --hover-fill-color: #174EA6;\n",
              "      --disabled-fill-color: #AAA;\n",
              "      --disabled-bg-color: #DDD;\n",
              "  }\n",
              "\n",
              "  [theme=dark] .colab-df-quickchart {\n",
              "      --bg-color: #3B4455;\n",
              "      --fill-color: #D2E3FC;\n",
              "      --hover-bg-color: #434B5C;\n",
              "      --hover-fill-color: #FFFFFF;\n",
              "      --disabled-bg-color: #3B4455;\n",
              "      --disabled-fill-color: #666;\n",
              "  }\n",
              "\n",
              "  .colab-df-quickchart {\n",
              "    background-color: var(--bg-color);\n",
              "    border: none;\n",
              "    border-radius: 50%;\n",
              "    cursor: pointer;\n",
              "    display: none;\n",
              "    fill: var(--fill-color);\n",
              "    height: 32px;\n",
              "    padding: 0;\n",
              "    width: 32px;\n",
              "  }\n",
              "\n",
              "  .colab-df-quickchart:hover {\n",
              "    background-color: var(--hover-bg-color);\n",
              "    box-shadow: 0 1px 2px rgba(60, 64, 67, 0.3), 0 1px 3px 1px rgba(60, 64, 67, 0.15);\n",
              "    fill: var(--button-hover-fill-color);\n",
              "  }\n",
              "\n",
              "  .colab-df-quickchart-complete:disabled,\n",
              "  .colab-df-quickchart-complete:disabled:hover {\n",
              "    background-color: var(--disabled-bg-color);\n",
              "    fill: var(--disabled-fill-color);\n",
              "    box-shadow: none;\n",
              "  }\n",
              "\n",
              "  .colab-df-spinner {\n",
              "    border: 2px solid var(--fill-color);\n",
              "    border-color: transparent;\n",
              "    border-bottom-color: var(--fill-color);\n",
              "    animation:\n",
              "      spin 1s steps(1) infinite;\n",
              "  }\n",
              "\n",
              "  @keyframes spin {\n",
              "    0% {\n",
              "      border-color: transparent;\n",
              "      border-bottom-color: var(--fill-color);\n",
              "      border-left-color: var(--fill-color);\n",
              "    }\n",
              "    20% {\n",
              "      border-color: transparent;\n",
              "      border-left-color: var(--fill-color);\n",
              "      border-top-color: var(--fill-color);\n",
              "    }\n",
              "    30% {\n",
              "      border-color: transparent;\n",
              "      border-left-color: var(--fill-color);\n",
              "      border-top-color: var(--fill-color);\n",
              "      border-right-color: var(--fill-color);\n",
              "    }\n",
              "    40% {\n",
              "      border-color: transparent;\n",
              "      border-right-color: var(--fill-color);\n",
              "      border-top-color: var(--fill-color);\n",
              "    }\n",
              "    60% {\n",
              "      border-color: transparent;\n",
              "      border-right-color: var(--fill-color);\n",
              "    }\n",
              "    80% {\n",
              "      border-color: transparent;\n",
              "      border-right-color: var(--fill-color);\n",
              "      border-bottom-color: var(--fill-color);\n",
              "    }\n",
              "    90% {\n",
              "      border-color: transparent;\n",
              "      border-bottom-color: var(--fill-color);\n",
              "    }\n",
              "  }\n",
              "</style>\n",
              "\n",
              "  <script>\n",
              "    async function quickchart(key) {\n",
              "      const quickchartButtonEl =\n",
              "        document.querySelector('#' + key + ' button');\n",
              "      quickchartButtonEl.disabled = true;  // To prevent multiple clicks.\n",
              "      quickchartButtonEl.classList.add('colab-df-spinner');\n",
              "      try {\n",
              "        const charts = await google.colab.kernel.invokeFunction(\n",
              "            'suggestCharts', [key], {});\n",
              "      } catch (error) {\n",
              "        console.error('Error during call to suggestCharts:', error);\n",
              "      }\n",
              "      quickchartButtonEl.classList.remove('colab-df-spinner');\n",
              "      quickchartButtonEl.classList.add('colab-df-quickchart-complete');\n",
              "    }\n",
              "    (() => {\n",
              "      let quickchartButtonEl =\n",
              "        document.querySelector('#df-8e6964a2-c2d0-454e-9952-c667d1aef601 button');\n",
              "      quickchartButtonEl.style.display =\n",
              "        google.colab.kernel.accessAllowed ? 'block' : 'none';\n",
              "    })();\n",
              "  </script>\n",
              "</div>\n",
              "\n",
              "    </div>\n",
              "  </div>\n"
            ],
            "application/vnd.google.colaboratory.intrinsic+json": {
              "type": "dataframe",
              "variable_name": "clusters",
              "summary": "{\n  \"name\": \"clusters\",\n  \"rows\": 775,\n  \"fields\": [\n    {\n      \"column\": \"user_id_music category\",\n      \"properties\": {\n        \"dtype\": \"string\",\n        \"num_unique_values\": 775,\n        \"samples\": [\n          \"2801fb8dabcd10dcb5ea787cad728139939458f0956f0329c594b0effcb6b739\",\n          \"6fc60f1ddffb06ea962f3a279d4848fa41d6e96814f2fa2c44db896a0b8aa626\",\n          \"fc2148fc508076b81146cae96933ee640a86af95f8b55e4020c8005cf090e91d\"\n        ],\n        \"semantic_type\": \"\",\n        \"description\": \"\"\n      }\n    },\n    {\n      \"column\": \"prediction\",\n      \"properties\": {\n        \"dtype\": \"int32\",\n        \"num_unique_values\": 6,\n        \"samples\": [\n          0,\n          3,\n          4\n        ],\n        \"semantic_type\": \"\",\n        \"description\": \"\"\n      }\n    },\n    {\n      \"column\": \"x\",\n      \"properties\": {\n        \"dtype\": \"number\",\n        \"std\": 2.609363880183429,\n        \"min\": -30.37758897359304,\n        \"max\": -0.0007065526152539852,\n        \"num_unique_values\": 765,\n        \"samples\": [\n          -0.05768720114314846,\n          -0.0986258241762137,\n          -0.2699417625210264\n        ],\n        \"semantic_type\": \"\",\n        \"description\": \"\"\n      }\n    },\n    {\n      \"column\": \"y\",\n      \"properties\": {\n        \"dtype\": \"number\",\n        \"std\": 1.3848409105343902,\n        \"min\": -11.10590906858632,\n        \"max\": 19.062211223300302,\n        \"num_unique_values\": 765,\n        \"samples\": [\n          0.03821811669186636,\n          0.20703154119489622,\n          -0.1816336365505401\n        ],\n        \"semantic_type\": \"\",\n        \"description\": \"\"\n      }\n    },\n    {\n      \"column\": \"z\",\n      \"properties\": {\n        \"dtype\": \"number\",\n        \"std\": 1.0965623625984893,\n        \"min\": -13.182453663957254,\n        \"max\": 8.395758901957402,\n        \"num_unique_values\": 765,\n        \"samples\": [\n          -0.03336493434525209,\n          -0.07524383487938237,\n          -0.13888592665932303\n        ],\n        \"semantic_type\": \"\",\n        \"description\": \"\"\n      }\n    }\n  ]\n}"
            }
          },
          "metadata": {},
          "execution_count": 37
        }
      ]
    },
    {
      "cell_type": "code",
      "source": [
        "from mpl_toolkits.mplot3d import Axes3D\n",
        "\n",
        "# Create a figure\n",
        "fig = plt.figure(figsize=(5, 5))\n",
        "\n",
        "# Add a 3D subplot\n",
        "cluster_vis = fig.add_subplot(111, projection='3d')\n",
        "\n",
        "# Scatter plot\n",
        "cluster_vis.scatter(clusters.x, clusters.y, clusters.z, c=clusters.prediction)\n",
        "\n",
        "# Setting labels\n",
        "cluster_vis.set_xlabel('X')\n",
        "cluster_vis.set_ylabel('Y')\n",
        "cluster_vis.set_zlabel('Z')\n",
        "\n",
        "# Show the plot\n",
        "plt.show()"
      ],
      "metadata": {
        "colab": {
          "base_uri": "https://localhost:8080/",
          "height": 430
        },
        "id": "E48e_yn9iYaa",
        "outputId": "a4a37631-3716-4478-eb91-7afdab47c121"
      },
      "execution_count": 41,
      "outputs": [
        {
          "output_type": "display_data",
          "data": {
            "text/plain": [
              "<Figure size 500x500 with 1 Axes>"
            ],
            "image/png": "[encoded data removed]"
          },
          "metadata": {}
        }
      ]
    },
    {
      "cell_type": "code",
      "source": [],
      "metadata": {
        "id": "LHjd3vzojLCx"
      },
      "execution_count": null,
      "outputs": []
    }
  ]
}
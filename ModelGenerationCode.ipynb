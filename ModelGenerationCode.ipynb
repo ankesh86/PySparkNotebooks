{
  "cells": [
    {
      "cell_type": "markdown",
      "metadata": {
        "id": "view-in-github",
        "colab_type": "text"
      },
      "source": [
        "<a href=\"https://colab.research.google.com/github/ankesh86/PySparkNotebooks/blob/main/ModelGenerationCode.ipynb\" target=\"_parent\"><img src=\"https://colab.research.google.com/assets/colab-badge.svg\" alt=\"Open In Colab\"/></a>"
      ]
    },
    {
      "cell_type": "code",
      "source": [
        "!pip install pyspark==3.4.0"
      ],
      "metadata": {
        "colab": {
          "base_uri": "https://localhost:8080/"
        },
        "id": "3do6YsoV8M3d",
        "outputId": "f939f39e-0209-4d67-8187-0fcf53924101"
      },
      "execution_count": 1,
      "outputs": [
        {
          "output_type": "stream",
          "name": "stdout",
          "text": [
            "Collecting pyspark==3.4.0\n",
            "  Downloading pyspark-3.4.0.tar.gz (310.8 MB)\n",
            "\u001b[2K     \u001b[90m━━━━━━━━━━━━━━━━━━━━━━━━━━━━━━━━━━━━━━━━\u001b[0m \u001b[32m310.8/310.8 MB\u001b[0m \u001b[31m1.8 MB/s\u001b[0m eta \u001b[36m0:00:00\u001b[0m\n",
            "\u001b[?25h  Preparing metadata (setup.py) ... \u001b[?25l\u001b[?25hdone\n",
            "Requirement already satisfied: py4j==0.10.9.7 in /usr/local/lib/python3.10/dist-packages (from pyspark==3.4.0) (0.10.9.7)\n",
            "Building wheels for collected packages: pyspark\n",
            "  Building wheel for pyspark (setup.py) ... \u001b[?25l\u001b[?25hdone\n",
            "  Created wheel for pyspark: filename=pyspark-3.4.0-py2.py3-none-any.whl size=311317122 sha256=d8fa83fe335d4d5054388fcf548c8654094f999c67584fd99b275c9670f738ad\n",
            "  Stored in directory: /root/.cache/pip/wheels/7b/1b/4b/3363a1d04368e7ff0d408e57ff57966fcdf00583774e761327\n",
            "Successfully built pyspark\n",
            "Installing collected packages: pyspark\n",
            "Successfully installed pyspark-3.4.0\n"
          ]
        }
      ]
    },
    {
      "cell_type": "code",
      "execution_count": 6,
      "metadata": {
        "application/vnd.databricks.v1+cell": {
          "cellMetadata": {
            "byteLimit": 2048000,
            "rowLimit": 10000
          },
          "inputWidgets": {},
          "nuid": "03a7185a-f469-49b2-aec9-820adc7c60d2",
          "showTitle": false,
          "title": ""
        },
        "id": "RzyH-CX88KTy"
      },
      "outputs": [],
      "source": [
        "#load data\n",
        "filename = 'sample_data/bank-full.csv'\n",
        "target_variable_name = \"y\""
      ]
    },
    {
      "cell_type": "markdown",
      "metadata": {
        "application/vnd.databricks.v1+cell": {
          "cellMetadata": {},
          "inputWidgets": {},
          "nuid": "6103dd74-c7aa-43ad-83ce-6b7fb1cb8a23",
          "showTitle": false,
          "title": ""
        },
        "id": "anMV3idz8KTz"
      },
      "source": [
        "## load datasets"
      ]
    },
    {
      "cell_type": "code",
      "execution_count": 7,
      "metadata": {
        "application/vnd.databricks.v1+cell": {
          "cellMetadata": {
            "byteLimit": 2048000,
            "rowLimit": 10000
          },
          "inputWidgets": {},
          "nuid": "275ff34d-1bf9-49e0-9836-e91337922aed",
          "showTitle": false,
          "title": ""
        },
        "colab": {
          "base_uri": "https://localhost:8080/"
        },
        "id": "6Wgmq-xE8KT0",
        "outputId": "e85c88ba-a95f-4f23-ce0d-fb687dfb12c0"
      },
      "outputs": [
        {
          "output_type": "stream",
          "name": "stdout",
          "text": [
            "+---+------------+--------+---------+-------+-------+-------+----+-------+---+-----+--------+--------+-----+--------+--------+---+\n",
            "|age|         job| marital|education|default|balance|housing|loan|contact|day|month|duration|campaign|pdays|previous|poutcome|  y|\n",
            "+---+------------+--------+---------+-------+-------+-------+----+-------+---+-----+--------+--------+-----+--------+--------+---+\n",
            "| 58|  management| married| tertiary|     no|   2143|    yes|  no|unknown|  5|  may|     261|       1|   -1|       0| unknown| no|\n",
            "| 44|  technician|  single|secondary|     no|     29|    yes|  no|unknown|  5|  may|     151|       1|   -1|       0| unknown| no|\n",
            "| 33|entrepreneur| married|secondary|     no|      2|    yes| yes|unknown|  5|  may|      76|       1|   -1|       0| unknown| no|\n",
            "| 47| blue-collar| married|  unknown|     no|   1506|    yes|  no|unknown|  5|  may|      92|       1|   -1|       0| unknown| no|\n",
            "| 33|     unknown|  single|  unknown|     no|      1|     no|  no|unknown|  5|  may|     198|       1|   -1|       0| unknown| no|\n",
            "| 35|  management| married| tertiary|     no|    231|    yes|  no|unknown|  5|  may|     139|       1|   -1|       0| unknown| no|\n",
            "| 28|  management|  single| tertiary|     no|    447|    yes| yes|unknown|  5|  may|     217|       1|   -1|       0| unknown| no|\n",
            "| 42|entrepreneur|divorced| tertiary|    yes|      2|    yes|  no|unknown|  5|  may|     380|       1|   -1|       0| unknown| no|\n",
            "| 58|     retired| married|  primary|     no|    121|    yes|  no|unknown|  5|  may|      50|       1|   -1|       0| unknown| no|\n",
            "| 43|  technician|  single|secondary|     no|    593|    yes|  no|unknown|  5|  may|      55|       1|   -1|       0| unknown| no|\n",
            "| 41|      admin.|divorced|secondary|     no|    270|    yes|  no|unknown|  5|  may|     222|       1|   -1|       0| unknown| no|\n",
            "| 29|      admin.|  single|secondary|     no|    390|    yes|  no|unknown|  5|  may|     137|       1|   -1|       0| unknown| no|\n",
            "| 53|  technician| married|secondary|     no|      6|    yes|  no|unknown|  5|  may|     517|       1|   -1|       0| unknown| no|\n",
            "| 58|  technician| married|  unknown|     no|     71|    yes|  no|unknown|  5|  may|      71|       1|   -1|       0| unknown| no|\n",
            "| 57|    services| married|secondary|     no|    162|    yes|  no|unknown|  5|  may|     174|       1|   -1|       0| unknown| no|\n",
            "| 51|     retired| married|  primary|     no|    229|    yes|  no|unknown|  5|  may|     353|       1|   -1|       0| unknown| no|\n",
            "| 45|      admin.|  single|  unknown|     no|     13|    yes|  no|unknown|  5|  may|      98|       1|   -1|       0| unknown| no|\n",
            "| 57| blue-collar| married|  primary|     no|     52|    yes|  no|unknown|  5|  may|      38|       1|   -1|       0| unknown| no|\n",
            "| 60|     retired| married|  primary|     no|     60|    yes|  no|unknown|  5|  may|     219|       1|   -1|       0| unknown| no|\n",
            "| 33|    services| married|secondary|     no|      0|    yes|  no|unknown|  5|  may|      54|       1|   -1|       0| unknown| no|\n",
            "+---+------------+--------+---------+-------+-------+-------+----+-------+---+-----+--------+--------+-----+--------+--------+---+\n",
            "only showing top 20 rows\n",
            "\n"
          ]
        }
      ],
      "source": [
        "from pyspark.sql import SparkSession\n",
        "spark = SparkSession.builder.getOrCreate()\n",
        "df = spark.read.csv(filename, header=True, inferSchema=True, sep=';')\n",
        "df.show()"
      ]
    },
    {
      "cell_type": "code",
      "execution_count": 8,
      "metadata": {
        "application/vnd.databricks.v1+cell": {
          "cellMetadata": {
            "byteLimit": 2048000,
            "rowLimit": 10000
          },
          "inputWidgets": {},
          "nuid": "41de798f-037a-4596-885a-78e9bda63bec",
          "showTitle": false,
          "title": ""
        },
        "id": "EBGmd2Ee8KT0"
      },
      "outputs": [],
      "source": [
        "from pyspark.sql import functions as F\n",
        "df = df.withColumn('y', F.when(F.col(\"y\")=='yes',1).otherwise(0))"
      ]
    },
    {
      "cell_type": "markdown",
      "metadata": {
        "application/vnd.databricks.v1+cell": {
          "cellMetadata": {},
          "inputWidgets": {},
          "nuid": "53fd3276-6b49-4ce3-a51f-820d76f3f9c2",
          "showTitle": false,
          "title": ""
        },
        "id": "ePV5iYXF8KT0"
      },
      "source": [
        "## Function for Data type"
      ]
    },
    {
      "cell_type": "code",
      "execution_count": 9,
      "metadata": {
        "application/vnd.databricks.v1+cell": {
          "cellMetadata": {
            "byteLimit": 2048000,
            "rowLimit": 10000
          },
          "inputWidgets": {},
          "nuid": "b808a102-2823-48bc-a50d-8ae378d859ed",
          "showTitle": false,
          "title": ""
        },
        "id": "hJBkbvqO8KT1"
      },
      "outputs": [],
      "source": [
        "def variable_type(df):\n",
        "\n",
        "    vars_list = df.dtypes\n",
        "    char_vars = []\n",
        "    num_vars = []\n",
        "    for i in vars_list:\n",
        "        if i[1] in ('string'):\n",
        "            char_vars.append(i[0])\n",
        "        else:\n",
        "            num_vars.append(i[0])\n",
        "\n",
        "    return char_vars, num_vars\n",
        "\n",
        "char_vars, num_vars = variable_type(df)\n",
        "num_vars.remove(target_variable_name)\n",
        "\n",
        "from pyspark.ml.feature import StringIndexer\n",
        "from pyspark.ml import Pipeline\n",
        "\n",
        "#convert categorical to numeric using label encoder option\n",
        "def category_to_index(df, char_vars):\n",
        "\n",
        "    char_df = df.select(char_vars)\n",
        "    indexers = [StringIndexer(inputCol=c, outputCol=c+\"_index\", handleInvalid=\"keep\") for c in char_df.columns]\n",
        "    pipeline = Pipeline(stages=indexers)\n",
        "    char_labels = pipeline.fit(char_df)\n",
        "    df = char_labels.transform(df)\n",
        "    return df, char_labels\n",
        "\n",
        "df, char_labels = category_to_index(df, char_vars)\n",
        "df = df.select([c for c in df.columns if c not in char_vars])\n",
        "\n",
        "#renaming encoded column\n",
        "def rename_columns(df, char_vars):\n",
        "    mapping = dict(zip([i + '_index' for i in char_vars], char_vars))\n",
        "    df = df.select([F.col(c).alias(mapping.get(c, c)) for c in df.columns])\n",
        "    return df\n",
        "\n",
        "df = rename_columns(df, char_vars)"
      ]
    },
    {
      "cell_type": "markdown",
      "metadata": {
        "application/vnd.databricks.v1+cell": {
          "cellMetadata": {},
          "inputWidgets": {},
          "nuid": "58c1b04e-d271-4edb-bb84-f745a895924f",
          "showTitle": false,
          "title": ""
        },
        "id": "P3zqNq8-8KT1"
      },
      "source": [
        "## Assemble vectors"
      ]
    },
    {
      "cell_type": "code",
      "execution_count": 10,
      "metadata": {
        "application/vnd.databricks.v1+cell": {
          "cellMetadata": {
            "byteLimit": 2048000,
            "rowLimit": 10000
          },
          "inputWidgets": {},
          "nuid": "bc047243-3033-4314-8c2b-98f0c2c90c22",
          "showTitle": false,
          "title": ""
        },
        "id": "--eUeCIR8KT1"
      },
      "outputs": [],
      "source": [
        "from pyspark.ml.feature import VectorAssembler\n",
        "\n",
        "#assemble individual columns to one column - 'features'\n",
        "def assemble_vectors(df, features_list, target_variable_name):\n",
        "    stages = []\n",
        "    #assemble vectors\n",
        "    assembler = VectorAssembler(inputCols=features_list, outputCol='features')\n",
        "    stages = [assembler]\n",
        "    #select all the columns + target + newly created 'features' column\n",
        "    selectedCols = [target_variable_name, 'features'] + features_list\n",
        "    #use pipeline to process sequentially\n",
        "    pipeline = Pipeline(stages=stages)\n",
        "    #assembler model\n",
        "    assembleModel = pipeline.fit(df)\n",
        "    #apply assembler model on data\n",
        "    df = assembleModel.transform(df).select(selectedCols)\n",
        "\n",
        "    return df, assembleModel, selectedCols\n",
        "\n",
        "#exclude target variable and select all other feature vectors\n",
        "features_list = df.columns\n",
        "#features_list = char_vars #this option is used only for ChiSqselector\n",
        "features_list.remove(target_variable_name)\n",
        "\n",
        "# apply the function on our dataframe\n",
        "df, assembleModel, selectedCols = assemble_vectors(df, features_list, target_variable_name)"
      ]
    },
    {
      "cell_type": "markdown",
      "metadata": {
        "application/vnd.databricks.v1+cell": {
          "cellMetadata": {},
          "inputWidgets": {},
          "nuid": "ca28d3df-bdda-4dad-983c-d712ab71bdd1",
          "showTitle": false,
          "title": ""
        },
        "id": "TZ1Fdtvb8KT1"
      },
      "source": [
        "## Train-test split"
      ]
    },
    {
      "cell_type": "code",
      "execution_count": 11,
      "metadata": {
        "application/vnd.databricks.v1+cell": {
          "cellMetadata": {
            "byteLimit": 2048000,
            "rowLimit": 10000
          },
          "inputWidgets": {},
          "nuid": "499f3ed7-9a71-4d73-8dd2-018b14b0c1eb",
          "showTitle": false,
          "title": ""
        },
        "colab": {
          "base_uri": "https://localhost:8080/"
        },
        "id": "Y3J3IxYd8KT1",
        "outputId": "73426a06-f995-4557-b37f-c4c3ca3898a7"
      },
      "outputs": [
        {
          "output_type": "execute_result",
          "data": {
            "text/plain": [
              "(31527, 13684)"
            ]
          },
          "metadata": {},
          "execution_count": 11
        }
      ],
      "source": [
        "train, test = df.randomSplit([0.7, 0.3], seed=12345)\n",
        "train.count(), test.count()"
      ]
    },
    {
      "cell_type": "code",
      "execution_count": 12,
      "metadata": {
        "application/vnd.databricks.v1+cell": {
          "cellMetadata": {
            "byteLimit": 2048000,
            "rowLimit": 10000
          },
          "inputWidgets": {},
          "nuid": "7ce25ceb-c87d-412c-9b3e-0650ffad36fd",
          "showTitle": false,
          "title": ""
        },
        "colab": {
          "base_uri": "https://localhost:8080/"
        },
        "id": "TlxT4w328KT2",
        "outputId": "23d8d958-a41b-478c-b046-b3c2389c999a"
      },
      "outputs": [
        {
          "output_type": "stream",
          "name": "stdout",
          "text": [
            "+---+--------------------+---+-------+---+--------+--------+-----+--------+---+-------+---------+-------+-------+----+-------+-----+--------+\n",
            "|  y|            features|age|balance|day|duration|campaign|pdays|previous|job|marital|education|default|housing|loan|contact|month|poutcome|\n",
            "+---+--------------------+---+-------+---+--------+--------+-----+--------+---+-------+---------+-------+-------+----+-------+-----+--------+\n",
            "|  0|(16,[0,1,2,3,4,5]...| 24|   1470| 12|     212|       1|   -1|       0|0.0|    0.0|      0.0|    0.0|    0.0| 0.0|    0.0|  0.0|     0.0|\n",
            "|  0|(16,[0,1,2,3,4,5]...| 25|    148| 18|     119|       1|   -1|       0|0.0|    0.0|      0.0|    0.0|    0.0| 0.0|    0.0|  0.0|     0.0|\n",
            "|  0|(16,[0,1,2,3,4,5]...| 26|    160| 18|     252|       4|   -1|       0|0.0|    0.0|      0.0|    0.0|    0.0| 0.0|    0.0|  0.0|     0.0|\n",
            "|  0|(16,[0,1,2,3,4,5]...| 26|    697| 18|     253|       2|   -1|       0|0.0|    0.0|      0.0|    0.0|    0.0| 0.0|    0.0|  0.0|     0.0|\n",
            "|  0|(16,[0,1,2,3,4,5]...| 27|   1295| 14|    1106|       1|   -1|       0|0.0|    0.0|      0.0|    0.0|    0.0| 0.0|    0.0|  0.0|     0.0|\n",
            "|  0|(16,[0,1,2,3,4,5]...| 28|   -470|  7|     275|       2|   -1|       0|0.0|    0.0|      0.0|    0.0|    0.0| 0.0|    0.0|  0.0|     0.0|\n",
            "|  0|(16,[0,1,2,3,4,5]...| 28|      4| 15|     310|       1|   -1|       0|0.0|    0.0|      0.0|    0.0|    0.0| 0.0|    0.0|  0.0|     0.0|\n",
            "|  0|(16,[0,1,2,3,4,5]...| 28|      8| 15|     196|       1|   -1|       0|0.0|    0.0|      0.0|    0.0|    0.0| 0.0|    0.0|  0.0|     0.0|\n",
            "|  0|(16,[0,1,2,3,4,5]...| 28|     83| 15|     224|       1|   -1|       0|0.0|    0.0|      0.0|    0.0|    0.0| 0.0|    0.0|  0.0|     0.0|\n",
            "|  0|(16,[0,1,2,3,4,5]...| 28|    251|  7|     754|       1|   -1|       0|0.0|    0.0|      0.0|    0.0|    0.0| 0.0|    0.0|  0.0|     0.0|\n",
            "|  0|(16,[0,1,2,3,4,5]...| 28|    337| 12|     450|       2|   -1|       0|0.0|    0.0|      0.0|    0.0|    0.0| 0.0|    0.0|  0.0|     0.0|\n",
            "|  0|(16,[0,1,2,3,4,5]...| 28|   1325| 15|     242|       1|   -1|       0|0.0|    0.0|      0.0|    0.0|    0.0| 0.0|    0.0|  0.0|     0.0|\n",
            "|  0|(16,[0,1,2,3,4,5]...| 29|    -20|  7|     140|       3|   -1|       0|0.0|    0.0|      0.0|    0.0|    0.0| 0.0|    0.0|  0.0|     0.0|\n",
            "|  0|(16,[0,1,2,3,4,5]...| 29|     25| 15|      50|       5|   -1|       0|0.0|    0.0|      0.0|    0.0|    0.0| 0.0|    0.0|  0.0|     0.0|\n",
            "|  0|(16,[0,1,2,3,4,5]...| 29|     97| 18|     342|       4|   -1|       0|0.0|    0.0|      0.0|    0.0|    0.0| 0.0|    0.0|  0.0|     0.0|\n",
            "|  0|(16,[0,1,2,3,4,5]...| 29|    275| 18|     180|       1|   -1|       0|0.0|    0.0|      0.0|    0.0|    0.0| 0.0|    0.0|  0.0|     0.0|\n",
            "|  0|(16,[0,1,2,3,4,5]...| 29|    415| 11|     128|       3|   -1|       0|0.0|    0.0|      0.0|    0.0|    0.0| 0.0|    0.0|  0.0|     0.0|\n",
            "|  0|(16,[0,1,2,3,4,5]...| 29|    912| 13|     785|       1|   -1|       0|0.0|    0.0|      0.0|    0.0|    0.0| 0.0|    0.0|  0.0|     0.0|\n",
            "|  0|(16,[0,1,2,3,4,5]...| 29|   1052| 13|     147|       1|   -1|       0|0.0|    0.0|      0.0|    0.0|    0.0| 0.0|    0.0|  0.0|     0.0|\n",
            "|  0|(16,[0,1,2,3,4,5]...| 30|   -529| 12|     416|       4|   -1|       0|0.0|    0.0|      0.0|    0.0|    0.0| 0.0|    0.0|  0.0|     0.0|\n",
            "+---+--------------------+---+-------+---+--------+--------+-----+--------+---+-------+---------+-------+-------+----+-------+-----+--------+\n",
            "only showing top 20 rows\n",
            "\n"
          ]
        }
      ],
      "source": [
        "train.show()"
      ]
    },
    {
      "cell_type": "markdown",
      "metadata": {
        "application/vnd.databricks.v1+cell": {
          "cellMetadata": {},
          "inputWidgets": {},
          "nuid": "2ef37966-b012-4a5c-9d11-8dd6b7688bc2",
          "showTitle": false,
          "title": ""
        },
        "id": "MCrCDe-n8KT2"
      },
      "source": [
        "## Random forest model"
      ]
    },
    {
      "cell_type": "code",
      "execution_count": 13,
      "metadata": {
        "application/vnd.databricks.v1+cell": {
          "cellMetadata": {
            "byteLimit": 2048000,
            "rowLimit": 10000
          },
          "inputWidgets": {},
          "nuid": "f6e86a87-3bf5-41c9-978a-27889dcf49cb",
          "showTitle": false,
          "title": ""
        },
        "colab": {
          "base_uri": "https://localhost:8080/"
        },
        "id": "CFE7lJNC8KT2",
        "outputId": "fff69a2e-d972-4648-eede-e19ecd2be73e"
      },
      "outputs": [
        {
          "output_type": "stream",
          "name": "stdout",
          "text": [
            "(16,[0,1,2,3,4,5,6,7,8,9,11,12,13,14,15],[0.03577540874793489,0.012751437440308261,0.03128004646985437,0.47215549921949085,0.004535667856025069,0.09092333771427877,0.032100247841176974,0.003571629477446861,0.004454993381955474,0.0020240787201944496,0.05582099018249905,0.0029499240676731106,0.023902736544970875,0.07374822630317891,0.15400577603301202])\n",
            "RandomForestClassificationModel: uid=RandomForestClassifier_df386a8495dd, numTrees=20, numClasses=2, numFeatures=16\n",
            "  Tree 0 (weight 1.0):\n",
            "    If (feature 15 in {1.0,2.0,3.0})\n",
            "     If (feature 11 in {0.0})\n",
            "      If (feature 5 <= 93.5)\n",
            "       If (feature 3 <= 191.5)\n",
            "        Predict: 0.0\n",
            "       Else (feature 3 > 191.5)\n",
            "        If (feature 0 <= 35.5)\n",
            "         Predict: 1.0\n",
            "        Else (feature 0 > 35.5)\n",
            "         Predict: 0.0\n",
            "      Else (feature 5 > 93.5)\n",
            "       If (feature 15 in {2.0,3.0})\n",
            "        If (feature 13 in {1.0})\n",
            "         Predict: 1.0\n",
            "        Else (feature 13 not in {1.0})\n",
            "         Predict: 0.0\n",
            "       Else (feature 15 not in {2.0,3.0})\n",
            "        Predict: 0.0\n",
            "     Else (feature 11 not in {0.0})\n",
            "      If (feature 12 in {1.0})\n",
            "       If (feature 14 in {0.0,1.0,4.0,5.0,6.0,7.0,9.0,11.0})\n",
            "        Predict: 0.0\n",
            "       Else (feature 14 not in {0.0,1.0,4.0,5.0,6.0,7.0,9.0,11.0})\n",
            "        If (feature 5 <= 348.5)\n",
            "         Predict: 1.0\n",
            "        Else (feature 5 > 348.5)\n",
            "         Predict: 0.0\n",
            "      Else (feature 12 not in {1.0})\n",
            "       If (feature 15 in {1.0,2.0})\n",
            "        Predict: 0.0\n",
            "       Else (feature 15 not in {1.0,2.0})\n",
            "        Predict: 1.0\n",
            "    Else (feature 15 not in {1.0,2.0,3.0})\n",
            "     If (feature 0 <= 60.5)\n",
            "      If (feature 14 in {7.0,8.0,9.0,10.0,11.0})\n",
            "       If (feature 2 <= 27.5)\n",
            "        If (feature 1 <= 506.5)\n",
            "         Predict: 0.0\n",
            "        Else (feature 1 > 506.5)\n",
            "         Predict: 1.0\n",
            "       Else (feature 2 > 27.5)\n",
            "        If (feature 14 in {7.0,9.0,10.0,11.0})\n",
            "         Predict: 0.0\n",
            "        Else (feature 14 not in {7.0,9.0,10.0,11.0})\n",
            "         Predict: 1.0\n",
            "      Else (feature 14 not in {7.0,8.0,9.0,10.0,11.0})\n",
            "       Predict: 0.0\n",
            "     Else (feature 0 > 60.5)\n",
            "      If (feature 3 <= 126.5)\n",
            "       Predict: 0.0\n",
            "      Else (feature 3 > 126.5)\n",
            "       If (feature 9 in {1.0,2.0,3.0})\n",
            "        If (feature 4 <= 2.5)\n",
            "         Predict: 0.0\n",
            "        Else (feature 4 > 2.5)\n",
            "         Predict: 1.0\n",
            "       Else (feature 9 not in {1.0,2.0,3.0})\n",
            "        Predict: 1.0\n",
            "  Tree 1 (weight 1.0):\n",
            "    If (feature 3 <= 558.5)\n",
            "     If (feature 5 <= 30.5)\n",
            "      Predict: 0.0\n",
            "     Else (feature 5 > 30.5)\n",
            "      If (feature 11 in {0.0})\n",
            "       If (feature 1 <= 1612.5)\n",
            "        Predict: 0.0\n",
            "       Else (feature 1 > 1612.5)\n",
            "        If (feature 0 <= 60.5)\n",
            "         Predict: 0.0\n",
            "        Else (feature 0 > 60.5)\n",
            "         Predict: 1.0\n",
            "      Else (feature 11 not in {0.0})\n",
            "       If (feature 12 in {1.0})\n",
            "        If (feature 15 in {1.0,2.0})\n",
            "         Predict: 0.0\n",
            "        Else (feature 15 not in {1.0,2.0})\n",
            "         Predict: 1.0\n",
            "       Else (feature 12 not in {1.0})\n",
            "        If (feature 3 <= 166.5)\n",
            "         Predict: 0.0\n",
            "        Else (feature 3 > 166.5)\n",
            "         Predict: 1.0\n",
            "    Else (feature 3 > 558.5)\n",
            "     If (feature 1 <= 1938.0)\n",
            "      If (feature 14 in {1.0,2.0,3.0,4.0,5.0,6.0,7.0,8.0,9.0,10.0,11.0})\n",
            "       If (feature 7 in {9.0,11.0})\n",
            "        If (feature 2 <= 5.5)\n",
            "         Predict: 1.0\n",
            "        Else (feature 2 > 5.5)\n",
            "         Predict: 0.0\n",
            "       Else (feature 7 not in {9.0,11.0})\n",
            "        If (feature 2 <= 13.5)\n",
            "         Predict: 1.0\n",
            "        Else (feature 2 > 13.5)\n",
            "         Predict: 0.0\n",
            "      Else (feature 14 not in {1.0,2.0,3.0,4.0,5.0,6.0,7.0,8.0,9.0,10.0,11.0})\n",
            "       If (feature 13 in {1.0,2.0})\n",
            "        Predict: 0.0\n",
            "       Else (feature 13 not in {1.0,2.0})\n",
            "        Predict: 1.0\n",
            "     Else (feature 1 > 1938.0)\n",
            "      If (feature 5 <= -0.5)\n",
            "       If (feature 3 <= 882.5)\n",
            "        If (feature 7 in {3.0,4.0,6.0,7.0,8.0,9.0,10.0,11.0})\n",
            "         Predict: 1.0\n",
            "        Else (feature 7 not in {3.0,4.0,6.0,7.0,8.0,9.0,10.0,11.0})\n",
            "         Predict: 0.0\n",
            "       Else (feature 3 > 882.5)\n",
            "        Predict: 1.0\n",
            "      Else (feature 5 > -0.5)\n",
            "       If (feature 1 <= 2318.5)\n",
            "        Predict: 1.0\n",
            "       Else (feature 1 > 2318.5)\n",
            "        If (feature 0 <= 39.5)\n",
            "         Predict: 0.0\n",
            "        Else (feature 0 > 39.5)\n",
            "         Predict: 1.0\n",
            "  Tree 2 (weight 1.0):\n",
            "    If (feature 14 in {7.0,8.0,9.0,10.0,11.0})\n",
            "     If (feature 1 <= 1399.5)\n",
            "      If (feature 3 <= 178.5)\n",
            "       If (feature 2 <= 27.5)\n",
            "        Predict: 0.0\n",
            "       Else (feature 2 > 27.5)\n",
            "        If (feature 14 in {7.0,9.0,10.0,11.0})\n",
            "         Predict: 0.0\n",
            "        Else (feature 14 not in {7.0,9.0,10.0,11.0})\n",
            "         Predict: 1.0\n",
            "      Else (feature 3 > 178.5)\n",
            "       If (feature 5 <= 16.0)\n",
            "        Predict: 0.0\n",
            "       Else (feature 5 > 16.0)\n",
            "        If (feature 7 in {0.0,2.0,4.0,6.0,7.0,8.0,9.0,10.0,11.0})\n",
            "         Predict: 0.0\n",
            "        Else (feature 7 not in {0.0,2.0,4.0,6.0,7.0,8.0,9.0,10.0,11.0})\n",
            "         Predict: 1.0\n",
            "     Else (feature 1 > 1399.5)\n",
            "      If (feature 14 in {7.0})\n",
            "       If (feature 0 <= 25.5)\n",
            "        Predict: 1.0\n",
            "       Else (feature 0 > 25.5)\n",
            "        If (feature 3 <= 672.5)\n",
            "         Predict: 0.0\n",
            "        Else (feature 3 > 672.5)\n",
            "         Predict: 1.0\n",
            "      Else (feature 14 not in {7.0})\n",
            "       If (feature 3 <= 178.5)\n",
            "        Predict: 0.0\n",
            "       Else (feature 3 > 178.5)\n",
            "        If (feature 5 <= 281.5)\n",
            "         Predict: 1.0\n",
            "        Else (feature 5 > 281.5)\n",
            "         Predict: 0.0\n",
            "    Else (feature 14 not in {7.0,8.0,9.0,10.0,11.0})\n",
            "     If (feature 5 <= -0.5)\n",
            "      If (feature 14 in {3.0,4.0,5.0,6.0})\n",
            "       If (feature 4 <= 4.5)\n",
            "        Predict: 0.0\n",
            "       Else (feature 4 > 4.5)\n",
            "        If (feature 3 <= 882.5)\n",
            "         Predict: 0.0\n",
            "        Else (feature 3 > 882.5)\n",
            "         Predict: 1.0\n",
            "      Else (feature 14 not in {3.0,4.0,5.0,6.0})\n",
            "       If (feature 3 <= 558.5)\n",
            "        Predict: 0.0\n",
            "       Else (feature 3 > 558.5)\n",
            "        If (feature 8 in {1.0,2.0})\n",
            "         Predict: 1.0\n",
            "        Else (feature 8 not in {1.0,2.0})\n",
            "         Predict: 0.0\n",
            "     Else (feature 5 > -0.5)\n",
            "      If (feature 11 in {0.0})\n",
            "       Predict: 0.0\n",
            "      Else (feature 11 not in {0.0})\n",
            "       If (feature 12 in {1.0})\n",
            "        Predict: 0.0\n",
            "       Else (feature 12 not in {1.0})\n",
            "        If (feature 2 <= 26.5)\n",
            "         Predict: 0.0\n",
            "        Else (feature 2 > 26.5)\n",
            "         Predict: 1.0\n",
            "  Tree 3 (weight 1.0):\n",
            "    If (feature 5 <= 20.0)\n",
            "     If (feature 1 <= 378.5)\n",
            "      Predict: 0.0\n",
            "     Else (feature 1 > 378.5)\n",
            "      If (feature 0 <= 60.5)\n",
            "       Predict: 0.0\n",
            "      Else (feature 0 > 60.5)\n",
            "       If (feature 9 in {2.0,3.0})\n",
            "        Predict: 0.0\n",
            "       Else (feature 9 not in {2.0,3.0})\n",
            "        If (feature 3 <= 126.5)\n",
            "         Predict: 0.0\n",
            "        Else (feature 3 > 126.5)\n",
            "         Predict: 1.0\n",
            "    Else (feature 5 > 20.0)\n",
            "     If (feature 15 in {0.0,1.0,2.0})\n",
            "      If (feature 7 in {0.0,2.0,3.0,4.0,5.0,6.0,7.0,8.0,9.0,10.0,11.0})\n",
            "       Predict: 0.0\n",
            "      Else (feature 7 not in {0.0,2.0,3.0,4.0,5.0,6.0,7.0,8.0,9.0,10.0,11.0})\n",
            "       If (feature 12 in {1.0})\n",
            "        If (feature 3 <= 558.5)\n",
            "         Predict: 0.0\n",
            "        Else (feature 3 > 558.5)\n",
            "         Predict: 1.0\n",
            "       Else (feature 12 not in {1.0})\n",
            "        Predict: 0.0\n",
            "     Else (feature 15 not in {0.0,1.0,2.0})\n",
            "      If (feature 4 <= 3.5)\n",
            "       If (feature 3 <= 166.5)\n",
            "        If (feature 14 in {0.0,1.0,2.0,3.0,4.0,5.0,6.0,7.0,8.0,10.0,11.0})\n",
            "         Predict: 0.0\n",
            "        Else (feature 14 not in {0.0,1.0,2.0,3.0,4.0,5.0,6.0,7.0,8.0,10.0,11.0})\n",
            "         Predict: 1.0\n",
            "       Else (feature 3 > 166.5)\n",
            "        Predict: 1.0\n",
            "      Else (feature 4 > 3.5)\n",
            "       If (feature 3 <= 118.5)\n",
            "        Predict: 0.0\n",
            "       Else (feature 3 > 118.5)\n",
            "        If (feature 7 in {4.0})\n",
            "         Predict: 0.0\n",
            "        Else (feature 7 not in {4.0})\n",
            "         Predict: 1.0\n",
            "  Tree 4 (weight 1.0):\n",
            "    If (feature 5 <= 8.5)\n",
            "     If (feature 0 <= 60.5)\n",
            "      If (feature 13 in {1.0,2.0})\n",
            "       Predict: 0.0\n",
            "      Else (feature 13 not in {1.0,2.0})\n",
            "       If (feature 3 <= 558.5)\n",
            "        Predict: 0.0\n",
            "       Else (feature 3 > 558.5)\n",
            "        If (feature 1 <= -318.5)\n",
            "         Predict: 1.0\n",
            "        Else (feature 1 > -318.5)\n",
            "         Predict: 0.0\n",
            "     Else (feature 0 > 60.5)\n",
            "      If (feature 8 in {1.0})\n",
            "       Predict: 0.0\n",
            "      Else (feature 8 not in {1.0})\n",
            "       If (feature 13 in {1.0,2.0})\n",
            "        If (feature 3 <= 296.5)\n",
            "         Predict: 0.0\n",
            "        Else (feature 3 > 296.5)\n",
            "         Predict: 1.0\n",
            "       Else (feature 13 not in {1.0,2.0})\n",
            "        Predict: 0.0\n",
            "    Else (feature 5 > 8.5)\n",
            "     If (feature 3 <= 178.5)\n",
            "      If (feature 3 <= 83.5)\n",
            "       If (feature 14 in {0.0,1.0,2.0,3.0,4.0,5.0,6.0,7.0,8.0,9.0,10.0})\n",
            "        Predict: 0.0\n",
            "       Else (feature 14 not in {0.0,1.0,2.0,3.0,4.0,5.0,6.0,7.0,8.0,9.0,10.0})\n",
            "        If (feature 6 <= 6.5)\n",
            "         Predict: 0.0\n",
            "        Else (feature 6 > 6.5)\n",
            "         Predict: 1.0\n",
            "      Else (feature 3 > 83.5)\n",
            "       If (feature 0 <= 25.5)\n",
            "        If (feature 14 in {0.0,2.0,3.0,8.0})\n",
            "         Predict: 0.0\n",
            "        Else (feature 14 not in {0.0,2.0,3.0,8.0})\n",
            "         Predict: 1.0\n",
            "       Else (feature 0 > 25.5)\n",
            "        Predict: 0.0\n",
            "     Else (feature 3 > 178.5)\n",
            "      If (feature 15 in {0.0,1.0,2.0})\n",
            "       If (feature 3 <= 386.5)\n",
            "        Predict: 0.0\n",
            "       Else (feature 3 > 386.5)\n",
            "        If (feature 11 in {1.0})\n",
            "         Predict: 1.0\n",
            "        Else (feature 11 not in {1.0})\n",
            "         Predict: 0.0\n",
            "      Else (feature 15 not in {0.0,1.0,2.0})\n",
            "       If (feature 6 <= 4.5)\n",
            "        Predict: 1.0\n",
            "       Else (feature 6 > 4.5)\n",
            "        If (feature 7 in {6.0,7.0,9.0})\n",
            "         Predict: 0.0\n",
            "        Else (feature 7 not in {6.0,7.0,9.0})\n",
            "         Predict: 1.0\n",
            "  Tree 5 (weight 1.0):\n",
            "    If (feature 1 <= 223.5)\n",
            "     If (feature 0 <= 60.5)\n",
            "      If (feature 9 in {2.0,3.0})\n",
            "       If (feature 14 in {10.0})\n",
            "        Predict: 1.0\n",
            "       Else (feature 14 not in {10.0})\n",
            "        Predict: 0.0\n",
            "      Else (feature 9 not in {2.0,3.0})\n",
            "       Predict: 0.0\n",
            "     Else (feature 0 > 60.5)\n",
            "      If (feature 3 <= 203.5)\n",
            "       If (feature 2 <= 28.5)\n",
            "        Predict: 0.0\n",
            "       Else (feature 2 > 28.5)\n",
            "        Predict: 1.0\n",
            "      Else (feature 3 > 203.5)\n",
            "       If (feature 7 in {2.0,8.0,11.0})\n",
            "        Predict: 0.0\n",
            "       Else (feature 7 not in {2.0,8.0,11.0})\n",
            "        If (feature 2 <= 5.5)\n",
            "         Predict: 0.0\n",
            "        Else (feature 2 > 5.5)\n",
            "         Predict: 1.0\n",
            "    Else (feature 1 > 223.5)\n",
            "     If (feature 3 <= 425.5)\n",
            "      If (feature 13 in {1.0})\n",
            "       If (feature 5 <= -0.5)\n",
            "        Predict: 0.0\n",
            "       Else (feature 5 > -0.5)\n",
            "        If (feature 0 <= 39.5)\n",
            "         Predict: 1.0\n",
            "        Else (feature 0 > 39.5)\n",
            "         Predict: 0.0\n",
            "      Else (feature 13 not in {1.0})\n",
            "       Predict: 0.0\n",
            "     Else (feature 3 > 425.5)\n",
            "      If (feature 6 <= 1.5)\n",
            "       Predict: 0.0\n",
            "      Else (feature 6 > 1.5)\n",
            "       If (feature 11 in {0.0})\n",
            "        Predict: 0.0\n",
            "       Else (feature 11 not in {0.0})\n",
            "        Predict: 1.0\n",
            "  Tree 6 (weight 1.0):\n",
            "    If (feature 3 <= 558.5)\n",
            "     If (feature 15 in {1.0,2.0,3.0})\n",
            "      If (feature 14 in {0.0,1.0,3.0,4.0,5.0,6.0,7.0,8.0,10.0,11.0})\n",
            "       If (feature 11 in {0.0})\n",
            "        Predict: 0.0\n",
            "       Else (feature 11 not in {0.0})\n",
            "        If (feature 15 in {1.0,2.0})\n",
            "         Predict: 0.0\n",
            "        Else (feature 15 not in {1.0,2.0})\n",
            "         Predict: 1.0\n",
            "      Else (feature 14 not in {0.0,1.0,3.0,4.0,5.0,6.0,7.0,8.0,10.0,11.0})\n",
            "       If (feature 3 <= 166.5)\n",
            "        Predict: 0.0\n",
            "       Else (feature 3 > 166.5)\n",
            "        Predict: 1.0\n",
            "     Else (feature 15 not in {1.0,2.0,3.0})\n",
            "      If (feature 14 in {7.0,8.0,9.0,10.0,11.0})\n",
            "       If (feature 14 in {7.0,11.0})\n",
            "        If (feature 4 <= 6.5)\n",
            "         Predict: 0.0\n",
            "        Else (feature 4 > 6.5)\n",
            "         Predict: 1.0\n",
            "       Else (feature 14 not in {7.0,11.0})\n",
            "        Predict: 0.0\n",
            "      Else (feature 14 not in {7.0,8.0,9.0,10.0,11.0})\n",
            "       Predict: 0.0\n",
            "    Else (feature 3 > 558.5)\n",
            "     If (feature 13 in {1.0,2.0})\n",
            "      If (feature 3 <= 882.5)\n",
            "       If (feature 1 <= 101.5)\n",
            "        Predict: 0.0\n",
            "       Else (feature 1 > 101.5)\n",
            "        If (feature 5 <= 169.5)\n",
            "         Predict: 0.0\n",
            "        Else (feature 5 > 169.5)\n",
            "         Predict: 1.0\n",
            "      Else (feature 3 > 882.5)\n",
            "       If (feature 9 in {3.0})\n",
            "        If (feature 7 in {0.0,1.0,4.0,7.0,10.0})\n",
            "         Predict: 0.0\n",
            "        Else (feature 7 not in {0.0,1.0,4.0,7.0,10.0})\n",
            "         Predict: 1.0\n",
            "       Else (feature 9 not in {3.0})\n",
            "        If (feature 2 <= 4.5)\n",
            "         Predict: 1.0\n",
            "        Else (feature 2 > 4.5)\n",
            "         Predict: 0.0\n",
            "     Else (feature 13 not in {1.0,2.0})\n",
            "      If (feature 2 <= 15.5)\n",
            "       If (feature 3 <= 672.5)\n",
            "        If (feature 0 <= 48.5)\n",
            "         Predict: 0.0\n",
            "        Else (feature 0 > 48.5)\n",
            "         Predict: 1.0\n",
            "       Else (feature 3 > 672.5)\n",
            "        Predict: 1.0\n",
            "      Else (feature 2 > 15.5)\n",
            "       If (feature 14 in {0.0,3.0,6.0,8.0,9.0,10.0,11.0})\n",
            "        Predict: 1.0\n",
            "       Else (feature 14 not in {0.0,3.0,6.0,8.0,9.0,10.0,11.0})\n",
            "        If (feature 4 <= 3.5)\n",
            "         Predict: 0.0\n",
            "        Else (feature 4 > 3.5)\n",
            "         Predict: 1.0\n",
            "  Tree 7 (weight 1.0):\n",
            "    If (feature 5 <= 8.5)\n",
            "     If (feature 13 in {1.0,2.0})\n",
            "      If (feature 3 <= 672.5)\n",
            "       Predict: 0.0\n",
            "      Else (feature 3 > 672.5)\n",
            "       If (feature 8 in {1.0,2.0})\n",
            "        If (feature 1 <= 101.5)\n",
            "         Predict: 0.0\n",
            "        Else (feature 1 > 101.5)\n",
            "         Predict: 1.0\n",
            "       Else (feature 8 not in {1.0,2.0})\n",
            "        Predict: 0.0\n",
            "     Else (feature 13 not in {1.0,2.0})\n",
            "      If (feature 14 in {3.0,7.0,8.0,9.0,10.0,11.0})\n",
            "       If (feature 7 in {0.0,2.0,3.0,4.0,6.0,7.0,8.0,9.0,10.0,11.0})\n",
            "        If (feature 0 <= 25.5)\n",
            "         Predict: 1.0\n",
            "        Else (feature 0 > 25.5)\n",
            "         Predict: 0.0\n",
            "       Else (feature 7 not in {0.0,2.0,3.0,4.0,6.0,7.0,8.0,9.0,10.0,11.0})\n",
            "        Predict: 0.0\n",
            "      Else (feature 14 not in {3.0,7.0,8.0,9.0,10.0,11.0})\n",
            "       Predict: 0.0\n",
            "    Else (feature 5 > 8.5)\n",
            "     If (feature 15 in {0.0,1.0,2.0})\n",
            "      Predict: 0.0\n",
            "     Else (feature 15 not in {0.0,1.0,2.0})\n",
            "      If (feature 3 <= 166.5)\n",
            "       If (feature 1 <= 783.5)\n",
            "        If (feature 9 in {2.0,3.0})\n",
            "         Predict: 1.0\n",
            "        Else (feature 9 not in {2.0,3.0})\n",
            "         Predict: 0.0\n",
            "       Else (feature 1 > 783.5)\n",
            "        Predict: 0.0\n",
            "      Else (feature 3 > 166.5)\n",
            "       If (feature 11 in {0.0})\n",
            "        If (feature 1 <= 0.5)\n",
            "         Predict: 0.0\n",
            "        Else (feature 1 > 0.5)\n",
            "         Predict: 1.0\n",
            "       Else (feature 11 not in {0.0})\n",
            "        Predict: 1.0\n",
            "  Tree 8 (weight 1.0):\n",
            "    If (feature 3 <= 477.5)\n",
            "     If (feature 14 in {11.0})\n",
            "      If (feature 3 <= 136.5)\n",
            "       Predict: 0.0\n",
            "      Else (feature 3 > 136.5)\n",
            "       If (feature 9 in {1.0,2.0,3.0})\n",
            "        If (feature 0 <= 31.5)\n",
            "         Predict: 0.0\n",
            "        Else (feature 0 > 31.5)\n",
            "         Predict: 1.0\n",
            "       Else (feature 9 not in {1.0,2.0,3.0})\n",
            "        If (feature 4 <= 3.5)\n",
            "         Predict: 1.0\n",
            "        Else (feature 4 > 3.5)\n",
            "         Predict: 0.0\n",
            "     Else (feature 14 not in {11.0})\n",
            "      Predict: 0.0\n",
            "    Else (feature 3 > 477.5)\n",
            "     If (feature 6 <= 0.5)\n",
            "      If (feature 1 <= 140.5)\n",
            "       If (feature 0 <= 60.5)\n",
            "        Predict: 0.0\n",
            "       Else (feature 0 > 60.5)\n",
            "        If (feature 14 in {8.0})\n",
            "         Predict: 0.0\n",
            "        Else (feature 14 not in {8.0})\n",
            "         Predict: 1.0\n",
            "      Else (feature 1 > 140.5)\n",
            "       If (feature 3 <= 882.5)\n",
            "        Predict: 0.0\n",
            "       Else (feature 3 > 882.5)\n",
            "        If (feature 14 in {1.0,2.0,3.0,4.0,5.0,6.0,7.0,8.0,9.0,10.0,11.0})\n",
            "         Predict: 1.0\n",
            "        Else (feature 14 not in {1.0,2.0,3.0,4.0,5.0,6.0,7.0,8.0,9.0,10.0,11.0})\n",
            "         Predict: 0.0\n",
            "     Else (feature 6 > 0.5)\n",
            "      If (feature 11 in {0.0})\n",
            "       If (feature 6 <= 5.5)\n",
            "        Predict: 0.0\n",
            "       Else (feature 6 > 5.5)\n",
            "        If (feature 8 in {1.0,2.0})\n",
            "         Predict: 1.0\n",
            "        Else (feature 8 not in {1.0,2.0})\n",
            "         Predict: 0.0\n",
            "      Else (feature 11 not in {0.0})\n",
            "       If (feature 15 in {1.0,2.0})\n",
            "        If (feature 1 <= 7354.0)\n",
            "         Predict: 1.0\n",
            "        Else (feature 1 > 7354.0)\n",
            "         Predict: 0.0\n",
            "       Else (feature 15 not in {1.0,2.0})\n",
            "        If (feature 12 in {1.0})\n",
            "         Predict: 0.0\n",
            "        Else (feature 12 not in {1.0})\n",
            "         Predict: 1.0\n",
            "  Tree 9 (weight 1.0):\n",
            "    If (feature 5 <= 21.5)\n",
            "     If (feature 4 <= 1.5)\n",
            "      If (feature 3 <= 477.5)\n",
            "       Predict: 0.0\n",
            "      Else (feature 3 > 477.5)\n",
            "       If (feature 8 in {1.0,2.0})\n",
            "        If (feature 3 <= 672.5)\n",
            "         Predict: 0.0\n",
            "        Else (feature 3 > 672.5)\n",
            "         Predict: 1.0\n",
            "       Else (feature 8 not in {1.0,2.0})\n",
            "        If (feature 2 <= 29.5)\n",
            "         Predict: 0.0\n",
            "        Else (feature 2 > 29.5)\n",
            "         Predict: 1.0\n",
            "     Else (feature 4 > 1.5)\n",
            "      Predict: 0.0\n",
            "    Else (feature 5 > 21.5)\n",
            "     If (feature 11 in {0.0})\n",
            "      If (feature 15 in {0.0,2.0,3.0})\n",
            "       If (feature 4 <= 4.5)\n",
            "        Predict: 0.0\n",
            "       Else (feature 4 > 4.5)\n",
            "        If (feature 3 <= 425.5)\n",
            "         Predict: 0.0\n",
            "        Else (feature 3 > 425.5)\n",
            "         Predict: 1.0\n",
            "      Else (feature 15 not in {0.0,2.0,3.0})\n",
            "       Predict: 0.0\n",
            "     Else (feature 11 not in {0.0})\n",
            "      If (feature 15 in {0.0,1.0,2.0})\n",
            "       Predict: 0.0\n",
            "      Else (feature 15 not in {0.0,1.0,2.0})\n",
            "       If (feature 3 <= 178.5)\n",
            "        If (feature 3 <= 126.5)\n",
            "         Predict: 0.0\n",
            "        Else (feature 3 > 126.5)\n",
            "         Predict: 1.0\n",
            "       Else (feature 3 > 178.5)\n",
            "        If (feature 1 <= -318.5)\n",
            "         Predict: 0.0\n",
            "        Else (feature 1 > -318.5)\n",
            "         Predict: 1.0\n",
            "  Tree 10 (weight 1.0):\n",
            "    If (feature 5 <= 12.5)\n",
            "     If (feature 0 <= 60.5)\n",
            "      If (feature 13 in {1.0,2.0})\n",
            "       Predict: 0.0\n",
            "      Else (feature 13 not in {1.0,2.0})\n",
            "       If (feature 3 <= 558.5)\n",
            "        Predict: 0.0\n",
            "       Else (feature 3 > 558.5)\n",
            "        If (feature 9 in {2.0,3.0})\n",
            "         Predict: 0.0\n",
            "        Else (feature 9 not in {2.0,3.0})\n",
            "         Predict: 1.0\n",
            "     Else (feature 0 > 60.5)\n",
            "      If (feature 7 in {0.0,3.0,4.0,6.0,8.0})\n",
            "       If (feature 4 <= 2.5)\n",
            "        If (feature 3 <= 386.5)\n",
            "         Predict: 0.0\n",
            "        Else (feature 3 > 386.5)\n",
            "         Predict: 1.0\n",
            "       Else (feature 4 > 2.5)\n",
            "        Predict: 0.0\n",
            "      Else (feature 7 not in {0.0,3.0,4.0,6.0,8.0})\n",
            "       If (feature 14 in {0.0,1.0,3.0,7.0,8.0,11.0})\n",
            "        Predict: 0.0\n",
            "       Else (feature 14 not in {0.0,1.0,3.0,7.0,8.0,11.0})\n",
            "        If (feature 3 <= 147.5)\n",
            "         Predict: 0.0\n",
            "        Else (feature 3 > 147.5)\n",
            "         Predict: 1.0\n",
            "    Else (feature 5 > 12.5)\n",
            "     If (feature 14 in {1.0,2.0,3.0,4.0,5.0,6.0,7.0,8.0,9.0,10.0,11.0})\n",
            "      If (feature 11 in {0.0})\n",
            "       If (feature 15 in {0.0,1.0,2.0})\n",
            "        Predict: 0.0\n",
            "       Else (feature 15 not in {0.0,1.0,2.0})\n",
            "        If (feature 4 <= 6.5)\n",
            "         Predict: 1.0\n",
            "        Else (feature 4 > 6.5)\n",
            "         Predict: 0.0\n",
            "      Else (feature 11 not in {0.0})\n",
            "       If (feature 15 in {0.0,1.0,2.0})\n",
            "        Predict: 0.0\n",
            "       Else (feature 15 not in {0.0,1.0,2.0})\n",
            "        If (feature 3 <= 136.5)\n",
            "         Predict: 0.0\n",
            "        Else (feature 3 > 136.5)\n",
            "         Predict: 1.0\n",
            "     Else (feature 14 not in {1.0,2.0,3.0,4.0,5.0,6.0,7.0,8.0,9.0,10.0,11.0})\n",
            "      If (feature 2 <= 18.5)\n",
            "       If (feature 3 <= 477.5)\n",
            "        If (feature 0 <= 60.5)\n",
            "         Predict: 0.0\n",
            "        Else (feature 0 > 60.5)\n",
            "         Predict: 1.0\n",
            "       Else (feature 3 > 477.5)\n",
            "        If (feature 2 <= 5.5)\n",
            "         Predict: 1.0\n",
            "        Else (feature 2 > 5.5)\n",
            "         Predict: 0.0\n",
            "      Else (feature 2 > 18.5)\n",
            "       If (feature 12 in {1.0})\n",
            "        If (feature 9 in {2.0})\n",
            "         Predict: 0.0\n",
            "        Else (feature 9 not in {2.0})\n",
            "         Predict: 1.0\n",
            "       Else (feature 12 not in {1.0})\n",
            "        If (feature 3 <= 166.5)\n",
            "         Predict: 0.0\n",
            "        Else (feature 3 > 166.5)\n",
            "         Predict: 1.0\n",
            "  Tree 11 (weight 1.0):\n",
            "    If (feature 3 <= 558.5)\n",
            "     If (feature 6 <= 0.5)\n",
            "      Predict: 0.0\n",
            "     Else (feature 6 > 0.5)\n",
            "      If (feature 5 <= 189.5)\n",
            "       Predict: 0.0\n",
            "      Else (feature 5 > 189.5)\n",
            "       If (feature 11 in {0.0})\n",
            "        If (feature 14 in {0.0,1.0,3.0,4.0,5.0,6.0,7.0,8.0,9.0,10.0,11.0})\n",
            "         Predict: 0.0\n",
            "        Else (feature 14 not in {0.0,1.0,3.0,4.0,5.0,6.0,7.0,8.0,9.0,10.0,11.0})\n",
            "         Predict: 1.0\n",
            "       Else (feature 11 not in {0.0})\n",
            "        Predict: 0.0\n",
            "    Else (feature 3 > 558.5)\n",
            "     If (feature 3 <= 882.5)\n",
            "      If (feature 6 <= 0.5)\n",
            "       Predict: 0.0\n",
            "      Else (feature 6 > 0.5)\n",
            "       If (feature 5 <= 93.5)\n",
            "        Predict: 1.0\n",
            "       Else (feature 5 > 93.5)\n",
            "        If (feature 7 in {0.0,2.0,3.0,4.0,6.0,7.0,8.0,9.0,10.0,11.0})\n",
            "         Predict: 0.0\n",
            "        Else (feature 7 not in {0.0,2.0,3.0,4.0,6.0,7.0,8.0,9.0,10.0,11.0})\n",
            "         Predict: 1.0\n",
            "     Else (feature 3 > 882.5)\n",
            "      If (feature 0 <= 29.5)\n",
            "       If (feature 5 <= 281.5)\n",
            "        If (feature 2 <= 3.5)\n",
            "         Predict: 0.0\n",
            "        Else (feature 2 > 3.5)\n",
            "         Predict: 1.0\n",
            "       Else (feature 5 > 281.5)\n",
            "        If (feature 9 in {0.0})\n",
            "         Predict: 0.0\n",
            "        Else (feature 9 not in {0.0})\n",
            "         Predict: 1.0\n",
            "      Else (feature 0 > 29.5)\n",
            "       If (feature 9 in {3.0})\n",
            "        Predict: 0.0\n",
            "       Else (feature 9 not in {3.0})\n",
            "        If (feature 4 <= 11.5)\n",
            "         Predict: 1.0\n",
            "        Else (feature 4 > 11.5)\n",
            "         Predict: 0.0\n",
            "  Tree 12 (weight 1.0):\n",
            "    If (feature 3 <= 558.5)\n",
            "     If (feature 15 in {1.0,2.0,3.0})\n",
            "      If (feature 5 <= 189.5)\n",
            "       If (feature 0 <= 60.5)\n",
            "        Predict: 0.0\n",
            "       Else (feature 0 > 60.5)\n",
            "        If (feature 3 <= 218.5)\n",
            "         Predict: 0.0\n",
            "        Else (feature 3 > 218.5)\n",
            "         Predict: 1.0\n",
            "      Else (feature 5 > 189.5)\n",
            "       If (feature 3 <= 203.5)\n",
            "        Predict: 0.0\n",
            "       Else (feature 3 > 203.5)\n",
            "        If (feature 0 <= 60.5)\n",
            "         Predict: 0.0\n",
            "        Else (feature 0 > 60.5)\n",
            "         Predict: 1.0\n",
            "     Else (feature 15 not in {1.0,2.0,3.0})\n",
            "      If (feature 0 <= 60.5)\n",
            "       Predict: 0.0\n",
            "      Else (feature 0 > 60.5)\n",
            "       If (feature 2 <= 5.5)\n",
            "        Predict: 0.0\n",
            "       Else (feature 2 > 5.5)\n",
            "        If (feature 3 <= 218.5)\n",
            "         Predict: 0.0\n",
            "        Else (feature 3 > 218.5)\n",
            "         Predict: 1.0\n",
            "    Else (feature 3 > 558.5)\n",
            "     If (feature 8 in {1.0,2.0})\n",
            "      If (feature 7 in {3.0,4.0,5.0,6.0,7.0,8.0,9.0,10.0,11.0})\n",
            "       If (feature 0 <= 58.5)\n",
            "        Predict: 1.0\n",
            "       Else (feature 0 > 58.5)\n",
            "        If (feature 15 in {2.0})\n",
            "         Predict: 0.0\n",
            "        Else (feature 15 not in {2.0})\n",
            "         Predict: 1.0\n",
            "      Else (feature 7 not in {3.0,4.0,5.0,6.0,7.0,8.0,9.0,10.0,11.0})\n",
            "       If (feature 2 <= 13.5)\n",
            "        Predict: 1.0\n",
            "       Else (feature 2 > 13.5)\n",
            "        Predict: 0.0\n",
            "     Else (feature 8 not in {1.0,2.0})\n",
            "      If (feature 14 in {1.0,2.0,3.0,4.0,5.0,6.0,7.0,8.0,9.0,10.0,11.0})\n",
            "       If (feature 5 <= 3.5)\n",
            "        If (feature 3 <= 882.5)\n",
            "         Predict: 0.0\n",
            "        Else (feature 3 > 882.5)\n",
            "         Predict: 1.0\n",
            "       Else (feature 5 > 3.5)\n",
            "        If (feature 14 in {1.0,2.0,3.0,7.0,8.0,9.0,10.0,11.0})\n",
            "         Predict: 1.0\n",
            "        Else (feature 14 not in {1.0,2.0,3.0,7.0,8.0,9.0,10.0,11.0})\n",
            "         Predict: 0.0\n",
            "      Else (feature 14 not in {1.0,2.0,3.0,4.0,5.0,6.0,7.0,8.0,9.0,10.0,11.0})\n",
            "       If (feature 15 in {1.0,2.0,3.0})\n",
            "        Predict: 1.0\n",
            "       Else (feature 15 not in {1.0,2.0,3.0})\n",
            "        If (feature 1 <= 3574.5)\n",
            "         Predict: 0.0\n",
            "        Else (feature 1 > 3574.5)\n",
            "         Predict: 1.0\n",
            "  Tree 13 (weight 1.0):\n",
            "    If (feature 5 <= 20.0)\n",
            "     If (feature 0 <= 60.5)\n",
            "      If (feature 3 <= 558.5)\n",
            "       Predict: 0.0\n",
            "      Else (feature 3 > 558.5)\n",
            "       If (feature 8 in {1.0,2.0})\n",
            "        If (feature 3 <= 672.5)\n",
            "         Predict: 0.0\n",
            "        Else (feature 3 > 672.5)\n",
            "         Predict: 1.0\n",
            "       Else (feature 8 not in {1.0,2.0})\n",
            "        Predict: 0.0\n",
            "     Else (feature 0 > 60.5)\n",
            "      If (feature 7 in {0.0,3.0,4.0,8.0,11.0})\n",
            "       If (feature 14 in {1.0,2.0,5.0,6.0,7.0,8.0,9.0,10.0})\n",
            "        Predict: 0.0\n",
            "       Else (feature 14 not in {1.0,2.0,5.0,6.0,7.0,8.0,9.0,10.0})\n",
            "        If (feature 13 in {1.0})\n",
            "         Predict: 0.0\n",
            "        Else (feature 13 not in {1.0})\n",
            "         Predict: 1.0\n",
            "      Else (feature 7 not in {0.0,3.0,4.0,8.0,11.0})\n",
            "       If (feature 3 <= 203.5)\n",
            "        Predict: 0.0\n",
            "       Else (feature 3 > 203.5)\n",
            "        If (feature 13 in {1.0,2.0})\n",
            "         Predict: 0.0\n",
            "        Else (feature 13 not in {1.0,2.0})\n",
            "         Predict: 1.0\n",
            "    Else (feature 5 > 20.0)\n",
            "     If (feature 15 in {0.0,1.0,2.0})\n",
            "      Predict: 0.0\n",
            "     Else (feature 15 not in {0.0,1.0,2.0})\n",
            "      If (feature 8 in {1.0,2.0})\n",
            "       If (feature 1 <= 1216.5)\n",
            "        Predict: 1.0\n",
            "       Else (feature 1 > 1216.5)\n",
            "        If (feature 1 <= 7354.0)\n",
            "         Predict: 0.0\n",
            "        Else (feature 1 > 7354.0)\n",
            "         Predict: 1.0\n",
            "      Else (feature 8 not in {1.0,2.0})\n",
            "       If (feature 7 in {0.0,2.0,4.0,6.0,7.0,8.0,9.0,10.0,11.0})\n",
            "        If (feature 3 <= 136.5)\n",
            "         Predict: 0.0\n",
            "        Else (feature 3 > 136.5)\n",
            "         Predict: 1.0\n",
            "       Else (feature 7 not in {0.0,2.0,4.0,6.0,7.0,8.0,9.0,10.0,11.0})\n",
            "        If (feature 3 <= 136.5)\n",
            "         Predict: 0.0\n",
            "        Else (feature 3 > 136.5)\n",
            "         Predict: 1.0\n",
            "  Tree 14 (weight 1.0):\n",
            "    If (feature 14 in {7.0,8.0,9.0,10.0,11.0})\n",
            "     If (feature 2 <= 27.5)\n",
            "      If (feature 3 <= 147.5)\n",
            "       If (feature 2 <= 26.5)\n",
            "        Predict: 0.0\n",
            "       Else (feature 2 > 26.5)\n",
            "        If (feature 3 <= 126.5)\n",
            "         Predict: 0.0\n",
            "        Else (feature 3 > 126.5)\n",
            "         Predict: 1.0\n",
            "      Else (feature 3 > 147.5)\n",
            "       If (feature 15 in {1.0,2.0})\n",
            "        If (feature 2 <= 1.5)\n",
            "         Predict: 0.0\n",
            "        Else (feature 2 > 1.5)\n",
            "         Predict: 1.0\n",
            "       Else (feature 15 not in {1.0,2.0})\n",
            "        Predict: 1.0\n",
            "     Else (feature 2 > 27.5)\n",
            "      If (feature 0 <= 60.5)\n",
            "       If (feature 2 <= 30.5)\n",
            "        If (feature 0 <= 25.5)\n",
            "         Predict: 1.0\n",
            "        Else (feature 0 > 25.5)\n",
            "         Predict: 0.0\n",
            "       Else (feature 2 > 30.5)\n",
            "        If (feature 0 <= 34.5)\n",
            "         Predict: 0.0\n",
            "        Else (feature 0 > 34.5)\n",
            "         Predict: 1.0\n",
            "      Else (feature 0 > 60.5)\n",
            "       If (feature 2 <= 28.5)\n",
            "        If (feature 6 <= 2.5)\n",
            "         Predict: 0.0\n",
            "        Else (feature 6 > 2.5)\n",
            "         Predict: 1.0\n",
            "       Else (feature 2 > 28.5)\n",
            "        Predict: 1.0\n",
            "    Else (feature 14 not in {7.0,8.0,9.0,10.0,11.0})\n",
            "     If (feature 11 in {0.0})\n",
            "      If (feature 6 <= 0.5)\n",
            "       Predict: 0.0\n",
            "      Else (feature 6 > 0.5)\n",
            "       If (feature 3 <= 425.5)\n",
            "        Predict: 0.0\n",
            "       Else (feature 3 > 425.5)\n",
            "        If (feature 2 <= 21.5)\n",
            "         Predict: 0.0\n",
            "        Else (feature 2 > 21.5)\n",
            "         Predict: 1.0\n",
            "     Else (feature 11 not in {0.0})\n",
            "      If (feature 13 in {1.0})\n",
            "       If (feature 2 <= 30.5)\n",
            "        Predict: 0.0\n",
            "       Else (feature 2 > 30.5)\n",
            "        If (feature 12 in {0.0})\n",
            "         Predict: 0.0\n",
            "        Else (feature 12 not in {0.0})\n",
            "         Predict: 1.0\n",
            "      Else (feature 13 not in {1.0})\n",
            "       If (feature 5 <= 8.5)\n",
            "        If (feature 2 <= 1.5)\n",
            "         Predict: 1.0\n",
            "        Else (feature 2 > 1.5)\n",
            "         Predict: 0.0\n",
            "       Else (feature 5 > 8.5)\n",
            "        Predict: 0.0\n",
            "  Tree 15 (weight 1.0):\n",
            "    If (feature 14 in {7.0,8.0,9.0,10.0,11.0})\n",
            "     If (feature 2 <= 27.5)\n",
            "      If (feature 13 in {1.0})\n",
            "       Predict: 0.0\n",
            "      Else (feature 13 not in {1.0})\n",
            "       If (feature 6 <= 0.5)\n",
            "        Predict: 0.0\n",
            "       Else (feature 6 > 0.5)\n",
            "        If (feature 15 in {0.0,1.0,2.0})\n",
            "         Predict: 0.0\n",
            "        Else (feature 15 not in {0.0,1.0,2.0})\n",
            "         Predict: 1.0\n",
            "     Else (feature 2 > 27.5)\n",
            "      If (feature 2 <= 30.5)\n",
            "       If (feature 14 in {8.0,9.0,10.0,11.0})\n",
            "        If (feature 3 <= 250.5)\n",
            "         Predict: 0.0\n",
            "        Else (feature 3 > 250.5)\n",
            "         Predict: 1.0\n",
            "       Else (feature 14 not in {8.0,9.0,10.0,11.0})\n",
            "        If (feature 4 <= 7.5)\n",
            "         Predict: 0.0\n",
            "        Else (feature 4 > 7.5)\n",
            "         Predict: 1.0\n",
            "      Else (feature 2 > 30.5)\n",
            "       If (feature 14 in {8.0})\n",
            "        Predict: 1.0\n",
            "       Else (feature 14 not in {8.0})\n",
            "        If (feature 9 in {0.0})\n",
            "         Predict: 0.0\n",
            "        Else (feature 9 not in {0.0})\n",
            "         Predict: 1.0\n",
            "    Else (feature 14 not in {7.0,8.0,9.0,10.0,11.0})\n",
            "     If (feature 3 <= 558.5)\n",
            "      Predict: 0.0\n",
            "     Else (feature 3 > 558.5)\n",
            "      If (feature 3 <= 882.5)\n",
            "       If (feature 6 <= 0.5)\n",
            "        Predict: 0.0\n",
            "       Else (feature 6 > 0.5)\n",
            "        If (feature 11 in {1.0})\n",
            "         Predict: 1.0\n",
            "        Else (feature 11 not in {1.0})\n",
            "         Predict: 0.0\n",
            "      Else (feature 3 > 882.5)\n",
            "       If (feature 7 in {7.0,9.0,10.0,11.0})\n",
            "        If (feature 14 in {0.0,2.0,5.0})\n",
            "         Predict: 0.0\n",
            "        Else (feature 14 not in {0.0,2.0,5.0})\n",
            "         Predict: 1.0\n",
            "       Else (feature 7 not in {7.0,9.0,10.0,11.0})\n",
            "        Predict: 1.0\n",
            "  Tree 16 (weight 1.0):\n",
            "    If (feature 0 <= 60.5)\n",
            "     If (feature 6 <= 0.5)\n",
            "      If (feature 13 in {1.0,2.0})\n",
            "       Predict: 0.0\n",
            "      Else (feature 13 not in {1.0,2.0})\n",
            "       If (feature 3 <= 558.5)\n",
            "        Predict: 0.0\n",
            "       Else (feature 3 > 558.5)\n",
            "        If (feature 8 in {1.0,2.0})\n",
            "         Predict: 1.0\n",
            "        Else (feature 8 not in {1.0,2.0})\n",
            "         Predict: 0.0\n",
            "     Else (feature 6 > 0.5)\n",
            "      If (feature 2 <= 21.5)\n",
            "       If (feature 5 <= 93.5)\n",
            "        If (feature 11 in {0.0})\n",
            "         Predict: 0.0\n",
            "        Else (feature 11 not in {0.0})\n",
            "         Predict: 1.0\n",
            "       Else (feature 5 > 93.5)\n",
            "        Predict: 0.0\n",
            "      Else (feature 2 > 21.5)\n",
            "       If (feature 3 <= 166.5)\n",
            "        Predict: 0.0\n",
            "       Else (feature 3 > 166.5)\n",
            "        If (feature 15 in {0.0,1.0,2.0})\n",
            "         Predict: 0.0\n",
            "        Else (feature 15 not in {0.0,1.0,2.0})\n",
            "         Predict: 1.0\n",
            "    Else (feature 0 > 60.5)\n",
            "     If (feature 2 <= 28.5)\n",
            "      If (feature 5 <= 30.5)\n",
            "       Predict: 0.0\n",
            "      Else (feature 5 > 30.5)\n",
            "       If (feature 15 in {0.0,1.0,2.0})\n",
            "        Predict: 0.0\n",
            "       Else (feature 15 not in {0.0,1.0,2.0})\n",
            "        If (feature 7 in {2.0,8.0})\n",
            "         Predict: 0.0\n",
            "        Else (feature 7 not in {2.0,8.0})\n",
            "         Predict: 1.0\n",
            "     Else (feature 2 > 28.5)\n",
            "      If (feature 4 <= 3.5)\n",
            "       Predict: 1.0\n",
            "      Else (feature 4 > 3.5)\n",
            "       If (feature 5 <= 93.5)\n",
            "        If (feature 1 <= 0.5)\n",
            "         Predict: 1.0\n",
            "        Else (feature 1 > 0.5)\n",
            "         Predict: 0.0\n",
            "       Else (feature 5 > 93.5)\n",
            "        Predict: 0.0\n",
            "  Tree 17 (weight 1.0):\n",
            "    If (feature 5 <= 26.0)\n",
            "     If (feature 13 in {1.0,2.0})\n",
            "      Predict: 0.0\n",
            "     Else (feature 13 not in {1.0,2.0})\n",
            "      If (feature 1 <= 223.5)\n",
            "       If (feature 8 in {1.0,2.0})\n",
            "        If (feature 3 <= 672.5)\n",
            "         Predict: 0.0\n",
            "        Else (feature 3 > 672.5)\n",
            "         Predict: 1.0\n",
            "       Else (feature 8 not in {1.0,2.0})\n",
            "        Predict: 0.0\n",
            "      Else (feature 1 > 223.5)\n",
            "       Predict: 0.0\n",
            "    Else (feature 5 > 26.0)\n",
            "     If (feature 3 <= 203.5)\n",
            "      If (feature 3 <= 147.5)\n",
            "       Predict: 0.0\n",
            "      Else (feature 3 > 147.5)\n",
            "       If (feature 15 in {0.0,1.0,2.0})\n",
            "        Predict: 0.0\n",
            "       Else (feature 15 not in {0.0,1.0,2.0})\n",
            "        Predict: 1.0\n",
            "     Else (feature 3 > 203.5)\n",
            "      If (feature 11 in {0.0})\n",
            "       If (feature 5 <= 93.5)\n",
            "        If (feature 6 <= 4.5)\n",
            "         Predict: 0.0\n",
            "        Else (feature 6 > 4.5)\n",
            "         Predict: 1.0\n",
            "       Else (feature 5 > 93.5)\n",
            "        Predict: 0.0\n",
            "      Else (feature 11 not in {0.0})\n",
            "       If (feature 12 in {1.0})\n",
            "        Predict: 0.0\n",
            "       Else (feature 12 not in {1.0})\n",
            "        If (feature 2 <= 1.5)\n",
            "         Predict: 0.0\n",
            "        Else (feature 2 > 1.5)\n",
            "         Predict: 1.0\n",
            "  Tree 18 (weight 1.0):\n",
            "    If (feature 14 in {7.0,8.0,9.0,10.0,11.0})\n",
            "     If (feature 0 <= 58.5)\n",
            "      If (feature 15 in {1.0,2.0,3.0})\n",
            "       If (feature 14 in {7.0,11.0})\n",
            "        If (feature 5 <= 281.5)\n",
            "         Predict: 0.0\n",
            "        Else (feature 5 > 281.5)\n",
            "         Predict: 1.0\n",
            "       Else (feature 14 not in {7.0,11.0})\n",
            "        If (feature 4 <= 5.5)\n",
            "         Predict: 1.0\n",
            "        Else (feature 4 > 5.5)\n",
            "         Predict: 0.0\n",
            "      Else (feature 15 not in {1.0,2.0,3.0})\n",
            "       Predict: 0.0\n",
            "     Else (feature 0 > 58.5)\n",
            "      If (feature 1 <= 1399.5)\n",
            "       If (feature 15 in {0.0,1.0,2.0})\n",
            "        Predict: 0.0\n",
            "       Else (feature 15 not in {0.0,1.0,2.0})\n",
            "        Predict: 1.0\n",
            "      Else (feature 1 > 1399.5)\n",
            "       If (feature 3 <= 92.5)\n",
            "        Predict: 0.0\n",
            "       Else (feature 3 > 92.5)\n",
            "        If (feature 4 <= 1.5)\n",
            "         Predict: 0.0\n",
            "        Else (feature 4 > 1.5)\n",
            "         Predict: 1.0\n",
            "    Else (feature 14 not in {7.0,8.0,9.0,10.0,11.0})\n",
            "     If (feature 6 <= 0.5)\n",
            "      If (feature 1 <= 673.5)\n",
            "       If (feature 3 <= 558.5)\n",
            "        Predict: 0.0\n",
            "       Else (feature 3 > 558.5)\n",
            "        If (feature 3 <= 882.5)\n",
            "         Predict: 0.0\n",
            "        Else (feature 3 > 882.5)\n",
            "         Predict: 1.0\n",
            "      Else (feature 1 > 673.5)\n",
            "       Predict: 0.0\n",
            "     Else (feature 6 > 0.5)\n",
            "      If (feature 2 <= 22.5)\n",
            "       Predict: 0.0\n",
            "      Else (feature 2 > 22.5)\n",
            "       If (feature 4 <= 5.5)\n",
            "        If (feature 2 <= 23.5)\n",
            "         Predict: 1.0\n",
            "        Else (feature 2 > 23.5)\n",
            "         Predict: 0.0\n",
            "       Else (feature 4 > 5.5)\n",
            "        Predict: 1.0\n",
            "  Tree 19 (weight 1.0):\n",
            "    If (feature 6 <= 0.5)\n",
            "     If (feature 0 <= 60.5)\n",
            "      If (feature 3 <= 558.5)\n",
            "       Predict: 0.0\n",
            "      Else (feature 3 > 558.5)\n",
            "       If (feature 8 in {1.0,2.0})\n",
            "        If (feature 2 <= 18.5)\n",
            "         Predict: 1.0\n",
            "        Else (feature 2 > 18.5)\n",
            "         Predict: 0.0\n",
            "       Else (feature 8 not in {1.0,2.0})\n",
            "        If (feature 3 <= 882.5)\n",
            "         Predict: 0.0\n",
            "        Else (feature 3 > 882.5)\n",
            "         Predict: 1.0\n",
            "     Else (feature 0 > 60.5)\n",
            "      If (feature 13 in {1.0,2.0})\n",
            "       If (feature 9 in {1.0,2.0})\n",
            "        Predict: 0.0\n",
            "       Else (feature 9 not in {1.0,2.0})\n",
            "        If (feature 14 in {0.0,2.0,3.0,4.0,5.0,6.0,7.0,8.0,9.0,10.0,11.0})\n",
            "         Predict: 0.0\n",
            "        Else (feature 14 not in {0.0,2.0,3.0,4.0,5.0,6.0,7.0,8.0,9.0,10.0,11.0})\n",
            "         Predict: 1.0\n",
            "      Else (feature 13 not in {1.0,2.0})\n",
            "       If (feature 3 <= 126.5)\n",
            "        Predict: 0.0\n",
            "       Else (feature 3 > 126.5)\n",
            "        If (feature 14 in {0.0,1.0,3.0,10.0,11.0})\n",
            "         Predict: 0.0\n",
            "        Else (feature 14 not in {0.0,1.0,3.0,10.0,11.0})\n",
            "         Predict: 1.0\n",
            "    Else (feature 6 > 0.5)\n",
            "     If (feature 15 in {0.0,1.0,2.0})\n",
            "      If (feature 11 in {0.0})\n",
            "       Predict: 0.0\n",
            "      Else (feature 11 not in {0.0})\n",
            "       If (feature 3 <= 386.5)\n",
            "        Predict: 0.0\n",
            "       Else (feature 3 > 386.5)\n",
            "        Predict: 1.0\n",
            "     Else (feature 15 not in {0.0,1.0,2.0})\n",
            "      If (feature 0 <= 47.5)\n",
            "       If (feature 4 <= 4.5)\n",
            "        Predict: 1.0\n",
            "       Else (feature 4 > 4.5)\n",
            "        If (feature 2 <= 29.5)\n",
            "         Predict: 0.0\n",
            "        Else (feature 2 > 29.5)\n",
            "         Predict: 1.0\n",
            "      Else (feature 0 > 47.5)\n",
            "       If (feature 2 <= 5.5)\n",
            "        If (feature 3 <= 83.5)\n",
            "         Predict: 0.0\n",
            "        Else (feature 3 > 83.5)\n",
            "         Predict: 1.0\n",
            "       Else (feature 2 > 5.5)\n",
            "        If (feature 3 <= 166.5)\n",
            "         Predict: 0.0\n",
            "        Else (feature 3 > 166.5)\n",
            "         Predict: 1.0\n",
            "\n"
          ]
        }
      ],
      "source": [
        "from pyspark.ml.classification import RandomForestClassifier\n",
        "\n",
        "clf = RandomForestClassifier(featuresCol='features', labelCol='y')\n",
        "clf_model = clf.fit(train)\n",
        "print(clf_model.featureImportances)\n",
        "print(clf_model.toDebugString)"
      ]
    },
    {
      "cell_type": "code",
      "execution_count": 14,
      "metadata": {
        "application/vnd.databricks.v1+cell": {
          "cellMetadata": {
            "byteLimit": 2048000,
            "rowLimit": 10000
          },
          "inputWidgets": {},
          "nuid": "26e96a7a-c91a-4d11-9fce-661671d92ed5",
          "showTitle": false,
          "title": ""
        },
        "id": "miolcQQy8KT2"
      },
      "outputs": [],
      "source": [
        "train_pred_result = clf_model.transform(train)\n",
        "test_pred_result = clf_model.transform(test)"
      ]
    },
    {
      "cell_type": "code",
      "execution_count": 15,
      "metadata": {
        "application/vnd.databricks.v1+cell": {
          "cellMetadata": {
            "byteLimit": 2048000,
            "rowLimit": 10000
          },
          "inputWidgets": {},
          "nuid": "d8e0caa4-f821-4b3b-8f0b-1e4c66facb93",
          "showTitle": false,
          "title": ""
        },
        "id": "NeDu4kqF8KT2"
      },
      "outputs": [],
      "source": [
        "from pyspark.mllib.evaluation import MulticlassMetrics\n",
        "from pyspark.ml.evaluation import BinaryClassificationEvaluator\n",
        "from pyspark.sql.types import IntegerType, DoubleType\n",
        "\n",
        "def evaluation_metrics(df, target_variable_name):\n",
        "    pred = df.select(\"prediction\", target_variable_name)\n",
        "    pred = pred.withColumn(target_variable_name, pred[target_variable_name].cast(DoubleType()))\n",
        "    pred = pred.withColumn(\"prediction\", pred[\"prediction\"].cast(DoubleType()))\n",
        "    metrics = MulticlassMetrics(pred.rdd.map(tuple))\n",
        "    # confusion matrix\n",
        "    cm = metrics.confusionMatrix().toArray()\n",
        "    acc = metrics.accuracy #accuracy\n",
        "    misclassification_rate = 1 - acc #misclassification rate\n",
        "    precision = metrics.precision(1.0) #precision\n",
        "    recall = metrics.recall(1.0) #recall\n",
        "    f1 = metrics.fMeasure(1.0) #f1-score\n",
        "    #roc value\n",
        "    evaluator_roc = BinaryClassificationEvaluator(labelCol=target_variable_name, rawPredictionCol='rawPrediction', metricName='areaUnderROC')\n",
        "    roc = evaluator_roc.evaluate(df)\n",
        "    evaluator_pr = BinaryClassificationEvaluator(labelCol=target_variable_name, rawPredictionCol='rawPrediction', metricName='areaUnderPR')\n",
        "    pr = evaluator_pr.evaluate(df)\n",
        "    return cm, acc, misclassification_rate, precision, recall, f1, roc, pr"
      ]
    },
    {
      "cell_type": "code",
      "execution_count": 16,
      "metadata": {
        "application/vnd.databricks.v1+cell": {
          "cellMetadata": {
            "byteLimit": 2048000,
            "rowLimit": 10000
          },
          "inputWidgets": {},
          "nuid": "3a57d889-6b4c-436f-a9b1-91a7029ea87b",
          "showTitle": false,
          "title": ""
        },
        "colab": {
          "base_uri": "https://localhost:8080/"
        },
        "id": "nu6xSnyN8KT2",
        "outputId": "89e6f8d8-3bbb-4b2c-a5c1-c92bc4bd7eb2"
      },
      "outputs": [
        {
          "output_type": "stream",
          "name": "stderr",
          "text": [
            "/usr/local/lib/python3.10/dist-packages/pyspark/sql/context.py:157: FutureWarning: Deprecated in 3.0.0. Use SparkSession.builder.getOrCreate() instead.\n",
            "  warnings.warn(\n"
          ]
        }
      ],
      "source": [
        "train_cm, train_acc, train_miss_rate, train_precision, \\\n",
        "        train_recall, train_f1, train_roc, train_pr = evaluation_metrics(train_pred_result, target_variable_name)"
      ]
    },
    {
      "cell_type": "code",
      "execution_count": 17,
      "metadata": {
        "application/vnd.databricks.v1+cell": {
          "cellMetadata": {
            "byteLimit": 2048000,
            "rowLimit": 10000
          },
          "inputWidgets": {},
          "nuid": "10691852-9361-4e7d-96f2-a2b42ad4a503",
          "showTitle": false,
          "title": ""
        },
        "colab": {
          "base_uri": "https://localhost:8080/"
        },
        "id": "s1P2_uH78KT3",
        "outputId": "6306ad5d-e530-4fca-b2d7-9589b4d5b2f2"
      },
      "outputs": [
        {
          "output_type": "stream",
          "name": "stderr",
          "text": [
            "/usr/local/lib/python3.10/dist-packages/pyspark/sql/context.py:157: FutureWarning: Deprecated in 3.0.0. Use SparkSession.builder.getOrCreate() instead.\n",
            "  warnings.warn(\n"
          ]
        }
      ],
      "source": [
        "test_cm, test_acc, test_miss_rate, test_precision, \\\n",
        "        test_recall, test_f1, test_roc, test_pr = evaluation_metrics(test_pred_result, target_variable_name)"
      ]
    },
    {
      "cell_type": "markdown",
      "metadata": {
        "application/vnd.databricks.v1+cell": {
          "cellMetadata": {},
          "inputWidgets": {},
          "nuid": "373542c8-b775-4b83-9267-c82411a5a54e",
          "showTitle": false,
          "title": ""
        },
        "id": "KQkJlZI68KT3"
      },
      "source": [
        "## Comparision of metrics"
      ]
    },
    {
      "cell_type": "code",
      "execution_count": 18,
      "metadata": {
        "application/vnd.databricks.v1+cell": {
          "cellMetadata": {
            "byteLimit": 2048000,
            "rowLimit": 10000
          },
          "inputWidgets": {},
          "nuid": "b6292ae2-fb80-4f9d-b4e0-9e403ca7b710",
          "showTitle": false,
          "title": ""
        },
        "colab": {
          "base_uri": "https://localhost:8080/"
        },
        "id": "14630jQI8KT3",
        "outputId": "32a171f8-675a-4b16-ddde-590f1777126d"
      },
      "outputs": [
        {
          "output_type": "stream",
          "name": "stdout",
          "text": [
            "Train accuracy -  0.8914263964221144 , Test accuracy -  0.8903098509207834\n",
            "Train misclassification rate -  0.10857360357788559 , Test misclassification rate -  0.10969014907921659\n",
            "Train precision -  0.8161764705882353 , Test precision -  0.8057142857142857\n",
            "Train recall -  0.09046454767726161 , Test recall -  0.08768656716417911\n",
            "Train f1 score -  0.16287600880410857 , Test f1 score -  0.15816040381379698\n",
            "Train ROC -  0.8814466535713957 , Test ROC -  0.8790441167382697\n",
            "Train PR -  0.5624040631840632 , Test PR -  0.5580375487324208\n"
          ]
        }
      ],
      "source": [
        "print('Train accuracy - ', train_acc, ', Test accuracy - ', test_acc)\n",
        "print('Train misclassification rate - ', train_miss_rate, ', Test misclassification rate - ', test_miss_rate)\n",
        "print('Train precision - ', train_precision, ', Test precision - ', test_precision)\n",
        "print('Train recall - ', train_recall, ', Test recall - ', test_recall)\n",
        "print('Train f1 score - ', train_f1, ', Test f1 score - ', test_f1)\n",
        "print('Train ROC - ', train_roc, ', Test ROC - ', test_roc)\n",
        "print('Train PR - ', train_pr, ', Test PR - ', test_pr)"
      ]
    },
    {
      "cell_type": "markdown",
      "metadata": {
        "application/vnd.databricks.v1+cell": {
          "cellMetadata": {},
          "inputWidgets": {},
          "nuid": "ca9add9f-aaab-472b-af16-9d4fb033bbda",
          "showTitle": false,
          "title": ""
        },
        "id": "logulrRw8KT3"
      },
      "source": [
        "### confusion matrix"
      ]
    },
    {
      "cell_type": "code",
      "execution_count": 19,
      "metadata": {
        "application/vnd.databricks.v1+cell": {
          "cellMetadata": {
            "byteLimit": 2048000,
            "rowLimit": 10000
          },
          "inputWidgets": {},
          "nuid": "a2f59121-24fb-4f1a-9653-4ecdf65e7125",
          "showTitle": false,
          "title": ""
        },
        "id": "O9VFF5LS8KT3"
      },
      "outputs": [],
      "source": [
        "import seaborn as sns\n",
        "import matplotlib.pyplot as plt\n",
        "\n",
        "def make_confusion_matrix_chart(cf_matrix_train, cf_matrix_test):\n",
        "\n",
        "    list_values = ['0', '1']\n",
        "\n",
        "    plt.figure(1, figsize=(10,5))\n",
        "    plt.subplot(121)\n",
        "    sns.heatmap(cf_matrix_train, annot=True, yticklabels=list_values,\n",
        "                                xticklabels=list_values, fmt='g')\n",
        "    plt.ylabel(\"Actual\")\n",
        "    plt.xlabel(\"Pred\")\n",
        "    plt.ylim([0,len(list_values)])\n",
        "    plt.title('Train data predictions')\n",
        "\n",
        "    plt.subplot(122)\n",
        "    sns.heatmap(cf_matrix_test, annot=True, yticklabels=list_values,\n",
        "                                xticklabels=list_values, fmt='g')\n",
        "    plt.ylabel(\"Actual\")\n",
        "    plt.xlabel(\"Pred\")\n",
        "    plt.ylim([0,len(list_values)])\n",
        "    plt.title('Test data predictions')\n",
        "\n",
        "    plt.tight_layout()\n",
        "    return None"
      ]
    },
    {
      "cell_type": "code",
      "execution_count": 20,
      "metadata": {
        "application/vnd.databricks.v1+cell": {
          "cellMetadata": {
            "byteLimit": 2048000,
            "rowLimit": 10000
          },
          "inputWidgets": {},
          "nuid": "b9c061a9-1d02-4f8a-9d2a-75eefb098e13",
          "showTitle": false,
          "title": ""
        },
        "colab": {
          "base_uri": "https://localhost:8080/",
          "height": 331
        },
        "id": "sbwaCjzM8KT3",
        "outputId": "23499a82-9a38-416b-c22a-7503ff4e0955"
      },
      "outputs": [
        {
          "output_type": "display_data",
          "data": {
            "text/plain": [
              "<Figure size 1000x500 with 4 Axes>"
            ],
            "image/png": "[encoded data removed]"
          },
          "metadata": {}
        }
      ],
      "source": [
        "make_confusion_matrix_chart(train_cm, test_cm)"
      ]
    },
    {
      "cell_type": "markdown",
      "metadata": {
        "application/vnd.databricks.v1+cell": {
          "cellMetadata": {},
          "inputWidgets": {},
          "nuid": "e961b402-ef0e-400e-9823-c16edea83eef",
          "showTitle": false,
          "title": ""
        },
        "id": "1Mho97z28KT3"
      },
      "source": [
        "### make ROC chart and PR curve"
      ]
    },
    {
      "cell_type": "code",
      "execution_count": 21,
      "metadata": {
        "application/vnd.databricks.v1+cell": {
          "cellMetadata": {
            "byteLimit": 2048000,
            "rowLimit": 10000
          },
          "inputWidgets": {},
          "nuid": "20ebd25b-2a57-47b6-8e13-0d4ed24df300",
          "showTitle": false,
          "title": ""
        },
        "id": "MVBNOSWa8KT3"
      },
      "outputs": [],
      "source": [
        "from pyspark.mllib.evaluation import BinaryClassificationMetrics\n",
        "\n",
        "class CurveMetrics(BinaryClassificationMetrics):\n",
        "    def __init__(self, *args):\n",
        "        super(CurveMetrics, self).__init__(*args)\n",
        "\n",
        "    def _to_list(self, rdd):\n",
        "        points = []\n",
        "        results_collect = rdd.collect()\n",
        "        for row in results_collect:\n",
        "            points += [(float(row._1()), float(row._2()))]\n",
        "        return points\n",
        "\n",
        "    def get_curve(self, method):\n",
        "        rdd = getattr(self._java_model, method)().toJavaRDD()\n",
        "        return self._to_list(rdd)"
      ]
    },
    {
      "cell_type": "code",
      "execution_count": 22,
      "metadata": {
        "application/vnd.databricks.v1+cell": {
          "cellMetadata": {
            "byteLimit": 2048000,
            "rowLimit": 10000
          },
          "inputWidgets": {},
          "nuid": "77b48cd0-9c39-4522-b27b-a63e6686739b",
          "showTitle": false,
          "title": ""
        },
        "id": "T_t2E50z8KT3"
      },
      "outputs": [],
      "source": [
        "import matplotlib.pyplot as plt\n",
        "\n",
        "def plot_roc_pr(df, target_variable_name, plot_type, legend_value, title):\n",
        "\n",
        "    preds = df.select(target_variable_name,'probability')\n",
        "    preds = preds.rdd.map(lambda row: (float(row['probability'][1]), float(row[target_variable_name])))\n",
        "    # Returns as a list (false positive rate, true positive rate)\n",
        "    points = CurveMetrics(preds).get_curve(plot_type)\n",
        "    plt.figure()\n",
        "    x_val = [x[0] for x in points]\n",
        "    y_val = [x[1] for x in points]\n",
        "    plt.title(title)\n",
        "\n",
        "    if plot_type == 'roc':\n",
        "        plt.xlabel('False Positive Rate (1-Specificity)')\n",
        "        plt.ylabel('True Positive Rate (Sensitivity)')\n",
        "        plt.plot(x_val, y_val, label = 'AUC = %0.2f' % legend_value)\n",
        "        plt.plot([0, 1], [0, 1], color='red', linestyle='--')\n",
        "\n",
        "    if plot_type == 'pr':\n",
        "        plt.xlabel('Recall')\n",
        "        plt.ylabel('Precision')\n",
        "        plt.plot(x_val, y_val, label = 'Average Precision = %0.2f' % legend_value)\n",
        "        plt.plot([0, 1], [0.5, 0.5], color='red', linestyle='--')\n",
        "\n",
        "    plt.legend(loc = 'lower right')\n",
        "    return None"
      ]
    },
    {
      "cell_type": "code",
      "execution_count": 23,
      "metadata": {
        "application/vnd.databricks.v1+cell": {
          "cellMetadata": {
            "byteLimit": 2048000,
            "rowLimit": 10000
          },
          "inputWidgets": {},
          "nuid": "1b6770e4-b020-412b-a89c-3691c08181c5",
          "showTitle": false,
          "title": ""
        },
        "colab": {
          "base_uri": "https://localhost:8080/",
          "height": 527
        },
        "id": "6M2p-6kR8KT4",
        "outputId": "f6a93dd5-1d85-46cd-e8d3-267fb8dfc00c"
      },
      "outputs": [
        {
          "output_type": "stream",
          "name": "stderr",
          "text": [
            "/usr/local/lib/python3.10/dist-packages/pyspark/sql/context.py:157: FutureWarning: Deprecated in 3.0.0. Use SparkSession.builder.getOrCreate() instead.\n",
            "  warnings.warn(\n"
          ]
        },
        {
          "output_type": "display_data",
          "data": {
            "text/plain": [
              "<Figure size 640x480 with 1 Axes>"
            ],
            "image/png": "[encoded data removed]"
          },
          "metadata": {}
        }
      ],
      "source": [
        "plot_roc_pr(train_pred_result, target_variable_name, 'roc', train_roc, 'Train ROC')"
      ]
    },
    {
      "cell_type": "code",
      "execution_count": 24,
      "metadata": {
        "application/vnd.databricks.v1+cell": {
          "cellMetadata": {
            "byteLimit": 2048000,
            "rowLimit": 10000
          },
          "inputWidgets": {},
          "nuid": "f41edfff-0430-48f6-9c6f-546fc99b9804",
          "showTitle": false,
          "title": ""
        },
        "colab": {
          "base_uri": "https://localhost:8080/",
          "height": 472
        },
        "id": "ttD5f5MS8KT4",
        "outputId": "be905982-780c-4001-c7e7-45970309a8ad"
      },
      "outputs": [
        {
          "output_type": "display_data",
          "data": {
            "text/plain": [
              "<Figure size 640x480 with 1 Axes>"
            ],
            "image/png": "[encoded data removed]"
          },
          "metadata": {}
        }
      ],
      "source": [
        "plot_roc_pr(test_pred_result, target_variable_name, 'roc', test_roc, 'Test ROC')"
      ]
    },
    {
      "cell_type": "code",
      "execution_count": 25,
      "metadata": {
        "application/vnd.databricks.v1+cell": {
          "cellMetadata": {
            "byteLimit": 2048000,
            "rowLimit": 10000
          },
          "inputWidgets": {},
          "nuid": "fd1c1821-5f79-422d-b077-2ee75857582b",
          "showTitle": false,
          "title": ""
        },
        "colab": {
          "base_uri": "https://localhost:8080/",
          "height": 472
        },
        "id": "uMJwrcx_8KT4",
        "outputId": "24400dc0-89c4-4fed-969a-da3f25ed04df"
      },
      "outputs": [
        {
          "output_type": "display_data",
          "data": {
            "text/plain": [
              "<Figure size 640x480 with 1 Axes>"
            ],
            "image/png": "[encoded data removed]"
          },
          "metadata": {}
        }
      ],
      "source": [
        "plot_roc_pr(train_pred_result, target_variable_name, 'pr', train_pr, 'Train Precision-Recall curve')"
      ]
    },
    {
      "cell_type": "code",
      "execution_count": 26,
      "metadata": {
        "application/vnd.databricks.v1+cell": {
          "cellMetadata": {
            "byteLimit": 2048000,
            "rowLimit": 10000
          },
          "inputWidgets": {},
          "nuid": "a314f8d8-8c6f-403b-8e21-a0a73085590d",
          "showTitle": false,
          "title": ""
        },
        "colab": {
          "base_uri": "https://localhost:8080/",
          "height": 472
        },
        "id": "WJ4ouVLk8KT4",
        "outputId": "e4cc60fb-f05b-4490-f2b1-e9fd1d65a53a"
      },
      "outputs": [
        {
          "output_type": "display_data",
          "data": {
            "text/plain": [
              "<Figure size 640x480 with 1 Axes>"
            ],
            "image/png": "[encoded data removed]"
          },
          "metadata": {}
        }
      ],
      "source": [
        "plot_roc_pr(test_pred_result, target_variable_name, 'pr', test_pr, 'Test Precision-Recall curve')"
      ]
    },
    {
      "cell_type": "markdown",
      "metadata": {
        "application/vnd.databricks.v1+cell": {
          "cellMetadata": {},
          "inputWidgets": {},
          "nuid": "2f3a6cf3-d715-45db-bfdc-64e258af5c99",
          "showTitle": false,
          "title": ""
        },
        "id": "fyqvagXU8KT4"
      },
      "source": [
        "## Save model objects for future scoring"
      ]
    },
    {
      "cell_type": "code",
      "execution_count": 27,
      "metadata": {
        "application/vnd.databricks.v1+cell": {
          "cellMetadata": {
            "byteLimit": 2048000,
            "rowLimit": 10000
          },
          "inputWidgets": {},
          "nuid": "3c04916b-5f8f-4748-9457-4573405d4dfa",
          "showTitle": false,
          "title": ""
        },
        "id": "-G5iaboY8KT4"
      },
      "outputs": [],
      "source": [
        "import os\n",
        "import pickle\n",
        "\n",
        "path_to_write_output = 'score_code_objects'\n",
        "#create directory if not available\n",
        "try:\n",
        "    os.mkdir(path_to_write_output)\n",
        "except:\n",
        "    pass\n",
        "\n",
        "#save pyspark objects\n",
        "char_labels.write().overwrite().save(path_to_write_output + '/char_label_model.h5')\n",
        "assembleModel.write().overwrite().save(path_to_write_output + '/assembleModel.h5')\n",
        "clf_model.write().overwrite().save(path_to_write_output + '/clf_model.h5')\n",
        "\n",
        "#save python objects\n",
        "list_of_vars = [features_list, char_vars, num_vars]\n",
        "with open(path_to_write_output + '/file.pkl', 'wb') as handle:\n",
        "    pickle.dump(list_of_vars, handle)"
      ]
    },
    {
      "cell_type": "code",
      "execution_count": 28,
      "metadata": {
        "application/vnd.databricks.v1+cell": {
          "cellMetadata": {},
          "inputWidgets": {},
          "nuid": "282d2ea8-00cc-4174-9e07-8cfc3bf7553e",
          "showTitle": false,
          "title": ""
        },
        "colab": {
          "base_uri": "https://localhost:8080/"
        },
        "id": "7rZEZzQy8KT4",
        "outputId": "caa759b6-eecc-4bb5-9bc0-98340d5d184d"
      },
      "outputs": [
        {
          "output_type": "stream",
          "name": "stdout",
          "text": [
            "Zip file created: score_code_objects.zip\n"
          ]
        }
      ],
      "source": [
        "import os\n",
        "import zipfile\n",
        "\n",
        "# Directory to be zipped\n",
        "path_to_write_output = 'score_code_objects'\n",
        "# Path for the output zip file\n",
        "zip_filename = 'score_code_objects.zip'\n",
        "\n",
        "# Create a ZipFile object in write mode\n",
        "with zipfile.ZipFile(zip_filename, 'w', zipfile.ZIP_DEFLATED) as zipf:\n",
        "    # Walk through the directory\n",
        "    for root, dirs, files in os.walk(path_to_write_output):\n",
        "        for file in files:\n",
        "            # Create a proper path\n",
        "            filepath = os.path.join(root, file)\n",
        "            # Write the file to the zip archive\n",
        "            # arcname strips the leading part of the path to keep only the filename\n",
        "            zipf.write(filepath, arcname=os.path.relpath(filepath, os.path.dirname(path_to_write_output)))\n",
        "\n",
        "print(f'Zip file created: {zip_filename}')\n"
      ]
    },
    {
      "cell_type": "markdown",
      "source": [
        "# Score code"
      ],
      "metadata": {
        "id": "rKa9WbJO_BB9"
      }
    },
    {
      "cell_type": "code",
      "source": [
        "### helper functions - this will be put in a separate file\n",
        "#helper functions\n",
        "from pyspark.sql import functions as F\n",
        "import pickle\n",
        "from pyspark.ml import PipelineModel\n",
        "from pyspark.ml.classification import RandomForestClassificationModel\n",
        "from pyspark.sql.functions import udf\n",
        "from pyspark.sql.types import IntegerType, DoubleType\n",
        "\n",
        "# read model objects saved from the training process\n",
        "path_to_read_objects = 'score_code_objects'\n",
        "\n"
      ],
      "metadata": {
        "id": "necloqI8-Czd"
      },
      "execution_count": 29,
      "outputs": []
    },
    {
      "cell_type": "code",
      "source": [
        "#pyspark objects\n",
        "char_labels = PipelineModel.load(path_to_read_objects + '/char_label_model.h5')\n",
        "assembleModel = PipelineModel.load(path_to_read_objects + '/assembleModel.h5')\n",
        "clf_model = RandomForestClassificationModel.load(path_to_read_objects + '/clf_model.h5')\n",
        "#python objects\n",
        "with open(path_to_read_objects + '/file.pkl', 'rb') as handle:\n",
        "    features_list, char_vars, num_vars = pickle.load(handle)\n"
      ],
      "metadata": {
        "id": "YGl6yom8_T2R"
      },
      "execution_count": 30,
      "outputs": []
    },
    {
      "cell_type": "code",
      "source": [
        "#make necessary transformations\n",
        "def rename_columns(df, char_vars):\n",
        "    mapping = dict(zip([i + '_index' for i in char_vars], char_vars))\n",
        "    df = df.select([F.col(c).alias(mapping.get(c, c)) for c in df.columns])\n",
        "    return df"
      ],
      "metadata": {
        "id": "2qdYLB1A_bGa"
      },
      "execution_count": 31,
      "outputs": []
    },
    {
      "cell_type": "code",
      "source": [
        "# score the new data\n",
        "def score_new_df(scoredf):\n",
        "    X = scoredf.select(features_list)\n",
        "    X = char_labels.transform(X)\n",
        "    X = X.select([c for c in X.columns if c not in char_vars])\n",
        "    X = rename_columns(X, char_vars)\n",
        "    final_X = assembleModel.transform(X)\n",
        "    final_X.cache()\n",
        "    pred = clf_model.transform(final_X)\n",
        "    pred.cache()\n",
        "    split_udf = udf(lambda value: value[1].item(), DoubleType())\n",
        "    pred = pred.select('prediction', split_udf('probability').alias('probability'))\n",
        "    return pred"
      ],
      "metadata": {
        "id": "8jTTbfxC_v2Q"
      },
      "execution_count": 32,
      "outputs": []
    },
    {
      "cell_type": "code",
      "source": [
        "# import necessary packages\n",
        "from pyspark.sql import SparkSession\n",
        "from helper import *\n",
        "\n",
        "# new data to score\n",
        "filename = 'sample_data/score_data.csv'\n",
        "spark = SparkSession.builder.getOrCreate()\n",
        "score_data = spark.read.csv(filename, header=True, inferSchema=True, sep=';')\n",
        "\n",
        "#score the data\n",
        "path_to_output_scores = '.'\n",
        "final_scores_df = score_new_df(score_data)\n",
        "#final_scores_df.show()\n",
        "final_scores_df.repartition(1).write.format('csv').mode(\"overwrite\").options(sep='|', header='true').save(path_to_output_scores + \"/predictions.csv\")"
      ],
      "metadata": {
        "id": "79Ch7VL2AF9J"
      },
      "execution_count": 36,
      "outputs": []
    },
    {
      "cell_type": "code",
      "source": [],
      "metadata": {
        "id": "j1dtXqovAZOd"
      },
      "execution_count": null,
      "outputs": []
    }
  ],
  "metadata": {
    "application/vnd.databricks.v1+notebook": {
      "dashboards": [],
      "environmentMetadata": null,
      "language": "python",
      "notebookMetadata": {
        "pythonIndentUnit": 4
      },
      "notebookName": "ModelGenerationCode",
      "widgets": {}
    },
    "colab": {
      "provenance": [],
      "include_colab_link": true
    },
    "language_info": {
      "name": "python"
    },
    "kernelspec": {
      "name": "python3",
      "display_name": "Python 3"
    }
  },
  "nbformat": 4,
  "nbformat_minor": 0
}
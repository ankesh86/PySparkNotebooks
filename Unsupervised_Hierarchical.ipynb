{
  "nbformat": 4,
  "nbformat_minor": 0,
  "metadata": {
    "colab": {
      "provenance": [],
      "authorship_tag": "ABX9TyP1n7aR4h/Z8PzEwzUlNzee",
      "include_colab_link": true
    },
    "kernelspec": {
      "name": "python3",
      "display_name": "Python 3"
    },
    "language_info": {
      "name": "python"
    }
  },
  "cells": [
    {
      "cell_type": "markdown",
      "metadata": {
        "id": "view-in-github",
        "colab_type": "text"
      },
      "source": [
        "<a href=\"https://colab.research.google.com/github/ankesh86/PySparkNotebooks/blob/main/Unsupervised_Hierarchical.ipynb\" target=\"_parent\"><img src=\"https://colab.research.google.com/assets/colab-badge.svg\" alt=\"Open In Colab\"/></a>"
      ]
    },
    {
      "cell_type": "code",
      "execution_count": 1,
      "metadata": {
        "colab": {
          "base_uri": "https://localhost:8080/"
        },
        "id": "IiMEzCR1rSeh",
        "outputId": "422b3534-bee6-452f-f435-189634686a97"
      },
      "outputs": [
        {
          "output_type": "stream",
          "name": "stdout",
          "text": [
            "Collecting pyspark==3.4.0\n",
            "  Downloading pyspark-3.4.0.tar.gz (310.8 MB)\n",
            "\u001b[2K     \u001b[90m━━━━━━━━━━━━━━━━━━━━━━━━━━━━━━━━━━━━━━━━\u001b[0m \u001b[32m310.8/310.8 MB\u001b[0m \u001b[31m4.0 MB/s\u001b[0m eta \u001b[36m0:00:00\u001b[0m\n",
            "\u001b[?25h  Preparing metadata (setup.py) ... \u001b[?25l\u001b[?25hdone\n",
            "Requirement already satisfied: py4j==0.10.9.7 in /usr/local/lib/python3.10/dist-packages (from pyspark==3.4.0) (0.10.9.7)\n",
            "Building wheels for collected packages: pyspark\n",
            "  Building wheel for pyspark (setup.py) ... \u001b[?25l\u001b[?25hdone\n",
            "  Created wheel for pyspark: filename=pyspark-3.4.0-py2.py3-none-any.whl size=311317122 sha256=3f6305c7460c1183d4079016ad7588f03112f085f51251f57f9be2b29540b85f\n",
            "  Stored in directory: /root/.cache/pip/wheels/7b/1b/4b/3363a1d04368e7ff0d408e57ff57966fcdf00583774e761327\n",
            "Successfully built pyspark\n",
            "Installing collected packages: pyspark\n",
            "Successfully installed pyspark-3.4.0\n"
          ]
        }
      ],
      "source": [
        "!pip install pyspark==3.4.0"
      ]
    },
    {
      "cell_type": "code",
      "source": [
        "# Import Sparksession\n",
        "from pyspark.sql import SparkSession\n",
        "spark=SparkSession.builder.appName(\"Clustering\").getOrCreate()"
      ],
      "metadata": {
        "id": "bju7OQuftS4y"
      },
      "execution_count": 2,
      "outputs": []
    },
    {
      "cell_type": "code",
      "source": [
        "# Print PySpark and Python versions\n",
        "import sys\n",
        "print('Python version: '+sys.version)\n",
        "print('Spark version: '+spark.version)"
      ],
      "metadata": {
        "colab": {
          "base_uri": "https://localhost:8080/"
        },
        "id": "_w1pUj2OtpyU",
        "outputId": "27f2c471-62d4-4452-ea7e-3ec648b761f5"
      },
      "execution_count": 4,
      "outputs": [
        {
          "output_type": "stream",
          "name": "stdout",
          "text": [
            "Python version: 3.10.12 (main, Nov 20 2023, 15:14:05) [GCC 11.4.0]\n",
            "Spark version: 3.4.0\n"
          ]
        }
      ]
    },
    {
      "cell_type": "markdown",
      "source": [
        "# Read data"
      ],
      "metadata": {
        "id": "5ZKncWhwsy6u"
      }
    },
    {
      "cell_type": "code",
      "source": [
        "file_location = \"sample_data/cluster_data.csv\"\n",
        "file_type = \"csv\"\n",
        "infer_schema = \"false\"\n",
        "first_row_is_header = \"true\"\n",
        "\n",
        "df = spark.read.format(file_type).option(\"inferSchema\", infer_schema).option(\"header\", first_row_is_header).load(file_location)\n",
        "\n",
        "df.printSchema()"
      ],
      "metadata": {
        "colab": {
          "base_uri": "https://localhost:8080/"
        },
        "id": "86QCzBd0rk1p",
        "outputId": "e4b2a27d-cd1f-4f50-fda1-dc7637df8678"
      },
      "execution_count": 3,
      "outputs": [
        {
          "output_type": "stream",
          "name": "stdout",
          "text": [
            "root\n",
            " |-- CUST_ID: string (nullable = true)\n",
            " |-- BALANCE: string (nullable = true)\n",
            " |-- BALANCE_FREQUENCY: string (nullable = true)\n",
            " |-- PURCHASES: string (nullable = true)\n",
            " |-- ONEOFF_PURCHASES: string (nullable = true)\n",
            " |-- INSTALLMENTS_PURCHASES: string (nullable = true)\n",
            " |-- CASH_ADVANCE: string (nullable = true)\n",
            " |-- PURCHASES_FREQUENCY: string (nullable = true)\n",
            " |-- ONEOFF_PURCHASES_FREQUENCY: string (nullable = true)\n",
            " |-- PURCHASES_INSTALLMENTS_FREQUENCY: string (nullable = true)\n",
            " |-- CASH_ADVANCE_FREQUENCY: string (nullable = true)\n",
            " |-- CASH_ADVANCE_TRX: string (nullable = true)\n",
            " |-- PURCHASES_TRX: string (nullable = true)\n",
            " |-- CREDIT_LIMIT: string (nullable = true)\n",
            " |-- PAYMENTS: string (nullable = true)\n",
            " |-- MINIMUM_PAYMENTS: string (nullable = true)\n",
            " |-- PRC_FULL_PAYMENT: string (nullable = true)\n",
            " |-- TENURE: string (nullable = true)\n",
            "\n"
          ]
        }
      ]
    },
    {
      "cell_type": "code",
      "source": [
        "#  Count data\n",
        "df.count()\n",
        "print('The total number of records in the credit card dataset are '+str(df.count()))"
      ],
      "metadata": {
        "colab": {
          "base_uri": "https://localhost:8080/"
        },
        "id": "uecUhVg7tk5H",
        "outputId": "f7c35fa7-aa28-4a98-a7a6-eda69b0e1ef2"
      },
      "execution_count": 5,
      "outputs": [
        {
          "output_type": "stream",
          "name": "stdout",
          "text": [
            "The total number of records in the credit card dataset are 8950\n"
          ]
        }
      ]
    },
    {
      "cell_type": "markdown",
      "source": [
        "## Casting variable to appropriate data types"
      ],
      "metadata": {
        "id": "Cd5488Lxt16E"
      }
    },
    {
      "cell_type": "code",
      "source": [
        "# Casting multiple variables\n",
        "from pyspark.sql.types import *\n",
        "\n",
        "#Identifying and assiging lists of variables\n",
        "float_vars=list(set(df.columns) - set(['CUST_ID']))\n",
        "\n",
        "for column in float_vars:\n",
        "\tdf=df.withColumn(column,df[column].cast(FloatType()))"
      ],
      "metadata": {
        "id": "uYv4B_jctxya"
      },
      "execution_count": 6,
      "outputs": []
    },
    {
      "cell_type": "markdown",
      "source": [
        "## Imputing data"
      ],
      "metadata": {
        "id": "5U3_gWWxuNrj"
      }
    },
    {
      "cell_type": "code",
      "source": [
        "from pyspark.ml.feature import Imputer\n",
        "\n",
        "input_cols = list(set(df.columns) - set(['CUST_ID']))\n",
        "\n",
        "# Defining the imputer function\n",
        "imputer = Imputer(\n",
        "    inputCols=input_cols,\n",
        "    outputCols=[\"{}_imputed\".format(c) for c in input_cols])\n",
        "\n",
        "# Applying the transformation\n",
        "df_imputed=imputer.fit(df).transform(df)\n",
        "\n",
        "# Dropping the original columns as we created the _imputed columns\n",
        "df_imputed=df_imputed.drop(*input_cols)\n",
        "\n",
        "# Renaming the input columns to original columns for consistency\n",
        "new_column_name_list= list(map(lambda x: x.replace(\"_imputed\", \"\"), df.columns))\n",
        "df_imputed = df_imputed.toDF(*new_column_name_list)"
      ],
      "metadata": {
        "id": "t_dZ4H_suMlg"
      },
      "execution_count": 7,
      "outputs": []
    },
    {
      "cell_type": "code",
      "source": [
        "df_imputed.head(10)"
      ],
      "metadata": {
        "colab": {
          "base_uri": "https://localhost:8080/"
        },
        "id": "V1tMFYFIvUxs",
        "outputId": "00cfb0f6-56e9-4310-ab7d-c6d39f2ade96"
      },
      "execution_count": 9,
      "outputs": [
        {
          "output_type": "execute_result",
          "data": {
            "text/plain": [
              "[Row(CUST_ID='C10001', BALANCE=40.90074920654297, BALANCE_FREQUENCY=0.8181819915771484, PURCHASES=0.0, ONEOFF_PURCHASES=0.0, INSTALLMENTS_PURCHASES=1000.0, CASH_ADVANCE=0.0, PURCHASES_FREQUENCY=95.4000015258789, ONEOFF_PURCHASES_FREQUENCY=201.8020782470703, PURCHASES_INSTALLMENTS_FREQUENCY=2.0, CASH_ADVANCE_FREQUENCY=0.16666699945926666, CASH_ADVANCE_TRX=0.0, PURCHASES_TRX=12.0, CREDIT_LIMIT=139.50978088378906, PAYMENTS=95.4000015258789, MINIMUM_PAYMENTS=0.0, PRC_FULL_PAYMENT=0.0, TENURE=0.08333300054073334),\n",
              " Row(CUST_ID='C10002', BALANCE=3202.467529296875, BALANCE_FREQUENCY=0.9090909957885742, PURCHASES=0.2222220003604889, ONEOFF_PURCHASES=0.0, INSTALLMENTS_PURCHASES=7000.0, CASH_ADVANCE=0.25, PURCHASES_FREQUENCY=0.0, ONEOFF_PURCHASES_FREQUENCY=4103.03271484375, PURCHASES_INSTALLMENTS_FREQUENCY=0.0, CASH_ADVANCE_FREQUENCY=0.0, CASH_ADVANCE_TRX=4.0, PURCHASES_TRX=12.0, CREDIT_LIMIT=1072.3402099609375, PAYMENTS=0.0, MINIMUM_PAYMENTS=6442.9453125, PRC_FULL_PAYMENT=0.0, TENURE=0.0),\n",
              " Row(CUST_ID='C10003', BALANCE=2495.14892578125, BALANCE_FREQUENCY=1.0, PURCHASES=0.0, ONEOFF_PURCHASES=773.1699829101562, INSTALLMENTS_PURCHASES=7500.0, CASH_ADVANCE=0.0, PURCHASES_FREQUENCY=0.0, ONEOFF_PURCHASES_FREQUENCY=622.0667724609375, PURCHASES_INSTALLMENTS_FREQUENCY=12.0, CASH_ADVANCE_FREQUENCY=1.0, CASH_ADVANCE_TRX=0.0, PURCHASES_TRX=12.0, CREDIT_LIMIT=627.2847900390625, PAYMENTS=773.1699829101562, MINIMUM_PAYMENTS=0.0, PRC_FULL_PAYMENT=1.0, TENURE=0.0),\n",
              " Row(CUST_ID='C10004', BALANCE=1666.6705322265625, BALANCE_FREQUENCY=0.6363639831542969, PURCHASES=0.0, ONEOFF_PURCHASES=1499.0, INSTALLMENTS_PURCHASES=7500.0, CASH_ADVANCE=0.08333300054073334, PURCHASES_FREQUENCY=0.0, ONEOFF_PURCHASES_FREQUENCY=0.0, PURCHASES_INSTALLMENTS_FREQUENCY=1.0, CASH_ADVANCE_FREQUENCY=0.08333300054073334, CASH_ADVANCE_TRX=1.0, PURCHASES_TRX=12.0, CREDIT_LIMIT=864.20654296875, PAYMENTS=1499.0, MINIMUM_PAYMENTS=205.7880096435547, PRC_FULL_PAYMENT=0.08333300054073334, TENURE=0.0),\n",
              " Row(CUST_ID='C10005', BALANCE=817.71435546875, BALANCE_FREQUENCY=1.0, PURCHASES=0.0, ONEOFF_PURCHASES=16.0, INSTALLMENTS_PURCHASES=1200.0, CASH_ADVANCE=0.0, PURCHASES_FREQUENCY=0.0, ONEOFF_PURCHASES_FREQUENCY=678.3347778320312, PURCHASES_INSTALLMENTS_FREQUENCY=1.0, CASH_ADVANCE_FREQUENCY=0.08333300054073334, CASH_ADVANCE_TRX=0.0, PURCHASES_TRX=12.0, CREDIT_LIMIT=244.79124450683594, PAYMENTS=16.0, MINIMUM_PAYMENTS=0.0, PRC_FULL_PAYMENT=0.08333300054073334, TENURE=0.0),\n",
              " Row(CUST_ID='C10006', BALANCE=1809.8287353515625, BALANCE_FREQUENCY=1.0, PURCHASES=0.0, ONEOFF_PURCHASES=0.0, INSTALLMENTS_PURCHASES=1800.0, CASH_ADVANCE=0.0, PURCHASES_FREQUENCY=1333.280029296875, ONEOFF_PURCHASES_FREQUENCY=1400.0577392578125, PURCHASES_INSTALLMENTS_FREQUENCY=8.0, CASH_ADVANCE_FREQUENCY=0.6666669845581055, CASH_ADVANCE_TRX=0.0, PURCHASES_TRX=12.0, CREDIT_LIMIT=2407.24609375, PAYMENTS=1333.280029296875, MINIMUM_PAYMENTS=0.0, PRC_FULL_PAYMENT=0.0, TENURE=0.5833330154418945),\n",
              " Row(CUST_ID='C10007', BALANCE=627.2608032226562, BALANCE_FREQUENCY=1.0, PURCHASES=1.0, ONEOFF_PURCHASES=6402.6298828125, INSTALLMENTS_PURCHASES=13500.0, CASH_ADVANCE=0.0, PURCHASES_FREQUENCY=688.3800048828125, ONEOFF_PURCHASES_FREQUENCY=6354.314453125, PURCHASES_INSTALLMENTS_FREQUENCY=64.0, CASH_ADVANCE_FREQUENCY=1.0, CASH_ADVANCE_TRX=0.0, PURCHASES_TRX=12.0, CREDIT_LIMIT=198.06588745117188, PAYMENTS=7091.009765625, MINIMUM_PAYMENTS=0.0, PRC_FULL_PAYMENT=1.0, TENURE=1.0),\n",
              " Row(CUST_ID='C10008', BALANCE=1823.6527099609375, BALANCE_FREQUENCY=1.0, PURCHASES=0.0, ONEOFF_PURCHASES=0.0, INSTALLMENTS_PURCHASES=2300.0, CASH_ADVANCE=0.0, PURCHASES_FREQUENCY=436.20001220703125, ONEOFF_PURCHASES_FREQUENCY=679.0650634765625, PURCHASES_INSTALLMENTS_FREQUENCY=12.0, CASH_ADVANCE_FREQUENCY=1.0, CASH_ADVANCE_TRX=0.0, PURCHASES_TRX=12.0, CREDIT_LIMIT=532.0339965820312, PAYMENTS=436.20001220703125, MINIMUM_PAYMENTS=0.0, PRC_FULL_PAYMENT=0.0, TENURE=1.0),\n",
              " Row(CUST_ID='C10009', BALANCE=1014.9264526367188, BALANCE_FREQUENCY=1.0, PURCHASES=0.0, ONEOFF_PURCHASES=661.489990234375, INSTALLMENTS_PURCHASES=7000.0, CASH_ADVANCE=0.0, PURCHASES_FREQUENCY=200.0, ONEOFF_PURCHASES_FREQUENCY=688.278564453125, PURCHASES_INSTALLMENTS_FREQUENCY=5.0, CASH_ADVANCE_FREQUENCY=0.33333298563957214, CASH_ADVANCE_TRX=0.0, PURCHASES_TRX=12.0, CREDIT_LIMIT=311.9634094238281, PAYMENTS=861.489990234375, MINIMUM_PAYMENTS=0.0, PRC_FULL_PAYMENT=0.08333300054073334, TENURE=0.25),\n",
              " Row(CUST_ID='C10010', BALANCE=152.22596740722656, BALANCE_FREQUENCY=0.5454549789428711, PURCHASES=0.0, ONEOFF_PURCHASES=1281.5999755859375, INSTALLMENTS_PURCHASES=11000.0, CASH_ADVANCE=0.0, PURCHASES_FREQUENCY=0.0, ONEOFF_PURCHASES_FREQUENCY=1164.7706298828125, PURCHASES_INSTALLMENTS_FREQUENCY=3.0, CASH_ADVANCE_FREQUENCY=0.16666699945926666, CASH_ADVANCE_TRX=0.0, PURCHASES_TRX=12.0, CREDIT_LIMIT=100.30226135253906, PAYMENTS=1281.5999755859375, MINIMUM_PAYMENTS=0.0, PRC_FULL_PAYMENT=0.16666699945926666, TENURE=0.0)]"
            ]
          },
          "metadata": {},
          "execution_count": 9
        }
      ]
    },
    {
      "cell_type": "markdown",
      "source": [
        "## Data Preperation"
      ],
      "metadata": {
        "id": "t_4f1nMNvmq8"
      }
    },
    {
      "cell_type": "code",
      "source": [
        "from pyspark.ml.feature import VectorAssembler\n",
        "from pyspark.ml.feature import Normalizer\n",
        "from pyspark.ml import Pipeline\n",
        "\n",
        "#Listing the variables that are not required in the segmentation analysis\n",
        "ignore = ['CUST_ID']\n",
        "\n",
        "#creating vector of all features\n",
        "assembler = VectorAssembler(inputCols=[x for x in df.columns if x not in ignore], outputCol='features')\n",
        "#creating the normalizer for all features\n",
        "normalizer = Normalizer(inputCol=\"features\", outputCol=\"normFeatures\", p=1.0)\n",
        "\n",
        "# Defining the pipeline\n",
        "pipeline = Pipeline(stages=[assembler, normalizer])\n",
        "#fitting the pipeline\n",
        "transformations = pipeline.fit(df_imputed)\n",
        "# Applying the transformation\n",
        "df_updated = transformations.transform(df_imputed)"
      ],
      "metadata": {
        "id": "Ax4SRzJEvW4S"
      },
      "execution_count": 11,
      "outputs": []
    },
    {
      "cell_type": "markdown",
      "source": [
        "## Building the model"
      ],
      "metadata": {
        "id": "xCc6P-TPx4fG"
      }
    },
    {
      "cell_type": "code",
      "source": [
        "from pyspark.ml.clustering import BisectingKMeans\n",
        "from pyspark.ml.evaluation import ClusteringEvaluator\n",
        "# Trains a bisecting k-means model.\n",
        "bkm = BisectingKMeans().setK(2).setSeed(1)\n",
        "model = bkm.fit(df_updated.select('normFeatures').withColumnRenamed('normFeatures','features'))\n",
        "\n",
        "# Make predictions\n",
        "predictions = model.transform(df_updated.select('normFeatures').withColumnRenamed('normFeatures','features'))\n",
        "\n",
        "# Evaluate clustering by computing Silhouette score\n",
        "evaluator = ClusteringEvaluator()\n",
        "\n",
        "silhouette = evaluator.evaluate(predictions)\n",
        "print(\"Silhouette with squared euclidean distance = \" + str(silhouette))\n",
        "\n",
        "# Shows the result.\n",
        "print(\"Cluster Centers: \")\n",
        "centers = model.clusterCenters()\n",
        "for center in centers:\n",
        "    print(center)"
      ],
      "metadata": {
        "colab": {
          "base_uri": "https://localhost:8080/"
        },
        "id": "Vj-v0_B8xD-l",
        "outputId": "61c43526-808a-48b2-ee04-001b046aa267"
      },
      "execution_count": 12,
      "outputs": [
        {
          "output_type": "stream",
          "name": "stdout",
          "text": [
            "Silhouette with squared euclidean distance = 0.49855848955649995\n",
            "Cluster Centers: \n",
            "[1.67613049e-01 1.27041540e-04 1.37626105e-05 4.51778189e-02\n",
            " 3.19911998e-01 2.07931012e-05 3.68880540e-02 1.56153161e-01\n",
            " 1.35422759e-03 5.52450766e-05 4.36827025e-04 1.58891509e-03\n",
            " 8.98395022e-02 8.20154181e-02 9.87433798e-02 2.00523886e-05\n",
            " 4.07553710e-05]\n",
            "[4.12514135e-02 1.49477386e-04 5.20146262e-05 2.60570968e-02\n",
            " 6.69629544e-01 4.99429055e-06 4.13338382e-02 9.19431713e-02\n",
            " 1.69572988e-03 1.07480745e-04 7.78368846e-05 2.36687998e-03\n",
            " 4.21892243e-02 6.73444143e-02 1.56899718e-02 2.03692023e-05\n",
            " 8.65430186e-05]\n"
          ]
        }
      ]
    },
    {
      "cell_type": "markdown",
      "source": [
        "## Silhouette coefficient for different number of cluster and plot it to determine the right cluster number"
      ],
      "metadata": {
        "id": "3DZTu2bUyPeq"
      }
    },
    {
      "cell_type": "code",
      "source": [
        "#Iterations\n",
        "import pandas as pd\n",
        "import seaborn as sns\n",
        "import matplotlib.pyplot as plt\n",
        "\n",
        "sil_coeff = []\n",
        "num_clusters = []\n",
        "for iter in range(2,8):\n",
        "    bkm = BisectingKMeans().setK(iter).setSeed(1)\n",
        "    model = bkm.fit(df_updated.select('normFeatures').withColumnRenamed('normFeatures','features'))\n",
        "    # Make predictions\n",
        "    predictions = model.transform(df_updated.select('normFeatures').withColumnRenamed('normFeatures','features'))\n",
        "    # Evaluate clustering by computing Silhouette score\n",
        "    evaluator = ClusteringEvaluator()\n",
        "    silhouette = evaluator.evaluate(predictions)\n",
        "    sil_coeff.append(silhouette)\n",
        "    num_clusters.append(iter)\n",
        "    print(\"Silhouette with squared euclidean distance for \"+str(iter) +\" cluster solution = \" + str(silhouette))\n",
        "\n",
        "df_viz=pd.DataFrame(zip(num_clusters,sil_coeff), columns=['num_clusters','silhouette_score'])\n",
        "sns.lineplot(x = \"num_clusters\", y = \"silhouette_score\", data=df_viz)\n",
        "plt.title('Bisecting k-means : Silhouette scores')\n",
        "plt.xticks(range(2, 8))\n",
        "plt.show()"
      ],
      "metadata": {
        "colab": {
          "base_uri": "https://localhost:8080/",
          "height": 576
        },
        "id": "t1sFEu9-yFwh",
        "outputId": "21984c17-d039-4270-b7db-23d1723cd317"
      },
      "execution_count": 13,
      "outputs": [
        {
          "output_type": "stream",
          "name": "stdout",
          "text": [
            "Silhouette with squared euclidean distance for 2 cluster solution = 0.49855848955649995\n",
            "Silhouette with squared euclidean distance for 3 cluster solution = 0.47048261757325865\n",
            "Silhouette with squared euclidean distance for 4 cluster solution = 0.3683678751651746\n",
            "Silhouette with squared euclidean distance for 5 cluster solution = 0.3591087613378825\n",
            "Silhouette with squared euclidean distance for 6 cluster solution = 0.37906388228608356\n",
            "Silhouette with squared euclidean distance for 7 cluster solution = 0.36425263724615137\n"
          ]
        },
        {
          "output_type": "display_data",
          "data": {
            "text/plain": [
              "<Figure size 640x480 with 1 Axes>"
            ],
            "image/png": "[encoded data removed]"
          },
          "metadata": {}
        }
      ]
    },
    {
      "cell_type": "code",
      "source": [],
      "metadata": {
        "id": "n3Pfc9Bk1VBz"
      },
      "execution_count": null,
      "outputs": []
    }
  ]
}
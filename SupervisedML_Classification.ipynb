{
  "nbformat": 4,
  "nbformat_minor": 0,
  "metadata": {
    "colab": {
      "provenance": [],
      "authorship_tag": "ABX9TyNHbIXap0doIcp2JTivu2I0",
      "include_colab_link": true
    },
    "kernelspec": {
      "name": "python3",
      "display_name": "Python 3"
    },
    "language_info": {
      "name": "python"
    }
  },
  "cells": [
    {
      "cell_type": "markdown",
      "metadata": {
        "id": "view-in-github",
        "colab_type": "text"
      },
      "source": [
        "<a href=\"https://colab.research.google.com/github/ankesh86/PySparkNotebooks/blob/main/SupervisedML_Classification.ipynb\" target=\"_parent\"><img src=\"https://colab.research.google.com/assets/colab-badge.svg\" alt=\"Open In Colab\"/></a>"
      ]
    },
    {
      "cell_type": "code",
      "execution_count": 2,
      "metadata": {
        "colab": {
          "base_uri": "https://localhost:8080/"
        },
        "id": "cM1XN4grlo3n",
        "outputId": "3032b117-6872-4659-9d2b-6eab3bd26530"
      },
      "outputs": [
        {
          "output_type": "stream",
          "name": "stdout",
          "text": [
            "Collecting pyspark==3.4.0\n",
            "  Downloading pyspark-3.4.0.tar.gz (310.8 MB)\n",
            "\u001b[2K     \u001b[90m━━━━━━━━━━━━━━━━━━━━━━━━━━━━━━━━━━━━━━━━\u001b[0m \u001b[32m310.8/310.8 MB\u001b[0m \u001b[31m3.6 MB/s\u001b[0m eta \u001b[36m0:00:00\u001b[0m\n",
            "\u001b[?25h  Preparing metadata (setup.py) ... \u001b[?25l\u001b[?25hdone\n",
            "Requirement already satisfied: py4j==0.10.9.7 in /usr/local/lib/python3.10/dist-packages (from pyspark==3.4.0) (0.10.9.7)\n",
            "Building wheels for collected packages: pyspark\n",
            "  Building wheel for pyspark (setup.py) ... \u001b[?25l\u001b[?25hdone\n",
            "  Created wheel for pyspark: filename=pyspark-3.4.0-py2.py3-none-any.whl size=311317122 sha256=d13a8e4c5ecf32366b81c3d6037dc0f3ea4eec2d7819cd474bb39da7f7ce0091\n",
            "  Stored in directory: /root/.cache/pip/wheels/7b/1b/4b/3363a1d04368e7ff0d408e57ff57966fcdf00583774e761327\n",
            "Successfully built pyspark\n",
            "Installing collected packages: pyspark\n",
            "Successfully installed pyspark-3.4.0\n"
          ]
        }
      ],
      "source": [
        "!pip install pyspark==3.4.0"
      ]
    },
    {
      "cell_type": "code",
      "source": [
        "from pyspark.sql import SparkSession\n",
        "spark = SparkSession.builder.appName('supervised_ml_classification').getOrCreate()"
      ],
      "metadata": {
        "id": "LMhhh7Y3lpxp"
      },
      "execution_count": 3,
      "outputs": []
    },
    {
      "cell_type": "code",
      "source": [
        "df = spark.read.csv('sample_data/bank_data.csv', inferSchema=True, header=True)\n",
        "print((df.count(), len(df.columns)))"
      ],
      "metadata": {
        "colab": {
          "base_uri": "https://localhost:8080/"
        },
        "id": "IEjuKBsDrzWw",
        "outputId": "f4580a36-b589-4792-9d44-52a3951451e0"
      },
      "execution_count": 8,
      "outputs": [
        {
          "output_type": "stream",
          "name": "stdout",
          "text": [
            "(41188, 21)\n"
          ]
        }
      ]
    },
    {
      "cell_type": "code",
      "source": [
        "df.printSchema()"
      ],
      "metadata": {
        "colab": {
          "base_uri": "https://localhost:8080/"
        },
        "id": "xdp5S00dsUX1",
        "outputId": "f6aea762-9d2b-497f-ccd0-8a05aa923484"
      },
      "execution_count": 9,
      "outputs": [
        {
          "output_type": "stream",
          "name": "stdout",
          "text": [
            "root\n",
            " |-- age: integer (nullable = true)\n",
            " |-- job: string (nullable = true)\n",
            " |-- marital: string (nullable = true)\n",
            " |-- education: string (nullable = true)\n",
            " |-- default: string (nullable = true)\n",
            " |-- housing: string (nullable = true)\n",
            " |-- loan: string (nullable = true)\n",
            " |-- contact: string (nullable = true)\n",
            " |-- month: string (nullable = true)\n",
            " |-- day_of_week: string (nullable = true)\n",
            " |-- duration: integer (nullable = true)\n",
            " |-- campaign: integer (nullable = true)\n",
            " |-- pdays: integer (nullable = true)\n",
            " |-- previous: integer (nullable = true)\n",
            " |-- poutcome: string (nullable = true)\n",
            " |-- emp.var.rate: double (nullable = true)\n",
            " |-- cons.price.idx: double (nullable = true)\n",
            " |-- cons.conf.idx: double (nullable = true)\n",
            " |-- euribor3m: double (nullable = true)\n",
            " |-- nr.employed: double (nullable = true)\n",
            " |-- target_class: string (nullable = true)\n",
            "\n"
          ]
        }
      ]
    },
    {
      "cell_type": "code",
      "source": [
        "df.groupBy('target_class').count().show()"
      ],
      "metadata": {
        "colab": {
          "base_uri": "https://localhost:8080/"
        },
        "id": "gTrcdvORs2df",
        "outputId": "75978cef-4fcf-40ed-d8b0-93da673a9dfb"
      },
      "execution_count": 10,
      "outputs": [
        {
          "output_type": "stream",
          "name": "stdout",
          "text": [
            "+------------+-----+\n",
            "|target_class|count|\n",
            "+------------+-----+\n",
            "|          no|36548|\n",
            "|         yes| 4640|\n",
            "+------------+-----+\n",
            "\n"
          ]
        }
      ]
    },
    {
      "cell_type": "markdown",
      "source": [
        "## Deleting rows to reduce data size and no of columns"
      ],
      "metadata": {
        "id": "zYl5vocttzXK"
      }
    },
    {
      "cell_type": "code",
      "source": [
        "# Calculate the fraction to keep 'no' records such that 30,000 'no' records are dropped\n",
        "total_no_records = 36548\n",
        "records_to_keep = total_no_records - 30000\n",
        "fraction_to_keep = records_to_keep / total_no_records\n",
        "\n",
        "# Define the fractions dictionary for sampling\n",
        "fractions = {'no': fraction_to_keep, 'yes': 1.0}\n",
        "\n",
        "# Sample the DataFrame based on the fractions\n",
        "sampled_df = df.sampleBy(\"target_class\", fractions, seed=42)\n",
        "\n",
        "# Now select the columns you want to keep\n",
        "columns_to_keep = ['age', 'job', 'marital', 'education', 'default', 'housing', 'loan', 'target_class']\n",
        "new_df = sampled_df.select(columns_to_keep)\n",
        "\n",
        "# Show the result to verify\n",
        "new_df.show(5)\n",
        "\n",
        "# Optionally, check the count of 'no' and 'yes' in the new DataFrame\n",
        "new_df.groupBy('target_class').count().show()"
      ],
      "metadata": {
        "colab": {
          "base_uri": "https://localhost:8080/"
        },
        "id": "2ZgoCrHms-Qq",
        "outputId": "b37ccbe9-139f-4712-9aef-7c5631adddcd"
      },
      "execution_count": 12,
      "outputs": [
        {
          "output_type": "stream",
          "name": "stdout",
          "text": [
            "+---+-----------+-------+-----------+-------+-------+----+------------+\n",
            "|age|        job|marital|  education|default|housing|loan|target_class|\n",
            "+---+-----------+-------+-----------+-------+-------+----+------------+\n",
            "| 41|blue-collar|married|    unknown|unknown|     no|  no|          no|\n",
            "| 35|blue-collar|married|   basic.6y|     no|    yes|  no|          no|\n",
            "| 50|blue-collar|married|   basic.9y|     no|    yes| yes|          no|\n",
            "| 59| technician|married|    unknown|     no|    yes|  no|          no|\n",
            "| 34|   services|married|high.school|     no|     no|  no|          no|\n",
            "+---+-----------+-------+-----------+-------+-------+----+------------+\n",
            "only showing top 5 rows\n",
            "\n",
            "+------------+-----+\n",
            "|target_class|count|\n",
            "+------------+-----+\n",
            "|          no| 6573|\n",
            "|         yes| 4640|\n",
            "+------------+-----+\n",
            "\n"
          ]
        }
      ]
    },
    {
      "cell_type": "markdown",
      "source": [
        "## Feature Engineering for Model"
      ],
      "metadata": {
        "id": "RuSL8e1et6No"
      }
    },
    {
      "cell_type": "code",
      "source": [
        "from pyspark.sql import functions as F\n",
        "from pyspark.sql import *\n",
        "new_df = new_df.withColumn(\"label\", F.when(new_df.target_class=='no', F.lit(0)).otherwise(F.lit(1)))\n",
        "new_df.groupBy('label').count().show()"
      ],
      "metadata": {
        "colab": {
          "base_uri": "https://localhost:8080/"
        },
        "id": "7xOzzJdvtvW2",
        "outputId": "de23bdcc-6ec8-4acb-82e8-382f382ce596"
      },
      "execution_count": 15,
      "outputs": [
        {
          "output_type": "stream",
          "name": "stdout",
          "text": [
            "+-----+-----+\n",
            "|label|count|\n",
            "+-----+-----+\n",
            "|    1| 4640|\n",
            "|    0| 6573|\n",
            "+-----+-----+\n",
            "\n"
          ]
        }
      ]
    },
    {
      "cell_type": "code",
      "source": [
        "from pyspark.ml.feature import OneHotEncoder, StringIndexer, VectorAssembler\n",
        "\n",
        "def cat_to_num(df):\n",
        "    for col in df.columns:\n",
        "        # Create a StringIndexer\n",
        "        stringIndexer = StringIndexer(inputCol=col, outputCol=col + \"_index\")\n",
        "        model = stringIndexer.fit(df)\n",
        "        indexed = model.transform(df)\n",
        "\n",
        "        # Create a OneHotEncoder\n",
        "        encoder = OneHotEncoder(inputCol=col + \"_index\", outputCol=col + \"_vec\")\n",
        "        # Fit and transform using OneHotEncoder\n",
        "        model = encoder.fit(indexed)\n",
        "        df = model.transform(indexed)\n",
        "\n",
        "    # Assemble the encoded categorical columns along with numerical columns to create a features column\n",
        "    df_assembler = VectorAssembler(inputCols=['age', 'marital_vec', 'education_vec', 'default_vec', 'housing_vec', 'loan_vec'], outputCol=\"features\")\n",
        "    df = df_assembler.transform(df)\n",
        "\n",
        "    return df.select(['features', 'label'])\n",
        "\n",
        "df_new = cat_to_num(new_df)"
      ],
      "metadata": {
        "id": "jxS7DFprvuok"
      },
      "execution_count": 16,
      "outputs": []
    },
    {
      "cell_type": "code",
      "source": [
        "df_new.show()"
      ],
      "metadata": {
        "colab": {
          "base_uri": "https://localhost:8080/"
        },
        "id": "IYuZqdd1wVD6",
        "outputId": "8b62fcbc-33f3-4572-81be-287b6990bebe"
      },
      "execution_count": 17,
      "outputs": [
        {
          "output_type": "stream",
          "name": "stdout",
          "text": [
            "+--------------------+-----+\n",
            "|            features|label|\n",
            "+--------------------+-----+\n",
            "|(17,[0,1,10,12,14...|    0|\n",
            "|(17,[0,1,9,11,13,...|    0|\n",
            "|(17,[0,1,6,11,13,...|    0|\n",
            "|(17,[0,1,10,11,13...|    0|\n",
            "|(17,[0,1,5,11,14,...|    0|\n",
            "|(17,[0,1,4,11,13,...|    0|\n",
            "|(17,[0,1,4,11,13,...|    0|\n",
            "|(17,[0,1,5,11,14,...|    0|\n",
            "|(17,[0,1,7,12,13,...|    0|\n",
            "|(17,[0,1,9,12,14,...|    0|\n",
            "|(17,[0,1,4,11,14,...|    0|\n",
            "|(17,[0,2,6,11,13,...|    0|\n",
            "|(17,[0,1,10,11,13...|    0|\n",
            "|(17,[0,1,4,12,13,...|    0|\n",
            "|(17,[0,3,8,12,13,...|    1|\n",
            "|(17,[0,1,6,12,14,...|    0|\n",
            "|(17,[0,1,4,12,13,...|    1|\n",
            "|(17,[0,1,6,11,14,...|    1|\n",
            "|(17,[0,1,4,11,13,...|    0|\n",
            "|(17,[0,3,4,11,14,...|    0|\n",
            "+--------------------+-----+\n",
            "only showing top 20 rows\n",
            "\n"
          ]
        }
      ]
    },
    {
      "cell_type": "markdown",
      "source": [
        "## Split the Data into Train and Test Datasets"
      ],
      "metadata": {
        "id": "cxvxP0YSwhk5"
      }
    },
    {
      "cell_type": "code",
      "source": [
        "train, test = df_new.randomSplit([0.75,0.25])\n",
        "print(f\"Size of train Dataset : {train.count()}\")\n",
        "print(f\"Size of test Dataset : {test.count()}\")"
      ],
      "metadata": {
        "colab": {
          "base_uri": "https://localhost:8080/"
        },
        "id": "oHb5RXbjwbOI",
        "outputId": "7fe71c7b-239a-47fa-d234-b6f7d263520e"
      },
      "execution_count": 18,
      "outputs": [
        {
          "output_type": "stream",
          "name": "stdout",
          "text": [
            "Size of train Dataset : 8354\n",
            "Size of test Dataset : 2859\n"
          ]
        }
      ]
    },
    {
      "cell_type": "markdown",
      "source": [
        "## Build and Train the Logistic Regression model"
      ],
      "metadata": {
        "id": "W5q33Kuyw5zf"
      }
    },
    {
      "cell_type": "code",
      "source": [
        "from pyspark.ml.classification import LogisticRegression\n",
        "lr = LogisticRegression()\n",
        "lr_model = lr.fit(train)\n",
        "print(lr_model.coefficients)"
      ],
      "metadata": {
        "colab": {
          "base_uri": "https://localhost:8080/"
        },
        "id": "_JxBVHKqw29F",
        "outputId": "fca4b787-ee9f-4c84-e593-767054a21550"
      },
      "execution_count": 19,
      "outputs": [
        {
          "output_type": "stream",
          "name": "stdout",
          "text": [
            "[0.019229680583733748,-0.7252285299107761,-0.2890253196870109,-0.7840907981597982,0.04657511938269839,-0.19979179980244466,-0.5082521497983223,-0.10037684783730606,-0.08028087455734703,-0.30033444063413156,0.1658880298133049,9.617381463998484,8.702987374597917,0.07358978401933576,0.07022905146082366,0.17034804150548247,0.09014711859589636]\n"
          ]
        }
      ]
    },
    {
      "cell_type": "markdown",
      "source": [
        "## Evaluate Performance on Training Data"
      ],
      "metadata": {
        "id": "KFNuO8adxg_8"
      }
    },
    {
      "cell_type": "code",
      "source": [
        "lr_summary = lr_model.summary\n",
        "print(f\"{lr_summary.accuracy}\")\n",
        "print(f\"{lr_summary.areaUnderROC}\")\n",
        "print(f\"{lr_summary.weightedRecall}\")\n",
        "print(f\"{lr_summary.weightedPrecision}\")"
      ],
      "metadata": {
        "colab": {
          "base_uri": "https://localhost:8080/"
        },
        "id": "CfSIHutJxYJu",
        "outputId": "d3d4d679-2913-4f44-9275-7bd7905c97c0"
      },
      "execution_count": 21,
      "outputs": [
        {
          "output_type": "stream",
          "name": "stdout",
          "text": [
            "0.6091692602346181\n",
            "0.6255654333165382\n",
            "0.6091692602346181\n",
            "0.5942856462708686\n"
          ]
        }
      ]
    },
    {
      "cell_type": "code",
      "source": [
        "lr_summary.precisionByThreshold.show()"
      ],
      "metadata": {
        "colab": {
          "base_uri": "https://localhost:8080/"
        },
        "id": "fIhmwvXOx4ve",
        "outputId": "3578fd07-fb76-4c24-96e0-666253d80bce"
      },
      "execution_count": 22,
      "outputs": [
        {
          "output_type": "stream",
          "name": "stdout",
          "text": [
            "+------------------+------------------+\n",
            "|         threshold|         precision|\n",
            "+------------------+------------------+\n",
            "|0.7215116362676368|               1.0|\n",
            "| 0.704885731377001|              0.75|\n",
            "|0.7034833849335207|0.6666666666666666|\n",
            "|0.6920269658501402|             0.625|\n",
            "|0.6837703302183755|               0.6|\n",
            "|0.6809200275318057|0.5833333333333334|\n",
            "|0.6788654862288304|0.6428571428571429|\n",
            "|0.6687565508219957|             0.625|\n",
            "|0.6648580088694964| 0.631578947368421|\n",
            "|0.6596768965174618|0.6818181818181818|\n",
            "|0.6589219966131411|0.7083333333333334|\n",
            "|0.6557242331145414|0.7037037037037037|\n",
            "|0.6553466071143983|0.7241379310344828|\n",
            "|0.6511207935746719|0.7096774193548387|\n",
            "|0.6496078436364057|0.7428571428571429|\n",
            "|0.6488424980271214|0.6923076923076923|\n",
            "|0.6461185511068811|0.6829268292682927|\n",
            "|0.6444486533015403|0.6590909090909091|\n",
            "|0.6437125702634077|0.6739130434782609|\n",
            "| 0.642082749124431|            0.6875|\n",
            "+------------------+------------------+\n",
            "only showing top 20 rows\n",
            "\n"
          ]
        }
      ]
    },
    {
      "cell_type": "code",
      "source": [
        "import matplotlib.pyplot as plt\n",
        "\n",
        "# Assuming lr_summary is a BinaryClassificationMetrics object\n",
        "\n",
        "# Get the precision by threshold DataFrame\n",
        "precision_by_threshold = lr_summary.precisionByThreshold\n",
        "\n",
        "# Collect the DataFrame to the driver\n",
        "precision_by_threshold_list = precision_by_threshold.collect()\n",
        "\n",
        "# Extract threshold and precision values\n",
        "thresholds = [row['threshold'] for row in precision_by_threshold_list]\n",
        "precisions = [row['precision'] for row in precision_by_threshold_list]\n",
        "\n",
        "# Now use matplotlib to plot the precision against threshold\n",
        "plt.plot(precision_by_threshold_list)\n",
        "plt.legend(loc='upper left')\n",
        "plt.show()\n"
      ],
      "metadata": {
        "colab": {
          "base_uri": "https://localhost:8080/",
          "height": 467
        },
        "id": "357Q_4NB1qq7",
        "outputId": "a27717f0-521b-40af-ba2c-c3f6df6ff1fe"
      },
      "execution_count": 33,
      "outputs": [
        {
          "output_type": "stream",
          "name": "stderr",
          "text": [
            "WARNING:matplotlib.legend:No artists with labels found to put in legend.  Note that artists whose label start with an underscore are ignored when legend() is called with no argument.\n"
          ]
        },
        {
          "output_type": "display_data",
          "data": {
            "text/plain": [
              "<Figure size 640x480 with 1 Axes>"
            ],
            "image/png": "[encoded data removed]"
          },
          "metadata": {}
        }
      ]
    },
    {
      "cell_type": "markdown",
      "source": [
        "## **Different Graphs**\n",
        "* From the ROC Curve, a curve close to the top-left corner indicates a better performance.\n",
        "* From the Precision-Recall Curve, a higher area under the curve (AUC) indicates that the classifier is returning more true positives and fewer false negatives.\n",
        "* The Threshold vs. Metrics Plot will show you how the balance between precision and recall changes as you adjust the threshold. The optimal point often maximizes the F-Measure, which balances precision and recall.\n",
        "* The Confusion Matrix is a direct way to see the actual versus predicted counts of the classes.\n",
        "* For a Calibration Curve, if the plot significantly deviates from the diagonal, it indicates that the predicted probabilities are not representative of the actual outcomes."
      ],
      "metadata": {
        "id": "9PNXBSTy5DoH"
      }
    },
    {
      "cell_type": "code",
      "source": [
        "from pyspark.mllib.evaluation import BinaryClassificationMetrics\n",
        "from pyspark.ml.evaluation import BinaryClassificationEvaluator\n",
        "import matplotlib.pyplot as plt\n",
        "\n",
        "# Assuming predictions is a DataFrame with the logistic regression model's predictions\n",
        "# It needs to have a column with the label and a column with the prediction\n",
        "\n",
        "# ROC Curve\n",
        "roc = lr_summary.roc.toPandas()\n",
        "plt.figure()\n",
        "plt.plot(roc['FPR'], roc['TPR'])\n",
        "plt.plot([0, 1], [0, 1], 'k--')\n",
        "plt.xlabel('False Positive Rate')\n",
        "plt.ylabel('True Positive Rate')\n",
        "plt.title('ROC Curve')\n",
        "plt.show()\n",
        "\n",
        "# Precision-Recall Curve\n",
        "pr = lr_summary.pr.toPandas()\n",
        "plt.figure()\n",
        "plt.plot(pr['recall'], pr['precision'])\n",
        "plt.xlabel('Recall')\n",
        "plt.ylabel('Precision')\n",
        "plt.title('Precision-Recall Curve')\n",
        "plt.show()\n",
        "\n",
        "# Threshold vs. Metrics Plot\n",
        "f_measure = lr_summary.fMeasureByThreshold.toPandas()\n",
        "plt.figure()\n",
        "plt.plot(f_measure['threshold'], f_measure['F-Measure'])\n",
        "plt.xlabel('Threshold')\n",
        "plt.ylabel('F-Measure')\n",
        "plt.title('Threshold vs F-Measure')\n",
        "plt.show()\n",
        "\n",
        "import matplotlib.pyplot as plt\n",
        "import numpy as np\n",
        "beta = np.sort(lr_model.coefficients)\n",
        "plt.plot(beta)\n",
        "plt.ylabel('Beta Coefficients')\n",
        "plt.show()\n",
        "plt.show()\n"
      ],
      "metadata": {
        "colab": {
          "base_uri": "https://localhost:8080/",
          "height": 1000
        },
        "id": "SZfNFHgg5IdF",
        "outputId": "08334b9f-5cdf-4506-9a02-a482de1e9710"
      },
      "execution_count": 38,
      "outputs": [
        {
          "output_type": "display_data",
          "data": {
            "text/plain": [
              "<Figure size 640x480 with 1 Axes>"
            ],
            "image/png": "[encoded data removed]"
          },
          "metadata": {}
        },
        {
          "output_type": "display_data",
          "data": {
            "text/plain": [
              "<Figure size 640x480 with 1 Axes>"
            ],
            "image/png": "[encoded data removed]"
          },
          "metadata": {}
        },
        {
          "output_type": "display_data",
          "data": {
            "text/plain": [
              "<Figure size 640x480 with 1 Axes>"
            ],
            "image/png": "[encoded data removed]"
          },
          "metadata": {}
        },
        {
          "output_type": "display_data",
          "data": {
            "text/plain": [
              "<Figure size 640x480 with 1 Axes>"
            ],
            "image/png": "[encoded data removed]"
          },
          "metadata": {}
        }
      ]
    },
    {
      "cell_type": "code",
      "source": [
        "lr_summary.roc.show()"
      ],
      "metadata": {
        "colab": {
          "base_uri": "https://localhost:8080/"
        },
        "id": "Y6HW-seTyYhc",
        "outputId": "96c2118f-6b0a-4d15-fac3-deed266eabea"
      },
      "execution_count": 23,
      "outputs": [
        {
          "output_type": "stream",
          "name": "stdout",
          "text": [
            "+--------------------+--------------------+\n",
            "|                 FPR|                 TPR|\n",
            "+--------------------+--------------------+\n",
            "|                 0.0|                 0.0|\n",
            "|                 0.0|5.807200929152149E-4|\n",
            "|2.036659877800407...|8.710801393728223E-4|\n",
            "|4.073319755600815E-4|0.001161440185830...|\n",
            "|6.109979633401223E-4|0.001451800232288...|\n",
            "| 8.14663951120163E-4|0.001742160278745...|\n",
            "|0.001018329938900...|0.002032520325203...|\n",
            "|0.001018329938900...|0.002613240418118467|\n",
            "|0.001221995926680...|0.002903600464576...|\n",
            "|0.001425661914460...|0.003484320557491289|\n",
            "|0.001425661914460...|0.004355400696864111|\n",
            "|0.001425661914460...|0.004936120789779327|\n",
            "|0.001629327902240326|0.005516840882694541|\n",
            "|0.001629327902240326|0.006097560975609756|\n",
            "|0.001832993890020...|0.006387921022067364|\n",
            "|0.001832993890020...|0.007549361207897794|\n",
            "|0.002443991853360489|  0.0078397212543554|\n",
            "|0.002647657841140...|0.008130081300813009|\n",
            "|0.003054989816700611|0.008420441347270616|\n",
            "|0.003054989816700611|0.009001161440185831|\n",
            "+--------------------+--------------------+\n",
            "only showing top 20 rows\n",
            "\n"
          ]
        }
      ]
    },
    {
      "cell_type": "code",
      "source": [
        "lr_summary.recallByThreshold.show()"
      ],
      "metadata": {
        "colab": {
          "base_uri": "https://localhost:8080/"
        },
        "id": "QtCxfRDKygW_",
        "outputId": "6187ec89-036c-4891-8bef-ae59fe4e4524"
      },
      "execution_count": 24,
      "outputs": [
        {
          "output_type": "stream",
          "name": "stdout",
          "text": [
            "+------------------+--------------------+\n",
            "|         threshold|              recall|\n",
            "+------------------+--------------------+\n",
            "|0.7215116362676368|5.807200929152149E-4|\n",
            "| 0.704885731377001|8.710801393728223E-4|\n",
            "|0.7034833849335207|0.001161440185830...|\n",
            "|0.6920269658501402|0.001451800232288...|\n",
            "|0.6837703302183755|0.001742160278745...|\n",
            "|0.6809200275318057|0.002032520325203...|\n",
            "|0.6788654862288304|0.002613240418118467|\n",
            "|0.6687565508219957|0.002903600464576...|\n",
            "|0.6648580088694964|0.003484320557491289|\n",
            "|0.6596768965174618|0.004355400696864111|\n",
            "|0.6589219966131411|0.004936120789779327|\n",
            "|0.6557242331145414|0.005516840882694541|\n",
            "|0.6553466071143983|0.006097560975609756|\n",
            "|0.6511207935746719|0.006387921022067364|\n",
            "|0.6496078436364057|0.007549361207897794|\n",
            "|0.6488424980271214|  0.0078397212543554|\n",
            "|0.6461185511068811|0.008130081300813009|\n",
            "|0.6444486533015403|0.008420441347270616|\n",
            "|0.6437125702634077|0.009001161440185831|\n",
            "| 0.642082749124431|0.009581881533101045|\n",
            "+------------------+--------------------+\n",
            "only showing top 20 rows\n",
            "\n"
          ]
        }
      ]
    },
    {
      "cell_type": "code",
      "source": [
        "lr_summary.pr.show()"
      ],
      "metadata": {
        "colab": {
          "base_uri": "https://localhost:8080/"
        },
        "id": "c-z8LPqTynWC",
        "outputId": "c974e440-0b39-4f9d-f142-240a008156b1"
      },
      "execution_count": 25,
      "outputs": [
        {
          "output_type": "stream",
          "name": "stdout",
          "text": [
            "+--------------------+------------------+\n",
            "|              recall|         precision|\n",
            "+--------------------+------------------+\n",
            "|                 0.0|               1.0|\n",
            "|5.807200929152149E-4|               1.0|\n",
            "|8.710801393728223E-4|              0.75|\n",
            "|0.001161440185830...|0.6666666666666666|\n",
            "|0.001451800232288...|             0.625|\n",
            "|0.001742160278745...|               0.6|\n",
            "|0.002032520325203...|0.5833333333333334|\n",
            "|0.002613240418118467|0.6428571428571429|\n",
            "|0.002903600464576...|             0.625|\n",
            "|0.003484320557491289| 0.631578947368421|\n",
            "|0.004355400696864111|0.6818181818181818|\n",
            "|0.004936120789779327|0.7083333333333334|\n",
            "|0.005516840882694541|0.7037037037037037|\n",
            "|0.006097560975609756|0.7241379310344828|\n",
            "|0.006387921022067364|0.7096774193548387|\n",
            "|0.007549361207897794|0.7428571428571429|\n",
            "|  0.0078397212543554|0.6923076923076923|\n",
            "|0.008130081300813009|0.6829268292682927|\n",
            "|0.008420441347270616|0.6590909090909091|\n",
            "|0.009001161440185831|0.6739130434782609|\n",
            "+--------------------+------------------+\n",
            "only showing top 20 rows\n",
            "\n"
          ]
        }
      ]
    },
    {
      "cell_type": "markdown",
      "source": [
        "## Evaluate Performance on test data"
      ],
      "metadata": {
        "id": "YuwEq32-yvya"
      }
    },
    {
      "cell_type": "code",
      "source": [
        "model_predictions = lr_model.transform(test)\n",
        "model_predictions.columns"
      ],
      "metadata": {
        "colab": {
          "base_uri": "https://localhost:8080/"
        },
        "id": "tnfytoeTyttM",
        "outputId": "c4fe8711-3c1b-4bb7-ac3c-c5ec4334242e"
      },
      "execution_count": 26,
      "outputs": [
        {
          "output_type": "execute_result",
          "data": {
            "text/plain": [
              "['features', 'label', 'rawPrediction', 'probability', 'prediction']"
            ]
          },
          "metadata": {},
          "execution_count": 26
        }
      ]
    },
    {
      "cell_type": "code",
      "source": [
        "model_predictions.select(['label', 'probability', 'prediction']).show(10, False)"
      ],
      "metadata": {
        "colab": {
          "base_uri": "https://localhost:8080/"
        },
        "id": "UFIOy98z0Qfd",
        "outputId": "9ae51294-9d93-4807-8d9d-2f32412ee91a"
      },
      "execution_count": 27,
      "outputs": [
        {
          "output_type": "stream",
          "name": "stdout",
          "text": [
            "+-----+----------------------------------------+----------+\n",
            "|label|probability                             |prediction|\n",
            "+-----+----------------------------------------+----------+\n",
            "|1    |[0.6370994281613863,0.3629005718386137] |0.0       |\n",
            "|0    |[0.6326418394308743,0.36735816056912574]|0.0       |\n",
            "|0    |[0.6191349430008287,0.3808650569991713] |0.0       |\n",
            "|0    |[0.6054411540543257,0.39455884594567425]|0.0       |\n",
            "|0    |[0.6054411540543257,0.39455884594567425]|0.0       |\n",
            "|1    |[0.568160910978172,0.431839089021828]   |0.0       |\n",
            "|1    |[0.544433282941768,0.45556671705823204] |0.0       |\n",
            "|1    |[0.6114631751351135,0.3885368248648865] |0.0       |\n",
            "|1    |[0.6068849934943771,0.3931150065056229] |0.0       |\n",
            "|1    |[0.6068849934943771,0.3931150065056229] |0.0       |\n",
            "+-----+----------------------------------------+----------+\n",
            "only showing top 10 rows\n",
            "\n"
          ]
        }
      ]
    },
    {
      "cell_type": "code",
      "source": [
        "from pyspark.ml.evaluation import BinaryClassificationEvaluator"
      ],
      "metadata": {
        "id": "55pDTHPg0rJN"
      },
      "execution_count": 39,
      "outputs": []
    },
    {
      "cell_type": "code",
      "source": [
        "# RMSE value of the model on test data\n",
        "lr_evaluator = BinaryClassificationEvaluator(metricName='areaUnderROC')\n",
        "lr_auroc = lr_evaluator.evaluate(model_predictions)\n",
        "print(f'The auc value of Logistic Regression Model is {lr_auroc}')\n",
        "\n",
        "\n",
        "# RMSE value of the model on test data\n",
        "lr_evaluator = BinaryClassificationEvaluator(metricName='areaUnderPR')\n",
        "lr_aupr = lr_evaluator.evaluate(model_predictions)\n",
        "print(f'The aupr value of Logistic Regression Model is {lr_aupr}')"
      ],
      "metadata": {
        "colab": {
          "base_uri": "https://localhost:8080/"
        },
        "id": "Y5vw6wqX7vi-",
        "outputId": "59abd9ad-19dc-4b54-c9a8-42593dc5b4d1"
      },
      "execution_count": 40,
      "outputs": [
        {
          "output_type": "stream",
          "name": "stdout",
          "text": [
            "The auc value of Logistic Regression Model is 0.6235479761160165\n",
            "The aupr value of Logistic Regression Model is 0.5288149463411007\n"
          ]
        }
      ]
    },
    {
      "cell_type": "code",
      "source": [
        "true_pos=model_predictions.filter(model_predictions['label']==1).filter(model_predictions['prediction']==1).count()\n",
        "actual_pos=model_predictions.filter(model_predictions['label']==1).count()\n"
      ],
      "metadata": {
        "id": "RBfZhQUs7yvP"
      },
      "execution_count": 41,
      "outputs": []
    },
    {
      "cell_type": "code",
      "source": [
        "#Recall\n",
        "float(true_pos)/(actual_pos)"
      ],
      "metadata": {
        "colab": {
          "base_uri": "https://localhost:8080/"
        },
        "id": "4hlJ0LPr8QJa",
        "outputId": "e6ac21c4-85ea-47ae-d461-89e42561c945"
      },
      "execution_count": 42,
      "outputs": [
        {
          "output_type": "execute_result",
          "data": {
            "text/plain": [
              "0.2959866220735786"
            ]
          },
          "metadata": {},
          "execution_count": 42
        }
      ]
    },
    {
      "cell_type": "code",
      "source": [
        "pred_pos=model_predictions.filter(model_predictions['prediction']==1).count()\n",
        "#Precision\n",
        "float(true_pos)/(pred_pos)"
      ],
      "metadata": {
        "colab": {
          "base_uri": "https://localhost:8080/"
        },
        "id": "iLQ7CAby8S8r",
        "outputId": "b210ef67-2b7d-4602-aa42-3658f6173f3f"
      },
      "execution_count": 43,
      "outputs": [
        {
          "output_type": "execute_result",
          "data": {
            "text/plain": [
              "0.5471406491499228"
            ]
          },
          "metadata": {},
          "execution_count": 43
        }
      ]
    },
    {
      "cell_type": "markdown",
      "source": [
        "## **Decision Tree Classifier**"
      ],
      "metadata": {
        "id": "uN4SUxZD8vJN"
      }
    },
    {
      "cell_type": "code",
      "source": [
        "from pyspark.ml.classification import DecisionTreeClassifier\n",
        "dt = DecisionTreeClassifier()\n",
        "dt_model = dt.fit(train)"
      ],
      "metadata": {
        "id": "uWH9knal8YCJ"
      },
      "execution_count": 44,
      "outputs": []
    },
    {
      "cell_type": "code",
      "source": [
        "model_predictions = dt_model.transform(test)"
      ],
      "metadata": {
        "id": "ruisXNLj86Pt"
      },
      "execution_count": 45,
      "outputs": []
    },
    {
      "cell_type": "code",
      "source": [
        "model_predictions.select(['label','probability','prediction']).show(10,False)"
      ],
      "metadata": {
        "colab": {
          "base_uri": "https://localhost:8080/"
        },
        "id": "T9LYM0XF9Aaa",
        "outputId": "635b4335-d94e-4869-f5ae-641b2b11a830"
      },
      "execution_count": 46,
      "outputs": [
        {
          "output_type": "stream",
          "name": "stdout",
          "text": [
            "+-----+---------------------------------------+----------+\n",
            "|label|probability                            |prediction|\n",
            "+-----+---------------------------------------+----------+\n",
            "|1    |[0.5989198919891989,0.4010801080108011]|0.0       |\n",
            "|0    |[0.5989198919891989,0.4010801080108011]|0.0       |\n",
            "|0    |[0.5989198919891989,0.4010801080108011]|0.0       |\n",
            "|0    |[0.5989198919891989,0.4010801080108011]|0.0       |\n",
            "|0    |[0.5989198919891989,0.4010801080108011]|0.0       |\n",
            "|1    |[0.5989198919891989,0.4010801080108011]|0.0       |\n",
            "|1    |[0.5989198919891989,0.4010801080108011]|0.0       |\n",
            "|1    |[0.4523809523809524,0.5476190476190477]|1.0       |\n",
            "|1    |[0.4523809523809524,0.5476190476190477]|1.0       |\n",
            "|1    |[0.4523809523809524,0.5476190476190477]|1.0       |\n",
            "+-----+---------------------------------------+----------+\n",
            "only showing top 10 rows\n",
            "\n"
          ]
        }
      ]
    },
    {
      "cell_type": "code",
      "source": [
        "# RMSE value of the model on test data\n",
        "dt_evaluator = BinaryClassificationEvaluator(metricName='areaUnderROC')\n",
        "dt_auroc = dt_evaluator.evaluate(model_predictions)\n",
        "print(f'The auc value of Decision Tree Classifier Model is {dt_auroc}')\n",
        "\n",
        "\n",
        "# RMSE value of the model on test data\n",
        "dt_evaluator = BinaryClassificationEvaluator(metricName='areaUnderPR')\n",
        "dt_aupr = dt_evaluator.evaluate(model_predictions)\n",
        "print(f'The aupr value of Logistic Regression Model is {dt_aupr}')"
      ],
      "metadata": {
        "colab": {
          "base_uri": "https://localhost:8080/"
        },
        "id": "ibYJQON29Ct6",
        "outputId": "d3e01cdc-1a71-4e60-c9a4-6a001d2403ac"
      },
      "execution_count": 47,
      "outputs": [
        {
          "output_type": "stream",
          "name": "stdout",
          "text": [
            "The auc value of Decision Tree Classifier Model is 0.48740087724767056\n",
            "The aupr value of Logistic Regression Model is 0.411070153070734\n"
          ]
        }
      ]
    },
    {
      "cell_type": "code",
      "source": [
        "true_pos=model_predictions.filter(model_predictions['label']==1).filter(model_predictions['prediction']==1).count()\n",
        "actual_pos=model_predictions.filter(model_predictions['label']==1).count()\n",
        "pred_pos=model_predictions.filter(model_predictions['prediction']==1).count()"
      ],
      "metadata": {
        "id": "kMknjnC39F6Z"
      },
      "execution_count": 48,
      "outputs": []
    },
    {
      "cell_type": "code",
      "source": [
        "#Recall\n",
        "float(true_pos)/(actual_pos)\n"
      ],
      "metadata": {
        "colab": {
          "base_uri": "https://localhost:8080/"
        },
        "id": "dolXBciw9POZ",
        "outputId": "bb5098b3-c663-472a-ce16-060ace95e486"
      },
      "execution_count": 49,
      "outputs": [
        {
          "output_type": "execute_result",
          "data": {
            "text/plain": [
              "0.2525083612040134"
            ]
          },
          "metadata": {},
          "execution_count": 49
        }
      ]
    },
    {
      "cell_type": "code",
      "source": [
        "#Precision on test Data\n",
        "float(true_pos)/(pred_pos)"
      ],
      "metadata": {
        "colab": {
          "base_uri": "https://localhost:8080/"
        },
        "id": "laWsvzzh9Ryq",
        "outputId": "e6d5c805-0a2f-48bf-b9e4-7070fa9ca87c"
      },
      "execution_count": 50,
      "outputs": [
        {
          "output_type": "execute_result",
          "data": {
            "text/plain": [
              "0.6974595842956121"
            ]
          },
          "metadata": {},
          "execution_count": 50
        }
      ]
    },
    {
      "cell_type": "markdown",
      "source": [
        "## **Support Vector Machines**"
      ],
      "metadata": {
        "id": "ZRplIgaB9sqs"
      }
    },
    {
      "cell_type": "markdown",
      "source": [
        "## Build and train SVM model"
      ],
      "metadata": {
        "id": "dV9IfSlv9xgY"
      }
    },
    {
      "cell_type": "code",
      "source": [
        "from pyspark.ml.classification import RandomForestClassifier\n",
        "rf = RandomForestClassifier(numTrees=50,maxDepth=30)\n",
        "rf_model = rf.fit(train)"
      ],
      "metadata": {
        "id": "cXSCvEMK9TgR"
      },
      "execution_count": 51,
      "outputs": []
    },
    {
      "cell_type": "code",
      "source": [
        "model_predictions = rf_model.transform(test)\n",
        "model_predictions.select(['label','probability','prediction']).show(10,False)"
      ],
      "metadata": {
        "colab": {
          "base_uri": "https://localhost:8080/"
        },
        "id": "sl5IP3kH97GJ",
        "outputId": "be1a8322-0618-4f26-f051-785ba2d4ed81"
      },
      "execution_count": 52,
      "outputs": [
        {
          "output_type": "stream",
          "name": "stdout",
          "text": [
            "+-----+----------------------------------------+----------+\n",
            "|label|probability                             |prediction|\n",
            "+-----+----------------------------------------+----------+\n",
            "|1    |[0.586106905622406,0.41389309437759403] |0.0       |\n",
            "|0    |[0.6134878580033584,0.3865121419966417] |0.0       |\n",
            "|0    |[0.4952820545318737,0.5047179454681263] |1.0       |\n",
            "|0    |[0.5436095360928301,0.45639046390716986]|0.0       |\n",
            "|0    |[0.5436095360928301,0.45639046390716986]|0.0       |\n",
            "|1    |[0.5263411698856911,0.47365883011430887]|0.0       |\n",
            "|1    |[0.41636188190438594,0.583638118095614] |1.0       |\n",
            "|1    |[0.6162967249913978,0.38370327500860213]|0.0       |\n",
            "|1    |[0.6162967249913978,0.38370327500860213]|0.0       |\n",
            "|1    |[0.6162967249913978,0.38370327500860213]|0.0       |\n",
            "+-----+----------------------------------------+----------+\n",
            "only showing top 10 rows\n",
            "\n"
          ]
        }
      ]
    },
    {
      "cell_type": "markdown",
      "source": [
        "## Evaluate performance on test data"
      ],
      "metadata": {
        "id": "f6HEY-OP-IYW"
      }
    },
    {
      "cell_type": "code",
      "source": [
        "rf_evaluator = BinaryClassificationEvaluator(metricName='areaUnderROC')\n",
        "rf_auroc = rf_evaluator.evaluate(model_predictions)\n",
        "print(f'The auc value of RandomForestClassifier Model is {rf_auroc}')\n",
        "\n",
        "rf_evaluator = BinaryClassificationEvaluator(metricName='areaUnderPR')\n",
        "rf_aupr = rf_evaluator.evaluate(model_predictions)\n",
        "print(f'The aupr value of RandomForestClassifier Model is {rf_aupr}')\n"
      ],
      "metadata": {
        "colab": {
          "base_uri": "https://localhost:8080/"
        },
        "id": "7fdbhiWS-DYR",
        "outputId": "8c0a28b9-331b-4e8f-8f4f-6363ac7799b3"
      },
      "execution_count": 53,
      "outputs": [
        {
          "output_type": "stream",
          "name": "stdout",
          "text": [
            "The auc value of RandomForestClassifier Model is 0.6591084834797091\n",
            "The aupr value of RandomForestClassifier Model is 0.5842001405747794\n"
          ]
        }
      ]
    },
    {
      "cell_type": "code",
      "source": [
        "true_pos=model_predictions.filter(model_predictions['label']==1).filter(model_predictions['prediction']==1).count()\n",
        "actual_pos=model_predictions.filter(model_predictions['label']==1).count()\n",
        "pred_pos=model_predictions.filter(model_predictions['prediction']==1).count()\n"
      ],
      "metadata": {
        "id": "bedYpvTS-Vhu"
      },
      "execution_count": 54,
      "outputs": []
    },
    {
      "cell_type": "code",
      "source": [
        "#Recall\n",
        "float(true_pos)/(actual_pos)"
      ],
      "metadata": {
        "colab": {
          "base_uri": "https://localhost:8080/"
        },
        "id": "ngN-dbw3-ciT",
        "outputId": "670c0f4e-b41f-47b6-94d9-4e1d615bb0a2"
      },
      "execution_count": 55,
      "outputs": [
        {
          "output_type": "execute_result",
          "data": {
            "text/plain": [
              "0.28762541806020064"
            ]
          },
          "metadata": {},
          "execution_count": 55
        }
      ]
    },
    {
      "cell_type": "code",
      "source": [
        "#Precision on test Data\n",
        "float(true_pos)/(pred_pos)\n"
      ],
      "metadata": {
        "colab": {
          "base_uri": "https://localhost:8080/"
        },
        "id": "1-nXPQg4-fMY",
        "outputId": "0cd1b62a-0c54-4330-8b62-46ec027bbf57"
      },
      "execution_count": 56,
      "outputs": [
        {
          "output_type": "execute_result",
          "data": {
            "text/plain": [
              "0.6335174953959485"
            ]
          },
          "metadata": {},
          "execution_count": 56
        }
      ]
    },
    {
      "cell_type": "code",
      "source": [],
      "metadata": {
        "id": "BA4VEW0O-huH"
      },
      "execution_count": null,
      "outputs": []
    }
  ]
}
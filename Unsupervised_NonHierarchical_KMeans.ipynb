{
  "nbformat": 4,
  "nbformat_minor": 0,
  "metadata": {
    "colab": {
      "provenance": [],
      "authorship_tag": "ABX9TyPSBVWKgpwsfNGuGgYs1M2l",
      "include_colab_link": true
    },
    "kernelspec": {
      "name": "python3",
      "display_name": "Python 3"
    },
    "language_info": {
      "name": "python"
    }
  },
  "cells": [
    {
      "cell_type": "markdown",
      "metadata": {
        "id": "view-in-github",
        "colab_type": "text"
      },
      "source": [
        "<a href=\"https://colab.research.google.com/github/ankesh86/PySparkNotebooks/blob/main/Unsupervised_NonHierarchical_KMeans.ipynb\" target=\"_parent\"><img src=\"https://colab.research.google.com/assets/colab-badge.svg\" alt=\"Open In Colab\"/></a>"
      ]
    },
    {
      "cell_type": "code",
      "execution_count": 1,
      "metadata": {
        "colab": {
          "base_uri": "https://localhost:8080/"
        },
        "id": "R5OnnPxE12bP",
        "outputId": "6c8f010e-83db-4065-b2e7-6c3182216e48"
      },
      "outputs": [
        {
          "output_type": "stream",
          "name": "stdout",
          "text": [
            "Collecting pyspark==3.4.0\n",
            "  Downloading pyspark-3.4.0.tar.gz (310.8 MB)\n",
            "\u001b[2K     \u001b[90m━━━━━━━━━━━━━━━━━━━━━━━━━━━━━━━━━━━━━━━━\u001b[0m \u001b[32m310.8/310.8 MB\u001b[0m \u001b[31m3.0 MB/s\u001b[0m eta \u001b[36m0:00:00\u001b[0m\n",
            "\u001b[?25h  Preparing metadata (setup.py) ... \u001b[?25l\u001b[?25hdone\n",
            "Requirement already satisfied: py4j==0.10.9.7 in /usr/local/lib/python3.10/dist-packages (from pyspark==3.4.0) (0.10.9.7)\n",
            "Building wheels for collected packages: pyspark\n",
            "  Building wheel for pyspark (setup.py) ... \u001b[?25l\u001b[?25hdone\n",
            "  Created wheel for pyspark: filename=pyspark-3.4.0-py2.py3-none-any.whl size=311317122 sha256=37fdfea729d199e9e8286e133eefa2f68a3133bb06685df82fe5efa47fd39f1c\n",
            "  Stored in directory: /root/.cache/pip/wheels/7b/1b/4b/3363a1d04368e7ff0d408e57ff57966fcdf00583774e761327\n",
            "Successfully built pyspark\n",
            "Installing collected packages: pyspark\n",
            "Successfully installed pyspark-3.4.0\n"
          ]
        }
      ],
      "source": [
        "!pip install pyspark==3.4.0"
      ]
    },
    {
      "cell_type": "code",
      "source": [
        "# Import Sparksession\n",
        "from pyspark.sql import SparkSession\n",
        "spark=SparkSession.builder.appName(\"Clustering\").getOrCreate()"
      ],
      "metadata": {
        "id": "9O-784V633qC"
      },
      "execution_count": 2,
      "outputs": []
    },
    {
      "cell_type": "code",
      "source": [
        "# Print PySpark and Python versions\n",
        "import sys\n",
        "print('Python version: '+sys.version)\n",
        "print('Spark version: '+spark.version)"
      ],
      "metadata": {
        "colab": {
          "base_uri": "https://localhost:8080/"
        },
        "id": "0A_5k5vE4Jl5",
        "outputId": "a64f3186-f598-49bc-ee05-cc8604422ba2"
      },
      "execution_count": 3,
      "outputs": [
        {
          "output_type": "stream",
          "name": "stdout",
          "text": [
            "Python version: 3.10.12 (main, Nov 20 2023, 15:14:05) [GCC 11.4.0]\n",
            "Spark version: 3.4.0\n"
          ]
        }
      ]
    },
    {
      "cell_type": "markdown",
      "source": [
        "# Load data"
      ],
      "metadata": {
        "id": "qyUptSsV4OBT"
      }
    },
    {
      "cell_type": "code",
      "source": [
        "# Read data\n",
        "file_location = \"sample_data/cluster_data.csv\"\n",
        "file_type = \"csv\"\n",
        "infer_schema = \"false\"\n",
        "first_row_is_header = \"true\"\n",
        "\n",
        "\n",
        "df = spark.read.format(file_type)\\\n",
        ".option(\"inferSchema\", infer_schema)\\\n",
        ".option(\"header\", first_row_is_header)\\\n",
        ".load(file_location)"
      ],
      "metadata": {
        "id": "1472_spA4MCq"
      },
      "execution_count": 7,
      "outputs": []
    },
    {
      "cell_type": "code",
      "source": [
        "#print metadata\n",
        "df.printSchema()"
      ],
      "metadata": {
        "colab": {
          "base_uri": "https://localhost:8080/"
        },
        "id": "OOzwf6o44SuH",
        "outputId": "f6557006-fcce-49e1-d7d7-c1245c63bba4"
      },
      "execution_count": 8,
      "outputs": [
        {
          "output_type": "stream",
          "name": "stdout",
          "text": [
            "root\n",
            " |-- CUST_ID: string (nullable = true)\n",
            " |-- BALANCE: string (nullable = true)\n",
            " |-- BALANCE_FREQUENCY: string (nullable = true)\n",
            " |-- PURCHASES: string (nullable = true)\n",
            " |-- ONEOFF_PURCHASES: string (nullable = true)\n",
            " |-- INSTALLMENTS_PURCHASES: string (nullable = true)\n",
            " |-- CASH_ADVANCE: string (nullable = true)\n",
            " |-- PURCHASES_FREQUENCY: string (nullable = true)\n",
            " |-- ONEOFF_PURCHASES_FREQUENCY: string (nullable = true)\n",
            " |-- PURCHASES_INSTALLMENTS_FREQUENCY: string (nullable = true)\n",
            " |-- CASH_ADVANCE_FREQUENCY: string (nullable = true)\n",
            " |-- CASH_ADVANCE_TRX: string (nullable = true)\n",
            " |-- PURCHASES_TRX: string (nullable = true)\n",
            " |-- CREDIT_LIMIT: string (nullable = true)\n",
            " |-- PAYMENTS: string (nullable = true)\n",
            " |-- MINIMUM_PAYMENTS: string (nullable = true)\n",
            " |-- PRC_FULL_PAYMENT: string (nullable = true)\n",
            " |-- TENURE: string (nullable = true)\n",
            "\n"
          ]
        }
      ]
    },
    {
      "cell_type": "code",
      "source": [
        "#count data\n",
        "df.count()"
      ],
      "metadata": {
        "colab": {
          "base_uri": "https://localhost:8080/"
        },
        "id": "t07OdJgW5ElM",
        "outputId": "7049a28d-4dc9-4c0d-8ea9-84879c6b3fe1"
      },
      "execution_count": 9,
      "outputs": [
        {
          "output_type": "execute_result",
          "data": {
            "text/plain": [
              "8950"
            ]
          },
          "metadata": {},
          "execution_count": 9
        }
      ]
    },
    {
      "cell_type": "markdown",
      "source": [
        "# Casting variable to appropriate data types"
      ],
      "metadata": {
        "id": "NslB-CxU5L6e"
      }
    },
    {
      "cell_type": "code",
      "source": [
        "# Casting multiple variables\n",
        "from pyspark.sql.types import *\n",
        "\n",
        "#Identifying and assiging lists of variables\n",
        "float_vars=list(set(df.columns) - set(['CUST_ID']))\n",
        "\n",
        "\n",
        "for column in float_vars:\n",
        "\tdf=df.withColumn(column,df[column].cast(FloatType()))"
      ],
      "metadata": {
        "id": "EpaEMCKi5H-e"
      },
      "execution_count": 10,
      "outputs": []
    },
    {
      "cell_type": "markdown",
      "source": [
        "# Imputer"
      ],
      "metadata": {
        "id": "uAZv8vex5Ud7"
      }
    },
    {
      "cell_type": "code",
      "source": [
        "from pyspark.ml.feature import Imputer\n",
        "\n",
        "# Shortlisting variables where mean imputation is required\n",
        "input_cols=list(set(df.columns) - set(['CUST_ID']))\n",
        "\n",
        "# Defining the imputer function\n",
        "imputer = Imputer(\n",
        "    inputCols=input_cols,\n",
        "    outputCols=[\"{}_imputed\".format(c) for c in input_cols])\n",
        "\n",
        "# Applying the transformation\n",
        "df_imputed=imputer.fit(df).transform(df)\n",
        "\n",
        "# Dropping the original columns as we created the _imputed columns\n",
        "df_imputed=df_imputed.drop(*input_cols)\n",
        "\n",
        "# Renaming the input columns to original columns for consistency\n",
        "new_column_name_list= list(map(lambda x: x.replace(\"_imputed\", \"\"), df.columns))\n",
        "df_imputed = df_imputed.toDF(*new_column_name_list)"
      ],
      "metadata": {
        "id": "KmJ0-fUg5O6x"
      },
      "execution_count": 11,
      "outputs": []
    },
    {
      "cell_type": "markdown",
      "source": [
        "# Normalizing and Pipeline"
      ],
      "metadata": {
        "id": "qX0ZLlag5gY6"
      }
    },
    {
      "cell_type": "code",
      "source": [
        "from pyspark.ml.feature import VectorAssembler\n",
        "from pyspark.ml.feature import Normalizer\n",
        "from pyspark.ml import Pipeline\n",
        "\n",
        "# Listing the variables that are not required in the segmentation analysis\n",
        "ignore = ['CUST_ID']\n",
        "# creating vector of all features\n",
        "assembler = VectorAssembler(inputCols=[x for x in df.columns if x not in ignore],\n",
        "                            outputCol='features')\n",
        "# creating the normalization for all features for scaling betwen 0 to 1\n",
        "normalizer = Normalizer(inputCol=\"features\", outputCol=\"normFeatures\", p=1.0)\n",
        "# Defining the pipeline\n",
        "pipeline = Pipeline(stages=[assembler, normalizer])\n",
        "# Fitting the pipeline\n",
        "transformations=pipeline.fit(df_imputed)\n",
        "# Applying the transformation\n",
        "df_updated = transformations.transform(df_imputed)"
      ],
      "metadata": {
        "id": "RPjdppw95Yxj"
      },
      "execution_count": 12,
      "outputs": []
    },
    {
      "cell_type": "markdown",
      "source": [
        "# Model creation"
      ],
      "metadata": {
        "id": "-2jL7tmT6Jct"
      }
    },
    {
      "cell_type": "code",
      "source": [
        "from pyspark.ml.clustering import KMeans\n",
        "from pyspark.ml.evaluation import ClusteringEvaluator\n",
        "\n",
        "# Trains a k-means model.\n",
        "kmeans = KMeans().setK(2).setSeed(1003)\n",
        "model = kmeans.fit(df_updated.select('normFeatures').withColumnRenamed('normFeatures','features'))\n",
        "\n",
        "# Make predictions\n",
        "predictions = model.transform(df_updated.select('normFeatures').withColumnRenamed('normFeatures','features'))\n",
        "\n",
        "# Evaluate clustering by computing Silhouette score\n",
        "evaluator = ClusteringEvaluator()\n",
        "\n",
        "silhouette = evaluator.evaluate(predictions)\n",
        "print(\"Silhouette with squared euclidean distance = \" + str(silhouette))\n",
        "\n",
        "# Shows the result.\n",
        "centers = model.clusterCenters()\n",
        "print(\"Cluster Centers: \")\n",
        "for center in centers:\n",
        "    print(center)"
      ],
      "metadata": {
        "colab": {
          "base_uri": "https://localhost:8080/"
        },
        "id": "RuYGMhgf6Izp",
        "outputId": "8933a5e8-537a-4be0-8643-5ad871a673f0"
      },
      "execution_count": 13,
      "outputs": [
        {
          "output_type": "stream",
          "name": "stdout",
          "text": [
            "Silhouette with squared euclidean distance = 0.4985676444616938\n",
            "Cluster Centers: \n",
            "[8.98299971e-02 4.07539038e-05 9.87267926e-02 2.07896083e-05\n",
            " 5.52420719e-05 8.20280322e-02 1.37602987e-05 1.56132502e-01\n",
            " 1.67607737e-01 1.35435512e-03 1.58877727e-03 1.27030958e-04\n",
            " 3.68861785e-02 3.19938943e-01 4.51923000e-02 2.00543992e-05\n",
            " 4.36753645e-04]\n",
            "[4.21922052e-02 8.65612107e-05 1.56952070e-02 4.99595698e-06\n",
            " 1.07504143e-04 6.73144634e-02 5.20319817e-05 9.19627812e-02\n",
            " 4.12198014e-02 1.69559052e-03 2.36741330e-03 1.49505893e-04\n",
            " 4.13390469e-02 6.69692711e-01 2.60219527e-02 2.03653144e-05\n",
            " 7.78628562e-05]\n"
          ]
        }
      ]
    },
    {
      "cell_type": "markdown",
      "source": [
        "# Plotting the graph and clusteing values"
      ],
      "metadata": {
        "id": "S2bjRBk46iPE"
      }
    },
    {
      "cell_type": "code",
      "source": [
        "import pandas as pd\n",
        "import seaborn as sns\n",
        "import matplotlib.pyplot as plt\n",
        "\n",
        "sil_coeff=[]\n",
        "num_clusters=[]\n",
        "for iter in range(2,8):\n",
        "    kmeans = KMeans().setK(iter).setSeed(1003)\n",
        "    model = kmeans.fit(df_updated.select('normFeatures').withColumnRenamed('normFeatures','features'))\n",
        "    # Make predictions\n",
        "    predictions = model.transform(df_updated.select('normFeatures').withColumnRenamed('normFeatures','features'))\n",
        "    # Evaluate clustering by computing Silhouette score\n",
        "    evaluator = ClusteringEvaluator()\n",
        "    silhouette = evaluator.evaluate(predictions)\n",
        "    sil_coeff.append(silhouette)\n",
        "    num_clusters.append(iter)\n",
        "    print(\"Silhouette with squared euclidean distance for \"+str(iter) +\" cluster solution = \" + str(silhouette))\n",
        "\n",
        "\n",
        "df_viz=pd.DataFrame(zip(num_clusters,sil_coeff), columns=['num_clusters','silhouette_score'])\n",
        "sns.lineplot(x = \"num_clusters\", y = \"silhouette_score\", data=df_viz)\n",
        "plt.title('k-means : Silhouette scores')\n",
        "plt.xticks(range(2, 8))\n",
        "plt.show()"
      ],
      "metadata": {
        "colab": {
          "base_uri": "https://localhost:8080/",
          "height": 576
        },
        "id": "thmitQ_p6P0V",
        "outputId": "2ed4c91e-37a3-4d3b-9c0c-a36c696bebe8"
      },
      "execution_count": 14,
      "outputs": [
        {
          "output_type": "stream",
          "name": "stdout",
          "text": [
            "Silhouette with squared euclidean distance for 2 cluster solution = 0.4985676444616938\n",
            "Silhouette with squared euclidean distance for 3 cluster solution = 0.5085437493303203\n",
            "Silhouette with squared euclidean distance for 4 cluster solution = 0.47936391094272957\n",
            "Silhouette with squared euclidean distance for 5 cluster solution = 0.45546028029107766\n",
            "Silhouette with squared euclidean distance for 6 cluster solution = 0.41643403573982596\n",
            "Silhouette with squared euclidean distance for 7 cluster solution = 0.461306382810158\n"
          ]
        },
        {
          "output_type": "display_data",
          "data": {
            "text/plain": [
              "<Figure size 640x480 with 1 Axes>"
            ],
            "image/png": "[encoded data removed]"
          },
          "metadata": {}
        }
      ]
    },
    {
      "cell_type": "code",
      "source": [],
      "metadata": {
        "id": "ibxEYIrm6ns3"
      },
      "execution_count": null,
      "outputs": []
    }
  ]
}
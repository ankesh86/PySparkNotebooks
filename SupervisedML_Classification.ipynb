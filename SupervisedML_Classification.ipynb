{
  "nbformat": 4,
  "nbformat_minor": 0,
  "metadata": {
    "colab": {
      "provenance": [],
      "authorship_tag": "ABX9TyNryvhHLn+W33lgXeTxFUVS",
      "include_colab_link": true
    },
    "kernelspec": {
      "name": "python3",
      "display_name": "Python 3"
    },
    "language_info": {
      "name": "python"
    }
  },
  "cells": [
    {
      "cell_type": "markdown",
      "metadata": {
        "id": "view-in-github",
        "colab_type": "text"
      },
      "source": [
        "<a href=\"https://colab.research.google.com/github/ankesh86/PySparkNotebooks/blob/main/SupervisedML_Classification.ipynb\" target=\"_parent\"><img src=\"https://colab.research.google.com/assets/colab-badge.svg\" alt=\"Open In Colab\"/></a>"
      ]
    },
    {
      "cell_type": "code",
      "execution_count": 1,
      "metadata": {
        "colab": {
          "base_uri": "https://localhost:8080/"
        },
        "id": "cM1XN4grlo3n",
        "outputId": "95388f6d-7354-4152-d89d-36077a2a0ba8"
      },
      "outputs": [
        {
          "output_type": "stream",
          "name": "stdout",
          "text": [
            "Collecting pyspark==3.4.0\n",
            "  Downloading pyspark-3.4.0.tar.gz (310.8 MB)\n",
            "\u001b[2K     \u001b[90m━━━━━━━━━━━━━━━━━━━━━━━━━━━━━━━━━━━━━━━━\u001b[0m \u001b[32m310.8/310.8 MB\u001b[0m \u001b[31m3.1 MB/s\u001b[0m eta \u001b[36m0:00:00\u001b[0m\n",
            "\u001b[?25h  Preparing metadata (setup.py) ... \u001b[?25l\u001b[?25hdone\n",
            "Requirement already satisfied: py4j==0.10.9.7 in /usr/local/lib/python3.10/dist-packages (from pyspark==3.4.0) (0.10.9.7)\n",
            "Building wheels for collected packages: pyspark\n",
            "  Building wheel for pyspark (setup.py) ... \u001b[?25l\u001b[?25hdone\n",
            "  Created wheel for pyspark: filename=pyspark-3.4.0-py2.py3-none-any.whl size=311317122 sha256=227a30df8f75cbedba566084ac6a94ffb8a767224f74c0e1201c35a31d5a787e\n",
            "  Stored in directory: /root/.cache/pip/wheels/7b/1b/4b/3363a1d04368e7ff0d408e57ff57966fcdf00583774e761327\n",
            "Successfully built pyspark\n",
            "Installing collected packages: pyspark\n",
            "Successfully installed pyspark-3.4.0\n"
          ]
        }
      ],
      "source": [
        "!pip install pyspark==3.4.0"
      ]
    },
    {
      "cell_type": "code",
      "source": [
        "from pyspark.sql import SparkSession\n",
        "spark = SparkSession.builder.appName('supervised_ml_classification').getOrCreate()"
      ],
      "metadata": {
        "id": "LMhhh7Y3lpxp"
      },
      "execution_count": 2,
      "outputs": []
    },
    {
      "cell_type": "code",
      "source": [
        "df = spark.read.csv('sample_data/bank_data.csv', inferSchema=True, header=True)\n",
        "print((df.count(), len(df.columns)))"
      ],
      "metadata": {
        "colab": {
          "base_uri": "https://localhost:8080/"
        },
        "id": "IEjuKBsDrzWw",
        "outputId": "7f9f3708-56a1-4c4d-9604-4beba61ddf61"
      },
      "execution_count": 3,
      "outputs": [
        {
          "output_type": "stream",
          "name": "stdout",
          "text": [
            "(41188, 21)\n"
          ]
        }
      ]
    },
    {
      "cell_type": "code",
      "source": [
        "df.printSchema()"
      ],
      "metadata": {
        "colab": {
          "base_uri": "https://localhost:8080/"
        },
        "id": "xdp5S00dsUX1",
        "outputId": "6f6d20e9-c240-426b-e10b-f6dbad122c07"
      },
      "execution_count": 4,
      "outputs": [
        {
          "output_type": "stream",
          "name": "stdout",
          "text": [
            "root\n",
            " |-- age: integer (nullable = true)\n",
            " |-- job: string (nullable = true)\n",
            " |-- marital: string (nullable = true)\n",
            " |-- education: string (nullable = true)\n",
            " |-- default: string (nullable = true)\n",
            " |-- housing: string (nullable = true)\n",
            " |-- loan: string (nullable = true)\n",
            " |-- contact: string (nullable = true)\n",
            " |-- month: string (nullable = true)\n",
            " |-- day_of_week: string (nullable = true)\n",
            " |-- duration: integer (nullable = true)\n",
            " |-- campaign: integer (nullable = true)\n",
            " |-- pdays: integer (nullable = true)\n",
            " |-- previous: integer (nullable = true)\n",
            " |-- poutcome: string (nullable = true)\n",
            " |-- emp.var.rate: double (nullable = true)\n",
            " |-- cons.price.idx: double (nullable = true)\n",
            " |-- cons.conf.idx: double (nullable = true)\n",
            " |-- euribor3m: double (nullable = true)\n",
            " |-- nr.employed: double (nullable = true)\n",
            " |-- target_class: string (nullable = true)\n",
            "\n"
          ]
        }
      ]
    },
    {
      "cell_type": "code",
      "source": [
        "df.groupBy('target_class').count().show()"
      ],
      "metadata": {
        "colab": {
          "base_uri": "https://localhost:8080/"
        },
        "id": "gTrcdvORs2df",
        "outputId": "9b47f789-3085-44c5-fcd7-8ae0d660ba52"
      },
      "execution_count": 5,
      "outputs": [
        {
          "output_type": "stream",
          "name": "stdout",
          "text": [
            "+------------+-----+\n",
            "|target_class|count|\n",
            "+------------+-----+\n",
            "|          no|36548|\n",
            "|         yes| 4640|\n",
            "+------------+-----+\n",
            "\n"
          ]
        }
      ]
    },
    {
      "cell_type": "markdown",
      "source": [
        "## Deleting rows to reduce data size and no of columns"
      ],
      "metadata": {
        "id": "zYl5vocttzXK"
      }
    },
    {
      "cell_type": "code",
      "source": [
        "# Calculate the fraction to keep 'no' records such that 30,000 'no' records are dropped\n",
        "total_no_records = 36548\n",
        "records_to_keep = total_no_records - 30000\n",
        "fraction_to_keep = records_to_keep / total_no_records\n",
        "\n",
        "# Define the fractions dictionary for sampling\n",
        "fractions = {'no': fraction_to_keep, 'yes': 1.0}\n",
        "\n",
        "# Sample the DataFrame based on the fractions\n",
        "sampled_df = df.sampleBy(\"target_class\", fractions, seed=42)\n",
        "\n",
        "# Now select the columns you want to keep\n",
        "columns_to_keep = ['age', 'job', 'marital', 'education', 'default', 'housing', 'loan', 'target_class']\n",
        "new_df = sampled_df.select(columns_to_keep)\n",
        "\n",
        "# Show the result to verify\n",
        "new_df.show(5)\n",
        "\n",
        "# Optionally, check the count of 'no' and 'yes' in the new DataFrame\n",
        "new_df.groupBy('target_class').count().show()"
      ],
      "metadata": {
        "colab": {
          "base_uri": "https://localhost:8080/"
        },
        "id": "2ZgoCrHms-Qq",
        "outputId": "17a8fcf9-8f5f-4aab-e7c3-4cfb1e333f84"
      },
      "execution_count": 6,
      "outputs": [
        {
          "output_type": "stream",
          "name": "stdout",
          "text": [
            "+---+-----------+-------+-----------+-------+-------+----+------------+\n",
            "|age|        job|marital|  education|default|housing|loan|target_class|\n",
            "+---+-----------+-------+-----------+-------+-------+----+------------+\n",
            "| 41|blue-collar|married|    unknown|unknown|     no|  no|          no|\n",
            "| 35|blue-collar|married|   basic.6y|     no|    yes|  no|          no|\n",
            "| 50|blue-collar|married|   basic.9y|     no|    yes| yes|          no|\n",
            "| 59| technician|married|    unknown|     no|    yes|  no|          no|\n",
            "| 34|   services|married|high.school|     no|     no|  no|          no|\n",
            "+---+-----------+-------+-----------+-------+-------+----+------------+\n",
            "only showing top 5 rows\n",
            "\n",
            "+------------+-----+\n",
            "|target_class|count|\n",
            "+------------+-----+\n",
            "|          no| 6573|\n",
            "|         yes| 4640|\n",
            "+------------+-----+\n",
            "\n"
          ]
        }
      ]
    },
    {
      "cell_type": "markdown",
      "source": [
        "## Feature Engineering for Model"
      ],
      "metadata": {
        "id": "RuSL8e1et6No"
      }
    },
    {
      "cell_type": "code",
      "source": [
        "from pyspark.sql import functions as F\n",
        "from pyspark.sql import *\n",
        "new_df = new_df.withColumn(\"label\", F.when(new_df.target_class=='no', F.lit(0)).otherwise(F.lit(1)))\n",
        "new_df.groupBy('label').count().show()"
      ],
      "metadata": {
        "colab": {
          "base_uri": "https://localhost:8080/"
        },
        "id": "7xOzzJdvtvW2",
        "outputId": "e82218b4-bb5d-4738-f4d1-d785614e99ee"
      },
      "execution_count": 7,
      "outputs": [
        {
          "output_type": "stream",
          "name": "stdout",
          "text": [
            "+-----+-----+\n",
            "|label|count|\n",
            "+-----+-----+\n",
            "|    1| 4640|\n",
            "|    0| 6573|\n",
            "+-----+-----+\n",
            "\n"
          ]
        }
      ]
    },
    {
      "cell_type": "code",
      "source": [
        "from pyspark.ml.feature import OneHotEncoder, StringIndexer, VectorAssembler\n",
        "\n",
        "def cat_to_num(df):\n",
        "    stages = [] # to keep the stages of the transformations\n",
        "\n",
        "    for col in df.columns:\n",
        "        stringIndexer = StringIndexer(inputCol=col, outputCol=col+\"_index\")\n",
        "        encoder = OneHotEncoder(inputCols=[col+\"_index\"], outputCols=[col+\"_vec\"])\n",
        "\n",
        "        stages += [stringIndexer, encoder]\n",
        "\n",
        "    df_assembler = VectorAssembler(inputCols=['age','marital_vec','education_vec','default_vec','housing_vec','loan_vec'], outputCol=\"features\")\n",
        "    stages += [df_assembler]\n",
        "\n",
        "    # Applying all the transformations\n",
        "    from pyspark.ml import Pipeline\n",
        "    pipeline = Pipeline(stages=stages)\n",
        "    model = pipeline.fit(df)\n",
        "    df = model.transform(df)\n",
        "\n",
        "    return df.select(['features', 'label'])\n",
        "\n",
        "df_new = cat_to_num(new_df)\n"
      ],
      "metadata": {
        "id": "jxS7DFprvuok"
      },
      "execution_count": 8,
      "outputs": []
    },
    {
      "cell_type": "code",
      "source": [
        "df_new.show()"
      ],
      "metadata": {
        "colab": {
          "base_uri": "https://localhost:8080/"
        },
        "id": "IYuZqdd1wVD6",
        "outputId": "059b936c-2e91-4ce5-bbed-c6f2a7f5a4a1"
      },
      "execution_count": 9,
      "outputs": [
        {
          "output_type": "stream",
          "name": "stdout",
          "text": [
            "+--------------------+-----+\n",
            "|            features|label|\n",
            "+--------------------+-----+\n",
            "|(17,[0,1,10,12,14...|    0|\n",
            "|(17,[0,1,9,11,13,...|    0|\n",
            "|(17,[0,1,6,11,13,...|    0|\n",
            "|(17,[0,1,10,11,13...|    0|\n",
            "|(17,[0,1,5,11,14,...|    0|\n",
            "|(17,[0,1,4,11,13,...|    0|\n",
            "|(17,[0,1,4,11,13,...|    0|\n",
            "|(17,[0,1,5,11,14,...|    0|\n",
            "|(17,[0,1,7,12,13,...|    0|\n",
            "|(17,[0,1,9,12,14,...|    0|\n",
            "|(17,[0,1,4,11,14,...|    0|\n",
            "|(17,[0,2,6,11,13,...|    0|\n",
            "|(17,[0,1,10,11,13...|    0|\n",
            "|(17,[0,1,4,12,13,...|    0|\n",
            "|(17,[0,3,8,12,13,...|    1|\n",
            "|(17,[0,1,6,12,14,...|    0|\n",
            "|(17,[0,1,4,12,13,...|    1|\n",
            "|(17,[0,1,6,11,14,...|    1|\n",
            "|(17,[0,1,4,11,13,...|    0|\n",
            "|(17,[0,3,4,11,14,...|    0|\n",
            "+--------------------+-----+\n",
            "only showing top 20 rows\n",
            "\n"
          ]
        }
      ]
    },
    {
      "cell_type": "markdown",
      "source": [
        "## Split the Data into Train and Test Datasets"
      ],
      "metadata": {
        "id": "cxvxP0YSwhk5"
      }
    },
    {
      "cell_type": "code",
      "source": [
        "train, test = df_new.randomSplit([0.75,0.25])\n",
        "print(f\"Size of train Dataset : {train.count()}\")\n",
        "print(f\"Size of test Dataset : {test.count()}\")"
      ],
      "metadata": {
        "colab": {
          "base_uri": "https://localhost:8080/"
        },
        "id": "oHb5RXbjwbOI",
        "outputId": "3c1dfa6f-7333-4b81-cbcb-aa62ee91a6d9"
      },
      "execution_count": 10,
      "outputs": [
        {
          "output_type": "stream",
          "name": "stdout",
          "text": [
            "Size of train Dataset : 8352\n",
            "Size of test Dataset : 2861\n"
          ]
        }
      ]
    },
    {
      "cell_type": "markdown",
      "source": [
        "## Build and Train the Logistic Regression model"
      ],
      "metadata": {
        "id": "W5q33Kuyw5zf"
      }
    },
    {
      "cell_type": "code",
      "source": [
        "from pyspark.ml.classification import LogisticRegression\n",
        "lr = LogisticRegression()\n",
        "lr_model = lr.fit(train)\n",
        "print(lr_model.coefficients)"
      ],
      "metadata": {
        "colab": {
          "base_uri": "https://localhost:8080/"
        },
        "id": "_JxBVHKqw29F",
        "outputId": "28565097-6e8d-483c-f323-f7741266ce01"
      },
      "execution_count": 11,
      "outputs": [
        {
          "output_type": "stream",
          "name": "stdout",
          "text": [
            "[0.01641233948038232,-0.4644018971664534,-0.08925667015176925,-0.5560692511224847,-0.2133016426858599,-0.5030033017982235,-0.7106452125661693,-0.4101850344903137,-0.41304435151332786,-0.6801408043759767,-0.09224831958944113,11.880843129566573,10.977024198744944,-0.010516604033838401,-0.009020085496566447,-0.00901640697606993,-0.0276488107199148]\n"
          ]
        }
      ]
    },
    {
      "cell_type": "markdown",
      "source": [
        "## Evaluate Performance on Training Data"
      ],
      "metadata": {
        "id": "KFNuO8adxg_8"
      }
    },
    {
      "cell_type": "code",
      "source": [
        "lr_summary = lr_model.summary\n",
        "print(f\"{lr_summary.accuracy}\")\n",
        "print(f\"{lr_summary.areaUnderROC}\")\n",
        "print(f\"{lr_summary.weightedRecall}\")\n",
        "print(f\"{lr_summary.weightedPrecision}\")"
      ],
      "metadata": {
        "colab": {
          "base_uri": "https://localhost:8080/"
        },
        "id": "CfSIHutJxYJu",
        "outputId": "e49ed9e9-b9f7-4204-9571-be2df079cbb5"
      },
      "execution_count": 12,
      "outputs": [
        {
          "output_type": "stream",
          "name": "stdout",
          "text": [
            "0.6076388888888888\n",
            "0.6217879550209418\n",
            "0.607638888888889\n",
            "0.5911047044719471\n"
          ]
        }
      ]
    },
    {
      "cell_type": "code",
      "source": [
        "lr_summary.precisionByThreshold.show()"
      ],
      "metadata": {
        "colab": {
          "base_uri": "https://localhost:8080/"
        },
        "id": "fIhmwvXOx4ve",
        "outputId": "380e843e-5e0b-4131-9e22-a8d8fd505d26"
      },
      "execution_count": 13,
      "outputs": [
        {
          "output_type": "stream",
          "name": "stdout",
          "text": [
            "+------------------+------------------+\n",
            "|         threshold|         precision|\n",
            "+------------------+------------------+\n",
            "|0.6927964207595616|               1.0|\n",
            "|0.6772780360250148|               0.5|\n",
            "|0.6727363146889228|0.6666666666666666|\n",
            "| 0.660995701027655|             0.625|\n",
            "|0.6555800554514206|               0.5|\n",
            "|0.6510390739547156|0.5833333333333334|\n",
            "|0.6457909733219936|               0.6|\n",
            "|0.6414901629794747| 0.631578947368421|\n",
            "| 0.638592524319546|0.6190476190476191|\n",
            "|0.6371680286655732|0.6086956521739131|\n",
            "|0.6347961356718733|               0.6|\n",
            "|0.6300894868870168|0.5925925925925926|\n",
            "|0.6286509656348738|0.6060606060606061|\n",
            "|0.6278755396153862|0.6285714285714286|\n",
            "|0.6251622532794873|0.6216216216216216|\n",
            "|0.6233075894424016|0.6153846153846154|\n",
            "|0.6209562762572028|0.6190476190476191|\n",
            "| 0.619277894326395|0.6363636363636364|\n",
            "|0.6185698149162924|0.6521739130434783|\n",
            "| 0.615215684536039|0.6666666666666666|\n",
            "+------------------+------------------+\n",
            "only showing top 20 rows\n",
            "\n"
          ]
        }
      ]
    },
    {
      "cell_type": "code",
      "source": [
        "import matplotlib.pyplot as plt\n",
        "\n",
        "# Assuming lr_summary is a BinaryClassificationMetrics object\n",
        "\n",
        "# Get the precision by threshold DataFrame\n",
        "precision_by_threshold = lr_summary.precisionByThreshold\n",
        "\n",
        "# Collect the DataFrame to the driver\n",
        "precision_by_threshold_list = precision_by_threshold.collect()\n",
        "\n",
        "# Extract threshold and precision values\n",
        "thresholds = [row['threshold'] for row in precision_by_threshold_list]\n",
        "precisions = [row['precision'] for row in precision_by_threshold_list]\n",
        "\n",
        "# Now use matplotlib to plot the precision against threshold\n",
        "plt.plot(precision_by_threshold_list)\n",
        "plt.legend(loc='upper left')\n",
        "plt.show()\n"
      ],
      "metadata": {
        "colab": {
          "base_uri": "https://localhost:8080/",
          "height": 467
        },
        "id": "357Q_4NB1qq7",
        "outputId": "1d79cc81-75ea-4c23-fe76-0831bfa84bca"
      },
      "execution_count": 14,
      "outputs": [
        {
          "output_type": "stream",
          "name": "stderr",
          "text": [
            "WARNING:matplotlib.legend:No artists with labels found to put in legend.  Note that artists whose label start with an underscore are ignored when legend() is called with no argument.\n"
          ]
        },
        {
          "output_type": "display_data",
          "data": {
            "text/plain": [
              "<Figure size 640x480 with 1 Axes>"
            ],
            "image/png": "[encoded data removed]"
          },
          "metadata": {}
        }
      ]
    },
    {
      "cell_type": "markdown",
      "source": [
        "## **Different Graphs**\n",
        "* From the ROC Curve, a curve close to the top-left corner indicates a better performance.\n",
        "* From the Precision-Recall Curve, a higher area under the curve (AUC) indicates that the classifier is returning more true positives and fewer false negatives.\n",
        "* The Threshold vs. Metrics Plot will show you how the balance between precision and recall changes as you adjust the threshold. The optimal point often maximizes the F-Measure, which balances precision and recall.\n",
        "* The Confusion Matrix is a direct way to see the actual versus predicted counts of the classes.\n",
        "* For a Calibration Curve, if the plot significantly deviates from the diagonal, it indicates that the predicted probabilities are not representative of the actual outcomes."
      ],
      "metadata": {
        "id": "9PNXBSTy5DoH"
      }
    },
    {
      "cell_type": "code",
      "source": [
        "from pyspark.mllib.evaluation import BinaryClassificationMetrics\n",
        "from pyspark.ml.evaluation import BinaryClassificationEvaluator\n",
        "import matplotlib.pyplot as plt\n",
        "\n",
        "# Assuming predictions is a DataFrame with the logistic regression model's predictions\n",
        "# It needs to have a column with the label and a column with the prediction\n",
        "\n",
        "# ROC Curve\n",
        "roc = lr_summary.roc.toPandas()\n",
        "plt.figure()\n",
        "plt.plot(roc['FPR'], roc['TPR'])\n",
        "plt.plot([0, 1], [0, 1], 'k--')\n",
        "plt.xlabel('False Positive Rate')\n",
        "plt.ylabel('True Positive Rate')\n",
        "plt.title('ROC Curve')\n",
        "plt.show()\n",
        "\n",
        "# Precision-Recall Curve\n",
        "pr = lr_summary.pr.toPandas()\n",
        "plt.figure()\n",
        "plt.plot(pr['recall'], pr['precision'])\n",
        "plt.xlabel('Recall')\n",
        "plt.ylabel('Precision')\n",
        "plt.title('Precision-Recall Curve')\n",
        "plt.show()\n",
        "\n",
        "# Threshold vs. Metrics Plot\n",
        "f_measure = lr_summary.fMeasureByThreshold.toPandas()\n",
        "plt.figure()\n",
        "plt.plot(f_measure['threshold'], f_measure['F-Measure'])\n",
        "plt.xlabel('Threshold')\n",
        "plt.ylabel('F-Measure')\n",
        "plt.title('Threshold vs F-Measure')\n",
        "plt.show()\n",
        "\n",
        "import matplotlib.pyplot as plt\n",
        "import numpy as np\n",
        "beta = np.sort(lr_model.coefficients)\n",
        "plt.plot(beta)\n",
        "plt.ylabel('Beta Coefficients')\n",
        "plt.show()\n",
        "plt.show()\n"
      ],
      "metadata": {
        "colab": {
          "base_uri": "https://localhost:8080/",
          "height": 1000
        },
        "id": "SZfNFHgg5IdF",
        "outputId": "e075a5f0-205a-4553-8b32-a9abe54270fe"
      },
      "execution_count": 15,
      "outputs": [
        {
          "output_type": "display_data",
          "data": {
            "text/plain": [
              "<Figure size 640x480 with 1 Axes>"
            ],
            "image/png": "[encoded data removed]"
          },
          "metadata": {}
        },
        {
          "output_type": "display_data",
          "data": {
            "text/plain": [
              "<Figure size 640x480 with 1 Axes>"
            ],
            "image/png": "[encoded data removed]"
          },
          "metadata": {}
        },
        {
          "output_type": "display_data",
          "data": {
            "text/plain": [
              "<Figure size 640x480 with 1 Axes>"
            ],
            "image/png": "[encoded data removed]"
          },
          "metadata": {}
        },
        {
          "output_type": "display_data",
          "data": {
            "text/plain": [
              "<Figure size 640x480 with 1 Axes>"
            ],
            "image/png": "[encoded data removed]"
          },
          "metadata": {}
        }
      ]
    },
    {
      "cell_type": "code",
      "source": [
        "lr_summary.roc.show()"
      ],
      "metadata": {
        "colab": {
          "base_uri": "https://localhost:8080/"
        },
        "id": "Y6HW-seTyYhc",
        "outputId": "fedfe304-4613-404f-b05e-11f513637baf"
      },
      "execution_count": 16,
      "outputs": [
        {
          "output_type": "stream",
          "name": "stdout",
          "text": [
            "+--------------------+--------------------+\n",
            "|                 FPR|                 TPR|\n",
            "+--------------------+--------------------+\n",
            "|                 0.0|                 0.0|\n",
            "|                 0.0|5.837711617046118E-4|\n",
            "|4.060089321965083E-4|5.837711617046118E-4|\n",
            "|4.060089321965083E-4|0.001167542323409...|\n",
            "|6.090133982947625E-4|0.001459427904261...|\n",
            "|0.001015022330491...|0.001459427904261...|\n",
            "|0.001015022330491...|0.002043199065966...|\n",
            "|0.001218026796589525|0.002626970227670753|\n",
            "|0.001421031262687...|0.003502626970227...|\n",
            "|0.001624035728786...|0.003794512551079...|\n",
            "|0.001827040194884...|0.004086398131932283|\n",
            "|0.002030044660982...|0.004378283712784...|\n",
            "|0.002233049127080796|0.004670169293636894|\n",
            "|0.002639058059277304|0.005837711617046118|\n",
            "|0.002639058059277304| 0.00642148277875073|\n",
            "|0.002842062525375...|0.006713368359603036|\n",
            "|0.003045066991473...|0.007005253940455...|\n",
            "|0.003248071457572...|0.007589025102159953|\n",
            "|0.003248071457572...|0.008172796263864565|\n",
            "|0.003248071457572...|0.008756567425569177|\n",
            "+--------------------+--------------------+\n",
            "only showing top 20 rows\n",
            "\n"
          ]
        }
      ]
    },
    {
      "cell_type": "code",
      "source": [
        "lr_summary.recallByThreshold.show()"
      ],
      "metadata": {
        "colab": {
          "base_uri": "https://localhost:8080/"
        },
        "id": "QtCxfRDKygW_",
        "outputId": "f90ff023-e767-4547-a087-0bb15ddaffbe"
      },
      "execution_count": 17,
      "outputs": [
        {
          "output_type": "stream",
          "name": "stdout",
          "text": [
            "+------------------+--------------------+\n",
            "|         threshold|              recall|\n",
            "+------------------+--------------------+\n",
            "|0.6927964207595616|5.837711617046118E-4|\n",
            "|0.6772780360250148|5.837711617046118E-4|\n",
            "|0.6727363146889228|0.001167542323409...|\n",
            "| 0.660995701027655|0.001459427904261...|\n",
            "|0.6555800554514206|0.001459427904261...|\n",
            "|0.6510390739547156|0.002043199065966...|\n",
            "|0.6457909733219936|0.002626970227670753|\n",
            "|0.6414901629794747|0.003502626970227...|\n",
            "| 0.638592524319546|0.003794512551079...|\n",
            "|0.6371680286655732|0.004086398131932283|\n",
            "|0.6347961356718733|0.004378283712784...|\n",
            "|0.6300894868870168|0.004670169293636894|\n",
            "|0.6286509656348738|0.005837711617046118|\n",
            "|0.6278755396153862| 0.00642148277875073|\n",
            "|0.6251622532794873|0.006713368359603036|\n",
            "|0.6233075894424016|0.007005253940455...|\n",
            "|0.6209562762572028|0.007589025102159953|\n",
            "| 0.619277894326395|0.008172796263864565|\n",
            "|0.6185698149162924|0.008756567425569177|\n",
            "| 0.615215684536039|0.009340338587273789|\n",
            "+------------------+--------------------+\n",
            "only showing top 20 rows\n",
            "\n"
          ]
        }
      ]
    },
    {
      "cell_type": "code",
      "source": [
        "lr_summary.pr.show()"
      ],
      "metadata": {
        "colab": {
          "base_uri": "https://localhost:8080/"
        },
        "id": "c-z8LPqTynWC",
        "outputId": "4e5f197d-d32a-498c-b5d4-dd7eeeee42dc"
      },
      "execution_count": 18,
      "outputs": [
        {
          "output_type": "stream",
          "name": "stdout",
          "text": [
            "+--------------------+------------------+\n",
            "|              recall|         precision|\n",
            "+--------------------+------------------+\n",
            "|                 0.0|               1.0|\n",
            "|5.837711617046118E-4|               1.0|\n",
            "|5.837711617046118E-4|               0.5|\n",
            "|0.001167542323409...|0.6666666666666666|\n",
            "|0.001459427904261...|             0.625|\n",
            "|0.001459427904261...|               0.5|\n",
            "|0.002043199065966...|0.5833333333333334|\n",
            "|0.002626970227670753|               0.6|\n",
            "|0.003502626970227...| 0.631578947368421|\n",
            "|0.003794512551079...|0.6190476190476191|\n",
            "|0.004086398131932283|0.6086956521739131|\n",
            "|0.004378283712784...|               0.6|\n",
            "|0.004670169293636894|0.5925925925925926|\n",
            "|0.005837711617046118|0.6060606060606061|\n",
            "| 0.00642148277875073|0.6285714285714286|\n",
            "|0.006713368359603036|0.6216216216216216|\n",
            "|0.007005253940455...|0.6153846153846154|\n",
            "|0.007589025102159953|0.6190476190476191|\n",
            "|0.008172796263864565|0.6363636363636364|\n",
            "|0.008756567425569177|0.6521739130434783|\n",
            "+--------------------+------------------+\n",
            "only showing top 20 rows\n",
            "\n"
          ]
        }
      ]
    },
    {
      "cell_type": "markdown",
      "source": [
        "## Evaluate Performance on test data"
      ],
      "metadata": {
        "id": "YuwEq32-yvya"
      }
    },
    {
      "cell_type": "code",
      "source": [
        "model_predictions = lr_model.transform(test)\n",
        "model_predictions.columns"
      ],
      "metadata": {
        "colab": {
          "base_uri": "https://localhost:8080/"
        },
        "id": "tnfytoeTyttM",
        "outputId": "a99f040c-e59d-493f-e1a7-9a0410923595"
      },
      "execution_count": 19,
      "outputs": [
        {
          "output_type": "execute_result",
          "data": {
            "text/plain": [
              "['features', 'label', 'rawPrediction', 'probability', 'prediction']"
            ]
          },
          "metadata": {},
          "execution_count": 19
        }
      ]
    },
    {
      "cell_type": "code",
      "source": [
        "model_predictions.select(['label', 'probability', 'prediction']).show(10, False)"
      ],
      "metadata": {
        "colab": {
          "base_uri": "https://localhost:8080/"
        },
        "id": "UFIOy98z0Qfd",
        "outputId": "8fad8ace-3bce-4b28-ee44-a0daf5329188"
      },
      "execution_count": 20,
      "outputs": [
        {
          "output_type": "stream",
          "name": "stdout",
          "text": [
            "+-----+----------------------------------------+----------+\n",
            "|label|probability                             |prediction|\n",
            "+-----+----------------------------------------+----------+\n",
            "|0    |[0.5916488015469463,0.4083511984530537] |0.0       |\n",
            "|0    |[0.5555385250982281,0.4444614749017719] |0.0       |\n",
            "|0    |[0.5392752263800553,0.4607247736199447] |0.0       |\n",
            "|1    |[0.5392752263800553,0.4607247736199447] |0.0       |\n",
            "|0    |[0.5351949196876015,0.46480508031239853]|0.0       |\n",
            "|0    |[0.5351949196876015,0.46480508031239853]|0.0       |\n",
            "|1    |[0.5229278747621774,0.4770721252378226] |0.0       |\n",
            "|0    |[0.5106331076026841,0.4893668923973159] |0.0       |\n",
            "|1    |[0.596359404133549,0.40364059586645096] |0.0       |\n",
            "|1    |[0.596359404133549,0.40364059586645096] |0.0       |\n",
            "+-----+----------------------------------------+----------+\n",
            "only showing top 10 rows\n",
            "\n"
          ]
        }
      ]
    },
    {
      "cell_type": "code",
      "source": [
        "from pyspark.ml.evaluation import BinaryClassificationEvaluator"
      ],
      "metadata": {
        "id": "55pDTHPg0rJN"
      },
      "execution_count": 21,
      "outputs": []
    },
    {
      "cell_type": "code",
      "source": [
        "# RMSE value of the model on test data\n",
        "lr_evaluator = BinaryClassificationEvaluator(metricName='areaUnderROC')\n",
        "lr_auroc = lr_evaluator.evaluate(model_predictions)\n",
        "print(f'The auc value of Logistic Regression Model is {lr_auroc}')\n",
        "\n",
        "\n",
        "# RMSE value of the model on test data\n",
        "lr_evaluator = BinaryClassificationEvaluator(metricName='areaUnderPR')\n",
        "lr_aupr = lr_evaluator.evaluate(model_predictions)\n",
        "print(f'The aupr value of Logistic Regression Model is {lr_aupr}')"
      ],
      "metadata": {
        "colab": {
          "base_uri": "https://localhost:8080/"
        },
        "id": "Y5vw6wqX7vi-",
        "outputId": "2411a466-3570-4817-e01e-fbc04d6987f7"
      },
      "execution_count": 22,
      "outputs": [
        {
          "output_type": "stream",
          "name": "stdout",
          "text": [
            "The auc value of Logistic Regression Model is 0.6409441958770832\n",
            "The aupr value of Logistic Regression Model is 0.556493922479282\n"
          ]
        }
      ]
    },
    {
      "cell_type": "code",
      "source": [
        "true_pos=model_predictions.filter(model_predictions['label']==1).filter(model_predictions['prediction']==1).count()\n",
        "actual_pos=model_predictions.filter(model_predictions['label']==1).count()\n"
      ],
      "metadata": {
        "id": "RBfZhQUs7yvP"
      },
      "execution_count": 23,
      "outputs": []
    },
    {
      "cell_type": "code",
      "source": [
        "#Recall\n",
        "float(true_pos)/(actual_pos)"
      ],
      "metadata": {
        "colab": {
          "base_uri": "https://localhost:8080/"
        },
        "id": "4hlJ0LPr8QJa",
        "outputId": "03539c7f-b47c-4656-8757-333f432d9a6c"
      },
      "execution_count": 24,
      "outputs": [
        {
          "output_type": "execute_result",
          "data": {
            "text/plain": [
              "0.28665568369028005"
            ]
          },
          "metadata": {},
          "execution_count": 24
        }
      ]
    },
    {
      "cell_type": "code",
      "source": [
        "pred_pos=model_predictions.filter(model_predictions['prediction']==1).count()\n",
        "#Precision\n",
        "float(true_pos)/(pred_pos)"
      ],
      "metadata": {
        "colab": {
          "base_uri": "https://localhost:8080/"
        },
        "id": "iLQ7CAby8S8r",
        "outputId": "92c03593-155f-472a-fae9-9926e1d7ce0e"
      },
      "execution_count": 25,
      "outputs": [
        {
          "output_type": "execute_result",
          "data": {
            "text/plain": [
              "0.5752066115702479"
            ]
          },
          "metadata": {},
          "execution_count": 25
        }
      ]
    },
    {
      "cell_type": "markdown",
      "source": [
        "## **Decision Tree Classifier**"
      ],
      "metadata": {
        "id": "uN4SUxZD8vJN"
      }
    },
    {
      "cell_type": "code",
      "source": [
        "from pyspark.ml.classification import DecisionTreeClassifier\n",
        "dt = DecisionTreeClassifier()\n",
        "dt_model = dt.fit(train)"
      ],
      "metadata": {
        "id": "uWH9knal8YCJ"
      },
      "execution_count": 26,
      "outputs": []
    },
    {
      "cell_type": "code",
      "source": [
        "model_predictions = dt_model.transform(test)"
      ],
      "metadata": {
        "id": "ruisXNLj86Pt"
      },
      "execution_count": 27,
      "outputs": []
    },
    {
      "cell_type": "code",
      "source": [
        "model_predictions.select(['label','probability','prediction']).show(10,False)"
      ],
      "metadata": {
        "colab": {
          "base_uri": "https://localhost:8080/"
        },
        "id": "T9LYM0XF9Aaa",
        "outputId": "244d882e-b7e8-4cd4-87b6-1a98a37f3d52"
      },
      "execution_count": 28,
      "outputs": [
        {
          "output_type": "stream",
          "name": "stdout",
          "text": [
            "+-----+----------------------------------------+----------+\n",
            "|label|probability                             |prediction|\n",
            "+-----+----------------------------------------+----------+\n",
            "|0    |[0.6336633663366337,0.36633663366336633]|0.0       |\n",
            "|0    |[0.5319577252138903,0.4680422747861097] |0.0       |\n",
            "|0    |[0.5319577252138903,0.4680422747861097] |0.0       |\n",
            "|1    |[0.5319577252138903,0.4680422747861097] |0.0       |\n",
            "|0    |[0.5319577252138903,0.4680422747861097] |0.0       |\n",
            "|0    |[0.5319577252138903,0.4680422747861097] |0.0       |\n",
            "|1    |[0.5319577252138903,0.4680422747861097] |0.0       |\n",
            "|0    |[0.5319577252138903,0.4680422747861097] |0.0       |\n",
            "|1    |[0.6336633663366337,0.36633663366336633]|0.0       |\n",
            "|1    |[0.6336633663366337,0.36633663366336633]|0.0       |\n",
            "+-----+----------------------------------------+----------+\n",
            "only showing top 10 rows\n",
            "\n"
          ]
        }
      ]
    },
    {
      "cell_type": "code",
      "source": [
        "# RMSE value of the model on test data\n",
        "dt_evaluator = BinaryClassificationEvaluator(metricName='areaUnderROC')\n",
        "dt_auroc = dt_evaluator.evaluate(model_predictions)\n",
        "print(f'The auc value of Decision Tree Classifier Model is {dt_auroc}')\n",
        "\n",
        "\n",
        "# RMSE value of the model on test data\n",
        "dt_evaluator = BinaryClassificationEvaluator(metricName='areaUnderPR')\n",
        "dt_aupr = dt_evaluator.evaluate(model_predictions)\n",
        "print(f'The aupr value of Logistic Regression Model is {dt_aupr}')"
      ],
      "metadata": {
        "colab": {
          "base_uri": "https://localhost:8080/"
        },
        "id": "ibYJQON29Ct6",
        "outputId": "8724f02f-e918-4d64-84be-1261f384a29e"
      },
      "execution_count": 29,
      "outputs": [
        {
          "output_type": "stream",
          "name": "stdout",
          "text": [
            "The auc value of Decision Tree Classifier Model is 0.47005238419611717\n",
            "The aupr value of Logistic Regression Model is 0.4029127172862316\n"
          ]
        }
      ]
    },
    {
      "cell_type": "code",
      "source": [
        "true_pos=model_predictions.filter(model_predictions['label']==1).filter(model_predictions['prediction']==1).count()\n",
        "actual_pos=model_predictions.filter(model_predictions['label']==1).count()\n",
        "pred_pos=model_predictions.filter(model_predictions['prediction']==1).count()"
      ],
      "metadata": {
        "id": "kMknjnC39F6Z"
      },
      "execution_count": 30,
      "outputs": []
    },
    {
      "cell_type": "code",
      "source": [
        "#Recall\n",
        "float(true_pos)/(actual_pos)\n"
      ],
      "metadata": {
        "colab": {
          "base_uri": "https://localhost:8080/"
        },
        "id": "dolXBciw9POZ",
        "outputId": "1deb2213-f3cb-4685-f031-a6f7722353ff"
      },
      "execution_count": 31,
      "outputs": [
        {
          "output_type": "execute_result",
          "data": {
            "text/plain": [
              "0.2215815485996705"
            ]
          },
          "metadata": {},
          "execution_count": 31
        }
      ]
    },
    {
      "cell_type": "code",
      "source": [
        "#Precision on test Data\n",
        "float(true_pos)/(pred_pos)"
      ],
      "metadata": {
        "colab": {
          "base_uri": "https://localhost:8080/"
        },
        "id": "laWsvzzh9Ryq",
        "outputId": "ece74bc9-cf90-4dcb-c4c1-2e74661cc162"
      },
      "execution_count": 32,
      "outputs": [
        {
          "output_type": "execute_result",
          "data": {
            "text/plain": [
              "0.7289972899728997"
            ]
          },
          "metadata": {},
          "execution_count": 32
        }
      ]
    },
    {
      "cell_type": "markdown",
      "source": [
        "## **Support Vector Machines**"
      ],
      "metadata": {
        "id": "ZRplIgaB9sqs"
      }
    },
    {
      "cell_type": "markdown",
      "source": [
        "## Build and train SVM model"
      ],
      "metadata": {
        "id": "dV9IfSlv9xgY"
      }
    },
    {
      "cell_type": "code",
      "source": [
        "from pyspark.ml.classification import RandomForestClassifier\n",
        "rf = RandomForestClassifier(numTrees=50,maxDepth=30)\n",
        "rf_model = rf.fit(train)"
      ],
      "metadata": {
        "id": "cXSCvEMK9TgR"
      },
      "execution_count": 33,
      "outputs": []
    },
    {
      "cell_type": "code",
      "source": [
        "model_predictions = rf_model.transform(test)\n",
        "model_predictions.select(['label','probability','prediction']).show(10,False)"
      ],
      "metadata": {
        "colab": {
          "base_uri": "https://localhost:8080/"
        },
        "id": "sl5IP3kH97GJ",
        "outputId": "08157391-55e0-416b-aed2-ce3ec303104e"
      },
      "execution_count": 34,
      "outputs": [
        {
          "output_type": "stream",
          "name": "stdout",
          "text": [
            "+-----+----------------------------------------+----------+\n",
            "|label|probability                             |prediction|\n",
            "+-----+----------------------------------------+----------+\n",
            "|0    |[0.40862643020162,0.5913735697983801]   |1.0       |\n",
            "|0    |[0.5297607425481897,0.47023925745181033]|0.0       |\n",
            "|0    |[0.4854619720112568,0.5145380279887433] |1.0       |\n",
            "|1    |[0.4854619720112568,0.5145380279887433] |1.0       |\n",
            "|0    |[0.4854619720112568,0.5145380279887433] |1.0       |\n",
            "|0    |[0.4854619720112568,0.5145380279887433] |1.0       |\n",
            "|1    |[0.44062863867792346,0.5593713613220767]|1.0       |\n",
            "|0    |[0.4255068095374622,0.5744931904625378] |1.0       |\n",
            "|1    |[0.5688934678328629,0.43110653216713707]|0.0       |\n",
            "|1    |[0.5688934678328629,0.43110653216713707]|0.0       |\n",
            "+-----+----------------------------------------+----------+\n",
            "only showing top 10 rows\n",
            "\n"
          ]
        }
      ]
    },
    {
      "cell_type": "markdown",
      "source": [
        "## Evaluate performance on test data"
      ],
      "metadata": {
        "id": "f6HEY-OP-IYW"
      }
    },
    {
      "cell_type": "code",
      "source": [
        "rf_evaluator = BinaryClassificationEvaluator(metricName='areaUnderROC')\n",
        "rf_auroc = rf_evaluator.evaluate(model_predictions)\n",
        "print(f'The auc value of RandomForestClassifier Model is {rf_auroc}')\n",
        "\n",
        "rf_evaluator = BinaryClassificationEvaluator(metricName='areaUnderPR')\n",
        "rf_aupr = rf_evaluator.evaluate(model_predictions)\n",
        "print(f'The aupr value of RandomForestClassifier Model is {rf_aupr}')\n"
      ],
      "metadata": {
        "colab": {
          "base_uri": "https://localhost:8080/"
        },
        "id": "7fdbhiWS-DYR",
        "outputId": "d0adbb70-a69a-42a5-d05f-cf3453e6d9b6"
      },
      "execution_count": 35,
      "outputs": [
        {
          "output_type": "stream",
          "name": "stdout",
          "text": [
            "The auc value of RandomForestClassifier Model is 0.6638073918031788\n",
            "The aupr value of RandomForestClassifier Model is 0.5977529592367787\n"
          ]
        }
      ]
    },
    {
      "cell_type": "code",
      "source": [
        "true_pos=model_predictions.filter(model_predictions['label']==1).filter(model_predictions['prediction']==1).count()\n",
        "actual_pos=model_predictions.filter(model_predictions['label']==1).count()\n",
        "pred_pos=model_predictions.filter(model_predictions['prediction']==1).count()\n"
      ],
      "metadata": {
        "id": "bedYpvTS-Vhu"
      },
      "execution_count": 36,
      "outputs": []
    },
    {
      "cell_type": "code",
      "source": [
        "#Recall\n",
        "float(true_pos)/(actual_pos)"
      ],
      "metadata": {
        "colab": {
          "base_uri": "https://localhost:8080/"
        },
        "id": "ngN-dbw3-ciT",
        "outputId": "1a15fbc1-9038-452c-df7c-cccecfebab41"
      },
      "execution_count": 37,
      "outputs": [
        {
          "output_type": "execute_result",
          "data": {
            "text/plain": [
              "0.2940691927512356"
            ]
          },
          "metadata": {},
          "execution_count": 37
        }
      ]
    },
    {
      "cell_type": "code",
      "source": [
        "#Precision on test Data\n",
        "float(true_pos)/(pred_pos)\n"
      ],
      "metadata": {
        "colab": {
          "base_uri": "https://localhost:8080/"
        },
        "id": "1-nXPQg4-fMY",
        "outputId": "834a691c-4804-4d5e-8832-75856b6067a7"
      },
      "execution_count": 38,
      "outputs": [
        {
          "output_type": "execute_result",
          "data": {
            "text/plain": [
              "0.6102564102564103"
            ]
          },
          "metadata": {},
          "execution_count": 38
        }
      ]
    },
    {
      "cell_type": "markdown",
      "source": [
        "# **Naive bayes Classifier**"
      ],
      "metadata": {
        "id": "zivA6B4u-wpz"
      }
    },
    {
      "cell_type": "markdown",
      "source": [
        "## Build and train NaiveBayes model"
      ],
      "metadata": {
        "id": "hlIAYKgz-7Lt"
      }
    },
    {
      "cell_type": "code",
      "source": [
        "from pyspark.ml.classification import NaiveBayes\n",
        "nb = NaiveBayes()\n",
        "nb_model = nb.fit(train)\n",
        "model_predictions = nb_model.transform(test)\n",
        "model_predictions.columns"
      ],
      "metadata": {
        "colab": {
          "base_uri": "https://localhost:8080/"
        },
        "id": "BA4VEW0O-huH",
        "outputId": "3707ee7f-ad18-4144-87ca-3d72d5dcb640"
      },
      "execution_count": 39,
      "outputs": [
        {
          "output_type": "execute_result",
          "data": {
            "text/plain": [
              "['features', 'label', 'rawPrediction', 'probability', 'prediction']"
            ]
          },
          "metadata": {},
          "execution_count": 39
        }
      ]
    },
    {
      "cell_type": "code",
      "source": [
        "model_predictions.select(['label','probability','prediction']).show(10,False)"
      ],
      "metadata": {
        "colab": {
          "base_uri": "https://localhost:8080/"
        },
        "id": "gJlsIvXA_Oh7",
        "outputId": "5771bb4d-013e-4078-89d3-674aee27cf3f"
      },
      "execution_count": 40,
      "outputs": [
        {
          "output_type": "stream",
          "name": "stdout",
          "text": [
            "+-----+----------------------------------------+----------+\n",
            "|label|probability                             |prediction|\n",
            "+-----+----------------------------------------+----------+\n",
            "|0    |[0.515292115084086,0.4847078849159141]  |0.0       |\n",
            "|0    |[0.510283732491732,0.48971626750826797] |0.0       |\n",
            "|0    |[0.5080570619462131,0.49194293805378697]|0.0       |\n",
            "|1    |[0.5080570619462131,0.49194293805378697]|0.0       |\n",
            "|0    |[0.5075003409054291,0.49249965909457083]|0.0       |\n",
            "|0    |[0.5075003409054291,0.49249965909457083]|0.0       |\n",
            "|1    |[0.5058300716925084,0.4941699283074917] |0.0       |\n",
            "|0    |[0.5041596723339177,0.4958403276660824] |0.0       |\n",
            "|1    |[0.5221322317694879,0.47786776823051225]|0.0       |\n",
            "|1    |[0.5221322317694879,0.47786776823051225]|0.0       |\n",
            "+-----+----------------------------------------+----------+\n",
            "only showing top 10 rows\n",
            "\n"
          ]
        }
      ]
    },
    {
      "cell_type": "code",
      "source": [
        "nb_evaluator = BinaryClassificationEvaluator(metricName='areaUnderROC')\n",
        "nb_auroc = nb_evaluator.evaluate(model_predictions)\n",
        "print(f'The auc value of NB Classifier  is {nb_auroc}')\n",
        "\n",
        "nb_evaluator = BinaryClassificationEvaluator(metricName='areaUnderPR')\n",
        "nb_aupr =nb_evaluator.evaluate(model_predictions)\n",
        "print(f'The aupr value of NB Classifier Model is {nb_aupr}')"
      ],
      "metadata": {
        "colab": {
          "base_uri": "https://localhost:8080/"
        },
        "id": "C9Qrbo04_TzL",
        "outputId": "b7b02b49-3f18-4125-8cd6-ea149ebf8d02"
      },
      "execution_count": 41,
      "outputs": [
        {
          "output_type": "stream",
          "name": "stdout",
          "text": [
            "The auc value of NB Classifier  is 0.5440724436322236\n",
            "The aupr value of NB Classifier Model is 0.4639701881258607\n"
          ]
        }
      ]
    },
    {
      "cell_type": "code",
      "source": [
        "true_pos=model_predictions.filter(model_predictions['label']==1).filter(model_predictions['prediction']==1).count()\n",
        "actual_pos=model_predictions.filter(model_predictions['label']==1).count()\n",
        "pred_pos=model_predictions.filter(model_predictions['prediction']==1).count()"
      ],
      "metadata": {
        "id": "ejQRZeQi_ae0"
      },
      "execution_count": 42,
      "outputs": []
    },
    {
      "cell_type": "code",
      "source": [
        "float(true_pos)/(actual_pos)"
      ],
      "metadata": {
        "colab": {
          "base_uri": "https://localhost:8080/"
        },
        "id": "RWAAtonQ_dha",
        "outputId": "ff124c58-6a20-4260-ce41-377c29a0b316"
      },
      "execution_count": 43,
      "outputs": [
        {
          "output_type": "execute_result",
          "data": {
            "text/plain": [
              "0.21828665568369027"
            ]
          },
          "metadata": {},
          "execution_count": 43
        }
      ]
    },
    {
      "cell_type": "code",
      "source": [
        "float(true_pos)/(pred_pos)"
      ],
      "metadata": {
        "colab": {
          "base_uri": "https://localhost:8080/"
        },
        "id": "al2LQ8ZV_ha5",
        "outputId": "e460e2e0-b14a-4cc1-bd6b-5e75b635d011"
      },
      "execution_count": 44,
      "outputs": [
        {
          "output_type": "execute_result",
          "data": {
            "text/plain": [
              "0.5614406779661016"
            ]
          },
          "metadata": {},
          "execution_count": 44
        }
      ]
    },
    {
      "cell_type": "markdown",
      "source": [
        "## **Gradient Boosted Tree Classifier**"
      ],
      "metadata": {
        "id": "QhSfnA9N_qPc"
      }
    },
    {
      "cell_type": "code",
      "source": [
        "from pyspark.ml.classification import GBTClassifier\n",
        "gbt = GBTClassifier()\n",
        "gbt_model = gbt.fit(train)\n",
        "model_predictions = gbt_model.transform(test)\n",
        "model_predictions.select(['label','probability','prediction']).show(10,False)"
      ],
      "metadata": {
        "colab": {
          "base_uri": "https://localhost:8080/"
        },
        "id": "8zjpTEcP_iLE",
        "outputId": "4cb187d2-0428-463a-bced-5a1599231e55"
      },
      "execution_count": 45,
      "outputs": [
        {
          "output_type": "stream",
          "name": "stdout",
          "text": [
            "+-----+----------------------------------------+----------+\n",
            "|label|probability                             |prediction|\n",
            "+-----+----------------------------------------+----------+\n",
            "|0    |[0.4870668771054246,0.5129331228945754] |1.0       |\n",
            "|0    |[0.5771865199736715,0.42281348002632846]|0.0       |\n",
            "|0    |[0.5693664349308929,0.4306335650691071] |0.0       |\n",
            "|1    |[0.5693664349308929,0.4306335650691071] |0.0       |\n",
            "|0    |[0.5521785942314487,0.44782140576855134]|0.0       |\n",
            "|0    |[0.5521785942314487,0.44782140576855134]|0.0       |\n",
            "|1    |[0.5763593752385344,0.4236406247614656] |0.0       |\n",
            "|0    |[0.5403460331273872,0.45965396687261284]|0.0       |\n",
            "|1    |[0.50788401501044,0.49211598498956]     |0.0       |\n",
            "|1    |[0.50788401501044,0.49211598498956]     |0.0       |\n",
            "+-----+----------------------------------------+----------+\n",
            "only showing top 10 rows\n",
            "\n"
          ]
        }
      ]
    },
    {
      "cell_type": "code",
      "source": [
        "gbt_evaluator = BinaryClassificationEvaluator(metricName='areaUnderROC')\n",
        "gbt_auroc = gbt_evaluator.evaluate(model_predictions)\n",
        "print(f'The auc value of GradientBoostedTreesClassifier  is {gbt_auroc}')\n",
        "\n",
        "gbt_evaluator = BinaryClassificationEvaluator(metricName='areaUnderPR')\n",
        "gbt_aupr = gbt_evaluator.evaluate(model_predictions)\n",
        "print(f'The aupr value of GradientBoostedTreesClassifier Model is {gbt_aupr}')\n"
      ],
      "metadata": {
        "colab": {
          "base_uri": "https://localhost:8080/"
        },
        "id": "GWooe6GEANHD",
        "outputId": "6ab5ff94-ed96-4336-bb15-17565a86894f"
      },
      "execution_count": 46,
      "outputs": [
        {
          "output_type": "stream",
          "name": "stdout",
          "text": [
            "The auc value of GradientBoostedTreesClassifier  is 0.669204354380037\n",
            "The aupr value of GradientBoostedTreesClassifier Model is 0.6060662459792\n"
          ]
        }
      ]
    },
    {
      "cell_type": "code",
      "source": [
        "true_pos=model_predictions.filter(model_predictions['label']==1).filter(model_predictions['prediction']==1).count()\n",
        "actual_pos=model_predictions.filter(model_predictions['label']==1).count()\n",
        "pred_pos=model_predictions.filter(model_predictions['prediction']==1).count()\n"
      ],
      "metadata": {
        "id": "dDCnm9afFRif"
      },
      "execution_count": 47,
      "outputs": []
    },
    {
      "cell_type": "code",
      "source": [
        "float(true_pos)/(actual_pos)\n"
      ],
      "metadata": {
        "id": "lY_wGvSjFT2O",
        "outputId": "65e0ae74-f53e-45e6-e85a-85bc0b8275ab",
        "colab": {
          "base_uri": "https://localhost:8080/"
        }
      },
      "execution_count": 48,
      "outputs": [
        {
          "output_type": "execute_result",
          "data": {
            "text/plain": [
              "0.2800658978583196"
            ]
          },
          "metadata": {},
          "execution_count": 48
        }
      ]
    },
    {
      "cell_type": "code",
      "source": [
        "\n",
        "float(true_pos)/(pred_pos)"
      ],
      "metadata": {
        "id": "ZT1-qwF9FVU3",
        "outputId": "2aadffe9-2a2e-451e-c8ce-f43ef3c216b6",
        "colab": {
          "base_uri": "https://localhost:8080/"
        }
      },
      "execution_count": 49,
      "outputs": [
        {
          "output_type": "execute_result",
          "data": {
            "text/plain": [
              "0.6296296296296297"
            ]
          },
          "metadata": {},
          "execution_count": 49
        }
      ]
    },
    {
      "cell_type": "markdown",
      "source": [
        "# **Random Forest Classifier**"
      ],
      "metadata": {
        "id": "86zKcxZYL7vi"
      }
    },
    {
      "cell_type": "code",
      "source": [
        "from pyspark.ml.classification import RandomForestClassifier\n",
        "\n",
        "rf = RandomForestClassifier(numTrees=50, maxDepth=30)\n",
        "rf_model = rf.fit(train)\n",
        "model_predictions = rf_model.transform(test)\n",
        "model_predictions.select(['label','probability','prediction']).show(10,False)"
      ],
      "metadata": {
        "id": "1KXQQcnzFVsl",
        "colab": {
          "base_uri": "https://localhost:8080/"
        },
        "outputId": "160d7398-7085-4102-c67b-0fff576ea6c5"
      },
      "execution_count": 50,
      "outputs": [
        {
          "output_type": "stream",
          "name": "stdout",
          "text": [
            "+-----+----------------------------------------+----------+\n",
            "|label|probability                             |prediction|\n",
            "+-----+----------------------------------------+----------+\n",
            "|0    |[0.40862643020162,0.5913735697983801]   |1.0       |\n",
            "|0    |[0.5297607425481897,0.47023925745181033]|0.0       |\n",
            "|0    |[0.4854619720112568,0.5145380279887433] |1.0       |\n",
            "|1    |[0.4854619720112568,0.5145380279887433] |1.0       |\n",
            "|0    |[0.4854619720112568,0.5145380279887433] |1.0       |\n",
            "|0    |[0.4854619720112568,0.5145380279887433] |1.0       |\n",
            "|1    |[0.44062863867792346,0.5593713613220767]|1.0       |\n",
            "|0    |[0.4255068095374622,0.5744931904625378] |1.0       |\n",
            "|1    |[0.5688934678328629,0.43110653216713707]|0.0       |\n",
            "|1    |[0.5688934678328629,0.43110653216713707]|0.0       |\n",
            "+-----+----------------------------------------+----------+\n",
            "only showing top 10 rows\n",
            "\n"
          ]
        }
      ]
    },
    {
      "cell_type": "markdown",
      "source": [
        "## Evaluate Performance on Test Data"
      ],
      "metadata": {
        "id": "vfLnGb61NOgQ"
      }
    },
    {
      "cell_type": "code",
      "source": [
        "rf_evaluator = BinaryClassificationEvaluator(metricName='areaUnderROC')\n",
        "rf_auroc = rf_evaluator.evaluate(model_predictions)\n",
        "print(f\"THe auc value of RandomForestClassifier Model is {rf_auroc}\")"
      ],
      "metadata": {
        "colab": {
          "base_uri": "https://localhost:8080/"
        },
        "id": "fFHN3XA5Me4R",
        "outputId": "7f37c2ee-ad70-46f7-d4b8-cb6b34d50043"
      },
      "execution_count": 52,
      "outputs": [
        {
          "output_type": "stream",
          "name": "stdout",
          "text": [
            "THe auc value of RandomForestClassifier Model is 0.6638073918031788\n"
          ]
        }
      ]
    },
    {
      "cell_type": "code",
      "source": [
        "rf_evaluator = BinaryClassificationEvaluator(metricName='areaUnderPR')\n",
        "rf_aupr = rf_evaluator.evaluate(model_predictions)\n",
        "print(f\"THe aupr value of RandomForestClassifier Model is {rf_aupr}\")"
      ],
      "metadata": {
        "colab": {
          "base_uri": "https://localhost:8080/"
        },
        "id": "YJ3uIc8bNZaG",
        "outputId": "3146f9b4-4c07-4367-9476-beca596198bf"
      },
      "execution_count": 54,
      "outputs": [
        {
          "output_type": "stream",
          "name": "stdout",
          "text": [
            "THe aupr value of RandomForestClassifier Model is 0.5977529592367787\n"
          ]
        }
      ]
    },
    {
      "cell_type": "code",
      "source": [
        "true_pos=model_predictions.filter(model_predictions['label']==1).filter(model_predictions['prediction']==1).count()\n",
        "actual_pos=model_predictions.filter(model_predictions['label']==1).count()\n",
        "pred_pos=model_predictions.filter(model_predictions['prediction']==1).count()"
      ],
      "metadata": {
        "id": "-qzmmue5NxTC"
      },
      "execution_count": 55,
      "outputs": []
    },
    {
      "cell_type": "code",
      "source": [
        "float(true_pos)/(actual_pos)"
      ],
      "metadata": {
        "colab": {
          "base_uri": "https://localhost:8080/"
        },
        "id": "58raK-nvOKv4",
        "outputId": "7c179950-204d-4757-9102-f726de1fd1e8"
      },
      "execution_count": 56,
      "outputs": [
        {
          "output_type": "execute_result",
          "data": {
            "text/plain": [
              "0.2940691927512356"
            ]
          },
          "metadata": {},
          "execution_count": 56
        }
      ]
    },
    {
      "cell_type": "code",
      "source": [
        "float(true_pos)/(pred_pos)"
      ],
      "metadata": {
        "colab": {
          "base_uri": "https://localhost:8080/"
        },
        "id": "h_o6su_gOPdi",
        "outputId": "34793d59-3070-4628-a7e1-9842a52035f8"
      },
      "execution_count": 57,
      "outputs": [
        {
          "output_type": "execute_result",
          "data": {
            "text/plain": [
              "0.6102564102564103"
            ]
          },
          "metadata": {},
          "execution_count": 57
        }
      ]
    },
    {
      "cell_type": "markdown",
      "source": [
        "## **Hyperparameter Tuning and Cross-Validation**"
      ],
      "metadata": {
        "id": "Auhbp8TaOVQ5"
      }
    },
    {
      "cell_type": "code",
      "source": [
        "from pyspark.ml.tuning import ParamGridBuilder, CrossValidator\n",
        "\n",
        "rf = RandomForestClassifier()\n",
        "paramGrid = (ParamGridBuilder()\n",
        "             .addGrid(rf.maxDepth, [5,10,20,25,30])\n",
        "             .addGrid(rf.maxBins, [20,30,40,50 ])\n",
        "             .addGrid(rf.numTrees, [5, 20,50,100])\n",
        "             .build())\n",
        "cv = CrossValidator(estimator=rf, estimatorParamMaps=paramGrid, evaluator=rf_evaluator, numFolds=10)\n",
        "cv_model = cv.fit(train)"
      ],
      "metadata": {
        "id": "G0cWppSuORgA"
      },
      "execution_count": null,
      "outputs": []
    },
    {
      "cell_type": "code",
      "source": [
        "best_rf_model = cv_model.bestModel"
      ],
      "metadata": {
        "id": "gLP0GyzgPBBX"
      },
      "execution_count": null,
      "outputs": []
    },
    {
      "cell_type": "code",
      "source": [],
      "metadata": {
        "id": "BzlK8NmqPOaq"
      },
      "execution_count": null,
      "outputs": []
    }
  ]
}
{
  "nbformat": 4,
  "nbformat_minor": 0,
  "metadata": {
    "colab": {
      "provenance": [],
      "gpuType": "T4",
      "authorship_tag": "ABX9TyMzV/enwa2QPU0R6fL++29u",
      "include_colab_link": true
    },
    "kernelspec": {
      "name": "python3",
      "display_name": "Python 3"
    },
    "language_info": {
      "name": "python"
    }
  },
  "cells": [
    {
      "cell_type": "markdown",
      "metadata": {
        "id": "view-in-github",
        "colab_type": "text"
      },
      "source": [
        "<a href=\"https://colab.research.google.com/github/ankesh86/PySparkNotebooks/blob/main/ClassificationModel.ipynb\" target=\"_parent\"><img src=\"https://colab.research.google.com/assets/colab-badge.svg\" alt=\"Open In Colab\"/></a>"
      ]
    },
    {
      "cell_type": "markdown",
      "source": [
        "# **Initialise Spark**"
      ],
      "metadata": {
        "id": "07ykBqeI6NQe"
      }
    },
    {
      "cell_type": "code",
      "source": [
        "!pip install pyspark==3.4.0"
      ],
      "metadata": {
        "colab": {
          "base_uri": "https://localhost:8080/"
        },
        "id": "V-MXtZd26Mdx",
        "outputId": "992d6a7a-10af-4add-dead-44195ce8ba96"
      },
      "execution_count": 1,
      "outputs": [
        {
          "output_type": "stream",
          "name": "stdout",
          "text": [
            "Collecting pyspark==3.4.0\n",
            "  Downloading pyspark-3.4.0.tar.gz (310.8 MB)\n",
            "\u001b[2K     \u001b[90m━━━━━━━━━━━━━━━━━━━━━━━━━━━━━━━━━━━━━━━━\u001b[0m \u001b[32m310.8/310.8 MB\u001b[0m \u001b[31m4.5 MB/s\u001b[0m eta \u001b[36m0:00:00\u001b[0m\n",
            "\u001b[?25h  Preparing metadata (setup.py) ... \u001b[?25l\u001b[?25hdone\n",
            "Requirement already satisfied: py4j==0.10.9.7 in /usr/local/lib/python3.10/dist-packages (from pyspark==3.4.0) (0.10.9.7)\n",
            "Building wheels for collected packages: pyspark\n",
            "  Building wheel for pyspark (setup.py) ... \u001b[?25l\u001b[?25hdone\n",
            "  Created wheel for pyspark: filename=pyspark-3.4.0-py2.py3-none-any.whl size=311317122 sha256=9213b78e8126adbd8c2895d59fa817ab34d42b5eeab9654bc3237613d6d61161\n",
            "  Stored in directory: /root/.cache/pip/wheels/7b/1b/4b/3363a1d04368e7ff0d408e57ff57966fcdf00583774e761327\n",
            "Successfully built pyspark\n",
            "Installing collected packages: pyspark\n",
            "Successfully installed pyspark-3.4.0\n"
          ]
        }
      ]
    },
    {
      "cell_type": "code",
      "source": [
        "from pyspark.sql import SparkSession\n",
        "spark = SparkSession.builder.appName('binary_class').getOrCreate()"
      ],
      "metadata": {
        "id": "OFlk-qkg6X25"
      },
      "execution_count": 2,
      "outputs": []
    },
    {
      "cell_type": "markdown",
      "source": [
        "# **Load the Dataset**"
      ],
      "metadata": {
        "id": "hMwXULtU6FrF"
      }
    },
    {
      "cell_type": "code",
      "execution_count": 3,
      "metadata": {
        "id": "S-QGxRdj5_gW"
      },
      "outputs": [],
      "source": [
        "df = spark.read.csv('sample_data/classification_data.csv', inferSchema = True, header=True)"
      ]
    },
    {
      "cell_type": "markdown",
      "source": [
        "# **Exploring Dataframe**"
      ],
      "metadata": {
        "id": "Xxw7ZXrs7t58"
      }
    },
    {
      "cell_type": "code",
      "source": [
        "print((df.count(), len(df.columns)))"
      ],
      "metadata": {
        "colab": {
          "base_uri": "https://localhost:8080/"
        },
        "id": "F_HY9tm76_Jy",
        "outputId": "263b70b1-e29c-4478-d110-56b4dcd6e827"
      },
      "execution_count": 4,
      "outputs": [
        {
          "output_type": "stream",
          "name": "stdout",
          "text": [
            "(46751, 12)\n"
          ]
        }
      ]
    },
    {
      "cell_type": "code",
      "source": [
        "df.printSchema()"
      ],
      "metadata": {
        "colab": {
          "base_uri": "https://localhost:8080/"
        },
        "id": "pwgBSv8t7PUC",
        "outputId": "7c495989-b3e3-4f68-ff0b-a3a973ce579c"
      },
      "execution_count": 5,
      "outputs": [
        {
          "output_type": "stream",
          "name": "stdout",
          "text": [
            "root\n",
            " |-- loan_id: string (nullable = true)\n",
            " |-- loan_purpose: string (nullable = true)\n",
            " |-- is_first_loan: integer (nullable = true)\n",
            " |-- total_credit_card_limit: integer (nullable = true)\n",
            " |-- avg_percentage_credit_card_limit_used_last_year: double (nullable = true)\n",
            " |-- saving_amount: integer (nullable = true)\n",
            " |-- checking_amount: integer (nullable = true)\n",
            " |-- is_employed: integer (nullable = true)\n",
            " |-- yearly_salary: integer (nullable = true)\n",
            " |-- age: integer (nullable = true)\n",
            " |-- dependent_number: integer (nullable = true)\n",
            " |-- label: integer (nullable = true)\n",
            "\n"
          ]
        }
      ]
    },
    {
      "cell_type": "code",
      "source": [
        "df.show(5)"
      ],
      "metadata": {
        "colab": {
          "base_uri": "https://localhost:8080/"
        },
        "id": "MWIYaaQp7SuA",
        "outputId": "33805418-c0cf-4745-faa3-7d91cc080d61"
      },
      "execution_count": 6,
      "outputs": [
        {
          "output_type": "stream",
          "name": "stdout",
          "text": [
            "+-------+------------+-------------+-----------------------+-----------------------------------------------+-------------+---------------+-----------+-------------+---+----------------+-----+\n",
            "|loan_id|loan_purpose|is_first_loan|total_credit_card_limit|avg_percentage_credit_card_limit_used_last_year|saving_amount|checking_amount|is_employed|yearly_salary|age|dependent_number|label|\n",
            "+-------+------------+-------------+-----------------------+-----------------------------------------------+-------------+---------------+-----------+-------------+---+----------------+-----+\n",
            "|    A_1|    personal|            1|                   7900|                                            0.8|         1103|           6393|          1|        16400| 42|               4|    0|\n",
            "|    A_2|    personal|            0|                   3300|                                           0.29|         2588|            832|          1|        75500| 56|               1|    0|\n",
            "|    A_3|    personal|            0|                   7600|                                            0.9|         1651|           8868|          1|        59000| 46|               1|    0|\n",
            "|    A_4|    personal|            1|                   3400|                                           0.38|         1269|           6863|          1|        26000| 55|               8|    0|\n",
            "|    A_5|   emergency|            0|                   2600|                                           0.89|         1310|           3423|          1|         9700| 41|               4|    1|\n",
            "+-------+------------+-------------+-----------------------+-----------------------------------------------+-------------+---------------+-----------+-------------+---+----------------+-----+\n",
            "only showing top 5 rows\n",
            "\n"
          ]
        }
      ]
    },
    {
      "cell_type": "code",
      "source": [
        "df.summary().show()"
      ],
      "metadata": {
        "colab": {
          "base_uri": "https://localhost:8080/"
        },
        "id": "pOQy1XDC7YhA",
        "outputId": "8b1d8bb3-adf3-45e8-bdf3-93a7c3f65795"
      },
      "execution_count": 7,
      "outputs": [
        {
          "output_type": "stream",
          "name": "stdout",
          "text": [
            "+-------+-------+------------+------------------+-----------------------+-----------------------------------------------+------------------+------------------+------------------+------------------+------------------+------------------+-------------------+\n",
            "|summary|loan_id|loan_purpose|     is_first_loan|total_credit_card_limit|avg_percentage_credit_card_limit_used_last_year|     saving_amount|   checking_amount|       is_employed|     yearly_salary|               age|  dependent_number|              label|\n",
            "+-------+-------+------------+------------------+-----------------------+-----------------------------------------------+------------------+------------------+------------------+------------------+------------------+------------------+-------------------+\n",
            "|  count|  46751|       46751|             46751|                  46751|                                          46751|             46751|             46751|             46751|             46751|             46751|             46751|              46751|\n",
            "|   mean|   null|        null|0.5414429637868708|      4615.304485465552|                              0.700091121045545| 2037.636585313683|3520.6714294881394|0.9173279715941905| 29527.62079955509| 41.53979594019379|3.7448396825736348|0.34653804196701676|\n",
            "| stddev|   null|        null|0.4982848498677868|      1890.194453628314|                             0.1777288093267152|1498.6710906030362|2160.9332423713727|0.2753887911928983|16149.757703029438|12.817646350266434|2.6191527902107667|0.47587211651314887|\n",
            "|    min|    A_1|   emergency|                 0|                    500|                                            0.0|                 0|                 0|                 0|                 0|                18|                 0|                  0|\n",
            "|    25%|   null|        null|                 0|                   3200|                                           0.58|               920|              1884|                 1|             19200|                32|                 2|                  0|\n",
            "|    50%|   null|        null|                 1|                   4500|                                           0.71|              1572|              3050|                 1|             29600|                41|                 3|                  0|\n",
            "|    75%|   null|        null|                 1|                   5900|                                           0.83|              2907|              4876|                 1|             40400|                50|                 6|                  1|\n",
            "|    max| A_9999|    property|                 1|                  13500|                                           1.09|             10641|             13165|                 1|             97200|                79|                 8|                  1|\n",
            "+-------+-------+------------+------------------+-----------------------+-----------------------------------------------+------------------+------------------+------------------+------------------+------------------+------------------+-------------------+\n",
            "\n"
          ]
        }
      ]
    },
    {
      "cell_type": "code",
      "source": [
        "df.groupBy('label').count().show()"
      ],
      "metadata": {
        "colab": {
          "base_uri": "https://localhost:8080/"
        },
        "id": "dQ0-12oq72MQ",
        "outputId": "8285bd8c-7f63-4d59-d89a-87fc690dd95b"
      },
      "execution_count": 8,
      "outputs": [
        {
          "output_type": "stream",
          "name": "stdout",
          "text": [
            "+-----+-----+\n",
            "|label|count|\n",
            "+-----+-----+\n",
            "|    1|16201|\n",
            "|    0|30550|\n",
            "+-----+-----+\n",
            "\n"
          ]
        }
      ]
    },
    {
      "cell_type": "code",
      "source": [
        "df.groupBy('loan_purpose').count().show()"
      ],
      "metadata": {
        "colab": {
          "base_uri": "https://localhost:8080/"
        },
        "id": "1KGPh1SY8oXy",
        "outputId": "989b39a4-ae53-43eb-e8bc-8c5d07aa4c39"
      },
      "execution_count": 9,
      "outputs": [
        {
          "output_type": "stream",
          "name": "stdout",
          "text": [
            "+------------+-----+\n",
            "|loan_purpose|count|\n",
            "+------------+-----+\n",
            "|      others| 6763|\n",
            "|   emergency| 7562|\n",
            "|    property|11388|\n",
            "|  operations|10580|\n",
            "|    personal|10458|\n",
            "+------------+-----+\n",
            "\n"
          ]
        }
      ]
    },
    {
      "cell_type": "markdown",
      "source": [
        "# **Data Transformation**"
      ],
      "metadata": {
        "id": "LYjWP0mo86ya"
      }
    },
    {
      "cell_type": "code",
      "source": [
        "from pyspark.ml.feature import OneHotEncoder, StringIndexer, VectorAssembler\n",
        "\n",
        "# Initialize StringIndexer and transform data\n",
        "loan_purpose_indexer = StringIndexer(inputCol=\"loan_purpose\", outputCol=\"loan_index\")\n",
        "df = loan_purpose_indexer.fit(df).transform(df)\n",
        "\n",
        "# Initialize OneHotEncoder\n",
        "loan_encoder = OneHotEncoder(inputCol=\"loan_index\", outputCol='loan_purpose_vec')\n",
        "\n",
        "# Fit and transform using OneHotEncoder\n",
        "loan_encoder_model = loan_encoder.fit(df)\n",
        "df = loan_encoder_model.transform(df)\n",
        "\n",
        "# Show the results\n",
        "df.select(['loan_purpose', 'loan_index', 'loan_purpose_vec']).show(3, False)\n"
      ],
      "metadata": {
        "colab": {
          "base_uri": "https://localhost:8080/"
        },
        "id": "uFJ4uznOJqH3",
        "outputId": "b5b540a5-df5f-4ceb-a7c5-5df386e47b9b"
      },
      "execution_count": 10,
      "outputs": [
        {
          "output_type": "stream",
          "name": "stdout",
          "text": [
            "+------------+----------+----------------+\n",
            "|loan_purpose|loan_index|loan_purpose_vec|\n",
            "+------------+----------+----------------+\n",
            "|personal    |2.0       |(4,[2],[1.0])   |\n",
            "|personal    |2.0       |(4,[2],[1.0])   |\n",
            "|personal    |2.0       |(4,[2],[1.0])   |\n",
            "+------------+----------+----------------+\n",
            "only showing top 3 rows\n",
            "\n"
          ]
        }
      ]
    },
    {
      "cell_type": "code",
      "source": [
        "from pyspark.ml.feature import VectorAssembler\n",
        "\n",
        "df_assembler = VectorAssembler(inputCols=['is_first_loan','total_credit_card_limit'\n",
        "                              ,'avg_percentage_credit_card_limit_used_last_year'\n",
        "                              ,'saving_amount','checking_amount','is_employed'\n",
        "                              ,'yearly_salary','age','dependent_number','loan_purpose_vec'], outputCol=\"features\")\n",
        "df = df_assembler.transform(df)\n",
        "df.select(['features','label']).show(10,False)"
      ],
      "metadata": {
        "colab": {
          "base_uri": "https://localhost:8080/"
        },
        "id": "i9XRL7UsJ_hn",
        "outputId": "4c404947-0e88-46c4-cdd3-b48da8e47f78"
      },
      "execution_count": 11,
      "outputs": [
        {
          "output_type": "stream",
          "name": "stdout",
          "text": [
            "+--------------------------------------------------------------------+-----+\n",
            "|features                                                            |label|\n",
            "+--------------------------------------------------------------------+-----+\n",
            "|[1.0,7900.0,0.8,1103.0,6393.0,1.0,16400.0,42.0,4.0,0.0,0.0,1.0,0.0] |0    |\n",
            "|[0.0,3300.0,0.29,2588.0,832.0,1.0,75500.0,56.0,1.0,0.0,0.0,1.0,0.0] |0    |\n",
            "|[0.0,7600.0,0.9,1651.0,8868.0,1.0,59000.0,46.0,1.0,0.0,0.0,1.0,0.0] |0    |\n",
            "|[1.0,3400.0,0.38,1269.0,6863.0,1.0,26000.0,55.0,8.0,0.0,0.0,1.0,0.0]|0    |\n",
            "|[0.0,2600.0,0.89,1310.0,3423.0,1.0,9700.0,41.0,4.0,0.0,0.0,0.0,1.0] |1    |\n",
            "|[0.0,7600.0,0.51,1040.0,2406.0,1.0,22900.0,52.0,0.0,0.0,1.0,0.0,0.0]|0    |\n",
            "|[1.0,6900.0,0.82,2408.0,5556.0,1.0,34800.0,48.0,4.0,0.0,1.0,0.0,0.0]|0    |\n",
            "|[0.0,5700.0,0.56,1933.0,4139.0,1.0,32500.0,64.0,2.0,0.0,0.0,1.0,0.0]|0    |\n",
            "|[1.0,3400.0,0.95,3866.0,4131.0,1.0,13300.0,23.0,3.0,0.0,0.0,1.0,0.0]|0    |\n",
            "|[0.0,2900.0,0.91,88.0,2725.0,1.0,21100.0,52.0,1.0,0.0,0.0,1.0,0.0]  |1    |\n",
            "+--------------------------------------------------------------------+-----+\n",
            "only showing top 10 rows\n",
            "\n"
          ]
        }
      ]
    },
    {
      "cell_type": "code",
      "source": [
        "model_df = df.select(['features','label'])"
      ],
      "metadata": {
        "id": "TFFpPjm3LiTB"
      },
      "execution_count": 12,
      "outputs": []
    },
    {
      "cell_type": "markdown",
      "source": [
        "# **Splitting into Train and Test Data**"
      ],
      "metadata": {
        "id": "HouGNfDdMB1x"
      }
    },
    {
      "cell_type": "code",
      "source": [
        "training_df, test_df = model_df.randomSplit([0.75,0.25])"
      ],
      "metadata": {
        "id": "kObbs7B7L_fN"
      },
      "execution_count": 13,
      "outputs": []
    },
    {
      "cell_type": "markdown",
      "source": [
        "# **Model Training**"
      ],
      "metadata": {
        "id": "X_2ZsL7XMlj0"
      }
    },
    {
      "cell_type": "code",
      "source": [
        "from pyspark.ml.classification import LogisticRegression\n",
        "\n",
        "log_reg = LogisticRegression().fit(training_df)\n",
        "lr_summary = log_reg.summary\n",
        "\n",
        "lr_summary.accuracy"
      ],
      "metadata": {
        "colab": {
          "base_uri": "https://localhost:8080/"
        },
        "id": "3Vad-LPMMklS",
        "outputId": "c3164607-7d1c-4998-d920-c447dbd3ad1b"
      },
      "execution_count": 14,
      "outputs": [
        {
          "output_type": "execute_result",
          "data": {
            "text/plain": [
              "0.8963587820949784"
            ]
          },
          "metadata": {},
          "execution_count": 14
        }
      ]
    },
    {
      "cell_type": "code",
      "source": [
        "lr_summary.areaUnderROC"
      ],
      "metadata": {
        "colab": {
          "base_uri": "https://localhost:8080/"
        },
        "id": "S3g4osozNPWz",
        "outputId": "6b3cf3ec-be87-4b1f-c003-93f4e2656f1a"
      },
      "execution_count": 15,
      "outputs": [
        {
          "output_type": "execute_result",
          "data": {
            "text/plain": [
              "0.9600074413214449"
            ]
          },
          "metadata": {},
          "execution_count": 15
        }
      ]
    },
    {
      "cell_type": "code",
      "source": [
        "print(lr_summary.precisionByLabel)"
      ],
      "metadata": {
        "colab": {
          "base_uri": "https://localhost:8080/"
        },
        "id": "EnLQgX_8NYsa",
        "outputId": "5d7279a2-6cc5-4255-a17a-2e9d89a25949"
      },
      "execution_count": 16,
      "outputs": [
        {
          "output_type": "stream",
          "name": "stdout",
          "text": [
            "[0.9259194242078469, 0.8421349219127354]\n"
          ]
        }
      ]
    },
    {
      "cell_type": "code",
      "source": [
        "print(lr_summary.recallByLabel)"
      ],
      "metadata": {
        "colab": {
          "base_uri": "https://localhost:8080/"
        },
        "id": "RCy1wRhvNnmq",
        "outputId": "30f2ff8c-c34e-43e7-f8c9-14c556316e93"
      },
      "execution_count": 17,
      "outputs": [
        {
          "output_type": "stream",
          "name": "stdout",
          "text": [
            "[0.9149572834901774, 0.8610585233352539]\n"
          ]
        }
      ]
    },
    {
      "cell_type": "code",
      "source": [
        "predictions = log_reg.transform(test_df)\n",
        "predictions.show(10)"
      ],
      "metadata": {
        "colab": {
          "base_uri": "https://localhost:8080/"
        },
        "id": "CfQwV9WYNu8D",
        "outputId": "6aa2fb93-3ac1-4d77-be59-2e393bcf8e16"
      },
      "execution_count": 18,
      "outputs": [
        {
          "output_type": "stream",
          "name": "stdout",
          "text": [
            "+--------------------+-----+--------------------+--------------------+----------+\n",
            "|            features|label|       rawPrediction|         probability|prediction|\n",
            "+--------------------+-----+--------------------+--------------------+----------+\n",
            "|(13,[0,1,2,3,4,7]...|    1|[-6.9352418574935...|[9.71942149466226...|       1.0|\n",
            "|(13,[0,1,2,3,4,7]...|    1|[-4.7714837807804...|[0.00839670479432...|       1.0|\n",
            "|(13,[0,1,2,3,4,7]...|    1|[-1.5057048148822...|[0.18157621191176...|       1.0|\n",
            "|(13,[0,1,2,3,4,7,...|    1|[-4.5246513737078...|[0.01072227902198...|       1.0|\n",
            "|(13,[0,1,2,3,4,7,...|    1|[-6.0530753961897...|[0.00234510932058...|       1.0|\n",
            "|(13,[0,1,2,3,4,7,...|    1|[-7.0340939226962...|[8.80540309436932...|       1.0|\n",
            "|(13,[0,1,2,3,4,7,...|    1|[-4.1066928289795...|[0.01619551503455...|       1.0|\n",
            "|(13,[0,1,2,3,4,7,...|    1|[-4.3377103858746...|[0.01289788199217...|       1.0|\n",
            "|(13,[0,1,2,3,4,7,...|    1|[-5.1365342657394...|[0.00584367684403...|       1.0|\n",
            "|(13,[0,1,2,3,4,7,...|    1|[-7.4868165717454...|[5.60110294613886...|       1.0|\n",
            "+--------------------+-----+--------------------+--------------------+----------+\n",
            "only showing top 10 rows\n",
            "\n"
          ]
        }
      ]
    },
    {
      "cell_type": "markdown",
      "source": [
        "# **Summary**\n",
        "* A logistic regression model is trained using a dataset (likely split into a\n",
        "training set, training_df).\n",
        "* The summary of the trained model (lr_summary) is then used to output the accuracy of the model on the training data, which in this case is approximately 89.53%.\n",
        "* The area under the ROC (Receiver Operating Characteristic) curve (areaUnderROC) is accessed from the summary, giving a value of approximately 0.959, indicating very good discriminative ability.\n",
        "* Precision by label and recall by label are printed, showing precision and recall for each class label (which in binary classification are typically '0' and '1')."
      ],
      "metadata": {
        "id": "uhdinehqQrYO"
      }
    },
    {
      "cell_type": "code",
      "source": [
        "model_prediction = log_reg.transform(test_df)\n",
        "model_prediction = log_reg.evaluate(test_df)\n",
        "model_prediction.accuracy"
      ],
      "metadata": {
        "colab": {
          "base_uri": "https://localhost:8080/"
        },
        "id": "cTrkgZuDN95x",
        "outputId": "e5f94390-a5f3-4e3c-857c-1191e3fc5590"
      },
      "execution_count": 19,
      "outputs": [
        {
          "output_type": "execute_result",
          "data": {
            "text/plain": [
              "0.8879840596032227"
            ]
          },
          "metadata": {},
          "execution_count": 19
        }
      ]
    },
    {
      "cell_type": "code",
      "source": [
        "model_prediction.areaUnderROC"
      ],
      "metadata": {
        "colab": {
          "base_uri": "https://localhost:8080/"
        },
        "id": "4NRsdvBpOuAh",
        "outputId": "27eb2445-75e2-459f-ef17-274c25107da1"
      },
      "execution_count": 20,
      "outputs": [
        {
          "output_type": "execute_result",
          "data": {
            "text/plain": [
              "0.9554712117192821"
            ]
          },
          "metadata": {},
          "execution_count": 20
        }
      ]
    },
    {
      "cell_type": "code",
      "source": [
        "print(model_prediction.recallByLabel)"
      ],
      "metadata": {
        "colab": {
          "base_uri": "https://localhost:8080/"
        },
        "id": "W7OA3sw5O6qc",
        "outputId": "97528f14-bf1e-4f34-e9eb-ffbf72cc8b22"
      },
      "execution_count": 21,
      "outputs": [
        {
          "output_type": "stream",
          "name": "stdout",
          "text": [
            "[0.9100253637698572, 0.8472359328726555]\n"
          ]
        }
      ]
    },
    {
      "cell_type": "code",
      "source": [
        "print(model_prediction.precisionByLabel)"
      ],
      "metadata": {
        "colab": {
          "base_uri": "https://localhost:8080/"
        },
        "id": "Fg3kKHFKO_LQ",
        "outputId": "f867c3fe-32da-48ea-8520-4947724ffca4"
      },
      "execution_count": 22,
      "outputs": [
        {
          "output_type": "stream",
          "name": "stdout",
          "text": [
            "[0.9167563206024745, 0.835889943998052]\n"
          ]
        }
      ]
    },
    {
      "cell_type": "markdown",
      "source": [
        "# **Summary**\n",
        "* The logistic regression model is then applied to a test dataset (test_df) to make predictions, which are stored in predictions.\n",
        "* An evaluator is likely created and used to evaluate the predictions, providing the accuracy on the test data, which is around 89.91%.\n",
        "* The evaluator also provides the area under the ROC curve for the test data, which is around 0.958, similar to the training performance.\n",
        "* Finally, recall and precision by label are printed for the test data, showing how well the model performs for each class label."
      ],
      "metadata": {
        "id": "CwrU-L2QQ5jM"
      }
    },
    {
      "cell_type": "markdown",
      "source": [
        "# **Hyper-parameter Tuning**"
      ],
      "metadata": {
        "id": "VYtY-TX1RvpA"
      }
    },
    {
      "cell_type": "markdown",
      "source": [
        "## **Random Forest Classifier**"
      ],
      "metadata": {
        "id": "8VExK0k0SdUh"
      }
    },
    {
      "cell_type": "code",
      "source": [
        "from pyspark.ml.classification import RandomForestClassifier"
      ],
      "metadata": {
        "id": "aqmSdy7tPD52"
      },
      "execution_count": 23,
      "outputs": []
    },
    {
      "cell_type": "code",
      "source": [
        "rf = RandomForestClassifier()\n",
        "rf_model = rf.fit(training_df)\n",
        "model_predictions = rf_model.transform(test_df)\n"
      ],
      "metadata": {
        "id": "cd857ZCuSrQW"
      },
      "execution_count": 24,
      "outputs": []
    },
    {
      "cell_type": "code",
      "source": [
        "from pyspark.ml.tuning import ParamGridBuilder, CrossValidator\n",
        "\n",
        "from pyspark.ml.evaluation import BinaryClassificationEvaluator\n",
        "evaluator = BinaryClassificationEvaluator()\n",
        "\n",
        "rf = RandomForestClassifier()\n",
        "\n",
        "paramGrid = (ParamGridBuilder()\n",
        "            .addGrid(rf.maxDepth, [5,10,20,25,30])\n",
        "            .addGrid(rf.maxBins, [20,30,40])\n",
        "            .addGrid(rf.numTrees, [5,20,50])\n",
        "            .build())\n",
        "\n",
        "cv = CrossValidator(estimator=rf, estimatorParamMaps=paramGrid, evaluator=evaluator, numFolds=2)\n",
        "cv_model = cv.fit(training_df)"
      ],
      "metadata": {
        "id": "uPEcb-OqTO9K"
      },
      "execution_count": 25,
      "outputs": []
    },
    {
      "cell_type": "code",
      "source": [
        "best_rf_model = cv_model.bestModel"
      ],
      "metadata": {
        "id": "AVAtp_bJTWn4"
      },
      "execution_count": 26,
      "outputs": []
    },
    {
      "cell_type": "code",
      "source": [
        "# Generate predictions for entire dataset\n",
        "model_predictions = best_rf_model.transform(test_df)"
      ],
      "metadata": {
        "id": "zN3cdyMMvufx"
      },
      "execution_count": 27,
      "outputs": []
    },
    {
      "cell_type": "code",
      "source": [
        "true_pos=model_predictions.filter(model_predictions['label']==1).filter(model_predictions['prediction']==1).count()\n",
        "actual_pos=model_predictions.filter(model_predictions['label']==1).count()\n",
        "pred_pos=model_predictions.filter(model_predictions['prediction']==1).count()"
      ],
      "metadata": {
        "id": "eQSRMvZUvxRK"
      },
      "execution_count": 28,
      "outputs": []
    },
    {
      "cell_type": "code",
      "source": [
        "#Recall\n",
        "float(true_pos)/(actual_pos)"
      ],
      "metadata": {
        "colab": {
          "base_uri": "https://localhost:8080/"
        },
        "id": "3BfzHzBIvzuo",
        "outputId": "83e77559-64ae-4b89-a951-7960cc79c7b2"
      },
      "execution_count": 29,
      "outputs": [
        {
          "output_type": "execute_result",
          "data": {
            "text/plain": [
              "0.9072063178677197"
            ]
          },
          "metadata": {},
          "execution_count": 29
        }
      ]
    },
    {
      "cell_type": "code",
      "source": [
        "#Precision on test Data\n",
        "float(true_pos)/(pred_pos)"
      ],
      "metadata": {
        "colab": {
          "base_uri": "https://localhost:8080/"
        },
        "id": "xzfD2RRHv3HV",
        "outputId": "2158d070-cdaf-4bea-8e78-eb9f0af8a5ac"
      },
      "execution_count": 30,
      "outputs": [
        {
          "output_type": "execute_result",
          "data": {
            "text/plain": [
              "0.8452517820188549"
            ]
          },
          "metadata": {},
          "execution_count": 30
        }
      ]
    },
    {
      "cell_type": "code",
      "source": [],
      "metadata": {
        "id": "kWTlKmyev5fS"
      },
      "execution_count": null,
      "outputs": []
    }
  ]
}
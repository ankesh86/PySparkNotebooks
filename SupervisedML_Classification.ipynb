{
  "nbformat": 4,
  "nbformat_minor": 0,
  "metadata": {
    "colab": {
      "provenance": [],
      "authorship_tag": "ABX9TyOjwipeCStZVE99AQ3rk5Dt",
      "include_colab_link": true
    },
    "kernelspec": {
      "name": "python3",
      "display_name": "Python 3"
    },
    "language_info": {
      "name": "python"
    }
  },
  "cells": [
    {
      "cell_type": "markdown",
      "metadata": {
        "id": "view-in-github",
        "colab_type": "text"
      },
      "source": [
        "<a href=\"https://colab.research.google.com/github/ankesh86/PySparkNotebooks/blob/main/SupervisedML_Classification.ipynb\" target=\"_parent\"><img src=\"https://colab.research.google.com/assets/colab-badge.svg\" alt=\"Open In Colab\"/></a>"
      ]
    },
    {
      "cell_type": "code",
      "execution_count": 1,
      "metadata": {
        "colab": {
          "base_uri": "https://localhost:8080/"
        },
        "id": "cM1XN4grlo3n",
        "outputId": "bbe2848e-2da5-4352-8209-b0a480f15152"
      },
      "outputs": [
        {
          "output_type": "stream",
          "name": "stdout",
          "text": [
            "Collecting pyspark==3.4.0\n",
            "  Downloading pyspark-3.4.0.tar.gz (310.8 MB)\n",
            "\u001b[2K     \u001b[90m━━━━━━━━━━━━━━━━━━━━━━━━━━━━━━━━━━━━━━━━\u001b[0m \u001b[32m310.8/310.8 MB\u001b[0m \u001b[31m3.0 MB/s\u001b[0m eta \u001b[36m0:00:00\u001b[0m\n",
            "\u001b[?25h  Preparing metadata (setup.py) ... \u001b[?25l\u001b[?25hdone\n",
            "Requirement already satisfied: py4j==0.10.9.7 in /usr/local/lib/python3.10/dist-packages (from pyspark==3.4.0) (0.10.9.7)\n",
            "Building wheels for collected packages: pyspark\n",
            "  Building wheel for pyspark (setup.py) ... \u001b[?25l\u001b[?25hdone\n",
            "  Created wheel for pyspark: filename=pyspark-3.4.0-py2.py3-none-any.whl size=311317122 sha256=273ed64ed3e7c9d29154bf4d4ccf98dc593eb2382b542498eb3676f699810f36\n",
            "  Stored in directory: /root/.cache/pip/wheels/7b/1b/4b/3363a1d04368e7ff0d408e57ff57966fcdf00583774e761327\n",
            "Successfully built pyspark\n",
            "Installing collected packages: pyspark\n",
            "Successfully installed pyspark-3.4.0\n"
          ]
        }
      ],
      "source": [
        "!pip install pyspark==3.4.0"
      ]
    },
    {
      "cell_type": "code",
      "source": [
        "from pyspark.sql import SparkSession\n",
        "spark = SparkSession.builder.appName('supervised_ml_classification').getOrCreate()"
      ],
      "metadata": {
        "id": "LMhhh7Y3lpxp"
      },
      "execution_count": 2,
      "outputs": []
    },
    {
      "cell_type": "code",
      "source": [
        "df = spark.read.csv('sample_data/bank_data.csv', inferSchema=True, header=True)\n",
        "print((df.count(), len(df.columns)))"
      ],
      "metadata": {
        "colab": {
          "base_uri": "https://localhost:8080/"
        },
        "id": "IEjuKBsDrzWw",
        "outputId": "98462d9f-4d0f-4969-af73-1e399c3448ab"
      },
      "execution_count": 4,
      "outputs": [
        {
          "output_type": "stream",
          "name": "stdout",
          "text": [
            "(41188, 21)\n"
          ]
        }
      ]
    },
    {
      "cell_type": "code",
      "source": [
        "df.printSchema()"
      ],
      "metadata": {
        "colab": {
          "base_uri": "https://localhost:8080/"
        },
        "id": "xdp5S00dsUX1",
        "outputId": "d7a8df7c-904b-4d36-cef3-271deba14769"
      },
      "execution_count": 5,
      "outputs": [
        {
          "output_type": "stream",
          "name": "stdout",
          "text": [
            "root\n",
            " |-- age: integer (nullable = true)\n",
            " |-- job: string (nullable = true)\n",
            " |-- marital: string (nullable = true)\n",
            " |-- education: string (nullable = true)\n",
            " |-- default: string (nullable = true)\n",
            " |-- housing: string (nullable = true)\n",
            " |-- loan: string (nullable = true)\n",
            " |-- contact: string (nullable = true)\n",
            " |-- month: string (nullable = true)\n",
            " |-- day_of_week: string (nullable = true)\n",
            " |-- duration: integer (nullable = true)\n",
            " |-- campaign: integer (nullable = true)\n",
            " |-- pdays: integer (nullable = true)\n",
            " |-- previous: integer (nullable = true)\n",
            " |-- poutcome: string (nullable = true)\n",
            " |-- emp.var.rate: double (nullable = true)\n",
            " |-- cons.price.idx: double (nullable = true)\n",
            " |-- cons.conf.idx: double (nullable = true)\n",
            " |-- euribor3m: double (nullable = true)\n",
            " |-- nr.employed: double (nullable = true)\n",
            " |-- target_class: string (nullable = true)\n",
            "\n"
          ]
        }
      ]
    },
    {
      "cell_type": "code",
      "source": [
        "df.groupBy('target_class').count().show()"
      ],
      "metadata": {
        "colab": {
          "base_uri": "https://localhost:8080/"
        },
        "id": "gTrcdvORs2df",
        "outputId": "f1124a75-c142-400f-d061-71db28cd2e6b"
      },
      "execution_count": 6,
      "outputs": [
        {
          "output_type": "stream",
          "name": "stdout",
          "text": [
            "+------------+-----+\n",
            "|target_class|count|\n",
            "+------------+-----+\n",
            "|          no|36548|\n",
            "|         yes| 4640|\n",
            "+------------+-----+\n",
            "\n"
          ]
        }
      ]
    },
    {
      "cell_type": "markdown",
      "source": [
        "## Deleting rows to reduce data size and no of columns"
      ],
      "metadata": {
        "id": "zYl5vocttzXK"
      }
    },
    {
      "cell_type": "code",
      "source": [
        "# Calculate the fraction to keep 'no' records such that 30,000 'no' records are dropped\n",
        "total_no_records = 36548\n",
        "records_to_keep = total_no_records - 30000\n",
        "fraction_to_keep = records_to_keep / total_no_records\n",
        "\n",
        "# Define the fractions dictionary for sampling\n",
        "fractions = {'no': fraction_to_keep, 'yes': 1.0}\n",
        "\n",
        "# Sample the DataFrame based on the fractions\n",
        "sampled_df = df.sampleBy(\"target_class\", fractions, seed=42)\n",
        "\n",
        "# Now select the columns you want to keep\n",
        "columns_to_keep = ['age', 'job', 'marital', 'education', 'default', 'housing', 'loan', 'target_class']\n",
        "new_df = sampled_df.select(columns_to_keep)\n",
        "\n",
        "# Show the result to verify\n",
        "new_df.show(5)\n",
        "\n",
        "# Optionally, check the count of 'no' and 'yes' in the new DataFrame\n",
        "new_df.groupBy('target_class').count().show()"
      ],
      "metadata": {
        "colab": {
          "base_uri": "https://localhost:8080/"
        },
        "id": "2ZgoCrHms-Qq",
        "outputId": "7c7b33d1-cd24-4927-8f40-00f183033eac"
      },
      "execution_count": 7,
      "outputs": [
        {
          "output_type": "stream",
          "name": "stdout",
          "text": [
            "+---+-----------+-------+-----------+-------+-------+----+------------+\n",
            "|age|        job|marital|  education|default|housing|loan|target_class|\n",
            "+---+-----------+-------+-----------+-------+-------+----+------------+\n",
            "| 41|blue-collar|married|    unknown|unknown|     no|  no|          no|\n",
            "| 35|blue-collar|married|   basic.6y|     no|    yes|  no|          no|\n",
            "| 50|blue-collar|married|   basic.9y|     no|    yes| yes|          no|\n",
            "| 59| technician|married|    unknown|     no|    yes|  no|          no|\n",
            "| 34|   services|married|high.school|     no|     no|  no|          no|\n",
            "+---+-----------+-------+-----------+-------+-------+----+------------+\n",
            "only showing top 5 rows\n",
            "\n",
            "+------------+-----+\n",
            "|target_class|count|\n",
            "+------------+-----+\n",
            "|          no| 6573|\n",
            "|         yes| 4640|\n",
            "+------------+-----+\n",
            "\n"
          ]
        }
      ]
    },
    {
      "cell_type": "markdown",
      "source": [
        "## Feature Engineering for Model"
      ],
      "metadata": {
        "id": "RuSL8e1et6No"
      }
    },
    {
      "cell_type": "code",
      "source": [
        "from pyspark.sql import functions as F\n",
        "from pyspark.sql import *\n",
        "new_df = new_df.withColumn(\"label\", F.when(new_df.target_class=='no', F.lit(0)).otherwise(F.lit(1)))\n",
        "new_df.groupBy('label').count().show()"
      ],
      "metadata": {
        "colab": {
          "base_uri": "https://localhost:8080/"
        },
        "id": "7xOzzJdvtvW2",
        "outputId": "23979a23-ca19-42b6-ea20-bfe1782d3488"
      },
      "execution_count": 8,
      "outputs": [
        {
          "output_type": "stream",
          "name": "stdout",
          "text": [
            "+-----+-----+\n",
            "|label|count|\n",
            "+-----+-----+\n",
            "|    1| 4640|\n",
            "|    0| 6573|\n",
            "+-----+-----+\n",
            "\n"
          ]
        }
      ]
    },
    {
      "cell_type": "code",
      "source": [
        "from pyspark.ml.feature import OneHotEncoder, StringIndexer, VectorAssembler\n",
        "\n",
        "def cat_to_num(df):\n",
        "    stages = [] # to keep the stages of the transformations\n",
        "\n",
        "    for col in df.columns:\n",
        "        stringIndexer = StringIndexer(inputCol=col, outputCol=col+\"_index\")\n",
        "        encoder = OneHotEncoder(inputCols=[col+\"_index\"], outputCols=[col+\"_vec\"])\n",
        "\n",
        "        stages += [stringIndexer, encoder]\n",
        "\n",
        "    df_assembler = VectorAssembler(inputCols=['age','marital_vec','education_vec','default_vec','housing_vec','loan_vec'], outputCol=\"features\")\n",
        "    stages += [df_assembler]\n",
        "\n",
        "    # Applying all the transformations\n",
        "    from pyspark.ml import Pipeline\n",
        "    pipeline = Pipeline(stages=stages)\n",
        "    model = pipeline.fit(df)\n",
        "    df = model.transform(df)\n",
        "\n",
        "    return df.select(['features', 'label'])\n",
        "\n",
        "df_new = cat_to_num(new_df)\n"
      ],
      "metadata": {
        "id": "jxS7DFprvuok"
      },
      "execution_count": 52,
      "outputs": []
    },
    {
      "cell_type": "code",
      "source": [
        "df_new.show()"
      ],
      "metadata": {
        "colab": {
          "base_uri": "https://localhost:8080/"
        },
        "id": "IYuZqdd1wVD6",
        "outputId": "603d0eca-2ef4-4ebb-ec05-bde432bcf24d"
      },
      "execution_count": 53,
      "outputs": [
        {
          "output_type": "stream",
          "name": "stdout",
          "text": [
            "+--------------------+-----+\n",
            "|            features|label|\n",
            "+--------------------+-----+\n",
            "|(17,[0,1,10,12,14...|    0|\n",
            "|(17,[0,1,9,11,13,...|    0|\n",
            "|(17,[0,1,6,11,13,...|    0|\n",
            "|(17,[0,1,10,11,13...|    0|\n",
            "|(17,[0,1,5,11,14,...|    0|\n",
            "|(17,[0,1,4,11,13,...|    0|\n",
            "|(17,[0,1,4,11,13,...|    0|\n",
            "|(17,[0,1,5,11,14,...|    0|\n",
            "|(17,[0,1,7,12,13,...|    0|\n",
            "|(17,[0,1,9,12,14,...|    0|\n",
            "|(17,[0,1,4,11,14,...|    0|\n",
            "|(17,[0,2,6,11,13,...|    0|\n",
            "|(17,[0,1,10,11,13...|    0|\n",
            "|(17,[0,1,4,12,13,...|    0|\n",
            "|(17,[0,3,8,12,13,...|    1|\n",
            "|(17,[0,1,6,12,14,...|    0|\n",
            "|(17,[0,1,4,12,13,...|    1|\n",
            "|(17,[0,1,6,11,14,...|    1|\n",
            "|(17,[0,1,4,11,13,...|    0|\n",
            "|(17,[0,3,4,11,14,...|    0|\n",
            "+--------------------+-----+\n",
            "only showing top 20 rows\n",
            "\n"
          ]
        }
      ]
    },
    {
      "cell_type": "markdown",
      "source": [
        "## Split the Data into Train and Test Datasets"
      ],
      "metadata": {
        "id": "cxvxP0YSwhk5"
      }
    },
    {
      "cell_type": "code",
      "source": [
        "train, test = df_new.randomSplit([0.75,0.25])\n",
        "print(f\"Size of train Dataset : {train.count()}\")\n",
        "print(f\"Size of test Dataset : {test.count()}\")"
      ],
      "metadata": {
        "colab": {
          "base_uri": "https://localhost:8080/"
        },
        "id": "oHb5RXbjwbOI",
        "outputId": "67414135-e7a1-457c-9a82-da9cb588c4ae"
      },
      "execution_count": 54,
      "outputs": [
        {
          "output_type": "stream",
          "name": "stdout",
          "text": [
            "Size of train Dataset : 8324\n",
            "Size of test Dataset : 2889\n"
          ]
        }
      ]
    },
    {
      "cell_type": "markdown",
      "source": [
        "## Build and Train the Logistic Regression model"
      ],
      "metadata": {
        "id": "W5q33Kuyw5zf"
      }
    },
    {
      "cell_type": "code",
      "source": [
        "from pyspark.ml.classification import LogisticRegression\n",
        "lr = LogisticRegression()\n",
        "lr_model = lr.fit(train)\n",
        "print(lr_model.coefficients)"
      ],
      "metadata": {
        "colab": {
          "base_uri": "https://localhost:8080/"
        },
        "id": "_JxBVHKqw29F",
        "outputId": "cc96154a-474f-47c7-d158-6231ca433e62"
      },
      "execution_count": 55,
      "outputs": [
        {
          "output_type": "stream",
          "name": "stdout",
          "text": [
            "[0.021032026225427766,-0.5123716466740033,-0.052474288772691585,-0.5941963027830527,-0.2111231110050117,-0.4628030123024023,-0.7439711954462664,-0.37438334892247194,-0.37616031450241844,-0.5160105979425151,-0.09694078718101883,11.92349137196805,10.9382065726764,0.04632302252053307,0.01652863558574699,0.08180231313142396,0.031106253222249792]\n"
          ]
        }
      ]
    },
    {
      "cell_type": "markdown",
      "source": [
        "## Evaluate Performance on Training Data"
      ],
      "metadata": {
        "id": "KFNuO8adxg_8"
      }
    },
    {
      "cell_type": "code",
      "source": [
        "lr_summary = lr_model.summary\n",
        "print(f\"{lr_summary.accuracy}\")\n",
        "print(f\"{lr_summary.areaUnderROC}\")\n",
        "print(f\"{lr_summary.weightedRecall}\")\n",
        "print(f\"{lr_summary.weightedPrecision}\")"
      ],
      "metadata": {
        "colab": {
          "base_uri": "https://localhost:8080/"
        },
        "id": "CfSIHutJxYJu",
        "outputId": "f731fb34-87b9-457c-83f7-244ef9ebecd5"
      },
      "execution_count": 56,
      "outputs": [
        {
          "output_type": "stream",
          "name": "stdout",
          "text": [
            "0.6123258049014897\n",
            "0.631797537669213\n",
            "0.6123258049014897\n",
            "0.5987321781411319\n"
          ]
        }
      ]
    },
    {
      "cell_type": "code",
      "source": [
        "lr_summary.precisionByThreshold.show()"
      ],
      "metadata": {
        "colab": {
          "base_uri": "https://localhost:8080/"
        },
        "id": "fIhmwvXOx4ve",
        "outputId": "c5e20ce7-93a7-4bbe-a23b-8a5b9a59f80d"
      },
      "execution_count": 57,
      "outputs": [
        {
          "output_type": "stream",
          "name": "stdout",
          "text": [
            "+------------------+------------------+\n",
            "|         threshold|         precision|\n",
            "+------------------+------------------+\n",
            "|0.7368603889114904|               1.0|\n",
            "|0.7238017503470731|               1.0|\n",
            "|0.7110116721612687|0.6666666666666666|\n",
            "|0.7028790875783076|             0.625|\n",
            "|0.6915577605368972|               0.7|\n",
            "|0.6804597834440027|0.7142857142857143|\n",
            "|0.6759263659093047|0.7777777777777778|\n",
            "|0.6733584321902079|              0.75|\n",
            "|0.6686868692903016|0.6818181818181818|\n",
            "|0.6666786911152485|0.6666666666666666|\n",
            "|0.6640109174035398|0.7037037037037037|\n",
            "|0.6619547212938801|0.7333333333333333|\n",
            "|0.6597209873906598|              0.75|\n",
            "| 0.659203697912911|0.7222222222222222|\n",
            "|0.6577511877945909|0.7435897435897436|\n",
            "|0.6545626193095236|0.7142857142857143|\n",
            "|0.6524199440251706|0.7333333333333333|\n",
            "|0.6497917263280151|0.7446808510638298|\n",
            "|0.6488946039843189|0.7692307692307693|\n",
            "|0.6470538468567755|0.7636363636363637|\n",
            "+------------------+------------------+\n",
            "only showing top 20 rows\n",
            "\n"
          ]
        }
      ]
    },
    {
      "cell_type": "code",
      "source": [
        "import matplotlib.pyplot as plt\n",
        "\n",
        "# Assuming lr_summary is a BinaryClassificationMetrics object\n",
        "\n",
        "# Get the precision by threshold DataFrame\n",
        "precision_by_threshold = lr_summary.precisionByThreshold\n",
        "\n",
        "# Collect the DataFrame to the driver\n",
        "precision_by_threshold_list = precision_by_threshold.collect()\n",
        "\n",
        "# Extract threshold and precision values\n",
        "thresholds = [row['threshold'] for row in precision_by_threshold_list]\n",
        "precisions = [row['precision'] for row in precision_by_threshold_list]\n",
        "\n",
        "# Now use matplotlib to plot the precision against threshold\n",
        "plt.plot(precision_by_threshold_list)\n",
        "plt.legend(loc='upper left')\n",
        "plt.show()\n"
      ],
      "metadata": {
        "colab": {
          "base_uri": "https://localhost:8080/",
          "height": 467
        },
        "id": "357Q_4NB1qq7",
        "outputId": "de64491c-0ff7-4ca0-fb7c-24e8880510bb"
      },
      "execution_count": 58,
      "outputs": [
        {
          "output_type": "stream",
          "name": "stderr",
          "text": [
            "WARNING:matplotlib.legend:No artists with labels found to put in legend.  Note that artists whose label start with an underscore are ignored when legend() is called with no argument.\n"
          ]
        },
        {
          "output_type": "display_data",
          "data": {
            "text/plain": [
              "<Figure size 640x480 with 1 Axes>"
            ],
            "image/png": "[encoded data removed]"
          },
          "metadata": {}
        }
      ]
    },
    {
      "cell_type": "markdown",
      "source": [
        "## **Different Graphs**\n",
        "* From the ROC Curve, a curve close to the top-left corner indicates a better performance.\n",
        "* From the Precision-Recall Curve, a higher area under the curve (AUC) indicates that the classifier is returning more true positives and fewer false negatives.\n",
        "* The Threshold vs. Metrics Plot will show you how the balance between precision and recall changes as you adjust the threshold. The optimal point often maximizes the F-Measure, which balances precision and recall.\n",
        "* The Confusion Matrix is a direct way to see the actual versus predicted counts of the classes.\n",
        "* For a Calibration Curve, if the plot significantly deviates from the diagonal, it indicates that the predicted probabilities are not representative of the actual outcomes."
      ],
      "metadata": {
        "id": "9PNXBSTy5DoH"
      }
    },
    {
      "cell_type": "code",
      "source": [
        "from pyspark.mllib.evaluation import BinaryClassificationMetrics\n",
        "from pyspark.ml.evaluation import BinaryClassificationEvaluator\n",
        "import matplotlib.pyplot as plt\n",
        "\n",
        "# Assuming predictions is a DataFrame with the logistic regression model's predictions\n",
        "# It needs to have a column with the label and a column with the prediction\n",
        "\n",
        "# ROC Curve\n",
        "roc = lr_summary.roc.toPandas()\n",
        "plt.figure()\n",
        "plt.plot(roc['FPR'], roc['TPR'])\n",
        "plt.plot([0, 1], [0, 1], 'k--')\n",
        "plt.xlabel('False Positive Rate')\n",
        "plt.ylabel('True Positive Rate')\n",
        "plt.title('ROC Curve')\n",
        "plt.show()\n",
        "\n",
        "# Precision-Recall Curve\n",
        "pr = lr_summary.pr.toPandas()\n",
        "plt.figure()\n",
        "plt.plot(pr['recall'], pr['precision'])\n",
        "plt.xlabel('Recall')\n",
        "plt.ylabel('Precision')\n",
        "plt.title('Precision-Recall Curve')\n",
        "plt.show()\n",
        "\n",
        "# Threshold vs. Metrics Plot\n",
        "f_measure = lr_summary.fMeasureByThreshold.toPandas()\n",
        "plt.figure()\n",
        "plt.plot(f_measure['threshold'], f_measure['F-Measure'])\n",
        "plt.xlabel('Threshold')\n",
        "plt.ylabel('F-Measure')\n",
        "plt.title('Threshold vs F-Measure')\n",
        "plt.show()\n",
        "\n",
        "import matplotlib.pyplot as plt\n",
        "import numpy as np\n",
        "beta = np.sort(lr_model.coefficients)\n",
        "plt.plot(beta)\n",
        "plt.ylabel('Beta Coefficients')\n",
        "plt.show()\n",
        "plt.show()\n"
      ],
      "metadata": {
        "colab": {
          "base_uri": "https://localhost:8080/",
          "height": 1000
        },
        "id": "SZfNFHgg5IdF",
        "outputId": "8a25aee6-aa49-4cd8-88cf-56b6dadd17d3"
      },
      "execution_count": 59,
      "outputs": [
        {
          "output_type": "display_data",
          "data": {
            "text/plain": [
              "<Figure size 640x480 with 1 Axes>"
            ],
            "image/png": "[encoded data removed]"
          },
          "metadata": {}
        },
        {
          "output_type": "display_data",
          "data": {
            "text/plain": [
              "<Figure size 640x480 with 1 Axes>"
            ],
            "image/png": "[encoded data removed]"
          },
          "metadata": {}
        },
        {
          "output_type": "display_data",
          "data": {
            "text/plain": [
              "<Figure size 640x480 with 1 Axes>"
            ],
            "image/png": "[encoded data removed]"
          },
          "metadata": {}
        },
        {
          "output_type": "display_data",
          "data": {
            "text/plain": [
              "<Figure size 640x480 with 1 Axes>"
            ],
            "image/png": "[encoded data removed]"
          },
          "metadata": {}
        }
      ]
    },
    {
      "cell_type": "code",
      "source": [
        "lr_summary.roc.show()"
      ],
      "metadata": {
        "colab": {
          "base_uri": "https://localhost:8080/"
        },
        "id": "Y6HW-seTyYhc",
        "outputId": "78875534-84e8-4455-9b10-071c57b0626d"
      },
      "execution_count": 60,
      "outputs": [
        {
          "output_type": "stream",
          "name": "stdout",
          "text": [
            "+--------------------+--------------------+\n",
            "|                 FPR|                 TPR|\n",
            "+--------------------+--------------------+\n",
            "|                 0.0|                 0.0|\n",
            "|                 0.0|5.817335660267597E-4|\n",
            "|                 0.0|0.001163467132053...|\n",
            "|4.093327875562832...|0.001163467132053...|\n",
            "|6.139991813344249E-4|0.001454333915066...|\n",
            "|6.139991813344249E-4|0.002036067481093659|\n",
            "|8.186655751125665E-4|0.002908667830133...|\n",
            "|8.186655751125665E-4|0.004072134962187318|\n",
            "|0.001023331968890708|0.004363001745200698|\n",
            "|0.001432664756446...|0.004363001745200698|\n",
            "|0.001637331150225133|0.004653868528214078|\n",
            "|0.001637331150225133|0.005526468877254218|\n",
            "|0.001637331150225133|0.006399069226294357|\n",
            "|0.001637331150225133|0.006980802792321117|\n",
            "|0.002046663937781416|0.007562536358347...|\n",
            "|0.002046663937781416|0.008435136707388016|\n",
            "|0.002455996725337...|0.008726003490401396|\n",
            "|0.002455996725337...|0.009598603839441536|\n",
            "|0.002455996725337...|0.010180337405468295|\n",
            "|0.002455996725337...|0.011634671320535195|\n",
            "+--------------------+--------------------+\n",
            "only showing top 20 rows\n",
            "\n"
          ]
        }
      ]
    },
    {
      "cell_type": "code",
      "source": [
        "lr_summary.recallByThreshold.show()"
      ],
      "metadata": {
        "colab": {
          "base_uri": "https://localhost:8080/"
        },
        "id": "QtCxfRDKygW_",
        "outputId": "e7ea63f9-6abf-4251-f76c-15611f55e09c"
      },
      "execution_count": 61,
      "outputs": [
        {
          "output_type": "stream",
          "name": "stdout",
          "text": [
            "+------------------+--------------------+\n",
            "|         threshold|              recall|\n",
            "+------------------+--------------------+\n",
            "|0.7368603889114904|5.817335660267597E-4|\n",
            "|0.7238017503470731|0.001163467132053...|\n",
            "|0.7110116721612687|0.001163467132053...|\n",
            "|0.7028790875783076|0.001454333915066...|\n",
            "|0.6915577605368972|0.002036067481093659|\n",
            "|0.6804597834440027|0.002908667830133...|\n",
            "|0.6759263659093047|0.004072134962187318|\n",
            "|0.6733584321902079|0.004363001745200698|\n",
            "|0.6686868692903016|0.004363001745200698|\n",
            "|0.6666786911152485|0.004653868528214078|\n",
            "|0.6640109174035398|0.005526468877254218|\n",
            "|0.6619547212938801|0.006399069226294357|\n",
            "|0.6597209873906598|0.006980802792321117|\n",
            "| 0.659203697912911|0.007562536358347...|\n",
            "|0.6577511877945909|0.008435136707388016|\n",
            "|0.6545626193095236|0.008726003490401396|\n",
            "|0.6524199440251706|0.009598603839441536|\n",
            "|0.6497917263280151|0.010180337405468295|\n",
            "|0.6488946039843189|0.011634671320535195|\n",
            "|0.6470538468567755|0.012216404886561954|\n",
            "+------------------+--------------------+\n",
            "only showing top 20 rows\n",
            "\n"
          ]
        }
      ]
    },
    {
      "cell_type": "code",
      "source": [
        "lr_summary.pr.show()"
      ],
      "metadata": {
        "colab": {
          "base_uri": "https://localhost:8080/"
        },
        "id": "c-z8LPqTynWC",
        "outputId": "63c1baf5-4b7e-4e84-a95d-e2a7a43f5431"
      },
      "execution_count": 62,
      "outputs": [
        {
          "output_type": "stream",
          "name": "stdout",
          "text": [
            "+--------------------+------------------+\n",
            "|              recall|         precision|\n",
            "+--------------------+------------------+\n",
            "|                 0.0|               1.0|\n",
            "|5.817335660267597E-4|               1.0|\n",
            "|0.001163467132053...|               1.0|\n",
            "|0.001163467132053...|0.6666666666666666|\n",
            "|0.001454333915066...|             0.625|\n",
            "|0.002036067481093659|               0.7|\n",
            "|0.002908667830133...|0.7142857142857143|\n",
            "|0.004072134962187318|0.7777777777777778|\n",
            "|0.004363001745200698|              0.75|\n",
            "|0.004363001745200698|0.6818181818181818|\n",
            "|0.004653868528214078|0.6666666666666666|\n",
            "|0.005526468877254218|0.7037037037037037|\n",
            "|0.006399069226294357|0.7333333333333333|\n",
            "|0.006980802792321117|              0.75|\n",
            "|0.007562536358347...|0.7222222222222222|\n",
            "|0.008435136707388016|0.7435897435897436|\n",
            "|0.008726003490401396|0.7142857142857143|\n",
            "|0.009598603839441536|0.7333333333333333|\n",
            "|0.010180337405468295|0.7446808510638298|\n",
            "|0.011634671320535195|0.7692307692307693|\n",
            "+--------------------+------------------+\n",
            "only showing top 20 rows\n",
            "\n"
          ]
        }
      ]
    },
    {
      "cell_type": "markdown",
      "source": [
        "## Evaluate Performance on test data"
      ],
      "metadata": {
        "id": "YuwEq32-yvya"
      }
    },
    {
      "cell_type": "code",
      "source": [
        "model_predictions = lr_model.transform(test)\n",
        "model_predictions.columns"
      ],
      "metadata": {
        "colab": {
          "base_uri": "https://localhost:8080/"
        },
        "id": "tnfytoeTyttM",
        "outputId": "9c270b82-c21d-4294-8668-79231bff4563"
      },
      "execution_count": 63,
      "outputs": [
        {
          "output_type": "execute_result",
          "data": {
            "text/plain": [
              "['features', 'label', 'rawPrediction', 'probability', 'prediction']"
            ]
          },
          "metadata": {},
          "execution_count": 63
        }
      ]
    },
    {
      "cell_type": "code",
      "source": [
        "model_predictions.select(['label', 'probability', 'prediction']).show(10, False)"
      ],
      "metadata": {
        "colab": {
          "base_uri": "https://localhost:8080/"
        },
        "id": "UFIOy98z0Qfd",
        "outputId": "b975267e-b401-41f3-f3e1-42f7595c89eb"
      },
      "execution_count": 64,
      "outputs": [
        {
          "output_type": "stream",
          "name": "stdout",
          "text": [
            "+-----+----------------------------------------+----------+\n",
            "|label|probability                             |prediction|\n",
            "+-----+----------------------------------------+----------+\n",
            "|0    |[0.5943016250195454,0.4056983749804546] |0.0       |\n",
            "|1    |[0.5943016250195454,0.4056983749804546] |0.0       |\n",
            "|0    |[0.5790027518929994,0.42099724810700057]|0.0       |\n",
            "|1    |[0.5583708460012915,0.4416291539987085] |0.0       |\n",
            "|1    |[0.5323031173912324,0.46769688260876763]|0.0       |\n",
            "|1    |[0.6039397000010821,0.3960602999989179] |0.0       |\n",
            "|0    |[0.5988980766649199,0.4011019233350801] |0.0       |\n",
            "|1    |[0.5988980766649199,0.4011019233350801] |0.0       |\n",
            "|1    |[0.5988980766649199,0.4011019233350801] |0.0       |\n",
            "|1    |[0.5938354369641148,0.4061645630358852] |0.0       |\n",
            "+-----+----------------------------------------+----------+\n",
            "only showing top 10 rows\n",
            "\n"
          ]
        }
      ]
    },
    {
      "cell_type": "code",
      "source": [
        "from pyspark.ml.evaluation import BinaryClassificationEvaluator"
      ],
      "metadata": {
        "id": "55pDTHPg0rJN"
      },
      "execution_count": 65,
      "outputs": []
    },
    {
      "cell_type": "code",
      "source": [
        "# RMSE value of the model on test data\n",
        "lr_evaluator = BinaryClassificationEvaluator(metricName='areaUnderROC')\n",
        "lr_auroc = lr_evaluator.evaluate(model_predictions)\n",
        "print(f'The auc value of Logistic Regression Model is {lr_auroc}')\n",
        "\n",
        "\n",
        "# RMSE value of the model on test data\n",
        "lr_evaluator = BinaryClassificationEvaluator(metricName='areaUnderPR')\n",
        "lr_aupr = lr_evaluator.evaluate(model_predictions)\n",
        "print(f'The aupr value of Logistic Regression Model is {lr_aupr}')"
      ],
      "metadata": {
        "colab": {
          "base_uri": "https://localhost:8080/"
        },
        "id": "Y5vw6wqX7vi-",
        "outputId": "30becd82-8032-4401-ac3a-bbe78a2513ab"
      },
      "execution_count": 66,
      "outputs": [
        {
          "output_type": "stream",
          "name": "stdout",
          "text": [
            "The auc value of Logistic Regression Model is 0.6080874890397061\n",
            "The aupr value of Logistic Regression Model is 0.506776100664611\n"
          ]
        }
      ]
    },
    {
      "cell_type": "code",
      "source": [
        "true_pos=model_predictions.filter(model_predictions['label']==1).filter(model_predictions['prediction']==1).count()\n",
        "actual_pos=model_predictions.filter(model_predictions['label']==1).count()\n"
      ],
      "metadata": {
        "id": "RBfZhQUs7yvP"
      },
      "execution_count": 67,
      "outputs": []
    },
    {
      "cell_type": "code",
      "source": [
        "#Recall\n",
        "float(true_pos)/(actual_pos)"
      ],
      "metadata": {
        "colab": {
          "base_uri": "https://localhost:8080/"
        },
        "id": "4hlJ0LPr8QJa",
        "outputId": "ef24970b-93a9-4a8a-be59-5d88e01b57dd"
      },
      "execution_count": 68,
      "outputs": [
        {
          "output_type": "execute_result",
          "data": {
            "text/plain": [
              "0.31114808652246256"
            ]
          },
          "metadata": {},
          "execution_count": 68
        }
      ]
    },
    {
      "cell_type": "code",
      "source": [
        "pred_pos=model_predictions.filter(model_predictions['prediction']==1).count()\n",
        "#Precision\n",
        "float(true_pos)/(pred_pos)"
      ],
      "metadata": {
        "colab": {
          "base_uri": "https://localhost:8080/"
        },
        "id": "iLQ7CAby8S8r",
        "outputId": "9c6454ee-3486-4413-eda5-dcccb8570e2a"
      },
      "execution_count": 69,
      "outputs": [
        {
          "output_type": "execute_result",
          "data": {
            "text/plain": [
              "0.53125"
            ]
          },
          "metadata": {},
          "execution_count": 69
        }
      ]
    },
    {
      "cell_type": "markdown",
      "source": [
        "## **Decision Tree Classifier**"
      ],
      "metadata": {
        "id": "uN4SUxZD8vJN"
      }
    },
    {
      "cell_type": "code",
      "source": [
        "from pyspark.ml.classification import DecisionTreeClassifier\n",
        "dt = DecisionTreeClassifier()\n",
        "dt_model = dt.fit(train)"
      ],
      "metadata": {
        "id": "uWH9knal8YCJ"
      },
      "execution_count": 70,
      "outputs": []
    },
    {
      "cell_type": "code",
      "source": [
        "model_predictions = dt_model.transform(test)"
      ],
      "metadata": {
        "id": "ruisXNLj86Pt"
      },
      "execution_count": 71,
      "outputs": []
    },
    {
      "cell_type": "code",
      "source": [
        "model_predictions.select(['label','probability','prediction']).show(10,False)"
      ],
      "metadata": {
        "colab": {
          "base_uri": "https://localhost:8080/"
        },
        "id": "T9LYM0XF9Aaa",
        "outputId": "ab1b08da-2d22-43d4-fc2c-fc78295c07b7"
      },
      "execution_count": 72,
      "outputs": [
        {
          "output_type": "stream",
          "name": "stdout",
          "text": [
            "+-----+----------------------------------------+----------+\n",
            "|label|probability                             |prediction|\n",
            "+-----+----------------------------------------+----------+\n",
            "|0    |[0.5434402332361516,0.4565597667638484] |0.0       |\n",
            "|1    |[0.5434402332361516,0.4565597667638484] |0.0       |\n",
            "|0    |[0.5434402332361516,0.4565597667638484] |0.0       |\n",
            "|1    |[0.5434402332361516,0.4565597667638484] |0.0       |\n",
            "|1    |[0.5434402332361516,0.4565597667638484] |0.0       |\n",
            "|1    |[0.46511627906976744,0.5348837209302325]|1.0       |\n",
            "|0    |[0.46511627906976744,0.5348837209302325]|1.0       |\n",
            "|1    |[0.46511627906976744,0.5348837209302325]|1.0       |\n",
            "|1    |[0.46511627906976744,0.5348837209302325]|1.0       |\n",
            "|1    |[0.5434402332361516,0.4565597667638484] |0.0       |\n",
            "+-----+----------------------------------------+----------+\n",
            "only showing top 10 rows\n",
            "\n"
          ]
        }
      ]
    },
    {
      "cell_type": "code",
      "source": [
        "# RMSE value of the model on test data\n",
        "dt_evaluator = BinaryClassificationEvaluator(metricName='areaUnderROC')\n",
        "dt_auroc = dt_evaluator.evaluate(model_predictions)\n",
        "print(f'The auc value of Decision Tree Classifier Model is {dt_auroc}')\n",
        "\n",
        "\n",
        "# RMSE value of the model on test data\n",
        "dt_evaluator = BinaryClassificationEvaluator(metricName='areaUnderPR')\n",
        "dt_aupr = dt_evaluator.evaluate(model_predictions)\n",
        "print(f'The aupr value of Logistic Regression Model is {dt_aupr}')"
      ],
      "metadata": {
        "colab": {
          "base_uri": "https://localhost:8080/"
        },
        "id": "ibYJQON29Ct6",
        "outputId": "730cb612-93a3-475c-bfab-f8826b8e2572"
      },
      "execution_count": 73,
      "outputs": [
        {
          "output_type": "stream",
          "name": "stdout",
          "text": [
            "The auc value of Decision Tree Classifier Model is 0.4538077221623318\n",
            "The aupr value of Logistic Regression Model is 0.38365807505549065\n"
          ]
        }
      ]
    },
    {
      "cell_type": "code",
      "source": [
        "true_pos=model_predictions.filter(model_predictions['label']==1).filter(model_predictions['prediction']==1).count()\n",
        "actual_pos=model_predictions.filter(model_predictions['label']==1).count()\n",
        "pred_pos=model_predictions.filter(model_predictions['prediction']==1).count()"
      ],
      "metadata": {
        "id": "kMknjnC39F6Z"
      },
      "execution_count": 74,
      "outputs": []
    },
    {
      "cell_type": "code",
      "source": [
        "#Recall\n",
        "float(true_pos)/(actual_pos)\n"
      ],
      "metadata": {
        "colab": {
          "base_uri": "https://localhost:8080/"
        },
        "id": "dolXBciw9POZ",
        "outputId": "92344913-0190-477f-edd2-91345b962a64"
      },
      "execution_count": 75,
      "outputs": [
        {
          "output_type": "execute_result",
          "data": {
            "text/plain": [
              "0.2762063227953411"
            ]
          },
          "metadata": {},
          "execution_count": 75
        }
      ]
    },
    {
      "cell_type": "code",
      "source": [
        "#Precision on test Data\n",
        "float(true_pos)/(pred_pos)"
      ],
      "metadata": {
        "colab": {
          "base_uri": "https://localhost:8080/"
        },
        "id": "laWsvzzh9Ryq",
        "outputId": "93222466-79b0-4d12-ca98-02d9bb3786fd"
      },
      "execution_count": 76,
      "outputs": [
        {
          "output_type": "execute_result",
          "data": {
            "text/plain": [
              "0.6384615384615384"
            ]
          },
          "metadata": {},
          "execution_count": 76
        }
      ]
    },
    {
      "cell_type": "markdown",
      "source": [
        "## **Support Vector Machines**"
      ],
      "metadata": {
        "id": "ZRplIgaB9sqs"
      }
    },
    {
      "cell_type": "markdown",
      "source": [
        "## Build and train SVM model"
      ],
      "metadata": {
        "id": "dV9IfSlv9xgY"
      }
    },
    {
      "cell_type": "code",
      "source": [
        "from pyspark.ml.classification import RandomForestClassifier\n",
        "rf = RandomForestClassifier(numTrees=50,maxDepth=30)\n",
        "rf_model = rf.fit(train)"
      ],
      "metadata": {
        "id": "cXSCvEMK9TgR"
      },
      "execution_count": 77,
      "outputs": []
    },
    {
      "cell_type": "code",
      "source": [
        "model_predictions = rf_model.transform(test)\n",
        "model_predictions.select(['label','probability','prediction']).show(10,False)"
      ],
      "metadata": {
        "colab": {
          "base_uri": "https://localhost:8080/"
        },
        "id": "sl5IP3kH97GJ",
        "outputId": "05ba00a7-5313-4821-a912-1ea87d566cea"
      },
      "execution_count": 78,
      "outputs": [
        {
          "output_type": "stream",
          "name": "stdout",
          "text": [
            "+-----+----------------------------------------+----------+\n",
            "|label|probability                             |prediction|\n",
            "+-----+----------------------------------------+----------+\n",
            "|0    |[0.5439921506650566,0.45600784933494337]|0.0       |\n",
            "|1    |[0.5439921506650566,0.45600784933494337]|0.0       |\n",
            "|0    |[0.5550820240439027,0.4449179759560973] |0.0       |\n",
            "|1    |[0.607476385343094,0.39252361465690594] |0.0       |\n",
            "|1    |[0.5186328140209097,0.48136718597909045]|0.0       |\n",
            "|1    |[0.41423291085687347,0.5857670891431266]|1.0       |\n",
            "|0    |[0.4621665851188625,0.5378334148811376] |1.0       |\n",
            "|1    |[0.4621665851188625,0.5378334148811376] |1.0       |\n",
            "|1    |[0.4621665851188625,0.5378334148811376] |1.0       |\n",
            "|1    |[0.489696243858727,0.510303756141273]   |1.0       |\n",
            "+-----+----------------------------------------+----------+\n",
            "only showing top 10 rows\n",
            "\n"
          ]
        }
      ]
    },
    {
      "cell_type": "markdown",
      "source": [
        "## Evaluate performance on test data"
      ],
      "metadata": {
        "id": "f6HEY-OP-IYW"
      }
    },
    {
      "cell_type": "code",
      "source": [
        "rf_evaluator = BinaryClassificationEvaluator(metricName='areaUnderROC')\n",
        "rf_auroc = rf_evaluator.evaluate(model_predictions)\n",
        "print(f'The auc value of RandomForestClassifier Model is {rf_auroc}')\n",
        "\n",
        "rf_evaluator = BinaryClassificationEvaluator(metricName='areaUnderPR')\n",
        "rf_aupr = rf_evaluator.evaluate(model_predictions)\n",
        "print(f'The aupr value of RandomForestClassifier Model is {rf_aupr}')\n"
      ],
      "metadata": {
        "colab": {
          "base_uri": "https://localhost:8080/"
        },
        "id": "7fdbhiWS-DYR",
        "outputId": "e0c85154-e588-45df-bae4-5827f472c1cc"
      },
      "execution_count": 79,
      "outputs": [
        {
          "output_type": "stream",
          "name": "stdout",
          "text": [
            "The auc value of RandomForestClassifier Model is 0.6369085016377571\n",
            "The aupr value of RandomForestClassifier Model is 0.5634216901785816\n"
          ]
        }
      ]
    },
    {
      "cell_type": "code",
      "source": [
        "true_pos=model_predictions.filter(model_predictions['label']==1).filter(model_predictions['prediction']==1).count()\n",
        "actual_pos=model_predictions.filter(model_predictions['label']==1).count()\n",
        "pred_pos=model_predictions.filter(model_predictions['prediction']==1).count()\n"
      ],
      "metadata": {
        "id": "bedYpvTS-Vhu"
      },
      "execution_count": 80,
      "outputs": []
    },
    {
      "cell_type": "code",
      "source": [
        "#Recall\n",
        "float(true_pos)/(actual_pos)"
      ],
      "metadata": {
        "colab": {
          "base_uri": "https://localhost:8080/"
        },
        "id": "ngN-dbw3-ciT",
        "outputId": "367ab077-4671-4111-90ac-c590163b18dd"
      },
      "execution_count": 81,
      "outputs": [
        {
          "output_type": "execute_result",
          "data": {
            "text/plain": [
              "0.26955074875207985"
            ]
          },
          "metadata": {},
          "execution_count": 81
        }
      ]
    },
    {
      "cell_type": "code",
      "source": [
        "#Precision on test Data\n",
        "float(true_pos)/(pred_pos)\n"
      ],
      "metadata": {
        "colab": {
          "base_uri": "https://localhost:8080/"
        },
        "id": "1-nXPQg4-fMY",
        "outputId": "8e37c693-c914-466f-94cf-2611ea4cffef"
      },
      "execution_count": 82,
      "outputs": [
        {
          "output_type": "execute_result",
          "data": {
            "text/plain": [
              "0.5977859778597786"
            ]
          },
          "metadata": {},
          "execution_count": 82
        }
      ]
    },
    {
      "cell_type": "markdown",
      "source": [
        "# **Naive bayes Classifier**"
      ],
      "metadata": {
        "id": "zivA6B4u-wpz"
      }
    },
    {
      "cell_type": "markdown",
      "source": [
        "## Build and train NaiveBayes model"
      ],
      "metadata": {
        "id": "hlIAYKgz-7Lt"
      }
    },
    {
      "cell_type": "code",
      "source": [
        "from pyspark.ml.classification import NaiveBayes\n",
        "nb = NaiveBayes()\n",
        "nb_model = nb.fit(train)\n",
        "model_predictions = nb_model.transform(test)\n",
        "model_predictions.columns"
      ],
      "metadata": {
        "colab": {
          "base_uri": "https://localhost:8080/"
        },
        "id": "BA4VEW0O-huH",
        "outputId": "3a3aaad0-0fb3-4af2-d575-6213f6ff5a7f"
      },
      "execution_count": 83,
      "outputs": [
        {
          "output_type": "execute_result",
          "data": {
            "text/plain": [
              "['features', 'label', 'rawPrediction', 'probability', 'prediction']"
            ]
          },
          "metadata": {},
          "execution_count": 83
        }
      ]
    },
    {
      "cell_type": "code",
      "source": [
        "model_predictions.select(['label','probability','prediction']).show(10,False)"
      ],
      "metadata": {
        "colab": {
          "base_uri": "https://localhost:8080/"
        },
        "id": "gJlsIvXA_Oh7",
        "outputId": "a11fea66-0df3-4cee-d8b6-fe7a45faba11"
      },
      "execution_count": 84,
      "outputs": [
        {
          "output_type": "stream",
          "name": "stdout",
          "text": [
            "+-----+----------------------------------------+----------+\n",
            "|label|probability                             |prediction|\n",
            "+-----+----------------------------------------+----------+\n",
            "|0    |[0.5089596817190444,0.4910403182809557] |0.0       |\n",
            "|1    |[0.5089596817190444,0.4910403182809557] |0.0       |\n",
            "|0    |[0.5066709405562219,0.49332905944377803]|0.0       |\n",
            "|1    |[0.5036188672558028,0.4963811327441971] |0.0       |\n",
            "|1    |[0.4998034229947329,0.500196577005267]  |1.0       |\n",
            "|1    |[0.5203653137912378,0.4796346862087621] |0.0       |\n",
            "|0    |[0.519603431502048,0.48039656849795215] |0.0       |\n",
            "|1    |[0.519603431502048,0.48039656849795215] |0.0       |\n",
            "|1    |[0.519603431502048,0.48039656849795215] |0.0       |\n",
            "|1    |[0.5188414580290095,0.48115854197099056]|0.0       |\n",
            "+-----+----------------------------------------+----------+\n",
            "only showing top 10 rows\n",
            "\n"
          ]
        }
      ]
    },
    {
      "cell_type": "code",
      "source": [
        "nb_evaluator = BinaryClassificationEvaluator(metricName='areaUnderROC')\n",
        "nb_auroc = nb_evaluator.evaluate(model_predictions)\n",
        "print(f'The auc value of NB Classifier  is {nb_auroc}')\n",
        "\n",
        "nb_evaluator = BinaryClassificationEvaluator(metricName='areaUnderPR')\n",
        "nb_aupr =nb_evaluator.evaluate(model_predictions)\n",
        "print(f'The aupr value of NB Classifier Model is {nb_aupr}')"
      ],
      "metadata": {
        "colab": {
          "base_uri": "https://localhost:8080/"
        },
        "id": "C9Qrbo04_TzL",
        "outputId": "5ac7e669-d5be-45c9-d612-68e57b27fa5d"
      },
      "execution_count": 85,
      "outputs": [
        {
          "output_type": "stream",
          "name": "stdout",
          "text": [
            "The auc value of NB Classifier  is 0.5523554400046555\n",
            "The aupr value of NB Classifier Model is 0.4589277599002511\n"
          ]
        }
      ]
    },
    {
      "cell_type": "code",
      "source": [
        "true_pos=model_predictions.filter(model_predictions['label']==1).filter(model_predictions['prediction']==1).count()\n",
        "actual_pos=model_predictions.filter(model_predictions['label']==1).count()\n",
        "pred_pos=model_predictions.filter(model_predictions['prediction']==1).count()"
      ],
      "metadata": {
        "id": "ejQRZeQi_ae0"
      },
      "execution_count": 86,
      "outputs": []
    },
    {
      "cell_type": "code",
      "source": [
        "float(true_pos)/(actual_pos)"
      ],
      "metadata": {
        "colab": {
          "base_uri": "https://localhost:8080/"
        },
        "id": "RWAAtonQ_dha",
        "outputId": "a432545d-52aa-4a8f-dc54-12feede15919"
      },
      "execution_count": 87,
      "outputs": [
        {
          "output_type": "execute_result",
          "data": {
            "text/plain": [
              "0.24292845257903495"
            ]
          },
          "metadata": {},
          "execution_count": 87
        }
      ]
    },
    {
      "cell_type": "code",
      "source": [
        "float(true_pos)/(pred_pos)"
      ],
      "metadata": {
        "colab": {
          "base_uri": "https://localhost:8080/"
        },
        "id": "al2LQ8ZV_ha5",
        "outputId": "603551f0-4cb1-49c9-d51b-7646642e2461"
      },
      "execution_count": 88,
      "outputs": [
        {
          "output_type": "execute_result",
          "data": {
            "text/plain": [
              "0.4882943143812709"
            ]
          },
          "metadata": {},
          "execution_count": 88
        }
      ]
    },
    {
      "cell_type": "markdown",
      "source": [
        "## **Gradient Boosted Tree Classifier**"
      ],
      "metadata": {
        "id": "QhSfnA9N_qPc"
      }
    },
    {
      "cell_type": "code",
      "source": [
        "from pyspark.ml.classification import GBTClassifier\n",
        "gbt = GBTClassifier()\n",
        "gbt_model = gbt.fit(train)\n",
        "model_predictions = gbt_model.transform(test)\n",
        "model_predictions.select(['label','probability','prediction']).show(10,False)"
      ],
      "metadata": {
        "colab": {
          "base_uri": "https://localhost:8080/"
        },
        "id": "8zjpTEcP_iLE",
        "outputId": "04c8f40a-41d3-4388-b7d8-d7ee70b1b17c"
      },
      "execution_count": 89,
      "outputs": [
        {
          "output_type": "stream",
          "name": "stdout",
          "text": [
            "+-----+----------------------------------------+----------+\n",
            "|label|probability                             |prediction|\n",
            "+-----+----------------------------------------+----------+\n",
            "|0    |[0.5838293236236349,0.41617067637636507]|0.0       |\n",
            "|1    |[0.5838293236236349,0.41617067637636507]|0.0       |\n",
            "|0    |[0.5838293236236349,0.41617067637636507]|0.0       |\n",
            "|1    |[0.5838293236236349,0.41617067637636507]|0.0       |\n",
            "|1    |[0.6270367531539184,0.3729632468460816] |0.0       |\n",
            "|1    |[0.45259688270889376,0.5474031172911062]|1.0       |\n",
            "|0    |[0.4513846109023134,0.5486153890976866] |1.0       |\n",
            "|1    |[0.4513846109023134,0.5486153890976866] |1.0       |\n",
            "|1    |[0.4513846109023134,0.5486153890976866] |1.0       |\n",
            "|1    |[0.5437036262841555,0.4562963737158445] |0.0       |\n",
            "+-----+----------------------------------------+----------+\n",
            "only showing top 10 rows\n",
            "\n"
          ]
        }
      ]
    },
    {
      "cell_type": "code",
      "source": [
        "gbt_evaluator = BinaryClassificationEvaluator(metricName='areaUnderROC')\n",
        "gbt_auroc = gbt_evaluator.evaluate(model_predictions)\n",
        "print(f'The auc value of GradientBoostedTreesClassifier  is {gbt_auroc}')\n",
        "\n",
        "gbt_evaluator = BinaryClassificationEvaluator(metricName='areaUnderPR')\n",
        "gbt_aupr = gbt_evaluator.evaluate(model_predictions)\n",
        "print(f'The aupr value of GradientBoostedTreesClassifier Model is {gbt_aupr}')\n"
      ],
      "metadata": {
        "colab": {
          "base_uri": "https://localhost:8080/"
        },
        "id": "GWooe6GEANHD",
        "outputId": "328e727b-538d-4ec3-ca29-4a8759fe6ccb"
      },
      "execution_count": 90,
      "outputs": [
        {
          "output_type": "stream",
          "name": "stdout",
          "text": [
            "The auc value of GradientBoostedTreesClassifier  is 0.6466647663891543\n",
            "The aupr value of GradientBoostedTreesClassifier Model is 0.5710262636410522\n"
          ]
        }
      ]
    },
    {
      "cell_type": "code",
      "source": [
        "true_pos=model_predictions.filter(model_predictions['label']==1).filter(model_predictions['prediction']==1).count()\n",
        "actual_pos=model_predictions.filter(model_predictions['label']==1).count()\n",
        "pred_pos=model_predictions.filter(model_predictions['prediction']==1).count()\n"
      ],
      "metadata": {
        "id": "dDCnm9afFRif"
      },
      "execution_count": 91,
      "outputs": []
    },
    {
      "cell_type": "code",
      "source": [
        "float(true_pos)/(actual_pos)\n"
      ],
      "metadata": {
        "colab": {
          "base_uri": "https://localhost:8080/"
        },
        "id": "lY_wGvSjFT2O",
        "outputId": "dc067aff-d439-4760-ce18-c1f98f4fe01e"
      },
      "execution_count": 92,
      "outputs": [
        {
          "output_type": "execute_result",
          "data": {
            "text/plain": [
              "0.2670549084858569"
            ]
          },
          "metadata": {},
          "execution_count": 92
        }
      ]
    },
    {
      "cell_type": "code",
      "source": [
        "\n",
        "float(true_pos)/(pred_pos)"
      ],
      "metadata": {
        "colab": {
          "base_uri": "https://localhost:8080/"
        },
        "id": "ZT1-qwF9FVU3",
        "outputId": "4a0102ed-080a-49be-cffc-a16b177f0ee1"
      },
      "execution_count": 93,
      "outputs": [
        {
          "output_type": "execute_result",
          "data": {
            "text/plain": [
              "0.6149425287356322"
            ]
          },
          "metadata": {},
          "execution_count": 93
        }
      ]
    },
    {
      "cell_type": "code",
      "source": [],
      "metadata": {
        "id": "1KXQQcnzFVsl"
      },
      "execution_count": null,
      "outputs": []
    }
  ]
}
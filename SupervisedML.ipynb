{
  "nbformat": 4,
  "nbformat_minor": 0,
  "metadata": {
    "colab": {
      "provenance": [],
      "authorship_tag": "ABX9TyPuaYIgNaxF733K/dhVBqUG",
      "include_colab_link": true
    },
    "kernelspec": {
      "name": "python3",
      "display_name": "Python 3"
    },
    "language_info": {
      "name": "python"
    }
  },
  "cells": [
    {
      "cell_type": "markdown",
      "metadata": {
        "id": "view-in-github",
        "colab_type": "text"
      },
      "source": [
        "<a href=\"https://colab.research.google.com/github/ankesh86/PySparkNotebooks/blob/main/SupervisedML.ipynb\" target=\"_parent\"><img src=\"https://colab.research.google.com/assets/colab-badge.svg\" alt=\"Open In Colab\"/></a>"
      ]
    },
    {
      "cell_type": "code",
      "execution_count": 1,
      "metadata": {
        "colab": {
          "base_uri": "https://localhost:8080/"
        },
        "id": "yt5UL2qKcHrN",
        "outputId": "984740f8-151f-4ddd-d9a0-1168cb249ded"
      },
      "outputs": [
        {
          "output_type": "stream",
          "name": "stdout",
          "text": [
            "Requirement already satisfied: pyspark==3.4.0 in /usr/local/lib/python3.10/dist-packages (3.4.0)\n",
            "Requirement already satisfied: py4j==0.10.9.7 in /usr/local/lib/python3.10/dist-packages (from pyspark==3.4.0) (0.10.9.7)\n"
          ]
        }
      ],
      "source": [
        "!pip install pyspark==3.4.0"
      ]
    },
    {
      "cell_type": "markdown",
      "source": [
        "# Data Ingestion"
      ],
      "metadata": {
        "id": "FbS2zm7rcoy8"
      }
    },
    {
      "cell_type": "markdown",
      "source": [
        "## Step 1: Create Spark session object"
      ],
      "metadata": {
        "id": "94vc3S8ccs5a"
      }
    },
    {
      "cell_type": "code",
      "source": [
        "#Linear_regression_dataset.csv\n",
        "\n",
        "from pyspark.sql import SparkSession\n",
        "spark = SparkSession.builder.appName('supervised_ml').getOrCreate()"
      ],
      "metadata": {
        "id": "S8HHXl7VcTC4"
      },
      "execution_count": 2,
      "outputs": []
    },
    {
      "cell_type": "markdown",
      "source": [
        "## Step 2: Reading the Dataset"
      ],
      "metadata": {
        "id": "w4UBjRDadFR9"
      }
    },
    {
      "cell_type": "code",
      "source": [
        "df = spark.read.csv('sample_data/Linear_regression_dataset.csv', inferSchema=True, header=True)\n",
        "print((df.count(), len(df.columns)))"
      ],
      "metadata": {
        "colab": {
          "base_uri": "https://localhost:8080/"
        },
        "id": "S5CJPwUYdEX-",
        "outputId": "13ddf7d4-e73c-4078-ad42-2ac8a9bc5e4a"
      },
      "execution_count": 3,
      "outputs": [
        {
          "output_type": "stream",
          "name": "stdout",
          "text": [
            "(1232, 6)\n"
          ]
        }
      ]
    },
    {
      "cell_type": "code",
      "source": [
        "df.printSchema()"
      ],
      "metadata": {
        "colab": {
          "base_uri": "https://localhost:8080/"
        },
        "id": "a9SYvL4gdr3y",
        "outputId": "5f0b7ed3-a093-4a25-eb75-5a029247b6a4"
      },
      "execution_count": 4,
      "outputs": [
        {
          "output_type": "stream",
          "name": "stdout",
          "text": [
            "root\n",
            " |-- var_1: integer (nullable = true)\n",
            " |-- var_2: integer (nullable = true)\n",
            " |-- var_3: integer (nullable = true)\n",
            " |-- var_4: double (nullable = true)\n",
            " |-- var_5: double (nullable = true)\n",
            " |-- label: double (nullable = true)\n",
            "\n"
          ]
        }
      ]
    },
    {
      "cell_type": "code",
      "source": [
        "df.show(10)"
      ],
      "metadata": {
        "colab": {
          "base_uri": "https://localhost:8080/"
        },
        "id": "bSeoaRumeLI1",
        "outputId": "dbcb6339-3f5e-4833-d987-5742d4bbaa32"
      },
      "execution_count": 5,
      "outputs": [
        {
          "output_type": "stream",
          "name": "stdout",
          "text": [
            "+-----+-----+-----+-----+-----+-----+\n",
            "|var_1|var_2|var_3|var_4|var_5|label|\n",
            "+-----+-----+-----+-----+-----+-----+\n",
            "|  734|  688|   81|0.328|0.259|0.418|\n",
            "|  700|  600|   94| 0.32|0.247|0.389|\n",
            "|  712|  705|   93|0.311|0.247|0.417|\n",
            "|  734|  806|   69|0.315| 0.26|0.415|\n",
            "|  613|  759|   61|0.302| 0.24|0.378|\n",
            "|  748|  676|   85|0.318|0.255|0.422|\n",
            "|  669|  588|   97|0.315|0.251|0.411|\n",
            "|  667|  845|   68|0.324|0.251|0.381|\n",
            "|  758|  890|   64| 0.33|0.274|0.436|\n",
            "|  726|  670|   88|0.335|0.268|0.422|\n",
            "+-----+-----+-----+-----+-----+-----+\n",
            "only showing top 10 rows\n",
            "\n"
          ]
        }
      ]
    },
    {
      "cell_type": "markdown",
      "source": [
        "## Step 3: Feature Engineering"
      ],
      "metadata": {
        "id": "1fD_HzW8ekcB"
      }
    },
    {
      "cell_type": "code",
      "source": [
        "from pyspark.ml.linalg import Vector\n",
        "from pyspark.ml.feature import VectorAssembler\n",
        "\n",
        "df.columns"
      ],
      "metadata": {
        "colab": {
          "base_uri": "https://localhost:8080/"
        },
        "id": "NOOfBdRVeY50",
        "outputId": "561b41fe-4e2f-4359-d832-cc174f300906"
      },
      "execution_count": 6,
      "outputs": [
        {
          "output_type": "execute_result",
          "data": {
            "text/plain": [
              "['var_1', 'var_2', 'var_3', 'var_4', 'var_5', 'label']"
            ]
          },
          "metadata": {},
          "execution_count": 6
        }
      ]
    },
    {
      "cell_type": "code",
      "source": [
        "vec_assembler = VectorAssembler(inputCols=['var_1', 'var_2', 'var_3', 'var_4', 'var_5'], outputCol='features')\n",
        "df = vec_assembler.transform(df)\n"
      ],
      "metadata": {
        "id": "wjerCTAAfAdP"
      },
      "execution_count": 7,
      "outputs": []
    },
    {
      "cell_type": "code",
      "source": [
        "df.printSchema()"
      ],
      "metadata": {
        "colab": {
          "base_uri": "https://localhost:8080/"
        },
        "id": "VN9GiRjWfSgo",
        "outputId": "1853bee1-9bd3-4ce9-84e1-c9e62472f7da"
      },
      "execution_count": 8,
      "outputs": [
        {
          "output_type": "stream",
          "name": "stdout",
          "text": [
            "root\n",
            " |-- var_1: integer (nullable = true)\n",
            " |-- var_2: integer (nullable = true)\n",
            " |-- var_3: integer (nullable = true)\n",
            " |-- var_4: double (nullable = true)\n",
            " |-- var_5: double (nullable = true)\n",
            " |-- label: double (nullable = true)\n",
            " |-- features: vector (nullable = true)\n",
            "\n"
          ]
        }
      ]
    },
    {
      "cell_type": "code",
      "source": [
        "df.show(10)"
      ],
      "metadata": {
        "colab": {
          "base_uri": "https://localhost:8080/"
        },
        "id": "YzhCcC1KfZr8",
        "outputId": "903d2fe7-a69d-453c-f315-5ebd71f71ff3"
      },
      "execution_count": 9,
      "outputs": [
        {
          "output_type": "stream",
          "name": "stdout",
          "text": [
            "+-----+-----+-----+-----+-----+-----+--------------------+\n",
            "|var_1|var_2|var_3|var_4|var_5|label|            features|\n",
            "+-----+-----+-----+-----+-----+-----+--------------------+\n",
            "|  734|  688|   81|0.328|0.259|0.418|[734.0,688.0,81.0...|\n",
            "|  700|  600|   94| 0.32|0.247|0.389|[700.0,600.0,94.0...|\n",
            "|  712|  705|   93|0.311|0.247|0.417|[712.0,705.0,93.0...|\n",
            "|  734|  806|   69|0.315| 0.26|0.415|[734.0,806.0,69.0...|\n",
            "|  613|  759|   61|0.302| 0.24|0.378|[613.0,759.0,61.0...|\n",
            "|  748|  676|   85|0.318|0.255|0.422|[748.0,676.0,85.0...|\n",
            "|  669|  588|   97|0.315|0.251|0.411|[669.0,588.0,97.0...|\n",
            "|  667|  845|   68|0.324|0.251|0.381|[667.0,845.0,68.0...|\n",
            "|  758|  890|   64| 0.33|0.274|0.436|[758.0,890.0,64.0...|\n",
            "|  726|  670|   88|0.335|0.268|0.422|[726.0,670.0,88.0...|\n",
            "+-----+-----+-----+-----+-----+-----+--------------------+\n",
            "only showing top 10 rows\n",
            "\n"
          ]
        }
      ]
    },
    {
      "cell_type": "code",
      "source": [
        "df.select('features','label').show()"
      ],
      "metadata": {
        "colab": {
          "base_uri": "https://localhost:8080/"
        },
        "id": "btjV6INuf1Un",
        "outputId": "8015e2b9-ebf8-4b80-9b68-9df7dd1e4708"
      },
      "execution_count": 10,
      "outputs": [
        {
          "output_type": "stream",
          "name": "stdout",
          "text": [
            "+--------------------+-----+\n",
            "|            features|label|\n",
            "+--------------------+-----+\n",
            "|[734.0,688.0,81.0...|0.418|\n",
            "|[700.0,600.0,94.0...|0.389|\n",
            "|[712.0,705.0,93.0...|0.417|\n",
            "|[734.0,806.0,69.0...|0.415|\n",
            "|[613.0,759.0,61.0...|0.378|\n",
            "|[748.0,676.0,85.0...|0.422|\n",
            "|[669.0,588.0,97.0...|0.411|\n",
            "|[667.0,845.0,68.0...|0.381|\n",
            "|[758.0,890.0,64.0...|0.436|\n",
            "|[726.0,670.0,88.0...|0.422|\n",
            "|[583.0,794.0,55.0...|0.371|\n",
            "|[676.0,746.0,72.0...|  0.4|\n",
            "|[767.0,699.0,89.0...|0.433|\n",
            "|[637.0,597.0,86.0...|0.374|\n",
            "|[609.0,724.0,69.0...|0.382|\n",
            "|[776.0,733.0,83.0...|0.437|\n",
            "|[701.0,832.0,66.0...| 0.39|\n",
            "|[650.0,709.0,74.0...|0.386|\n",
            "|[804.0,668.0,95.0...|0.453|\n",
            "|[713.0,614.0,94.0...|0.404|\n",
            "+--------------------+-----+\n",
            "only showing top 20 rows\n",
            "\n"
          ]
        }
      ]
    },
    {
      "cell_type": "markdown",
      "source": [
        "## Step 4 : Splitting the Dataset"
      ],
      "metadata": {
        "id": "aChTO9gghenx"
      }
    },
    {
      "cell_type": "code",
      "source": [
        "train, test = df.randomSplit([0.75,0.25])\n",
        "print(f\"Size of train Dataset : {train.count()}\")\n",
        "print(f\"Size of test Dataset : {test.count()}\")"
      ],
      "metadata": {
        "colab": {
          "base_uri": "https://localhost:8080/"
        },
        "id": "yQZZ6XmGgbGG",
        "outputId": "b688df62-33ba-4b35-f6d6-b6e89a99dbe9"
      },
      "execution_count": 11,
      "outputs": [
        {
          "output_type": "stream",
          "name": "stdout",
          "text": [
            "Size of train Dataset : 925\n",
            "Size of test Dataset : 307\n"
          ]
        }
      ]
    },
    {
      "cell_type": "markdown",
      "source": [
        "## Step 5: Build and Train Linear Regression Model"
      ],
      "metadata": {
        "id": "uk9gnpJ_iTUc"
      }
    },
    {
      "cell_type": "code",
      "source": [
        "from pyspark.ml.regression import LinearRegression\n",
        "lr = LinearRegression()\n",
        "\n",
        "lr_model = lr.fit(train)\n",
        "\n",
        "prediction_df = lr_model.transform(test)\n",
        "prediction_df.show()"
      ],
      "metadata": {
        "colab": {
          "base_uri": "https://localhost:8080/"
        },
        "id": "kj_enrcxiLup",
        "outputId": "efd38296-6e59-40aa-cd06-904cbd785002"
      },
      "execution_count": 12,
      "outputs": [
        {
          "output_type": "stream",
          "name": "stdout",
          "text": [
            "+-----+-----+-----+-----+-----+-----+--------------------+-------------------+\n",
            "|var_1|var_2|var_3|var_4|var_5|label|            features|         prediction|\n",
            "+-----+-----+-----+-----+-----+-----+--------------------+-------------------+\n",
            "|  464|  640|   66|0.283| 0.22|0.301|[464.0,640.0,66.0...|0.31442967424014645|\n",
            "|  495|  752|   50|0.277|0.221|0.327|[495.0,752.0,50.0...| 0.3315164501121478|\n",
            "|  524|  665|   65|0.287|0.224|0.336|[524.0,665.0,65.0...|0.33510165720987023|\n",
            "|  528|  652|   71|  0.3| 0.23|0.319|[528.0,652.0,71.0...|0.33155867135522354|\n",
            "|  536|  531|   83|0.292|0.214|0.318|[536.0,531.0,83.0...|0.32836134694316266|\n",
            "|  541|  830|   60|0.302|0.229| 0.33|[541.0,830.0,60.0...|0.34093370751380425|\n",
            "|  550|  637|   76|0.288|0.223|0.326|[550.0,637.0,76.0...| 0.3436973657414395|\n",
            "|  562|  546|   79|0.299|0.237| 0.35|[562.0,546.0,79.0...| 0.3432457140166861|\n",
            "|  564|  648|   74|0.294|0.236|0.337|[564.0,648.0,74.0...| 0.3507577871333169|\n",
            "|  569|  544|   82|0.304| 0.24|0.343|[569.0,544.0,82.0...|0.34434878314339856|\n",
            "|  572|  646|   71|0.311|0.235|0.329|[572.0,646.0,71.0...|0.34146360381622354|\n",
            "|  574|  586|   81|0.297|0.237| 0.36|[574.0,586.0,81.0...| 0.3510259862227791|\n",
            "|  575|  680|   68|  0.3|0.241|0.344|[575.0,680.0,68.0...| 0.3533351942669095|\n",
            "|  575|  864|   55|  0.3|0.248|0.379|[575.0,864.0,55.0...|0.36315635802290336|\n",
            "|  578|  733|   62|0.299|0.231|0.348|[578.0,733.0,62.0...| 0.3517975994145861|\n",
            "|  579|  497|   91|0.304|0.225|0.352|[579.0,497.0,91.0...| 0.3403212908710359|\n",
            "|  582|  791|   52| 0.31| 0.24|0.359|[582.0,791.0,52.0...|0.35114870641330037|\n",
            "|  583|  472|   97|0.298|0.249|0.346|[583.0,472.0,97.0...|0.35655832707398954|\n",
            "|  583|  532|   80|0.306|0.252|0.343|[583.0,532.0,80.0...| 0.3523264062064868|\n",
            "|  583|  794|   55|0.302|0.236|0.371|[583.0,794.0,55.0...|0.35551032443335195|\n",
            "+-----+-----+-----+-----+-----+-----+--------------------+-------------------+\n",
            "only showing top 20 rows\n",
            "\n"
          ]
        }
      ]
    },
    {
      "cell_type": "markdown",
      "source": [
        "## Step 6: Evaluate Linear Regression Model"
      ],
      "metadata": {
        "id": "q-P5vsoSkAYJ"
      }
    },
    {
      "cell_type": "code",
      "source": [
        "model_predictions = lr_model.evaluate(test)\n",
        "model_predictions.r2"
      ],
      "metadata": {
        "colab": {
          "base_uri": "https://localhost:8080/"
        },
        "id": "H8ylmf0si8ay",
        "outputId": "48d66363-30d6-4ca0-82a2-1ffef1d024d8"
      },
      "execution_count": 13,
      "outputs": [
        {
          "output_type": "execute_result",
          "data": {
            "text/plain": [
              "0.8429815213039082"
            ]
          },
          "metadata": {},
          "execution_count": 13
        }
      ]
    },
    {
      "cell_type": "code",
      "source": [
        "print(model_predictions.meanSquaredError)"
      ],
      "metadata": {
        "colab": {
          "base_uri": "https://localhost:8080/"
        },
        "id": "sRiw1yEukOt2",
        "outputId": "f9463135-1db9-4efd-d982-495cf475ba22"
      },
      "execution_count": 14,
      "outputs": [
        {
          "output_type": "stream",
          "name": "stdout",
          "text": [
            "0.00016146328999830253\n"
          ]
        }
      ]
    },
    {
      "cell_type": "code",
      "source": [
        "from pyspark.ml.evaluation import RegressionEvaluator\n",
        "\n",
        "# Fit the model\n",
        "lr_model = lr.fit(train)\n",
        "\n",
        "# Make predictions\n",
        "prediction_df = lr_model.transform(test)\n",
        "\n",
        "# Show predictions\n",
        "prediction_df.select(\"features\", \"label\", \"prediction\").show()\n",
        "\n",
        "# Evaluate the model\n",
        "evaluator = RegressionEvaluator(labelCol=\"label\", predictionCol=\"prediction\", metricName=\"rmse\")\n",
        "\n",
        "# Calculate RMSE (Root Mean Squared Error)\n",
        "rmse = evaluator.evaluate(prediction_df)\n",
        "print(\"Root Mean Squared Error (RMSE) on test data = %g\" % rmse)\n",
        "\n",
        "# You can change the metricName to \"r2\", \"mae\", etc., to evaluate those as well\n",
        "r2 = evaluator.evaluate(prediction_df, {evaluator.metricName: \"r2\"})\n",
        "print(\"R-squared (R2) on test data = %g\" % r2)\n"
      ],
      "metadata": {
        "colab": {
          "base_uri": "https://localhost:8080/"
        },
        "id": "fKvTLMHhk4TQ",
        "outputId": "3c39f17c-9c7e-47f6-8b2d-2818e133ddb4"
      },
      "execution_count": 15,
      "outputs": [
        {
          "output_type": "stream",
          "name": "stdout",
          "text": [
            "+--------------------+-----+-------------------+\n",
            "|            features|label|         prediction|\n",
            "+--------------------+-----+-------------------+\n",
            "|[464.0,640.0,66.0...|0.301|0.31442967424014645|\n",
            "|[495.0,752.0,50.0...|0.327| 0.3315164501121478|\n",
            "|[524.0,665.0,65.0...|0.336|0.33510165720987023|\n",
            "|[528.0,652.0,71.0...|0.319|0.33155867135522354|\n",
            "|[536.0,531.0,83.0...|0.318|0.32836134694316266|\n",
            "|[541.0,830.0,60.0...| 0.33|0.34093370751380425|\n",
            "|[550.0,637.0,76.0...|0.326| 0.3436973657414395|\n",
            "|[562.0,546.0,79.0...| 0.35| 0.3432457140166861|\n",
            "|[564.0,648.0,74.0...|0.337| 0.3507577871333169|\n",
            "|[569.0,544.0,82.0...|0.343|0.34434878314339856|\n",
            "|[572.0,646.0,71.0...|0.329|0.34146360381622354|\n",
            "|[574.0,586.0,81.0...| 0.36| 0.3510259862227791|\n",
            "|[575.0,680.0,68.0...|0.344| 0.3533351942669095|\n",
            "|[575.0,864.0,55.0...|0.379|0.36315635802290336|\n",
            "|[578.0,733.0,62.0...|0.348| 0.3517975994145861|\n",
            "|[579.0,497.0,91.0...|0.352| 0.3403212908710359|\n",
            "|[582.0,791.0,52.0...|0.359|0.35114870641330037|\n",
            "|[583.0,472.0,97.0...|0.346|0.35655832707398954|\n",
            "|[583.0,532.0,80.0...|0.343| 0.3523264062064868|\n",
            "|[583.0,794.0,55.0...|0.371|0.35551032443335195|\n",
            "+--------------------+-----+-------------------+\n",
            "only showing top 20 rows\n",
            "\n",
            "Root Mean Squared Error (RMSE) on test data = 0.0127068\n",
            "R-squared (R2) on test data = 0.842982\n"
          ]
        }
      ]
    },
    {
      "cell_type": "markdown",
      "source": [
        "# **Generalized Linear Model Regression**"
      ],
      "metadata": {
        "id": "WYX2zK8OmeBy"
      }
    },
    {
      "cell_type": "markdown",
      "source": [
        "## Step 1: Build and Train Generalized Linear Regression Model"
      ],
      "metadata": {
        "id": "wsQL5CUAnnLN"
      }
    },
    {
      "cell_type": "code",
      "source": [
        "from pyspark.ml.regression import GeneralizedLinearRegression\n",
        "glr = GeneralizedLinearRegression()\n",
        "glr_model = glr.fit(train)\n",
        "\n",
        "glr_model.coefficients"
      ],
      "metadata": {
        "colab": {
          "base_uri": "https://localhost:8080/"
        },
        "id": "iW6w0LohmWTP",
        "outputId": "9f2cd4ed-c9a6-419e-e059-28e862a61367"
      },
      "execution_count": 16,
      "outputs": [
        {
          "output_type": "execute_result",
          "data": {
            "text/plain": [
              "DenseVector([0.0003, 0.0001, 0.0002, -0.6359, 0.4614])"
            ]
          },
          "metadata": {},
          "execution_count": 16
        }
      ]
    },
    {
      "cell_type": "code",
      "source": [
        "glr_model.summary"
      ],
      "metadata": {
        "colab": {
          "base_uri": "https://localhost:8080/"
        },
        "id": "V9SCYWmMoOlz",
        "outputId": "dcc69a3a-1ba4-4465-f370-ac9074fa06e3"
      },
      "execution_count": 17,
      "outputs": [
        {
          "output_type": "execute_result",
          "data": {
            "text/plain": [
              "Coefficients:\n",
              "    Feature Estimate Std Error T Value P Value\n",
              "(Intercept)   0.1895    0.0165 11.5012  0.0000\n",
              "      var_1   0.0003    0.0000 23.1154  0.0000\n",
              "      var_2   0.0001    0.0000  4.5082  0.0000\n",
              "      var_3   0.0002    0.0001  2.1354  0.0330\n",
              "      var_4  -0.6359    0.0681 -9.3311  0.0000\n",
              "      var_5   0.4614    0.0616  7.4916  0.0000\n",
              "\n",
              "(Dispersion parameter for gaussian family taken to be 0.0001)\n",
              "    Null deviance: 1.0456 on 919 degrees of freedom\n",
              "Residual deviance: 0.1291 on 919 degrees of freedom\n",
              "AIC: -5572.3463"
            ]
          },
          "metadata": {},
          "execution_count": 17
        }
      ]
    },
    {
      "cell_type": "markdown",
      "source": [
        "## Step 2: Evaluate the Model Performance on Test Data"
      ],
      "metadata": {
        "id": "_qX0wlKwrPOd"
      }
    },
    {
      "cell_type": "code",
      "source": [
        "model_predictions = glr_model.evaluate(test)\n",
        "model_predictions.predictions.show()"
      ],
      "metadata": {
        "colab": {
          "base_uri": "https://localhost:8080/"
        },
        "id": "ohhpwFz_qyte",
        "outputId": "1a00e0dd-626b-4dbb-d11b-526a38e4912b"
      },
      "execution_count": 18,
      "outputs": [
        {
          "output_type": "stream",
          "name": "stdout",
          "text": [
            "+-----+-----+-----+-----+-----+-----+--------------------+-------------------+\n",
            "|var_1|var_2|var_3|var_4|var_5|label|            features|         prediction|\n",
            "+-----+-----+-----+-----+-----+-----+--------------------+-------------------+\n",
            "|  464|  640|   66|0.283| 0.22|0.301|[464.0,640.0,66.0...|0.31442967424014645|\n",
            "|  495|  752|   50|0.277|0.221|0.327|[495.0,752.0,50.0...| 0.3315164501121478|\n",
            "|  524|  665|   65|0.287|0.224|0.336|[524.0,665.0,65.0...|0.33510165720987023|\n",
            "|  528|  652|   71|  0.3| 0.23|0.319|[528.0,652.0,71.0...|0.33155867135522354|\n",
            "|  536|  531|   83|0.292|0.214|0.318|[536.0,531.0,83.0...|0.32836134694316266|\n",
            "|  541|  830|   60|0.302|0.229| 0.33|[541.0,830.0,60.0...|0.34093370751380425|\n",
            "|  550|  637|   76|0.288|0.223|0.326|[550.0,637.0,76.0...| 0.3436973657414395|\n",
            "|  562|  546|   79|0.299|0.237| 0.35|[562.0,546.0,79.0...| 0.3432457140166861|\n",
            "|  564|  648|   74|0.294|0.236|0.337|[564.0,648.0,74.0...| 0.3507577871333169|\n",
            "|  569|  544|   82|0.304| 0.24|0.343|[569.0,544.0,82.0...|0.34434878314339856|\n",
            "|  572|  646|   71|0.311|0.235|0.329|[572.0,646.0,71.0...|0.34146360381622354|\n",
            "|  574|  586|   81|0.297|0.237| 0.36|[574.0,586.0,81.0...| 0.3510259862227791|\n",
            "|  575|  680|   68|  0.3|0.241|0.344|[575.0,680.0,68.0...| 0.3533351942669095|\n",
            "|  575|  864|   55|  0.3|0.248|0.379|[575.0,864.0,55.0...|0.36315635802290336|\n",
            "|  578|  733|   62|0.299|0.231|0.348|[578.0,733.0,62.0...| 0.3517975994145861|\n",
            "|  579|  497|   91|0.304|0.225|0.352|[579.0,497.0,91.0...| 0.3403212908710359|\n",
            "|  582|  791|   52| 0.31| 0.24|0.359|[582.0,791.0,52.0...|0.35114870641330037|\n",
            "|  583|  472|   97|0.298|0.249|0.346|[583.0,472.0,97.0...|0.35655832707398954|\n",
            "|  583|  532|   80|0.306|0.252|0.343|[583.0,532.0,80.0...| 0.3523264062064868|\n",
            "|  583|  794|   55|0.302|0.236|0.371|[583.0,794.0,55.0...|0.35551032443335195|\n",
            "+-----+-----+-----+-----+-----+-----+--------------------+-------------------+\n",
            "only showing top 20 rows\n",
            "\n"
          ]
        }
      ]
    },
    {
      "cell_type": "code",
      "source": [
        "model_predictions.aic"
      ],
      "metadata": {
        "colab": {
          "base_uri": "https://localhost:8080/"
        },
        "id": "CkAsDwkUrdPe",
        "outputId": "9f122306-410b-4987-c017-2227b734672f"
      },
      "execution_count": 19,
      "outputs": [
        {
          "output_type": "execute_result",
          "data": {
            "text/plain": [
              "-1795.2601941413911"
            ]
          },
          "metadata": {},
          "execution_count": 19
        }
      ]
    },
    {
      "cell_type": "code",
      "source": [
        "glr = GeneralizedLinearRegression(family='Binomial')\n",
        "glr_model = glr.fit(train)\n",
        "model_predictions=glr_model.evaluate(test)\n",
        "model_predictions.aic"
      ],
      "metadata": {
        "colab": {
          "base_uri": "https://localhost:8080/"
        },
        "id": "qR-ynj26rnOU",
        "outputId": "da5e36de-184e-4800-d5cd-1fc905228055"
      },
      "execution_count": 20,
      "outputs": [
        {
          "output_type": "execute_result",
          "data": {
            "text/plain": [
              "323.4966699963205"
            ]
          },
          "metadata": {},
          "execution_count": 20
        }
      ]
    },
    {
      "cell_type": "code",
      "source": [
        "glr = GeneralizedLinearRegression(family='Poisson')\n",
        "glr_model = glr.fit(train)\n",
        "model_predictions=glr_model.evaluate(test)\n",
        "model_predictions.aic"
      ],
      "metadata": {
        "colab": {
          "base_uri": "https://localhost:8080/"
        },
        "id": "aGSzY4ykrz9W",
        "outputId": "81c1faee-773d-40d3-8659-8af7772cb4f8"
      },
      "execution_count": 21,
      "outputs": [
        {
          "output_type": "execute_result",
          "data": {
            "text/plain": [
              "255.80829061307116"
            ]
          },
          "metadata": {},
          "execution_count": 21
        }
      ]
    },
    {
      "cell_type": "code",
      "source": [
        "glr = GeneralizedLinearRegression(family='Gamma')\n",
        "glr_model = glr.fit(train)\n",
        "model_predictions=glr_model.evaluate(test)\n",
        "model_predictions.aic"
      ],
      "metadata": {
        "colab": {
          "base_uri": "https://localhost:8080/"
        },
        "id": "q6KanvRdr2jO",
        "outputId": "06717c95-907f-4ff1-89a7-ebfa7e6eaef4"
      },
      "execution_count": 22,
      "outputs": [
        {
          "output_type": "execute_result",
          "data": {
            "text/plain": [
              "-1759.4673967706617"
            ]
          },
          "metadata": {},
          "execution_count": 22
        }
      ]
    },
    {
      "cell_type": "code",
      "source": [
        "glr = GeneralizedLinearRegression(family='Tweedie')\n",
        "glr_model = glr.fit(train)\n",
        "model_predictions=glr_model.evaluate(test)\n",
        "model_predictions.aic"
      ],
      "metadata": {
        "colab": {
          "base_uri": "https://localhost:8080/"
        },
        "id": "vcHV4i7Cr5TQ",
        "outputId": "2f3eb00e-d018-4b01-fd81-628cdd986139"
      },
      "execution_count": 23,
      "outputs": [
        {
          "output_type": "execute_result",
          "data": {
            "text/plain": [
              "-1795.2601941413911"
            ]
          },
          "metadata": {},
          "execution_count": 23
        }
      ]
    },
    {
      "cell_type": "markdown",
      "source": [
        "# **Decision Tree Regression**"
      ],
      "metadata": {
        "id": "GIGrxMJvsApc"
      }
    },
    {
      "cell_type": "markdown",
      "source": [
        "## Step 1: Build and Train Decision Tree Regressors Model"
      ],
      "metadata": {
        "id": "1kCTJK7SujKD"
      }
    },
    {
      "cell_type": "code",
      "source": [
        "from pyspark.ml.regression import DecisionTreeRegressor\n",
        "dec_tree = DecisionTreeRegressor()\n",
        "\n",
        "dec_tree_model = dec_tree.fit(train)\n",
        "dec_tree_model.featureImportances"
      ],
      "metadata": {
        "colab": {
          "base_uri": "https://localhost:8080/"
        },
        "id": "z8n4XVK3r8E9",
        "outputId": "b04c78e6-aa47-4528-f73d-4f876ccbc9e9"
      },
      "execution_count": 24,
      "outputs": [
        {
          "output_type": "execute_result",
          "data": {
            "text/plain": [
              "SparseVector(5, {0: 0.9749, 1: 0.013, 2: 0.0008, 3: 0.0012, 4: 0.01})"
            ]
          },
          "metadata": {},
          "execution_count": 24
        }
      ]
    },
    {
      "cell_type": "markdown",
      "source": [
        "## Step 2: Evaluate the Model Performance on Test Data"
      ],
      "metadata": {
        "id": "k1PKp7exw_rC"
      }
    },
    {
      "cell_type": "code",
      "source": [
        "model_predictions = dec_tree_model.transform(test)\n",
        "model_predictions.show()"
      ],
      "metadata": {
        "colab": {
          "base_uri": "https://localhost:8080/"
        },
        "id": "GpE_k1rUvLcc",
        "outputId": "f41083ad-ef1c-43e5-db24-838e96ef9e35"
      },
      "execution_count": 25,
      "outputs": [
        {
          "output_type": "stream",
          "name": "stdout",
          "text": [
            "+-----+-----+-----+-----+-----+-----+--------------------+-------------------+\n",
            "|var_1|var_2|var_3|var_4|var_5|label|            features|         prediction|\n",
            "+-----+-----+-----+-----+-----+-----+--------------------+-------------------+\n",
            "|  464|  640|   66|0.283| 0.22|0.301|[464.0,640.0,66.0...|0.32416666666666666|\n",
            "|  495|  752|   50|0.277|0.221|0.327|[495.0,752.0,50.0...|0.32416666666666666|\n",
            "|  524|  665|   65|0.287|0.224|0.336|[524.0,665.0,65.0...|0.32416666666666666|\n",
            "|  528|  652|   71|  0.3| 0.23|0.319|[528.0,652.0,71.0...|0.32416666666666666|\n",
            "|  536|  531|   83|0.292|0.214|0.318|[536.0,531.0,83.0...|             0.3184|\n",
            "|  541|  830|   60|0.302|0.229| 0.33|[541.0,830.0,60.0...|0.32416666666666666|\n",
            "|  550|  637|   76|0.288|0.223|0.326|[550.0,637.0,76.0...|0.34888709677419355|\n",
            "|  562|  546|   79|0.299|0.237| 0.35|[562.0,546.0,79.0...|0.34888709677419355|\n",
            "|  564|  648|   74|0.294|0.236|0.337|[564.0,648.0,74.0...|0.34888709677419355|\n",
            "|  569|  544|   82|0.304| 0.24|0.343|[569.0,544.0,82.0...|0.34888709677419355|\n",
            "|  572|  646|   71|0.311|0.235|0.329|[572.0,646.0,71.0...|0.34888709677419355|\n",
            "|  574|  586|   81|0.297|0.237| 0.36|[574.0,586.0,81.0...|0.34888709677419355|\n",
            "|  575|  680|   68|  0.3|0.241|0.344|[575.0,680.0,68.0...|0.34888709677419355|\n",
            "|  575|  864|   55|  0.3|0.248|0.379|[575.0,864.0,55.0...| 0.3565416666666666|\n",
            "|  578|  733|   62|0.299|0.231|0.348|[578.0,733.0,62.0...|0.34888709677419355|\n",
            "|  579|  497|   91|0.304|0.225|0.352|[579.0,497.0,91.0...|0.34888709677419355|\n",
            "|  582|  791|   52| 0.31| 0.24|0.359|[582.0,791.0,52.0...|0.34888709677419355|\n",
            "|  583|  472|   97|0.298|0.249|0.346|[583.0,472.0,97.0...| 0.3565416666666666|\n",
            "|  583|  532|   80|0.306|0.252|0.343|[583.0,532.0,80.0...| 0.3565416666666666|\n",
            "|  583|  794|   55|0.302|0.236|0.371|[583.0,794.0,55.0...|0.34888709677419355|\n",
            "+-----+-----+-----+-----+-----+-----+--------------------+-------------------+\n",
            "only showing top 20 rows\n",
            "\n"
          ]
        }
      ]
    },
    {
      "cell_type": "code",
      "source": [
        "from pyspark.ml.evaluation import RegressionEvaluator\n",
        "dt_evaluator = RegressionEvaluator(metricName='r2')\n",
        "dt_r2 = dt_evaluator.evaluate(model_predictions)\n",
        "print(f'The r-square of DecisionTreeRegressor is {dt_r2}')\n",
        "\n",
        "dt_evaluator = RegressionEvaluator(metricName='rmse')\n",
        "dt_rmse = dt_evaluator.evaluate(model_predictions)\n",
        "print(f'The rmse value of DecisionTreeRegressor is {dt_rmse}')\n"
      ],
      "metadata": {
        "colab": {
          "base_uri": "https://localhost:8080/"
        },
        "id": "zCItdEdwxQJE",
        "outputId": "3896a158-cc71-401a-eaa4-d5567d1358f6"
      },
      "execution_count": 26,
      "outputs": [
        {
          "output_type": "stream",
          "name": "stdout",
          "text": [
            "The r-square of DecisionTreeRegressor is 0.7986831505803058\n",
            "The rmse value of DecisionTreeRegressor is 0.01438803808288434\n"
          ]
        }
      ]
    },
    {
      "cell_type": "code",
      "source": [],
      "metadata": {
        "id": "bYiWqoFEzNza"
      },
      "execution_count": null,
      "outputs": []
    }
  ]
}
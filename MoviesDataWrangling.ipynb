{
  "nbformat": 4,
  "nbformat_minor": 0,
  "metadata": {
    "colab": {
      "provenance": [],
      "authorship_tag": "ABX9TyPIVRtUGMjcs2xm18gRjcXc",
      "include_colab_link": true
    },
    "kernelspec": {
      "name": "python3",
      "display_name": "Python 3"
    },
    "language_info": {
      "name": "python"
    }
  },
  "cells": [
    {
      "cell_type": "markdown",
      "metadata": {
        "id": "view-in-github",
        "colab_type": "text"
      },
      "source": [
        "<a href=\"https://colab.research.google.com/github/ankesh86/PySparkNotebooks/blob/main/MoviesDataWrangling.ipynb\" target=\"_parent\"><img src=\"https://colab.research.google.com/assets/colab-badge.svg\" alt=\"Open In Colab\"/></a>"
      ]
    },
    {
      "cell_type": "code",
      "execution_count": 1,
      "metadata": {
        "id": "uC1u6H8bWyh6",
        "colab": {
          "base_uri": "https://localhost:8080/"
        },
        "outputId": "d09800bd-da47-4549-accd-1a89ee3fbb35"
      },
      "outputs": [
        {
          "output_type": "stream",
          "name": "stdout",
          "text": [
            "Collecting pyspark==3.4.0\n",
            "  Downloading pyspark-3.4.0.tar.gz (310.8 MB)\n",
            "\u001b[2K     \u001b[90m━━━━━━━━━━━━━━━━━━━━━━━━━━━━━━━━━━━━━━━━\u001b[0m \u001b[32m310.8/310.8 MB\u001b[0m \u001b[31m4.2 MB/s\u001b[0m eta \u001b[36m0:00:00\u001b[0m\n",
            "\u001b[?25h  Preparing metadata (setup.py) ... \u001b[?25l\u001b[?25hdone\n",
            "Requirement already satisfied: py4j==0.10.9.7 in /usr/local/lib/python3.10/dist-packages (from pyspark==3.4.0) (0.10.9.7)\n",
            "Building wheels for collected packages: pyspark\n",
            "  Building wheel for pyspark (setup.py) ... \u001b[?25l\u001b[?25hdone\n",
            "  Created wheel for pyspark: filename=pyspark-3.4.0-py2.py3-none-any.whl size=311317122 sha256=96afdf169ebd3213ca0f6fef10a75f5aebf57fc3b6dbda3acaecf477341ade94\n",
            "  Stored in directory: /root/.cache/pip/wheels/7b/1b/4b/3363a1d04368e7ff0d408e57ff57966fcdf00583774e761327\n",
            "Successfully built pyspark\n",
            "Installing collected packages: pyspark\n",
            "Successfully installed pyspark-3.4.0\n"
          ]
        }
      ],
      "source": [
        "!pip install pyspark==3.4.0"
      ]
    },
    {
      "cell_type": "code",
      "source": [
        "from pyspark.sql import SparkSession\n",
        "spark = SparkSession.builder.appName(\"Data_Wrangling\").getOrCreate()"
      ],
      "metadata": {
        "id": "AQr5AZBRW9_Q"
      },
      "execution_count": 2,
      "outputs": []
    },
    {
      "cell_type": "code",
      "source": [
        "#reading data from file\n",
        "file_loc = \"sample_data/movie_data_part1.csv\"\n",
        "file_typ = \"csv\"\n",
        "infer_Schema = \"False\"\n",
        "first_row_is_header = \"True\"\n",
        "delimiter = \"|\""
      ],
      "metadata": {
        "id": "UcjAMvklX1D4"
      },
      "execution_count": 3,
      "outputs": []
    },
    {
      "cell_type": "code",
      "source": [
        "df = spark.read.format(file_typ).option(\"inferSchema\",infer_Schema).option(\"header\",first_row_is_header).option(\"sep\",delimiter).load(file_loc)"
      ],
      "metadata": {
        "id": "xEgrkvBIYY_Z"
      },
      "execution_count": 4,
      "outputs": []
    },
    {
      "cell_type": "code",
      "source": [
        "df.printSchema()"
      ],
      "metadata": {
        "colab": {
          "base_uri": "https://localhost:8080/"
        },
        "id": "3YhFUU1VY7hH",
        "outputId": "2eb793ba-4cfc-4c93-a078-fbfaa5e3b28c"
      },
      "execution_count": 5,
      "outputs": [
        {
          "output_type": "stream",
          "name": "stdout",
          "text": [
            "root\n",
            " |-- belongs_to_collection: string (nullable = true)\n",
            " |-- budget: string (nullable = true)\n",
            " |-- id: string (nullable = true)\n",
            " |-- original_language: string (nullable = true)\n",
            " |-- original_title: string (nullable = true)\n",
            " |-- overview: string (nullable = true)\n",
            " |-- popularity: string (nullable = true)\n",
            " |-- production_companies: string (nullable = true)\n",
            " |-- production_countries: string (nullable = true)\n",
            " |-- release_date: string (nullable = true)\n",
            " |-- revenue: string (nullable = true)\n",
            " |-- runtime: string (nullable = true)\n",
            " |-- status: string (nullable = true)\n",
            " |-- tagline: string (nullable = true)\n",
            " |-- title: string (nullable = true)\n",
            " |-- vote_average: string (nullable = true)\n",
            "\n"
          ]
        }
      ]
    },
    {
      "cell_type": "code",
      "source": [
        "df.dtypes"
      ],
      "metadata": {
        "colab": {
          "base_uri": "https://localhost:8080/"
        },
        "id": "dByCiiktZTgW",
        "outputId": "aee182fc-70b3-4195-8d2c-6f775c3ca5b9"
      },
      "execution_count": 6,
      "outputs": [
        {
          "output_type": "execute_result",
          "data": {
            "text/plain": [
              "[('belongs_to_collection', 'string'),\n",
              " ('budget', 'string'),\n",
              " ('id', 'string'),\n",
              " ('original_language', 'string'),\n",
              " ('original_title', 'string'),\n",
              " ('overview', 'string'),\n",
              " ('popularity', 'string'),\n",
              " ('production_companies', 'string'),\n",
              " ('production_countries', 'string'),\n",
              " ('release_date', 'string'),\n",
              " ('revenue', 'string'),\n",
              " ('runtime', 'string'),\n",
              " ('status', 'string'),\n",
              " ('tagline', 'string'),\n",
              " ('title', 'string'),\n",
              " ('vote_average', 'string')]"
            ]
          },
          "metadata": {},
          "execution_count": 6
        }
      ]
    },
    {
      "cell_type": "code",
      "source": [
        "df.count()"
      ],
      "metadata": {
        "colab": {
          "base_uri": "https://localhost:8080/"
        },
        "id": "dJjvGGZ7ZqE-",
        "outputId": "e8ba3d61-714a-4a68-c651-35d36b052e04"
      },
      "execution_count": 7,
      "outputs": [
        {
          "output_type": "execute_result",
          "data": {
            "text/plain": [
              "43998"
            ]
          },
          "metadata": {},
          "execution_count": 7
        }
      ]
    },
    {
      "cell_type": "code",
      "source": [
        "select_col = [\"id\",\"budget\",\"popularity\",\"release_date\",\"revenue\",\"title\"]\n",
        "df = df.select(*select_col)\n",
        "df.show()"
      ],
      "metadata": {
        "colab": {
          "base_uri": "https://localhost:8080/"
        },
        "id": "Fg2lB5nqZ3Ax",
        "outputId": "89607067-fbfa-401d-d350-2e7bca783e38"
      },
      "execution_count": 8,
      "outputs": [
        {
          "output_type": "stream",
          "name": "stdout",
          "text": [
            "+-----+-------+------------------+------------+-------+--------------------+\n",
            "|   id| budget|        popularity|release_date|revenue|               title|\n",
            "+-----+-------+------------------+------------+-------+--------------------+\n",
            "|43000|      0|             2.503|  1962-05-23|      0|The Elusive Corporal|\n",
            "|43001|      0|              5.51|  1962-11-12|      0|  Sundays and Cybele|\n",
            "|43002|      0|              5.62|  1962-05-24|      0|Lonely Are the Brave|\n",
            "|43003|      0|             7.159|  1975-03-12|      0|          F for Fake|\n",
            "|43004| 500000|             3.988|  1962-10-09|      0|Long Day's Journe...|\n",
            "|43006|      0|             3.194|  1962-03-09|      0|           My Geisha|\n",
            "|43007|      0|             2.689|  1962-10-31|      0|Period of Adjustment|\n",
            "|43008|      0|             6.537|  1959-03-13|      0|    The Hanging Tree|\n",
            "|43010|      0|             4.297|  1962-01-01|      0|Sherlock Holmes a...|\n",
            "|43011|      0|             4.417|  1962-01-01|      0|  Sodom and Gomorrah|\n",
            "|43012|7000000|4.7219999999999995|  1962-11-21|4000000|         Taras Bulba|\n",
            "|43013|      0|             2.543|  1962-04-17|      0|The Counterfeit T...|\n",
            "|43014|      0|             4.303|  1962-10-24|      0|     Tower of London|\n",
            "|43015|      0|             3.493|  1962-12-07|      0|Varan the Unbelie...|\n",
            "|43016|      0|             2.851|  1962-01-01|      0|Waltz of the Tore...|\n",
            "|43017|      0|             4.047|  1961-10-11|      0|         Back Street|\n",
            "|43018|      0|             2.661|  1961-06-02|      0|Gidget Goes Hawaiian|\n",
            "|43019|      0|             3.225|  2010-05-28|      0|Schuks Tshabalala...|\n",
            "|43020|      0|              5.72|  1961-06-15|      0|The Colossus of R...|\n",
            "|43021|      0|             3.292|  2008-08-22|      0|          Sex Galaxy|\n",
            "+-----+-------+------------------+------------+-------+--------------------+\n",
            "only showing top 20 rows\n",
            "\n"
          ]
        }
      ]
    },
    {
      "cell_type": "code",
      "source": [
        "# missing values\n",
        "from pyspark.sql.functions import *\n",
        "df.filter((df['popularity']=='')|(df['popularity'].isNull())|isnan(df['popularity'])).count()"
      ],
      "metadata": {
        "colab": {
          "base_uri": "https://localhost:8080/"
        },
        "id": "Q4YJGvbfadvq",
        "outputId": "ab538a87-b67c-4986-8ca8-d5aecad781a7"
      },
      "execution_count": 9,
      "outputs": [
        {
          "output_type": "execute_result",
          "data": {
            "text/plain": [
              "215"
            ]
          },
          "metadata": {},
          "execution_count": 9
        }
      ]
    },
    {
      "cell_type": "code",
      "source": [
        "# all null values\n",
        "df.select([count(when((col(c)=='') | col(c).isNull() |isnan(c), c)).alias(c) for c in df.columns]).show()"
      ],
      "metadata": {
        "colab": {
          "base_uri": "https://localhost:8080/"
        },
        "id": "d8JoD5_fbYfI",
        "outputId": "d7f3b33b-dbb9-410f-9744-c2d0b7bfeadd"
      },
      "execution_count": 10,
      "outputs": [
        {
          "output_type": "stream",
          "name": "stdout",
          "text": [
            "+---+------+----------+------------+-------+-----+\n",
            "| id|budget|popularity|release_date|revenue|title|\n",
            "+---+------+----------+------------+-------+-----+\n",
            "|125|   125|       215|         221|    215|  304|\n",
            "+---+------+----------+------------+-------+-----+\n",
            "\n"
          ]
        }
      ]
    },
    {
      "cell_type": "markdown",
      "source": [
        "### count/ frequesncies"
      ],
      "metadata": {
        "id": "qSOCS0ijHdqo"
      }
    },
    {
      "cell_type": "code",
      "source": [
        "df.groupBy(df['title']).count().show()"
      ],
      "metadata": {
        "id": "BCggqU5RcfKK",
        "colab": {
          "base_uri": "https://localhost:8080/"
        },
        "outputId": "bd8f9d54-4376-4e60-f2ad-c21acaf7750c"
      },
      "execution_count": 11,
      "outputs": [
        {
          "output_type": "stream",
          "name": "stdout",
          "text": [
            "+--------------------+-----+\n",
            "|               title|count|\n",
            "+--------------------+-----+\n",
            "|   The Corn Is Green|    1|\n",
            "|Meet The Browns -...|    1|\n",
            "|Morenita, El Esca...|    1|\n",
            "| Father Takes a Wife|    1|\n",
            "|The Werewolf of W...|    1|\n",
            "|My Wife Is a Gang...|    1|\n",
            "|Depeche Mode: Tou...|    1|\n",
            "|  A Woman Is a Woman|    1|\n",
            "|History Is Made a...|    1|\n",
            "|      Colombian Love|    1|\n",
            "|        Ace Attorney|    1|\n",
            "|     Not Like Others|    1|\n",
            "|40 Guns to Apache...|    1|\n",
            "|          Middle Men|    1|\n",
            "|         It's a Gift|    1|\n",
            "|    La Vie de Bohème|    1|\n",
            "|Rasputin: The Mad...|    1|\n",
            "|The Ballad of Jac...|    1|\n",
            "|         How to Deal|    1|\n",
            "|             Freaked|    1|\n",
            "+--------------------+-----+\n",
            "only showing top 20 rows\n",
            "\n"
          ]
        }
      ]
    },
    {
      "cell_type": "code",
      "source": [
        "df.groupBy(df['title']).count().sort(desc(\"count\")).show(10,False)"
      ],
      "metadata": {
        "colab": {
          "base_uri": "https://localhost:8080/"
        },
        "id": "ZHq8T6m1HmGk",
        "outputId": "7c58e750-e359-4ff4-b6ca-27d6a5ce6224"
      },
      "execution_count": 12,
      "outputs": [
        {
          "output_type": "stream",
          "name": "stdout",
          "text": [
            "+--------------------+-----+\n",
            "|title               |count|\n",
            "+--------------------+-----+\n",
            "|null                |304  |\n",
            "|Les Misérables      |8    |\n",
            "|The Three Musketeers|8    |\n",
            "|Cinderella          |8    |\n",
            "|A Christmas Carol   |7    |\n",
            "|The Island          |7    |\n",
            "|Dracula             |7    |\n",
            "|Hamlet              |7    |\n",
            "|Frankenstein        |7    |\n",
            "|Cleopatra           |6    |\n",
            "+--------------------+-----+\n",
            "only showing top 10 rows\n",
            "\n"
          ]
        }
      ]
    },
    {
      "cell_type": "markdown",
      "source": [
        "Sorting and filter"
      ],
      "metadata": {
        "id": "W-ZZzENaH4ef"
      }
    },
    {
      "cell_type": "code",
      "source": [
        "df_temp = df.filter((df[\"title\"]!='') & (df['title'].isNotNull()) & (~isnan(df['title'])))\n",
        "\n",
        "df_temp.groupby(df_temp['title']).count().filter(\"`count` > 4\").sort(col(\"count\").desc()).show(10,False)"
      ],
      "metadata": {
        "colab": {
          "base_uri": "https://localhost:8080/"
        },
        "id": "TV4U6dn9HvME",
        "outputId": "ad78f439-bbe5-48cd-d5ce-d66b6d665f41"
      },
      "execution_count": 13,
      "outputs": [
        {
          "output_type": "stream",
          "name": "stdout",
          "text": [
            "+--------------------+-----+\n",
            "|title               |count|\n",
            "+--------------------+-----+\n",
            "|Les Misérables      |8    |\n",
            "|The Three Musketeers|8    |\n",
            "|Cinderella          |8    |\n",
            "|A Christmas Carol   |7    |\n",
            "|The Island          |7    |\n",
            "|Frankenstein        |7    |\n",
            "|Dracula             |7    |\n",
            "|Hamlet              |7    |\n",
            "|Treasure Island     |6    |\n",
            "|The Lost World      |6    |\n",
            "+--------------------+-----+\n",
            "only showing top 10 rows\n",
            "\n"
          ]
        }
      ]
    },
    {
      "cell_type": "code",
      "source": [
        "df_temp.groupby(df_temp['title']).count().filter(\"`count`>4\").sort(col(\"count\").desc()).count()"
      ],
      "metadata": {
        "colab": {
          "base_uri": "https://localhost:8080/"
        },
        "id": "UFwlisAOLy6c",
        "outputId": "708dbc57-6daa-45a1-98f3-c9b1316a7d9c"
      },
      "execution_count": 14,
      "outputs": [
        {
          "output_type": "execute_result",
          "data": {
            "text/plain": [
              "43"
            ]
          },
          "metadata": {},
          "execution_count": 14
        }
      ]
    },
    {
      "cell_type": "code",
      "source": [
        "del df_temp"
      ],
      "metadata": {
        "id": "25VK7FVnMNks"
      },
      "execution_count": 15,
      "outputs": []
    },
    {
      "cell_type": "markdown",
      "source": [
        "## Casting Variables"
      ],
      "metadata": {
        "id": "ewsP1u-LMUWc"
      }
    },
    {
      "cell_type": "code",
      "source": [
        "#before casting\n",
        "df.dtypes"
      ],
      "metadata": {
        "colab": {
          "base_uri": "https://localhost:8080/"
        },
        "id": "RAwFS6ZWMSYU",
        "outputId": "6b8f1d43-0d2c-4517-c746-135949ec5f5d"
      },
      "execution_count": 16,
      "outputs": [
        {
          "output_type": "execute_result",
          "data": {
            "text/plain": [
              "[('id', 'string'),\n",
              " ('budget', 'string'),\n",
              " ('popularity', 'string'),\n",
              " ('release_date', 'string'),\n",
              " ('revenue', 'string'),\n",
              " ('title', 'string')]"
            ]
          },
          "metadata": {},
          "execution_count": 16
        }
      ]
    },
    {
      "cell_type": "code",
      "source": [
        "#casting\n",
        "df = df.withColumn('budget',df['budget'].cast(\"float\"))\n",
        "df.dtypes"
      ],
      "metadata": {
        "colab": {
          "base_uri": "https://localhost:8080/"
        },
        "id": "rFX6GwWPMejL",
        "outputId": "aced8ecf-0481-4f12-8d82-e9f3e09c4904"
      },
      "execution_count": 17,
      "outputs": [
        {
          "output_type": "execute_result",
          "data": {
            "text/plain": [
              "[('id', 'string'),\n",
              " ('budget', 'float'),\n",
              " ('popularity', 'string'),\n",
              " ('release_date', 'string'),\n",
              " ('revenue', 'string'),\n",
              " ('title', 'string')]"
            ]
          },
          "metadata": {},
          "execution_count": 17
        }
      ]
    },
    {
      "cell_type": "code",
      "source": [
        "# importing necessary libraries\n",
        "from pyspark.sql.types import *\n",
        "\n",
        "int_vars = ['id']\n",
        "float_vars = ['budget','popularity','revenue']\n",
        "date_vars = ['release_date']\n",
        "\n",
        "#converting integer variables\n",
        "for column in int_vars:\n",
        "  df = df.withColumn(column, df[column].cast(IntegerType()))\n",
        "for column in float_vars:\n",
        "  df = df.withColumn(column, df[column].cast(FloatType()))\n",
        "for column in date_vars:\n",
        "  df = df.withColumn(column, df[column].cast(DateType()))\n",
        "\n",
        "df.dtypes"
      ],
      "metadata": {
        "colab": {
          "base_uri": "https://localhost:8080/"
        },
        "id": "SSp4XpbOMqLQ",
        "outputId": "4b555e25-6d65-43ac-ebe1-9de6f38f2405"
      },
      "execution_count": 18,
      "outputs": [
        {
          "output_type": "execute_result",
          "data": {
            "text/plain": [
              "[('id', 'int'),\n",
              " ('budget', 'float'),\n",
              " ('popularity', 'float'),\n",
              " ('release_date', 'date'),\n",
              " ('revenue', 'float'),\n",
              " ('title', 'string')]"
            ]
          },
          "metadata": {},
          "execution_count": 18
        }
      ]
    },
    {
      "cell_type": "code",
      "source": [
        "df.show()"
      ],
      "metadata": {
        "colab": {
          "base_uri": "https://localhost:8080/"
        },
        "id": "nzGQAVfkN5v_",
        "outputId": "30b5ebc3-a4c1-49a4-bad8-b9366cd41a67"
      },
      "execution_count": 19,
      "outputs": [
        {
          "output_type": "stream",
          "name": "stdout",
          "text": [
            "+-----+---------+----------+------------+---------+--------------------+\n",
            "|   id|   budget|popularity|release_date|  revenue|               title|\n",
            "+-----+---------+----------+------------+---------+--------------------+\n",
            "|43000|      0.0|     2.503|  1962-05-23|      0.0|The Elusive Corporal|\n",
            "|43001|      0.0|      5.51|  1962-11-12|      0.0|  Sundays and Cybele|\n",
            "|43002|      0.0|      5.62|  1962-05-24|      0.0|Lonely Are the Brave|\n",
            "|43003|      0.0|     7.159|  1975-03-12|      0.0|          F for Fake|\n",
            "|43004| 500000.0|     3.988|  1962-10-09|      0.0|Long Day's Journe...|\n",
            "|43006|      0.0|     3.194|  1962-03-09|      0.0|           My Geisha|\n",
            "|43007|      0.0|     2.689|  1962-10-31|      0.0|Period of Adjustment|\n",
            "|43008|      0.0|     6.537|  1959-03-13|      0.0|    The Hanging Tree|\n",
            "|43010|      0.0|     4.297|  1962-01-01|      0.0|Sherlock Holmes a...|\n",
            "|43011|      0.0|     4.417|  1962-01-01|      0.0|  Sodom and Gomorrah|\n",
            "|43012|7000000.0|     4.722|  1962-11-21|4000000.0|         Taras Bulba|\n",
            "|43013|      0.0|     2.543|  1962-04-17|      0.0|The Counterfeit T...|\n",
            "|43014|      0.0|     4.303|  1962-10-24|      0.0|     Tower of London|\n",
            "|43015|      0.0|     3.493|  1962-12-07|      0.0|Varan the Unbelie...|\n",
            "|43016|      0.0|     2.851|  1962-01-01|      0.0|Waltz of the Tore...|\n",
            "|43017|      0.0|     4.047|  1961-10-11|      0.0|         Back Street|\n",
            "|43018|      0.0|     2.661|  1961-06-02|      0.0|Gidget Goes Hawaiian|\n",
            "|43019|      0.0|     3.225|  2010-05-28|      0.0|Schuks Tshabalala...|\n",
            "|43020|      0.0|      5.72|  1961-06-15|      0.0|The Colossus of R...|\n",
            "|43021|      0.0|     3.292|  2008-08-22|      0.0|          Sex Galaxy|\n",
            "+-----+---------+----------+------------+---------+--------------------+\n",
            "only showing top 20 rows\n",
            "\n"
          ]
        }
      ]
    },
    {
      "cell_type": "markdown",
      "source": [
        "## Descriptive Statistics"
      ],
      "metadata": {
        "id": "SRcysXmtODxI"
      }
    },
    {
      "cell_type": "code",
      "source": [
        "df.describe().show()"
      ],
      "metadata": {
        "colab": {
          "base_uri": "https://localhost:8080/"
        },
        "id": "0Gfo6kunN7ga",
        "outputId": "b331f871-dcdd-497a-cd09-a3fc21914615"
      },
      "execution_count": 20,
      "outputs": [
        {
          "output_type": "stream",
          "name": "stdout",
          "text": [
            "+-------+------------------+--------------------+------------------+-------------------+--------------------+\n",
            "|summary|                id|              budget|        popularity|            revenue|               title|\n",
            "+-------+------------------+--------------------+------------------+-------------------+--------------------+\n",
            "|  count|             43784|               43873|             43783|              43783|               43694|\n",
            "|   mean|44502.304312077475|  3736901.8349631676| 5.295444259579189|  9697079.597382545|            Infinity|\n",
            "| stddev|  27189.6465886264|1.5871814952777285E7|6.1680305192082665|5.687938449628816E7|                 NaN|\n",
            "|    min|                 2|                 0.0|               0.6|                0.0|!Women Art Revolu...|\n",
            "|    max|            100988|               3.8E8|             180.0|       2.78796518E9|       시크릿 Secret|\n",
            "+-------+------------------+--------------------+------------------+-------------------+--------------------+\n",
            "\n"
          ]
        }
      ]
    },
    {
      "cell_type": "code",
      "source": [
        "# Median Calculation\n",
        "df_temp = df.filter((df['budget']!=0)&(df['budget'].isNotNull()) & (~isnan(df['budget'])))\n",
        "median=df_temp.approxQuantile('budget',[0.5],0.001)\n",
        "print ('The median of budget is '+str(median))"
      ],
      "metadata": {
        "colab": {
          "base_uri": "https://localhost:8080/"
        },
        "id": "bdxNsuNnOTGW",
        "outputId": "2a4e4f8a-e1ad-4276-d3e6-2822b53344e7"
      },
      "execution_count": 21,
      "outputs": [
        {
          "output_type": "stream",
          "name": "stdout",
          "text": [
            "The median of budget is [7000000.0]\n"
          ]
        }
      ]
    },
    {
      "cell_type": "markdown",
      "source": [
        "## unique/ distinct values and counts"
      ],
      "metadata": {
        "id": "Q2KKO0ADQgN7"
      }
    },
    {
      "cell_type": "code",
      "source": [
        "#dist occ of titles\n",
        "df.agg(countDistinct(col(\"title\")).alias(\"count\")).show()"
      ],
      "metadata": {
        "colab": {
          "base_uri": "https://localhost:8080/"
        },
        "id": "uvRfPAXuPvPo",
        "outputId": "3c7e7d17-272f-4a81-f4b6-7309d5684275"
      },
      "execution_count": 22,
      "outputs": [
        {
          "output_type": "stream",
          "name": "stdout",
          "text": [
            "+-----+\n",
            "|count|\n",
            "+-----+\n",
            "|41138|\n",
            "+-----+\n",
            "\n"
          ]
        }
      ]
    },
    {
      "cell_type": "code",
      "source": [
        "#dist occ. of titles\n",
        "df.select('title').distinct().show(10,False)"
      ],
      "metadata": {
        "colab": {
          "base_uri": "https://localhost:8080/"
        },
        "id": "KhG7_sOWQvHz",
        "outputId": "7229d0d3-abec-4f78-d10d-f1b3eb9e7a3f"
      },
      "execution_count": 23,
      "outputs": [
        {
          "output_type": "stream",
          "name": "stdout",
          "text": [
            "+---------------------------------------------+\n",
            "|title                                        |\n",
            "+---------------------------------------------+\n",
            "|The Corn Is Green                            |\n",
            "|Meet The Browns - The Play                   |\n",
            "|Morenita, El Escandalo                       |\n",
            "|Father Takes a Wife                          |\n",
            "|The Werewolf of Washington                   |\n",
            "|My Wife Is a Gangster                        |\n",
            "|Depeche Mode: Touring the Angel Live in Milan|\n",
            "|A Woman Is a Woman                           |\n",
            "|History Is Made at Night                     |\n",
            "|Colombian Love                               |\n",
            "+---------------------------------------------+\n",
            "only showing top 10 rows\n",
            "\n"
          ]
        }
      ]
    },
    {
      "cell_type": "code",
      "source": [
        "#year from release data\n",
        "\n",
        "df_temp = df.withColumn('release_year', year('release_date'))\n",
        "\n",
        "df_temp = df_temp.withColumn('release_month', month('release_date'))\n",
        "df_temp = df_temp.withColumn('release_day', dayofmonth('release_date'))\n",
        "\n",
        "df_temp.show()"
      ],
      "metadata": {
        "colab": {
          "base_uri": "https://localhost:8080/"
        },
        "id": "VtKoAC5NQ9CV",
        "outputId": "5cd70607-910e-42b0-e704-5f1086a073e5"
      },
      "execution_count": 24,
      "outputs": [
        {
          "output_type": "stream",
          "name": "stdout",
          "text": [
            "+-----+---------+----------+------------+---------+--------------------+------------+-------------+-----------+\n",
            "|   id|   budget|popularity|release_date|  revenue|               title|release_year|release_month|release_day|\n",
            "+-----+---------+----------+------------+---------+--------------------+------------+-------------+-----------+\n",
            "|43000|      0.0|     2.503|  1962-05-23|      0.0|The Elusive Corporal|        1962|            5|         23|\n",
            "|43001|      0.0|      5.51|  1962-11-12|      0.0|  Sundays and Cybele|        1962|           11|         12|\n",
            "|43002|      0.0|      5.62|  1962-05-24|      0.0|Lonely Are the Brave|        1962|            5|         24|\n",
            "|43003|      0.0|     7.159|  1975-03-12|      0.0|          F for Fake|        1975|            3|         12|\n",
            "|43004| 500000.0|     3.988|  1962-10-09|      0.0|Long Day's Journe...|        1962|           10|          9|\n",
            "|43006|      0.0|     3.194|  1962-03-09|      0.0|           My Geisha|        1962|            3|          9|\n",
            "|43007|      0.0|     2.689|  1962-10-31|      0.0|Period of Adjustment|        1962|           10|         31|\n",
            "|43008|      0.0|     6.537|  1959-03-13|      0.0|    The Hanging Tree|        1959|            3|         13|\n",
            "|43010|      0.0|     4.297|  1962-01-01|      0.0|Sherlock Holmes a...|        1962|            1|          1|\n",
            "|43011|      0.0|     4.417|  1962-01-01|      0.0|  Sodom and Gomorrah|        1962|            1|          1|\n",
            "|43012|7000000.0|     4.722|  1962-11-21|4000000.0|         Taras Bulba|        1962|           11|         21|\n",
            "|43013|      0.0|     2.543|  1962-04-17|      0.0|The Counterfeit T...|        1962|            4|         17|\n",
            "|43014|      0.0|     4.303|  1962-10-24|      0.0|     Tower of London|        1962|           10|         24|\n",
            "|43015|      0.0|     3.493|  1962-12-07|      0.0|Varan the Unbelie...|        1962|           12|          7|\n",
            "|43016|      0.0|     2.851|  1962-01-01|      0.0|Waltz of the Tore...|        1962|            1|          1|\n",
            "|43017|      0.0|     4.047|  1961-10-11|      0.0|         Back Street|        1961|           10|         11|\n",
            "|43018|      0.0|     2.661|  1961-06-02|      0.0|Gidget Goes Hawaiian|        1961|            6|          2|\n",
            "|43019|      0.0|     3.225|  2010-05-28|      0.0|Schuks Tshabalala...|        2010|            5|         28|\n",
            "|43020|      0.0|      5.72|  1961-06-15|      0.0|The Colossus of R...|        1961|            6|         15|\n",
            "|43021|      0.0|     3.292|  2008-08-22|      0.0|          Sex Galaxy|        2008|            8|         22|\n",
            "+-----+---------+----------+------------+---------+--------------------+------------+-------------+-----------+\n",
            "only showing top 20 rows\n",
            "\n"
          ]
        }
      ]
    },
    {
      "cell_type": "code",
      "source": [
        "df_temp.groupBy(\"release_year\").agg(countDistinct(\"title\")).show(10,False)"
      ],
      "metadata": {
        "colab": {
          "base_uri": "https://localhost:8080/"
        },
        "id": "wIq5xS4URugd",
        "outputId": "f12b70b7-da7d-4715-9a62-28d29fe8d3ea"
      },
      "execution_count": 25,
      "outputs": [
        {
          "output_type": "stream",
          "name": "stdout",
          "text": [
            "+------------+------------+\n",
            "|release_year|count(title)|\n",
            "+------------+------------+\n",
            "|1959        |271         |\n",
            "|1990        |496         |\n",
            "|1975        |365         |\n",
            "|1977        |415         |\n",
            "|1924        |19          |\n",
            "|2003        |1199        |\n",
            "|2007        |1896        |\n",
            "|2018        |4           |\n",
            "|1974        |434         |\n",
            "|2015        |13          |\n",
            "+------------+------------+\n",
            "only showing top 10 rows\n",
            "\n"
          ]
        }
      ]
    },
    {
      "cell_type": "markdown",
      "source": [
        "## Filter"
      ],
      "metadata": {
        "id": "dcz2qQ_bSmVB"
      }
    },
    {
      "cell_type": "code",
      "source": [
        "df.filter(df['title'].like('Meet%')).show(10,False)"
      ],
      "metadata": {
        "colab": {
          "base_uri": "https://localhost:8080/"
        },
        "id": "cxKn-oGDSI9k",
        "outputId": "90cff09d-7b9a-4c36-a984-2abbf39e5b66"
      },
      "execution_count": 26,
      "outputs": [
        {
          "output_type": "stream",
          "name": "stdout",
          "text": [
            "+-----+---------+----------+------------+-----------+--------------------------+\n",
            "|id   |budget   |popularity|release_date|revenue    |title                     |\n",
            "+-----+---------+----------+------------+-----------+--------------------------+\n",
            "|43957|500000.0 |2.649     |2005-06-28  |1000000.0  |Meet The Browns - The Play|\n",
            "|39997|0.0      |3.585     |1989-11-15  |0.0        |Meet the Hollowheads      |\n",
            "|16710|0.0      |11.495    |2008-03-21  |4.1939392E7|Meet the Browns           |\n",
            "|20430|0.0      |3.614     |2004-01-29  |0.0        |Meet Market               |\n",
            "|76435|0.0      |1.775     |2011-03-31  |0.0        |Meet the In-Laws          |\n",
            "|76516|5000000.0|4.05      |1990-11-08  |485772.0   |Meet the Applegates       |\n",
            "|7278 |3.0E7    |11.116    |2008-01-24  |8.4646832E7|Meet the Spartans         |\n",
            "|32574|0.0      |7.42      |1941-03-14  |0.0        |Meet John Doe             |\n",
            "|40506|0.0      |4.814     |1997-01-31  |0.0        |Meet Wally Sparks         |\n",
            "|40688|2.4E7    |6.848     |1998-03-27  |4562146.0  |Meet the Deedles          |\n",
            "+-----+---------+----------+------------+-----------+--------------------------+\n",
            "only showing top 10 rows\n",
            "\n"
          ]
        }
      ]
    },
    {
      "cell_type": "code",
      "source": [
        "# do not end with s\n",
        "df.filter(~df['title'].like('%s')).show(10,False)"
      ],
      "metadata": {
        "colab": {
          "base_uri": "https://localhost:8080/"
        },
        "id": "TUzmySfiTLgB",
        "outputId": "d721a4a7-b9d7-452c-ed52-9d857f7e80e8"
      },
      "execution_count": 27,
      "outputs": [
        {
          "output_type": "stream",
          "name": "stdout",
          "text": [
            "+-----+--------+----------+------------+-------+---------------------------------------+\n",
            "|id   |budget  |popularity|release_date|revenue|title                                  |\n",
            "+-----+--------+----------+------------+-------+---------------------------------------+\n",
            "|43000|0.0     |2.503     |1962-05-23  |0.0    |The Elusive Corporal                   |\n",
            "|43001|0.0     |5.51      |1962-11-12  |0.0    |Sundays and Cybele                     |\n",
            "|43002|0.0     |5.62      |1962-05-24  |0.0    |Lonely Are the Brave                   |\n",
            "|43003|0.0     |7.159     |1975-03-12  |0.0    |F for Fake                             |\n",
            "|43004|500000.0|3.988     |1962-10-09  |0.0    |Long Day's Journey Into Night          |\n",
            "|43006|0.0     |3.194     |1962-03-09  |0.0    |My Geisha                              |\n",
            "|43007|0.0     |2.689     |1962-10-31  |0.0    |Period of Adjustment                   |\n",
            "|43008|0.0     |6.537     |1959-03-13  |0.0    |The Hanging Tree                       |\n",
            "|43010|0.0     |4.297     |1962-01-01  |0.0    |Sherlock Holmes and the Deadly Necklace|\n",
            "|43011|0.0     |4.417     |1962-01-01  |0.0    |Sodom and Gomorrah                     |\n",
            "+-----+--------+----------+------------+-------+---------------------------------------+\n",
            "only showing top 10 rows\n",
            "\n"
          ]
        }
      ]
    },
    {
      "cell_type": "code",
      "source": [
        "# regex\n",
        "df.filter(df['title'].rlike('\\w*ove')).show(10,False)"
      ],
      "metadata": {
        "colab": {
          "base_uri": "https://localhost:8080/"
        },
        "id": "Zuv8GOnFTxgP",
        "outputId": "5c24eb52-f067-4053-f5c2-8ef84be761f6"
      },
      "execution_count": 28,
      "outputs": [
        {
          "output_type": "stream",
          "name": "stdout",
          "text": [
            "+-----+------+----------+------------+------------+------------------------+\n",
            "|id   |budget|popularity|release_date|revenue     |title                   |\n",
            "+-----+------+----------+------------+------------+------------------------+\n",
            "|43100|0.0   |7.252     |1959-10-07  |0.0         |General Della Rovere    |\n",
            "|43152|0.0   |5.126     |2001-06-21  |0.0         |Love on a Diet          |\n",
            "|43191|0.0   |4.921     |1952-08-29  |0.0         |Beware, My Lovely       |\n",
            "|43281|0.0   |2.411     |1989-11-22  |0.0         |Love Without Pity       |\n",
            "|43343|0.0   |3.174     |1953-12-25  |0.0         |Easy to Love            |\n",
            "|43347|3.0E7 |14.863    |2010-11-22  |1.02820008E8|Love & Other Drugs      |\n",
            "|43362|0.0   |1.705     |1952-02-23  |0.0         |Love Is Better Than Ever|\n",
            "|43363|0.0   |2.02      |1952-05-29  |0.0         |Lovely to Look At       |\n",
            "|43395|0.0   |4.758     |1950-11-10  |0.0         |Two Weeks with Love     |\n",
            "|43455|0.0   |4.669     |1948-08-23  |0.0         |The Loves of Carmen     |\n",
            "+-----+------+----------+------------+------------+------------------------+\n",
            "only showing top 10 rows\n",
            "\n"
          ]
        }
      ]
    },
    {
      "cell_type": "code",
      "source": [
        "df.filter(df.title.contains('ove')).show(10,False)"
      ],
      "metadata": {
        "colab": {
          "base_uri": "https://localhost:8080/"
        },
        "id": "fF-TC9B9T-KL",
        "outputId": "ca38922a-7b60-455d-c9fa-5c95aa7a6e9c"
      },
      "execution_count": 29,
      "outputs": [
        {
          "output_type": "stream",
          "name": "stdout",
          "text": [
            "+-----+------+----------+------------+------------+------------------------+\n",
            "|id   |budget|popularity|release_date|revenue     |title                   |\n",
            "+-----+------+----------+------------+------------+------------------------+\n",
            "|43100|0.0   |7.252     |1959-10-07  |0.0         |General Della Rovere    |\n",
            "|43152|0.0   |5.126     |2001-06-21  |0.0         |Love on a Diet          |\n",
            "|43191|0.0   |4.921     |1952-08-29  |0.0         |Beware, My Lovely       |\n",
            "|43281|0.0   |2.411     |1989-11-22  |0.0         |Love Without Pity       |\n",
            "|43343|0.0   |3.174     |1953-12-25  |0.0         |Easy to Love            |\n",
            "|43347|3.0E7 |14.863    |2010-11-22  |1.02820008E8|Love & Other Drugs      |\n",
            "|43362|0.0   |1.705     |1952-02-23  |0.0         |Love Is Better Than Ever|\n",
            "|43363|0.0   |2.02      |1952-05-29  |0.0         |Lovely to Look At       |\n",
            "|43395|0.0   |4.758     |1950-11-10  |0.0         |Two Weeks with Love     |\n",
            "|43455|0.0   |4.669     |1948-08-23  |0.0         |The Loves of Carmen     |\n",
            "+-----+------+----------+------------+------------+------------------------+\n",
            "only showing top 10 rows\n",
            "\n"
          ]
        }
      ]
    },
    {
      "cell_type": "markdown",
      "source": [
        "columns variable name filtering"
      ],
      "metadata": {
        "id": "_wPJ3Gj4UiIz"
      }
    },
    {
      "cell_type": "code",
      "source": [
        "df.select(df.colRegex(\"`re\\w*`\")).printSchema()"
      ],
      "metadata": {
        "colab": {
          "base_uri": "https://localhost:8080/"
        },
        "id": "EKSKE5fqUO2B",
        "outputId": "c29e56cb-33af-4a9b-a5d4-9f200acff3a3"
      },
      "execution_count": 30,
      "outputs": [
        {
          "output_type": "stream",
          "name": "stdout",
          "text": [
            "root\n",
            " |-- release_date: date (nullable = true)\n",
            " |-- revenue: float (nullable = true)\n",
            "\n"
          ]
        }
      ]
    },
    {
      "cell_type": "code",
      "source": [
        "df.select(df.colRegex(\"`\\w*e`\")).printSchema()"
      ],
      "metadata": {
        "colab": {
          "base_uri": "https://localhost:8080/"
        },
        "id": "iQ_LAQ1HUbkI",
        "outputId": "9a792056-e83d-454e-c703-9c84581e4ceb"
      },
      "execution_count": 31,
      "outputs": [
        {
          "output_type": "stream",
          "name": "stdout",
          "text": [
            "root\n",
            " |-- release_date: date (nullable = true)\n",
            " |-- revenue: float (nullable = true)\n",
            " |-- title: string (nullable = true)\n",
            "\n"
          ]
        }
      ]
    },
    {
      "cell_type": "markdown",
      "source": [
        "## Creating new columns"
      ],
      "metadata": {
        "id": "evWLysHsV0o5"
      }
    },
    {
      "cell_type": "code",
      "source": [
        "mean_pop = df.agg({'popularity': 'mean'}).collect()[0]['avg(popularity)']\n",
        "count_obs = df.count()\n",
        "\n",
        "df = df.withColumn('mean_popularity', lit(mean_pop))"
      ],
      "metadata": {
        "id": "HHTVQhFhUqH1"
      },
      "execution_count": 32,
      "outputs": []
    },
    {
      "cell_type": "code",
      "source": [
        "df = df.withColumn('variance', pow((df['popularity'] - df['mean_popularity']), 2))\n",
        "\n",
        "variance_sum = df.agg({'variance': 'sum'}).collect()[0]['sum(variance)']\n",
        "\n",
        "variance_population = variance_sum/(count_obs-1)"
      ],
      "metadata": {
        "id": "WkuG6O6yWy6U"
      },
      "execution_count": 33,
      "outputs": []
    },
    {
      "cell_type": "code",
      "source": [
        "variance_population"
      ],
      "metadata": {
        "colab": {
          "base_uri": "https://localhost:8080/"
        },
        "id": "GsGDeg-VXqby",
        "outputId": "572194b8-1885-4726-edd2-563c5700bd0f"
      },
      "execution_count": 34,
      "outputs": [
        {
          "output_type": "execute_result",
          "data": {
            "text/plain": [
              "37.858688057663116"
            ]
          },
          "metadata": {},
          "execution_count": 34
        }
      ]
    },
    {
      "cell_type": "markdown",
      "source": [
        "# UDF"
      ],
      "metadata": {
        "id": "IHcbuUaUZT2s"
      }
    },
    {
      "cell_type": "code",
      "source": [
        "def new_cols(budget, popularity):\n",
        "  if budget<10000000: budget_cat = 'Small'\n",
        "  elif budget<100000000: budget_cat = 'Medium'\n",
        "  else: budget_cat = 'Big'\n",
        "  if popularity<3: ratings='Low'\n",
        "  elif popularity<5: ratings='Mid'\n",
        "  else: ratings='High'\n",
        "  return budget_cat, ratings"
      ],
      "metadata": {
        "id": "ytfDMKxGXtDK"
      },
      "execution_count": 35,
      "outputs": []
    },
    {
      "cell_type": "code",
      "source": [
        "#apply udf on df\n",
        "udfB = udf(new_cols, StructType([StructField(\"budget_cat\", StringType(),True), StructField(\"ratings\", StringType(), True)]))\n",
        "\n",
        "temp_df = df.select('id','budget','popularity').withColumn(\"newcat\",udfB(\"budget\",\"popularity\"))\n",
        "\n",
        "df_with_newcols = temp_df.select('id','budget','popularity','newcat').withColumn('budget_cat',temp_df.newcat.getItem('budget_cat')).withColumn('ratings',temp_df.newcat.getItem('ratings')).drop('newcat')\n",
        "\n",
        "df_with_newcols.show(15,False)"
      ],
      "metadata": {
        "colab": {
          "base_uri": "https://localhost:8080/"
        },
        "id": "-vcyEKnFY0H5",
        "outputId": "34dcfe40-c16a-47d4-af1b-5f1bbc1a07fd"
      },
      "execution_count": 36,
      "outputs": [
        {
          "output_type": "stream",
          "name": "stdout",
          "text": [
            "+-----+---------+----------+----------+-------+\n",
            "|id   |budget   |popularity|budget_cat|ratings|\n",
            "+-----+---------+----------+----------+-------+\n",
            "|43000|0.0      |2.503     |Small     |Low    |\n",
            "|43001|0.0      |5.51      |Small     |High   |\n",
            "|43002|0.0      |5.62      |Small     |High   |\n",
            "|43003|0.0      |7.159     |Small     |High   |\n",
            "|43004|500000.0 |3.988     |Small     |Mid    |\n",
            "|43006|0.0      |3.194     |Small     |Mid    |\n",
            "|43007|0.0      |2.689     |Small     |Low    |\n",
            "|43008|0.0      |6.537     |Small     |High   |\n",
            "|43010|0.0      |4.297     |Small     |Mid    |\n",
            "|43011|0.0      |4.417     |Small     |Mid    |\n",
            "|43012|7000000.0|4.722     |Small     |Mid    |\n",
            "|43013|0.0      |2.543     |Small     |Low    |\n",
            "|43014|0.0      |4.303     |Small     |Mid    |\n",
            "|43015|0.0      |3.493     |Small     |Mid    |\n",
            "|43016|0.0      |2.851     |Small     |Low    |\n",
            "+-----+---------+----------+----------+-------+\n",
            "only showing top 15 rows\n",
            "\n"
          ]
        }
      ]
    },
    {
      "cell_type": "code",
      "source": [
        "#  New Columns - Method 3\n",
        "df_with_newcols = df.select('id','budget','popularity').\\\n",
        "withColumn('budget_cat', when(df['budget']<10000000,'Small').when(df['budget']<100000000,'Medium').otherwise('Big')).\\\n",
        "withColumn('ratings', when(df['popularity']<3,'Low').when(df['popularity']<5,'Mid').otherwise('High'))"
      ],
      "metadata": {
        "id": "k3K2jyiUa-Ou"
      },
      "execution_count": 37,
      "outputs": []
    },
    {
      "cell_type": "markdown",
      "source": [
        "## dropping and renaming columns"
      ],
      "metadata": {
        "id": "JKASFmvLme8B"
      }
    },
    {
      "cell_type": "code",
      "source": [
        "col_to_drop = ['budget_cat']\n",
        "df_with_newcols = df_with_newcols.drop(*col_to_drop)"
      ],
      "metadata": {
        "id": "_MUaACVymZAz"
      },
      "execution_count": 38,
      "outputs": []
    },
    {
      "cell_type": "code",
      "source": [
        "df_with_newcols.printSchema()"
      ],
      "metadata": {
        "colab": {
          "base_uri": "https://localhost:8080/"
        },
        "id": "wudTw1i9npiV",
        "outputId": "5cb4d28f-38ec-470a-8e10-870405d801a6"
      },
      "execution_count": 39,
      "outputs": [
        {
          "output_type": "stream",
          "name": "stdout",
          "text": [
            "root\n",
            " |-- id: integer (nullable = true)\n",
            " |-- budget: float (nullable = true)\n",
            " |-- popularity: float (nullable = true)\n",
            " |-- ratings: string (nullable = false)\n",
            "\n"
          ]
        }
      ]
    },
    {
      "cell_type": "code",
      "source": [
        "df_with_newcols = df_with_newcols.withColumnRenamed('id','film_id').withColumnRenamed('ratings','film_ratings')"
      ],
      "metadata": {
        "id": "CnHAOIeWnrYi"
      },
      "execution_count": 40,
      "outputs": []
    },
    {
      "cell_type": "code",
      "source": [
        "df_with_newcols.printSchema()"
      ],
      "metadata": {
        "colab": {
          "base_uri": "https://localhost:8080/"
        },
        "id": "_B4BYF7VoXEg",
        "outputId": "e1249cb2-3bc7-42b0-82b7-3fbd5e7e68dc"
      },
      "execution_count": 41,
      "outputs": [
        {
          "output_type": "stream",
          "name": "stdout",
          "text": [
            "root\n",
            " |-- film_id: integer (nullable = true)\n",
            " |-- budget: float (nullable = true)\n",
            " |-- popularity: float (nullable = true)\n",
            " |-- film_ratings: string (nullable = false)\n",
            "\n"
          ]
        }
      ]
    },
    {
      "cell_type": "code",
      "source": [
        "\n",
        "new_names = [('budget','film_budget'),('popularity','film_popularity')]\n",
        "\n",
        "# Applying the alias function\n",
        "df_with_newcols_renamed = df_with_newcols.select(list(map(lambda old,new:col(old).alias(new),*zip(*new_names))))"
      ],
      "metadata": {
        "id": "BE1i49iVoZWX"
      },
      "execution_count": 42,
      "outputs": []
    },
    {
      "cell_type": "code",
      "source": [
        "df_with_newcols_renamed.printSchema()"
      ],
      "metadata": {
        "colab": {
          "base_uri": "https://localhost:8080/"
        },
        "id": "-8sPCP2Go6r4",
        "outputId": "94e4b726-b965-4a5d-9170-32ad74970552"
      },
      "execution_count": 43,
      "outputs": [
        {
          "output_type": "stream",
          "name": "stdout",
          "text": [
            "root\n",
            " |-- film_budget: float (nullable = true)\n",
            " |-- film_popularity: float (nullable = true)\n",
            "\n"
          ]
        }
      ]
    },
    {
      "cell_type": "markdown",
      "source": [
        "## String Functions"
      ],
      "metadata": {
        "id": "3NhiyFRnqPxP"
      }
    },
    {
      "cell_type": "code",
      "source": [
        "df_with_newcols = df.select('id','budget','popularity').\\\n",
        "            withColumn('budget_cat', when(df['budget']<10000000,'Small').\\\n",
        "           when(df['budget']<100000000,'Medium').otherwise('Big')).\\\n",
        "           withColumn('ratings',when(df['popularity']<3,'Low').\\\n",
        "                      when(df['popularity']<5,'Mid').otherwise('High'))"
      ],
      "metadata": {
        "id": "VpFF3fAqpI4B"
      },
      "execution_count": 44,
      "outputs": []
    },
    {
      "cell_type": "code",
      "source": [
        "df_with_newcols.show()"
      ],
      "metadata": {
        "colab": {
          "base_uri": "https://localhost:8080/"
        },
        "id": "8iVa2xbsuTOZ",
        "outputId": "d226fab3-d393-4cf7-b945-6b96f54a2464"
      },
      "execution_count": 45,
      "outputs": [
        {
          "output_type": "stream",
          "name": "stdout",
          "text": [
            "+-----+---------+----------+----------+-------+\n",
            "|   id|   budget|popularity|budget_cat|ratings|\n",
            "+-----+---------+----------+----------+-------+\n",
            "|43000|      0.0|     2.503|     Small|    Low|\n",
            "|43001|      0.0|      5.51|     Small|   High|\n",
            "|43002|      0.0|      5.62|     Small|   High|\n",
            "|43003|      0.0|     7.159|     Small|   High|\n",
            "|43004| 500000.0|     3.988|     Small|    Mid|\n",
            "|43006|      0.0|     3.194|     Small|    Mid|\n",
            "|43007|      0.0|     2.689|     Small|    Low|\n",
            "|43008|      0.0|     6.537|     Small|   High|\n",
            "|43010|      0.0|     4.297|     Small|    Mid|\n",
            "|43011|      0.0|     4.417|     Small|    Mid|\n",
            "|43012|7000000.0|     4.722|     Small|    Mid|\n",
            "|43013|      0.0|     2.543|     Small|    Low|\n",
            "|43014|      0.0|     4.303|     Small|    Mid|\n",
            "|43015|      0.0|     3.493|     Small|    Mid|\n",
            "|43016|      0.0|     2.851|     Small|    Low|\n",
            "|43017|      0.0|     4.047|     Small|    Mid|\n",
            "|43018|      0.0|     2.661|     Small|    Low|\n",
            "|43019|      0.0|     3.225|     Small|    Mid|\n",
            "|43020|      0.0|      5.72|     Small|   High|\n",
            "|43021|      0.0|     3.292|     Small|    Mid|\n",
            "+-----+---------+----------+----------+-------+\n",
            "only showing top 20 rows\n",
            "\n"
          ]
        }
      ]
    },
    {
      "cell_type": "code",
      "source": [
        "#concating two variables\n",
        "df_with_newcols = df_with_newcols.withColumn('BudgetRating_Category',concat(df_with_newcols.budget_cat,df_with_newcols.ratings))"
      ],
      "metadata": {
        "id": "0s7yXaxGukoA"
      },
      "execution_count": 46,
      "outputs": []
    },
    {
      "cell_type": "code",
      "source": [
        "#variable to lowercase\n",
        "df_with_newcols = df_with_newcols.withColumn('BudgetRating_Category', trim(lower(df_with_newcols.BudgetRating_Category)))\n",
        "\n",
        "df_with_newcols.show()"
      ],
      "metadata": {
        "colab": {
          "base_uri": "https://localhost:8080/"
        },
        "id": "X0SFxwj7u9U2",
        "outputId": "06cef3bd-d73d-4fb3-9dbb-1bb8a5b291a9"
      },
      "execution_count": 47,
      "outputs": [
        {
          "output_type": "stream",
          "name": "stdout",
          "text": [
            "+-----+---------+----------+----------+-------+---------------------+\n",
            "|   id|   budget|popularity|budget_cat|ratings|BudgetRating_Category|\n",
            "+-----+---------+----------+----------+-------+---------------------+\n",
            "|43000|      0.0|     2.503|     Small|    Low|             smalllow|\n",
            "|43001|      0.0|      5.51|     Small|   High|            smallhigh|\n",
            "|43002|      0.0|      5.62|     Small|   High|            smallhigh|\n",
            "|43003|      0.0|     7.159|     Small|   High|            smallhigh|\n",
            "|43004| 500000.0|     3.988|     Small|    Mid|             smallmid|\n",
            "|43006|      0.0|     3.194|     Small|    Mid|             smallmid|\n",
            "|43007|      0.0|     2.689|     Small|    Low|             smalllow|\n",
            "|43008|      0.0|     6.537|     Small|   High|            smallhigh|\n",
            "|43010|      0.0|     4.297|     Small|    Mid|             smallmid|\n",
            "|43011|      0.0|     4.417|     Small|    Mid|             smallmid|\n",
            "|43012|7000000.0|     4.722|     Small|    Mid|             smallmid|\n",
            "|43013|      0.0|     2.543|     Small|    Low|             smalllow|\n",
            "|43014|      0.0|     4.303|     Small|    Mid|             smallmid|\n",
            "|43015|      0.0|     3.493|     Small|    Mid|             smallmid|\n",
            "|43016|      0.0|     2.851|     Small|    Low|             smalllow|\n",
            "|43017|      0.0|     4.047|     Small|    Mid|             smallmid|\n",
            "|43018|      0.0|     2.661|     Small|    Low|             smalllow|\n",
            "|43019|      0.0|     3.225|     Small|    Mid|             smallmid|\n",
            "|43020|      0.0|      5.72|     Small|   High|            smallhigh|\n",
            "|43021|      0.0|     3.292|     Small|    Mid|             smallmid|\n",
            "+-----+---------+----------+----------+-------+---------------------+\n",
            "only showing top 20 rows\n",
            "\n"
          ]
        }
      ]
    },
    {
      "cell_type": "markdown",
      "source": [
        "# **Registering dataframes**"
      ],
      "metadata": {
        "id": "h3eGp6KswOP_"
      }
    },
    {
      "cell_type": "code",
      "source": [
        "# Registering temporary table\n",
        "df_with_newcols.registerTempTable('temp_data')\n",
        "\n",
        "# Showing the results\n",
        "spark.sql('select ratings, count(ratings) as ratings_count from temp_data group by ratings').show()"
      ],
      "metadata": {
        "colab": {
          "base_uri": "https://localhost:8080/"
        },
        "id": "qxMMSFu3vak-",
        "outputId": "39f5f468-32ed-4968-bba3-3d3746d94934"
      },
      "execution_count": 48,
      "outputs": [
        {
          "output_type": "stream",
          "name": "stderr",
          "text": [
            "/usr/local/lib/python3.10/dist-packages/pyspark/sql/dataframe.py:330: FutureWarning: Deprecated in 2.0, use createOrReplaceTempView instead.\n",
            "  warnings.warn(\"Deprecated in 2.0, use createOrReplaceTempView instead.\", FutureWarning)\n"
          ]
        },
        {
          "output_type": "stream",
          "name": "stdout",
          "text": [
            "+-------+-------------+\n",
            "|ratings|ratings_count|\n",
            "+-------+-------------+\n",
            "|   High|        16856|\n",
            "|    Low|        14865|\n",
            "|    Mid|        12277|\n",
            "+-------+-------------+\n",
            "\n"
          ]
        }
      ]
    },
    {
      "cell_type": "markdown",
      "source": [
        "## **Window Functions**\n",
        "### Ranking\n",
        "* rank\n",
        "* denseRank\n",
        "* rowNumber\n",
        "* ntile\n",
        "\n",
        "### Analytical\n",
        "* lead\n",
        "* lag\n",
        "* lastvalue\n",
        "* firstValue\n",
        "* cumeDist"
      ],
      "metadata": {
        "id": "y7XNmWT0w0Ph"
      }
    },
    {
      "cell_type": "code",
      "source": [
        "from pyspark.sql.window import *\n",
        "\n",
        "#Step 1 : filter missing value\n",
        "df_with_newcols = df_with_newcols.filter((df_with_newcols['popularity'].isNotNull()) & (~isnan(df_with_newcols['popularity'])))\n",
        "\n",
        "#Step 2\n",
        "df_with_newcols = df_with_newcols.select(\"id\",\"budget\",\"popularity\",ntile(10).over(Window.partitionBy().orderBy(df_with_newcols['popularity'].desc())).alias(\"decile_rank\"))\n",
        "#df_with_newcols = df_with_newcols.select(\"id\",\"budget\",\"popularity\", ntile(10).over(Window.partitionBy().orderBy(df_with_newcols['popularity'].desc())).alias(\"decile_rank\"))\n",
        "\n",
        "df_with_newcols.groupby(\"decile_rank\").agg(min('popularity').alias('min_popularity'),max('popularity').alias('max_popularity'),count('popularity')).show()"
      ],
      "metadata": {
        "colab": {
          "base_uri": "https://localhost:8080/"
        },
        "id": "NsWzl57Awf4s",
        "outputId": "2c55bb2c-9545-4d54-cf61-0c41f0e7ab2f"
      },
      "execution_count": 49,
      "outputs": [
        {
          "output_type": "stream",
          "name": "stdout",
          "text": [
            "+-----------+--------------+--------------+-----------------+\n",
            "|decile_rank|min_popularity|max_popularity|count(popularity)|\n",
            "+-----------+--------------+--------------+-----------------+\n",
            "|          1|        10.185|         180.0|             4379|\n",
            "|          2|         7.481|        10.182|             4379|\n",
            "|          3|         5.841|         7.481|             4379|\n",
            "|          4|         4.823|         5.841|             4378|\n",
            "|          5|         4.054|         4.822|             4378|\n",
            "|          6|         3.383|         4.054|             4378|\n",
            "|          7|         2.747|         3.383|             4378|\n",
            "|          8|         2.075|         2.747|             4378|\n",
            "|          9|         1.389|         2.075|             4378|\n",
            "|         10|           0.6|         1.389|             4378|\n",
            "+-----------+--------------+--------------+-----------------+\n",
            "\n"
          ]
        }
      ]
    },
    {
      "cell_type": "code",
      "source": [
        "from pyspark.sql.window import *\n",
        "df_second_best = df.select('id','popularity','release_date')\n",
        "\n",
        "df_second_best = df_second_best.withColumn('release_year', year('release_date')).drop('release_date')\n",
        "\n",
        "year_window = Window.partitionBy(df_second_best['release_year']).orderBy(df_with_newcols['popularity'].desc())\n",
        "\n",
        "df_second_best = df_second_best.select('id','popularity','release_year', rank().over(year_window).alias(\"rank\"))\n",
        "\n",
        "df_second_best.filter((df_second_best['release_year']==1970) & (df_second_best['rank']==2)).show()"
      ],
      "metadata": {
        "id": "wPQcpDd70BTr",
        "colab": {
          "base_uri": "https://localhost:8080/"
        },
        "outputId": "00bbf3d4-cfc6-4c05-f461-472e47dc2fa0"
      },
      "execution_count": 51,
      "outputs": [
        {
          "output_type": "stream",
          "name": "stdout",
          "text": [
            "+-----+----------+------------+----+\n",
            "|   id|popularity|release_year|rank|\n",
            "+-----+----------+------------+----+\n",
            "|11202|    14.029|        1970|   2|\n",
            "+-----+----------+------------+----+\n",
            "\n"
          ]
        }
      ]
    },
    {
      "cell_type": "code",
      "source": [
        "# Revenue Difference\n",
        "\n",
        "df_revenue = df.select('id', 'revenue', 'release_date')\n",
        "df_revenue=df_revenue.withColumn('release_year',year('release_date')).drop('release_date')\n",
        "\n",
        "windowRev =Window.partitionBy(df_revenue['release_year']).orderBy(df_revenue['revenue'].desc()).rangeBetween(-sys.maxsize, sys.maxsize)\n",
        "\n",
        "revenue_difference = (max(df_revenue['revenue']).over(windowRev) - df_revenue['revenue'])\n",
        "df_revenue.select('id', 'revenue', 'release_year',revenue_difference.alias(\"revenue_difference\")).show(20,False)\n"
      ],
      "metadata": {
        "colab": {
          "base_uri": "https://localhost:8080/"
        },
        "id": "WSxsVPLiz50C",
        "outputId": "456a766c-75d4-4ee5-ccbb-c3e5e308287d"
      },
      "execution_count": 56,
      "outputs": [
        {
          "output_type": "stream",
          "name": "stdout",
          "text": [
            "+----+-------+------------+------------------+\n",
            "|id  |revenue|release_year|revenue_difference|\n",
            "+----+-------+------------+------------------+\n",
            "|null|10.0   |null        |0.0               |\n",
            "|null|10.0   |null        |0.0               |\n",
            "|null|10.0   |null        |0.0               |\n",
            "|null|8.7    |null        |1.3000002         |\n",
            "|null|8.1    |null        |1.8999996         |\n",
            "|null|8.0    |null        |2.0               |\n",
            "|null|8.0    |null        |2.0               |\n",
            "|null|7.9    |null        |2.1               |\n",
            "|null|7.8    |null        |2.1999998         |\n",
            "|null|7.7    |null        |2.3000002         |\n",
            "|null|7.6    |null        |2.4               |\n",
            "|null|7.6    |null        |2.4               |\n",
            "|null|7.4    |null        |2.6               |\n",
            "|null|7.4    |null        |2.6               |\n",
            "|null|7.3    |null        |2.6999998         |\n",
            "|null|7.3    |null        |2.6999998         |\n",
            "|null|7.1    |null        |2.9               |\n",
            "|null|7.1    |null        |2.9               |\n",
            "|null|7.1    |null        |2.9               |\n",
            "|null|7.1    |null        |2.9               |\n",
            "+----+-------+------------+------------------+\n",
            "only showing top 20 rows\n",
            "\n"
          ]
        }
      ]
    },
    {
      "cell_type": "code",
      "source": [
        "# Collect list demonstration\n",
        "# Step 1:Create the year column from release date\n",
        "df=df.withColumn('release_year',year('release_date'))\n",
        "# Applying collect list function to gather all occurances\n",
        "df.filter(\"title=='The Lost World'\").groupby('title').agg(collect_list(\"release_year\")).show(1,False)"
      ],
      "metadata": {
        "colab": {
          "base_uri": "https://localhost:8080/"
        },
        "id": "7Dmoe75d2SWn",
        "outputId": "faf182c8-476d-4ef2-bdf7-75cf5d26cca8"
      },
      "execution_count": 57,
      "outputs": [
        {
          "output_type": "stream",
          "name": "stdout",
          "text": [
            "+--------------+------------------------------------+\n",
            "|title         |collect_list(release_year)          |\n",
            "+--------------+------------------------------------+\n",
            "|The Lost World|[1999, 2001, 1925, 1960, 1992, 1998]|\n",
            "+--------------+------------------------------------+\n",
            "\n"
          ]
        }
      ]
    },
    {
      "cell_type": "code",
      "source": [
        "#sampling\n",
        "\n",
        "#without replacement\n",
        "df_sample = df.sample(False, 0.4,11) #(replacement, fraction, seed)\n",
        "df_sample.count()"
      ],
      "metadata": {
        "colab": {
          "base_uri": "https://localhost:8080/"
        },
        "id": "0lr6nWoV3Vtk",
        "outputId": "aa03d9be-b668-450a-beca-bd2d028e205d"
      },
      "execution_count": 58,
      "outputs": [
        {
          "output_type": "execute_result",
          "data": {
            "text/plain": [
              "17722"
            ]
          },
          "metadata": {},
          "execution_count": 58
        }
      ]
    },
    {
      "cell_type": "code",
      "source": [
        "#with replacement\n",
        "df_sample = df.sample(True, 0.4,11) #(replacement, fraction, seed)\n",
        "df_sample.count()"
      ],
      "metadata": {
        "colab": {
          "base_uri": "https://localhost:8080/"
        },
        "id": "9r-cZSvY5eyY",
        "outputId": "8cb9d74b-f2d3-4af0-b4b4-b0a9d4ef869f"
      },
      "execution_count": 59,
      "outputs": [
        {
          "output_type": "execute_result",
          "data": {
            "text/plain": [
              "17432"
            ]
          },
          "metadata": {},
          "execution_count": 59
        }
      ]
    },
    {
      "cell_type": "code",
      "source": [
        "# Stratified sampling in pyspark\n",
        "df_strat = df.sampleBy(\"release_year\", fractions={1959: 0.2, 1960: 0.4, 1961: 0.4}, seed=11)\n",
        "df_strat.count()"
      ],
      "metadata": {
        "colab": {
          "base_uri": "https://localhost:8080/"
        },
        "id": "Ms5X_wPV5mQu",
        "outputId": "73142db9-90e1-43ca-becf-4b41678757a1"
      },
      "execution_count": 60,
      "outputs": [
        {
          "output_type": "execute_result",
          "data": {
            "text/plain": [
              "269"
            ]
          },
          "metadata": {},
          "execution_count": 60
        }
      ]
    },
    {
      "cell_type": "code",
      "source": [
        "df.show()"
      ],
      "metadata": {
        "colab": {
          "base_uri": "https://localhost:8080/"
        },
        "id": "-XCaxzoh58Bx",
        "outputId": "f7e93b9c-5d45-4437-d2eb-b88f3fdc48a1"
      },
      "execution_count": 61,
      "outputs": [
        {
          "output_type": "stream",
          "name": "stdout",
          "text": [
            "+-----+---------+----------+------------+---------+--------------------+-----------------+--------------------+------------+\n",
            "|   id|   budget|popularity|release_date|  revenue|               title|  mean_popularity|            variance|release_year|\n",
            "+-----+---------+----------+------------+---------+--------------------+-----------------+--------------------+------------+\n",
            "|43000|      0.0|     2.503|  1962-05-23|      0.0|The Elusive Corporal|5.295444259579189|   7.797744825681142|        1962|\n",
            "|43001|      0.0|      5.51|  1962-11-12|      0.0|  Sundays and Cybele|5.295444259579189|0.046034263963398346|        1962|\n",
            "|43002|      0.0|      5.62|  1962-05-24|      0.0|Lonely Are the Brave|5.295444259579189| 0.10533635435520017|        1962|\n",
            "|43003|      0.0|     7.159|  1975-03-12|      0.0|          F for Fake|5.295444259579189|  3.4728396990815216|        1975|\n",
            "|43004| 500000.0|     3.988|  1962-10-09|      0.0|Long Day's Journe...|5.295444259579189|   1.709410711356759|        1962|\n",
            "|43006|      0.0|     3.194|  1962-03-09|      0.0|           My Geisha|5.295444259579189|   4.416067952069205|        1962|\n",
            "|43007|      0.0|     2.689|  1962-10-31|      0.0|Period of Adjustment|5.295444259579189|   6.793552245032679|        1962|\n",
            "|43008|      0.0|     6.537|  1959-03-13|      0.0|    The Hanging Tree|5.295444259579189|  1.5414611017708733|        1959|\n",
            "|43010|      0.0|     4.297|  1962-01-01|      0.0|Sherlock Holmes a...|5.295444259579189|   0.996891076602093|        1962|\n",
            "|43011|      0.0|     4.417|  1962-01-01|      0.0|  Sodom and Gomorrah|5.295444259579189|  0.7716646388835591|        1962|\n",
            "|43012|7000000.0|     4.722|  1962-11-21|4000000.0|         Taras Bulba|5.295444259579189| 0.32883817884329936|        1962|\n",
            "|43013|      0.0|     2.543|  1962-04-17|      0.0|The Counterfeit T...|5.295444259579189|   7.575949496588105|        1962|\n",
            "|43014|      0.0|     4.303|  1962-10-24|      0.0|     Tower of London|5.295444259579189|  0.9849456613739271|        1962|\n",
            "|43015|      0.0|     3.493|  1962-12-07|      0.0|Varan the Unbelie...|5.295444259579189|   3.248805198877505|        1962|\n",
            "|43016|      0.0|     2.851|  1962-01-01|      0.0|Waltz of the Tore...|5.295444259579189|   5.975307393171506|        1962|\n",
            "|43017|      0.0|     4.047|  1961-10-11|      0.0|         Back Street|5.295444259579189|  1.5586132407239628|        1961|\n",
            "|43018|      0.0|     2.661|  1961-06-02|      0.0|Gidget Goes Hawaiian|5.295444259579189|   6.940296486482491|        1961|\n",
            "|43019|      0.0|     3.225|  2010-05-28|      0.0|Schuks Tshabalala...|5.295444259579189|  4.2867398269303285|        2010|\n",
            "|43020|      0.0|      5.72|  1961-06-15|      0.0|The Colossus of R...|5.295444259579189|  0.1802473985736286|        1961|\n",
            "|43021|      0.0|     3.292|  2008-08-22|      0.0|          Sex Galaxy|5.295444259579189|   4.013788679607341|        2008|\n",
            "+-----+---------+----------+------------+---------+--------------------+-----------------+--------------------+------------+\n",
            "only showing top 20 rows\n",
            "\n"
          ]
        }
      ]
    },
    {
      "cell_type": "code",
      "source": [
        "# Coalesce Demonstration\n",
        "df.coalesce(1).write.format('csv').option('delimiter', '|').save('output_df1')"
      ],
      "metadata": {
        "id": "RKKnd6Kj8usU"
      },
      "execution_count": 62,
      "outputs": []
    },
    {
      "cell_type": "code",
      "source": [
        "# PartitionBy Demonstration\n",
        "df.write.partitionBy('release_year').format('csv').option('delimiter', '|').save('output_df_partitioned')"
      ],
      "metadata": {
        "id": "llMpJb8S81tM"
      },
      "execution_count": 63,
      "outputs": []
    },
    {
      "cell_type": "code",
      "source": [
        "# SaveAs Demonstration\n",
        "df.write.saveAsTable('film_ratings')"
      ],
      "metadata": {
        "id": "8y9i5JSR9IAh"
      },
      "execution_count": 64,
      "outputs": []
    },
    {
      "cell_type": "markdown",
      "source": [
        "# **Pandas Support**"
      ],
      "metadata": {
        "id": "kYLyJOCn9lUf"
      }
    },
    {
      "cell_type": "code",
      "source": [
        "# Pyspark to Pandas\n",
        "df_pandas=df.toPandas()"
      ],
      "metadata": {
        "id": "-_s9PUS29ZO0"
      },
      "execution_count": 68,
      "outputs": []
    },
    {
      "cell_type": "code",
      "source": [
        "# Pandas to PySpark\n",
        "df_py = spark.createDataFrame(df_pandas)"
      ],
      "metadata": {
        "id": "lBDR1IAL9uBv"
      },
      "execution_count": 69,
      "outputs": []
    },
    {
      "cell_type": "markdown",
      "source": [
        "## **joins**"
      ],
      "metadata": {
        "id": "GxhexgRk-BF9"
      }
    },
    {
      "cell_type": "code",
      "source": [
        "# input parameters\n",
        "file_location = \"sample_data/movie_data_part2_v1.csv\"\n",
        "file_type = 'csv'\n",
        "infer_schema = \"False\"\n",
        "first_row_is_header = \"True\"\n",
        "delimiter = \"|\"\n",
        "\n",
        "\n",
        "# Bringing all the options together to read the csv file\n",
        "\n",
        "df_p1 = spark.read.format(file_type) \\\n",
        ".option(\"inferSchema\", infer_schema) \\\n",
        ".option(\"header\", first_row_is_header) \\\n",
        ".option(\"sep\", delimiter) \\\n",
        ".load(file_location)"
      ],
      "metadata": {
        "id": "dRym5YWk90vj"
      },
      "execution_count": 70,
      "outputs": []
    },
    {
      "cell_type": "code",
      "source": [
        "# Schema of new dataset\n",
        "df_p1.printSchema()"
      ],
      "metadata": {
        "colab": {
          "base_uri": "https://localhost:8080/"
        },
        "id": "lBjIn233_OCJ",
        "outputId": "89a60e4c-b53d-4b0f-de61-bc04331f3921"
      },
      "execution_count": 72,
      "outputs": [
        {
          "output_type": "stream",
          "name": "stdout",
          "text": [
            "root\n",
            " |-- cast: string (nullable = true)\n",
            " |-- adult: string (nullable = true)\n",
            " |-- directors: string (nullable = true)\n",
            " |-- vote_count: string (nullable = true)\n",
            " |-- spoken_languages: string (nullable = true)\n",
            " |-- poster_path: string (nullable = true)\n",
            " |-- homepage: string (nullable = true)\n",
            " |-- imdb_id: string (nullable = true)\n",
            " |-- genres: string (nullable = true)\n",
            " |-- video: string (nullable = true)\n",
            " |-- id: string (nullable = true)\n",
            "\n"
          ]
        }
      ]
    },
    {
      "cell_type": "code",
      "source": [
        "# cast identifier\n",
        "df_p1 = df_p1.withColumn('id', df_p1['id'].cast(\"integer\"))\n",
        "\n",
        "df_p1 = df_p1.filter((df_p1['id'].isNotNull()) & (~isnan(df_p1['id'])))"
      ],
      "metadata": {
        "id": "q1-Ue9_S_SY0"
      },
      "execution_count": 73,
      "outputs": []
    },
    {
      "cell_type": "code",
      "source": [
        "df.printSchema()"
      ],
      "metadata": {
        "colab": {
          "base_uri": "https://localhost:8080/"
        },
        "id": "qtULuhq-AdqU",
        "outputId": "306424e3-ba90-4717-c593-6c95e0878765"
      },
      "execution_count": 75,
      "outputs": [
        {
          "output_type": "stream",
          "name": "stdout",
          "text": [
            "root\n",
            " |-- id: integer (nullable = true)\n",
            " |-- budget: float (nullable = true)\n",
            " |-- popularity: float (nullable = true)\n",
            " |-- release_date: date (nullable = true)\n",
            " |-- revenue: float (nullable = true)\n",
            " |-- title: string (nullable = true)\n",
            " |-- mean_popularity: double (nullable = false)\n",
            " |-- variance: double (nullable = true)\n",
            " |-- release_year: integer (nullable = true)\n",
            "\n"
          ]
        }
      ]
    },
    {
      "cell_type": "markdown",
      "source": [
        "## Innrer join"
      ],
      "metadata": {
        "id": "wgNBr1qPAyWh"
      }
    },
    {
      "cell_type": "code",
      "source": [
        "# Inner Join\n",
        "df.join(df_p1, df['id'] == df_p1['id'],'inner').printSchema()\n",
        "df.join(df_p1, df['id'] == df_p1['id']).count()"
      ],
      "metadata": {
        "colab": {
          "base_uri": "https://localhost:8080/"
        },
        "id": "SpCRpmQBAhq_",
        "outputId": "0cb15fea-d50a-4b23-dcc3-89ed42f970a8"
      },
      "execution_count": 77,
      "outputs": [
        {
          "output_type": "stream",
          "name": "stdout",
          "text": [
            "root\n",
            " |-- id: integer (nullable = true)\n",
            " |-- budget: float (nullable = true)\n",
            " |-- popularity: float (nullable = true)\n",
            " |-- release_date: date (nullable = true)\n",
            " |-- revenue: float (nullable = true)\n",
            " |-- title: string (nullable = true)\n",
            " |-- mean_popularity: double (nullable = false)\n",
            " |-- variance: double (nullable = true)\n",
            " |-- release_year: integer (nullable = true)\n",
            " |-- cast: string (nullable = true)\n",
            " |-- adult: string (nullable = true)\n",
            " |-- directors: string (nullable = true)\n",
            " |-- vote_count: string (nullable = true)\n",
            " |-- spoken_languages: string (nullable = true)\n",
            " |-- poster_path: string (nullable = true)\n",
            " |-- homepage: string (nullable = true)\n",
            " |-- imdb_id: string (nullable = true)\n",
            " |-- genres: string (nullable = true)\n",
            " |-- video: string (nullable = true)\n",
            " |-- id: integer (nullable = true)\n",
            "\n"
          ]
        },
        {
          "output_type": "execute_result",
          "data": {
            "text/plain": [
              "24998"
            ]
          },
          "metadata": {},
          "execution_count": 77
        }
      ]
    },
    {
      "cell_type": "code",
      "source": [
        "# Left Join\n",
        "df.join(df_p1, df['id'] == df_p1['id'],'left').printSchema()\n",
        "df.join(df_p1, df['id'] == df_p1['id'],'left').count()"
      ],
      "metadata": {
        "colab": {
          "base_uri": "https://localhost:8080/"
        },
        "id": "DQjbf75SBHV-",
        "outputId": "d6fa1280-e3d6-43c8-dec1-f6f7229d43fc"
      },
      "execution_count": 78,
      "outputs": [
        {
          "output_type": "stream",
          "name": "stdout",
          "text": [
            "root\n",
            " |-- id: integer (nullable = true)\n",
            " |-- budget: float (nullable = true)\n",
            " |-- popularity: float (nullable = true)\n",
            " |-- release_date: date (nullable = true)\n",
            " |-- revenue: float (nullable = true)\n",
            " |-- title: string (nullable = true)\n",
            " |-- mean_popularity: double (nullable = false)\n",
            " |-- variance: double (nullable = true)\n",
            " |-- release_year: integer (nullable = true)\n",
            " |-- cast: string (nullable = true)\n",
            " |-- adult: string (nullable = true)\n",
            " |-- directors: string (nullable = true)\n",
            " |-- vote_count: string (nullable = true)\n",
            " |-- spoken_languages: string (nullable = true)\n",
            " |-- poster_path: string (nullable = true)\n",
            " |-- homepage: string (nullable = true)\n",
            " |-- imdb_id: string (nullable = true)\n",
            " |-- genres: string (nullable = true)\n",
            " |-- video: string (nullable = true)\n",
            " |-- id: integer (nullable = true)\n",
            "\n"
          ]
        },
        {
          "output_type": "execute_result",
          "data": {
            "text/plain": [
              "43998"
            ]
          },
          "metadata": {},
          "execution_count": 78
        }
      ]
    },
    {
      "cell_type": "code",
      "source": [
        "# Right Join\n",
        "df.join(df_p1, df['id'] == df_p1['id'],'right').printSchema()\n",
        "df.join(df_p1, df['id'] == df_p1['id'],'right').count()"
      ],
      "metadata": {
        "colab": {
          "base_uri": "https://localhost:8080/"
        },
        "id": "F7Lpzkg8B5gi",
        "outputId": "728d0135-c782-4360-bb17-28b8e2b2b087"
      },
      "execution_count": 79,
      "outputs": [
        {
          "output_type": "stream",
          "name": "stdout",
          "text": [
            "root\n",
            " |-- id: integer (nullable = true)\n",
            " |-- budget: float (nullable = true)\n",
            " |-- popularity: float (nullable = true)\n",
            " |-- release_date: date (nullable = true)\n",
            " |-- revenue: float (nullable = true)\n",
            " |-- title: string (nullable = true)\n",
            " |-- mean_popularity: double (nullable = true)\n",
            " |-- variance: double (nullable = true)\n",
            " |-- release_year: integer (nullable = true)\n",
            " |-- cast: string (nullable = true)\n",
            " |-- adult: string (nullable = true)\n",
            " |-- directors: string (nullable = true)\n",
            " |-- vote_count: string (nullable = true)\n",
            " |-- spoken_languages: string (nullable = true)\n",
            " |-- poster_path: string (nullable = true)\n",
            " |-- homepage: string (nullable = true)\n",
            " |-- imdb_id: string (nullable = true)\n",
            " |-- genres: string (nullable = true)\n",
            " |-- video: string (nullable = true)\n",
            " |-- id: integer (nullable = true)\n",
            "\n"
          ]
        },
        {
          "output_type": "execute_result",
          "data": {
            "text/plain": [
              "24998"
            ]
          },
          "metadata": {},
          "execution_count": 79
        }
      ]
    },
    {
      "cell_type": "code",
      "source": [
        "# Outer Join\n",
        "df.join(df_p1, df['id'] == df_p1['id'],'outer').printSchema()\n",
        "df.join(df_p1, df['id'] == df_p1['id'],'outer').count()"
      ],
      "metadata": {
        "colab": {
          "base_uri": "https://localhost:8080/"
        },
        "id": "s4vEnhkUB9PA",
        "outputId": "643ebe5c-23ae-4217-82be-ec5c47a8958f"
      },
      "execution_count": 80,
      "outputs": [
        {
          "output_type": "stream",
          "name": "stdout",
          "text": [
            "root\n",
            " |-- id: integer (nullable = true)\n",
            " |-- budget: float (nullable = true)\n",
            " |-- popularity: float (nullable = true)\n",
            " |-- release_date: date (nullable = true)\n",
            " |-- revenue: float (nullable = true)\n",
            " |-- title: string (nullable = true)\n",
            " |-- mean_popularity: double (nullable = true)\n",
            " |-- variance: double (nullable = true)\n",
            " |-- release_year: integer (nullable = true)\n",
            " |-- cast: string (nullable = true)\n",
            " |-- adult: string (nullable = true)\n",
            " |-- directors: string (nullable = true)\n",
            " |-- vote_count: string (nullable = true)\n",
            " |-- spoken_languages: string (nullable = true)\n",
            " |-- poster_path: string (nullable = true)\n",
            " |-- homepage: string (nullable = true)\n",
            " |-- imdb_id: string (nullable = true)\n",
            " |-- genres: string (nullable = true)\n",
            " |-- video: string (nullable = true)\n",
            " |-- id: integer (nullable = true)\n",
            "\n"
          ]
        },
        {
          "output_type": "execute_result",
          "data": {
            "text/plain": [
              "43998"
            ]
          },
          "metadata": {},
          "execution_count": 80
        }
      ]
    },
    {
      "cell_type": "code",
      "source": [
        "# Left Anti Join\n",
        "df.join(df_p1, df['id'] == df_p1['id'],'left_anti').printSchema()\n",
        "df.join(df_p1, df['id'] == df_p1['id'],'left_anti').count()"
      ],
      "metadata": {
        "colab": {
          "base_uri": "https://localhost:8080/"
        },
        "id": "68EMJsG_CIhk",
        "outputId": "c2e1f499-e384-4ed8-c087-51b182ef8adc"
      },
      "execution_count": 81,
      "outputs": [
        {
          "output_type": "stream",
          "name": "stdout",
          "text": [
            "root\n",
            " |-- id: integer (nullable = true)\n",
            " |-- budget: float (nullable = true)\n",
            " |-- popularity: float (nullable = true)\n",
            " |-- release_date: date (nullable = true)\n",
            " |-- revenue: float (nullable = true)\n",
            " |-- title: string (nullable = true)\n",
            " |-- mean_popularity: double (nullable = false)\n",
            " |-- variance: double (nullable = true)\n",
            " |-- release_year: integer (nullable = true)\n",
            "\n"
          ]
        },
        {
          "output_type": "execute_result",
          "data": {
            "text/plain": [
              "19000"
            ]
          },
          "metadata": {},
          "execution_count": 81
        }
      ]
    },
    {
      "cell_type": "code",
      "source": [
        "# Left Semi Join\n",
        "df.join(df_p1, df['id'] == df_p1['id'],'left_semi').printSchema()\n",
        "df.join(df_p1, df['id'] == df_p1['id'],'left_semi').count()"
      ],
      "metadata": {
        "colab": {
          "base_uri": "https://localhost:8080/"
        },
        "id": "kg2zLi63CNGR",
        "outputId": "23dc8db0-576b-46d4-d90b-1285bec3d741"
      },
      "execution_count": 82,
      "outputs": [
        {
          "output_type": "stream",
          "name": "stdout",
          "text": [
            "root\n",
            " |-- id: integer (nullable = true)\n",
            " |-- budget: float (nullable = true)\n",
            " |-- popularity: float (nullable = true)\n",
            " |-- release_date: date (nullable = true)\n",
            " |-- revenue: float (nullable = true)\n",
            " |-- title: string (nullable = true)\n",
            " |-- mean_popularity: double (nullable = false)\n",
            " |-- variance: double (nullable = true)\n",
            " |-- release_year: integer (nullable = true)\n",
            "\n"
          ]
        },
        {
          "output_type": "execute_result",
          "data": {
            "text/plain": [
              "24998"
            ]
          },
          "metadata": {},
          "execution_count": 82
        }
      ]
    },
    {
      "cell_type": "code",
      "source": [
        "# Broadcast Join\n",
        "df.join(broadcast(df_p1), df['id'] == df_p1['id'],'left_semi').count()"
      ],
      "metadata": {
        "colab": {
          "base_uri": "https://localhost:8080/"
        },
        "id": "D-f8nXglCPtv",
        "outputId": "3d742bc6-5bcf-4146-ace6-d605378ab75c"
      },
      "execution_count": 83,
      "outputs": [
        {
          "output_type": "execute_result",
          "data": {
            "text/plain": [
              "24998"
            ]
          },
          "metadata": {},
          "execution_count": 83
        }
      ]
    },
    {
      "cell_type": "code",
      "source": [
        "# Original data count\n",
        "df.count()"
      ],
      "metadata": {
        "colab": {
          "base_uri": "https://localhost:8080/"
        },
        "id": "uU5QSaHRClyi",
        "outputId": "61debb23-3745-42af-c42a-b2024849cce4"
      },
      "execution_count": 84,
      "outputs": [
        {
          "output_type": "execute_result",
          "data": {
            "text/plain": [
              "43998"
            ]
          },
          "metadata": {},
          "execution_count": 84
        }
      ]
    },
    {
      "cell_type": "code",
      "source": [
        "# Drop Duplicates Demonstration\n",
        "df.dropDuplicates(['title','release_year']).count()"
      ],
      "metadata": {
        "colab": {
          "base_uri": "https://localhost:8080/"
        },
        "id": "Iu55mHk4CpSG",
        "outputId": "e4085e4e-331c-42dc-ae2c-61055d15e886"
      },
      "execution_count": 85,
      "outputs": [
        {
          "output_type": "execute_result",
          "data": {
            "text/plain": [
              "43643"
            ]
          },
          "metadata": {},
          "execution_count": 85
        }
      ]
    },
    {
      "cell_type": "markdown",
      "source": [
        "# **Data Visualization**"
      ],
      "metadata": {
        "id": "AX_fQtc3C2X0"
      }
    },
    {
      "cell_type": "code",
      "source": [
        "# Step 1 : Importing required libraies\n",
        "\n",
        "%matplotlib inline\n",
        "import pandas as pd\n",
        "from matplotlib import pyplot as plt\n",
        "import seaborn as sns\n",
        "\n",
        "# Processing the data in Spark. We can use the histogram function from the RDD\n",
        "histogram_data = df.select('popularity').rdd.flatMap(lambda x: x).histogram(25)\n",
        "# Loading the Computed Histogram into a Pandas Dataframe for plotting\n",
        "hist_df=pd.DataFrame(list(zip(*histogram_data)), columns=['bin', 'frequency'])\n",
        "\n"
      ],
      "metadata": {
        "id": "yax7WjUjCrE8"
      },
      "execution_count": 90,
      "outputs": []
    },
    {
      "cell_type": "code",
      "source": [
        "# Plotting\n",
        "sns.set(rc={'figure.figsize':(16, 6)})\n",
        "sns.barplot(x='bin', y='frequency', data=hist_df)  # Corrected line: specify x and y as keyword arguments\n",
        "plt.xticks(rotation=25)\n",
        "plt.title('Distribution of Popularity')\n",
        "plt.show()\n",
        "# plt.savefig('myimage.svg', format='svg', dpi=1200)"
      ],
      "metadata": {
        "colab": {
          "base_uri": "https://localhost:8080/",
          "height": 534
        },
        "id": "0Z_bqN0XEWAY",
        "outputId": "bbeccecb-d9cf-40cd-a472-b5b25590c43a"
      },
      "execution_count": 93,
      "outputs": [
        {
          "output_type": "display_data",
          "data": {
            "text/plain": [
              "<Figure size 1600x600 with 1 Axes>"
            ],
            "image/png": "[encoded data removed]"
          },
          "metadata": {}
        }
      ]
    },
    {
      "cell_type": "code",
      "source": [
        "#filtering the data\n",
        "df_fil = df.filter('popularity<22')\n",
        "\n",
        "#processing data\n",
        "# Processing the data in Spark. We can use the histogram function from the RDD\n",
        "histogram_data = df_fil.select('popularity').rdd.flatMap(lambda x: x).histogram(25)\n",
        "# Loading the Computed Histogram into a Pandas Dataframe for plotting\n",
        "hist_df=pd.DataFrame(list(zip(*histogram_data)), columns=['bin', 'frequency'])\n",
        "\n",
        "# Plotting\n",
        "sns.set(rc={'figure.figsize':(16, 6)})\n",
        "sns.barplot(x='bin', y='frequency', data=hist_df)  # Corrected line: specify x and y as keyword arguments\n",
        "plt.xticks(rotation=25)\n",
        "plt.title('Distribution of Popularity - data filtered')\n",
        "plt.show()"
      ],
      "metadata": {
        "colab": {
          "base_uri": "https://localhost:8080/",
          "height": 538
        },
        "id": "ZF9ufWXDErf3",
        "outputId": "e2acad97-80fc-4f25-dc71-5449ee182e59"
      },
      "execution_count": 94,
      "outputs": [
        {
          "output_type": "display_data",
          "data": {
            "text/plain": [
              "<Figure size 1600x600 with 1 Axes>"
            ],
            "image/png": "[encoded data removed]"
          },
          "metadata": {}
        }
      ]
    },
    {
      "cell_type": "code",
      "source": [
        "# Data preparation for bar chart\n",
        "df_cat=df.filter(\"(release_year>1959) and (release_year<1971)\").groupby('release_year').count().toPandas()\n",
        "df_cat=df_cat.sort_values(by=['release_year'], ascending=False)"
      ],
      "metadata": {
        "id": "CIJoKFdYG76S"
      },
      "execution_count": 95,
      "outputs": []
    },
    {
      "cell_type": "code",
      "source": [
        "# Plotting\n",
        "sns.set(rc={'figure.figsize':(16, 6)})\n",
        "sns.barplot(x='release_year', y='count', data=df_cat)  # Corrected line: specify x and y as keyword arguments\n",
        "plt.xticks(rotation=25)\n",
        "plt.title('Number of films released each year from 1960 to 1970 in our dataset')\n",
        "plt.show()\n"
      ],
      "metadata": {
        "colab": {
          "base_uri": "https://localhost:8080/",
          "height": 515
        },
        "id": "MoRTqQReHK3V",
        "outputId": "3b18f67c-1b70-42a1-9a14-8bb8cce136f3"
      },
      "execution_count": 96,
      "outputs": [
        {
          "output_type": "display_data",
          "data": {
            "text/plain": [
              "<Figure size 1600x600 with 1 Axes>"
            ],
            "image/png": "[encoded data removed]"
          },
          "metadata": {}
        }
      ]
    },
    {
      "cell_type": "code",
      "source": [],
      "metadata": {
        "id": "MgXe3FwmHjBv"
      },
      "execution_count": null,
      "outputs": []
    }
  ]
}
{
  "nbformat": 4,
  "nbformat_minor": 0,
  "metadata": {
    "colab": {
      "provenance": [],
      "authorship_tag": "ABX9TyNsVUbMRgwRynNuqv5xSy2p",
      "include_colab_link": true
    },
    "kernelspec": {
      "name": "python3",
      "display_name": "Python 3"
    },
    "language_info": {
      "name": "python"
    }
  },
  "cells": [
    {
      "cell_type": "markdown",
      "metadata": {
        "id": "view-in-github",
        "colab_type": "text"
      },
      "source": [
        "<a href=\"https://colab.research.google.com/github/ankesh86/PySparkNotebooks/blob/main/ClassificationModel.ipynb\" target=\"_parent\"><img src=\"https://colab.research.google.com/assets/colab-badge.svg\" alt=\"Open In Colab\"/></a>"
      ]
    },
    {
      "cell_type": "markdown",
      "source": [
        "# **Initialise Spark**"
      ],
      "metadata": {
        "id": "07ykBqeI6NQe"
      }
    },
    {
      "cell_type": "code",
      "source": [
        "!pip install pyspark==3.4.0"
      ],
      "metadata": {
        "colab": {
          "base_uri": "https://localhost:8080/"
        },
        "id": "V-MXtZd26Mdx",
        "outputId": "e956b9e2-a9d9-4336-baf1-ba553057d87a"
      },
      "execution_count": 1,
      "outputs": [
        {
          "output_type": "stream",
          "name": "stdout",
          "text": [
            "Collecting pyspark==3.4.0\n",
            "  Downloading pyspark-3.4.0.tar.gz (310.8 MB)\n",
            "\u001b[2K     \u001b[90m━━━━━━━━━━━━━━━━━━━━━━━━━━━━━━━━━━━━━━━━\u001b[0m \u001b[32m310.8/310.8 MB\u001b[0m \u001b[31m4.0 MB/s\u001b[0m eta \u001b[36m0:00:00\u001b[0m\n",
            "\u001b[?25h  Preparing metadata (setup.py) ... \u001b[?25l\u001b[?25hdone\n",
            "Requirement already satisfied: py4j==0.10.9.7 in /usr/local/lib/python3.10/dist-packages (from pyspark==3.4.0) (0.10.9.7)\n",
            "Building wheels for collected packages: pyspark\n",
            "  Building wheel for pyspark (setup.py) ... \u001b[?25l\u001b[?25hdone\n",
            "  Created wheel for pyspark: filename=pyspark-3.4.0-py2.py3-none-any.whl size=311317122 sha256=4875fd0591714755c696830468bb2ca56653af0356383e6dce78f78d26dd3535\n",
            "  Stored in directory: /root/.cache/pip/wheels/7b/1b/4b/3363a1d04368e7ff0d408e57ff57966fcdf00583774e761327\n",
            "Successfully built pyspark\n",
            "Installing collected packages: pyspark\n",
            "Successfully installed pyspark-3.4.0\n"
          ]
        }
      ]
    },
    {
      "cell_type": "code",
      "source": [
        "from pyspark.sql import SparkSession\n",
        "spark = SparkSession.builder.appName('binary_class').getOrCreate()"
      ],
      "metadata": {
        "id": "OFlk-qkg6X25"
      },
      "execution_count": 2,
      "outputs": []
    },
    {
      "cell_type": "markdown",
      "source": [
        "# **Load the Dataset**"
      ],
      "metadata": {
        "id": "hMwXULtU6FrF"
      }
    },
    {
      "cell_type": "code",
      "execution_count": 18,
      "metadata": {
        "id": "S-QGxRdj5_gW"
      },
      "outputs": [],
      "source": [
        "df = spark.read.csv('sample_data/classification_data.csv', inferSchema = True, header=True)"
      ]
    },
    {
      "cell_type": "markdown",
      "source": [
        "# **Exploring Dataframe**"
      ],
      "metadata": {
        "id": "Xxw7ZXrs7t58"
      }
    },
    {
      "cell_type": "code",
      "source": [
        "print((df.count(), len(df.columns)))"
      ],
      "metadata": {
        "colab": {
          "base_uri": "https://localhost:8080/"
        },
        "id": "F_HY9tm76_Jy",
        "outputId": "4c64e9ce-001c-4a49-b413-2ef3086f13a1"
      },
      "execution_count": 5,
      "outputs": [
        {
          "output_type": "stream",
          "name": "stdout",
          "text": [
            "(46751, 12)\n"
          ]
        }
      ]
    },
    {
      "cell_type": "code",
      "source": [
        "df.printSchema()"
      ],
      "metadata": {
        "colab": {
          "base_uri": "https://localhost:8080/"
        },
        "id": "pwgBSv8t7PUC",
        "outputId": "44b5d0a8-721a-41e7-b88f-060a281ae8f4"
      },
      "execution_count": 6,
      "outputs": [
        {
          "output_type": "stream",
          "name": "stdout",
          "text": [
            "root\n",
            " |-- loan_id: string (nullable = true)\n",
            " |-- loan_purpose: string (nullable = true)\n",
            " |-- is_first_loan: integer (nullable = true)\n",
            " |-- total_credit_card_limit: integer (nullable = true)\n",
            " |-- avg_percentage_credit_card_limit_used_last_year: double (nullable = true)\n",
            " |-- saving_amount: integer (nullable = true)\n",
            " |-- checking_amount: integer (nullable = true)\n",
            " |-- is_employed: integer (nullable = true)\n",
            " |-- yearly_salary: integer (nullable = true)\n",
            " |-- age: integer (nullable = true)\n",
            " |-- dependent_number: integer (nullable = true)\n",
            " |-- label: integer (nullable = true)\n",
            "\n"
          ]
        }
      ]
    },
    {
      "cell_type": "code",
      "source": [
        "df.show(5)"
      ],
      "metadata": {
        "colab": {
          "base_uri": "https://localhost:8080/"
        },
        "id": "MWIYaaQp7SuA",
        "outputId": "cd2a2ea0-ab74-4535-ed2e-bcab95c58239"
      },
      "execution_count": 12,
      "outputs": [
        {
          "output_type": "stream",
          "name": "stdout",
          "text": [
            "+-------+------------+-------------+-----------------------+-----------------------------------------------+-------------+---------------+-----------+-------------+---+----------------+-----+\n",
            "|loan_id|loan_purpose|is_first_loan|total_credit_card_limit|avg_percentage_credit_card_limit_used_last_year|saving_amount|checking_amount|is_employed|yearly_salary|age|dependent_number|label|\n",
            "+-------+------------+-------------+-----------------------+-----------------------------------------------+-------------+---------------+-----------+-------------+---+----------------+-----+\n",
            "|    A_1|    personal|            1|                   7900|                                            0.8|         1103|           6393|          1|        16400| 42|               4|    0|\n",
            "|    A_2|    personal|            0|                   3300|                                           0.29|         2588|            832|          1|        75500| 56|               1|    0|\n",
            "|    A_3|    personal|            0|                   7600|                                            0.9|         1651|           8868|          1|        59000| 46|               1|    0|\n",
            "|    A_4|    personal|            1|                   3400|                                           0.38|         1269|           6863|          1|        26000| 55|               8|    0|\n",
            "|    A_5|   emergency|            0|                   2600|                                           0.89|         1310|           3423|          1|         9700| 41|               4|    1|\n",
            "+-------+------------+-------------+-----------------------+-----------------------------------------------+-------------+---------------+-----------+-------------+---+----------------+-----+\n",
            "only showing top 5 rows\n",
            "\n"
          ]
        }
      ]
    },
    {
      "cell_type": "code",
      "source": [
        "df.summary().show()"
      ],
      "metadata": {
        "colab": {
          "base_uri": "https://localhost:8080/"
        },
        "id": "pOQy1XDC7YhA",
        "outputId": "e381f832-c3a9-4df3-8840-9e125794db44"
      },
      "execution_count": 11,
      "outputs": [
        {
          "output_type": "stream",
          "name": "stdout",
          "text": [
            "+-------+-------+------------+------------------+-----------------------+-----------------------------------------------+------------------+------------------+------------------+------------------+------------------+------------------+-------------------+\n",
            "|summary|loan_id|loan_purpose|     is_first_loan|total_credit_card_limit|avg_percentage_credit_card_limit_used_last_year|     saving_amount|   checking_amount|       is_employed|     yearly_salary|               age|  dependent_number|              label|\n",
            "+-------+-------+------------+------------------+-----------------------+-----------------------------------------------+------------------+------------------+------------------+------------------+------------------+------------------+-------------------+\n",
            "|  count|  46751|       46751|             46751|                  46751|                                          46751|             46751|             46751|             46751|             46751|             46751|             46751|              46751|\n",
            "|   mean|   null|        null|0.5414429637868708|      4615.304485465552|                              0.700091121045545| 2037.636585313683|3520.6714294881394|0.9173279715941905| 29527.62079955509| 41.53979594019379|3.7448396825736348|0.34653804196701676|\n",
            "| stddev|   null|        null|0.4982848498677868|      1890.194453628314|                             0.1777288093267152|1498.6710906030362|2160.9332423713727|0.2753887911928983|16149.757703029438|12.817646350266434|2.6191527902107667|0.47587211651314887|\n",
            "|    min|    A_1|   emergency|                 0|                    500|                                            0.0|                 0|                 0|                 0|                 0|                18|                 0|                  0|\n",
            "|    25%|   null|        null|                 0|                   3200|                                           0.58|               920|              1884|                 1|             19200|                32|                 2|                  0|\n",
            "|    50%|   null|        null|                 1|                   4500|                                           0.71|              1572|              3050|                 1|             29600|                41|                 3|                  0|\n",
            "|    75%|   null|        null|                 1|                   5900|                                           0.83|              2907|              4876|                 1|             40400|                50|                 6|                  1|\n",
            "|    max| A_9999|    property|                 1|                  13500|                                           1.09|             10641|             13165|                 1|             97200|                79|                 8|                  1|\n",
            "+-------+-------+------------+------------------+-----------------------+-----------------------------------------------+------------------+------------------+------------------+------------------+------------------+------------------+-------------------+\n",
            "\n"
          ]
        }
      ]
    },
    {
      "cell_type": "code",
      "source": [
        "df.groupBy('label').count().show()"
      ],
      "metadata": {
        "colab": {
          "base_uri": "https://localhost:8080/"
        },
        "id": "dQ0-12oq72MQ",
        "outputId": "f9cbe279-817e-4b80-8a1b-ab84ff11eb96"
      },
      "execution_count": 14,
      "outputs": [
        {
          "output_type": "stream",
          "name": "stdout",
          "text": [
            "+-----+-----+\n",
            "|label|count|\n",
            "+-----+-----+\n",
            "|    1|16201|\n",
            "|    0|30550|\n",
            "+-----+-----+\n",
            "\n"
          ]
        }
      ]
    },
    {
      "cell_type": "code",
      "source": [
        "df.groupBy('loan_purpose').count().show()"
      ],
      "metadata": {
        "colab": {
          "base_uri": "https://localhost:8080/"
        },
        "id": "1KGPh1SY8oXy",
        "outputId": "4b318b24-afad-4b84-a53a-55fa1b350801"
      },
      "execution_count": 15,
      "outputs": [
        {
          "output_type": "stream",
          "name": "stdout",
          "text": [
            "+------------+-----+\n",
            "|loan_purpose|count|\n",
            "+------------+-----+\n",
            "|      others| 6763|\n",
            "|   emergency| 7562|\n",
            "|    property|11388|\n",
            "|  operations|10580|\n",
            "|    personal|10458|\n",
            "+------------+-----+\n",
            "\n"
          ]
        }
      ]
    },
    {
      "cell_type": "markdown",
      "source": [
        "# **Data Transformation**"
      ],
      "metadata": {
        "id": "LYjWP0mo86ya"
      }
    },
    {
      "cell_type": "code",
      "source": [
        "from pyspark.ml.feature import OneHotEncoder, StringIndexer, VectorAssembler\n",
        "\n",
        "# Initialize StringIndexer and transform data\n",
        "loan_purpose_indexer = StringIndexer(inputCol=\"loan_purpose\", outputCol=\"loan_index\")\n",
        "df = loan_purpose_indexer.fit(df).transform(df)\n",
        "\n",
        "# Initialize OneHotEncoder\n",
        "loan_encoder = OneHotEncoder(inputCol=\"loan_index\", outputCol='loan_purpose_vec')\n",
        "\n",
        "# Fit and transform using OneHotEncoder\n",
        "loan_encoder_model = loan_encoder.fit(df)\n",
        "df = loan_encoder_model.transform(df)\n",
        "\n",
        "# Show the results\n",
        "df.select(['loan_purpose', 'loan_index', 'loan_purpose_vec']).show(3, False)\n"
      ],
      "metadata": {
        "colab": {
          "base_uri": "https://localhost:8080/"
        },
        "id": "uFJ4uznOJqH3",
        "outputId": "bbf65f5e-03cb-4f48-82ca-a30e06705c49"
      },
      "execution_count": 19,
      "outputs": [
        {
          "output_type": "stream",
          "name": "stdout",
          "text": [
            "+------------+----------+----------------+\n",
            "|loan_purpose|loan_index|loan_purpose_vec|\n",
            "+------------+----------+----------------+\n",
            "|personal    |2.0       |(4,[2],[1.0])   |\n",
            "|personal    |2.0       |(4,[2],[1.0])   |\n",
            "|personal    |2.0       |(4,[2],[1.0])   |\n",
            "+------------+----------+----------------+\n",
            "only showing top 3 rows\n",
            "\n"
          ]
        }
      ]
    },
    {
      "cell_type": "code",
      "source": [
        "from pyspark.ml.feature import VectorAssembler\n",
        "\n",
        "df_assembler = VectorAssembler(inputCols=['is_first_loan','total_credit_card_limit'\n",
        "                              ,'avg_percentage_credit_card_limit_used_last_year'\n",
        "                              ,'saving_amount','checking_amount','is_employed'\n",
        "                              ,'yearly_salary','age','dependent_number','loan_purpose_vec'], outputCol=\"features\")\n",
        "df = df_assembler.transform(df)\n",
        "df.select(['features','label']).show(10,False)"
      ],
      "metadata": {
        "colab": {
          "base_uri": "https://localhost:8080/"
        },
        "id": "i9XRL7UsJ_hn",
        "outputId": "300b1aa1-626d-4615-80dc-740a59c16330"
      },
      "execution_count": 20,
      "outputs": [
        {
          "output_type": "stream",
          "name": "stdout",
          "text": [
            "+--------------------------------------------------------------------+-----+\n",
            "|features                                                            |label|\n",
            "+--------------------------------------------------------------------+-----+\n",
            "|[1.0,7900.0,0.8,1103.0,6393.0,1.0,16400.0,42.0,4.0,0.0,0.0,1.0,0.0] |0    |\n",
            "|[0.0,3300.0,0.29,2588.0,832.0,1.0,75500.0,56.0,1.0,0.0,0.0,1.0,0.0] |0    |\n",
            "|[0.0,7600.0,0.9,1651.0,8868.0,1.0,59000.0,46.0,1.0,0.0,0.0,1.0,0.0] |0    |\n",
            "|[1.0,3400.0,0.38,1269.0,6863.0,1.0,26000.0,55.0,8.0,0.0,0.0,1.0,0.0]|0    |\n",
            "|[0.0,2600.0,0.89,1310.0,3423.0,1.0,9700.0,41.0,4.0,0.0,0.0,0.0,1.0] |1    |\n",
            "|[0.0,7600.0,0.51,1040.0,2406.0,1.0,22900.0,52.0,0.0,0.0,1.0,0.0,0.0]|0    |\n",
            "|[1.0,6900.0,0.82,2408.0,5556.0,1.0,34800.0,48.0,4.0,0.0,1.0,0.0,0.0]|0    |\n",
            "|[0.0,5700.0,0.56,1933.0,4139.0,1.0,32500.0,64.0,2.0,0.0,0.0,1.0,0.0]|0    |\n",
            "|[1.0,3400.0,0.95,3866.0,4131.0,1.0,13300.0,23.0,3.0,0.0,0.0,1.0,0.0]|0    |\n",
            "|[0.0,2900.0,0.91,88.0,2725.0,1.0,21100.0,52.0,1.0,0.0,0.0,1.0,0.0]  |1    |\n",
            "+--------------------------------------------------------------------+-----+\n",
            "only showing top 10 rows\n",
            "\n"
          ]
        }
      ]
    },
    {
      "cell_type": "code",
      "source": [
        "model_df = df.select(['features','label'])"
      ],
      "metadata": {
        "id": "TFFpPjm3LiTB"
      },
      "execution_count": 21,
      "outputs": []
    },
    {
      "cell_type": "markdown",
      "source": [
        "# **Splitting into Train and Test Data**"
      ],
      "metadata": {
        "id": "HouGNfDdMB1x"
      }
    },
    {
      "cell_type": "code",
      "source": [
        "training_df, test_df = model_df.randomSplit([0.75,0.25])"
      ],
      "metadata": {
        "id": "kObbs7B7L_fN"
      },
      "execution_count": 22,
      "outputs": []
    },
    {
      "cell_type": "markdown",
      "source": [
        "# **Model Training**"
      ],
      "metadata": {
        "id": "X_2ZsL7XMlj0"
      }
    },
    {
      "cell_type": "code",
      "source": [
        "from pyspark.ml.classification import LogisticRegression\n",
        "\n",
        "log_reg = LogisticRegression().fit(training_df)\n",
        "lr_summary = log_reg.summary\n",
        "\n",
        "lr_summary.accuracy"
      ],
      "metadata": {
        "colab": {
          "base_uri": "https://localhost:8080/"
        },
        "id": "3Vad-LPMMklS",
        "outputId": "3ea23913-02d8-4f19-e8d9-fc75ece35470"
      },
      "execution_count": 23,
      "outputs": [
        {
          "output_type": "execute_result",
          "data": {
            "text/plain": [
              "0.895307582260372"
            ]
          },
          "metadata": {},
          "execution_count": 23
        }
      ]
    },
    {
      "cell_type": "code",
      "source": [
        "lr_summary.areaUnderROC"
      ],
      "metadata": {
        "colab": {
          "base_uri": "https://localhost:8080/"
        },
        "id": "S3g4osozNPWz",
        "outputId": "917754e1-30cb-47ca-d175-10f70db2e1ea"
      },
      "execution_count": 24,
      "outputs": [
        {
          "output_type": "execute_result",
          "data": {
            "text/plain": [
              "0.9591584712788663"
            ]
          },
          "metadata": {},
          "execution_count": 24
        }
      ]
    },
    {
      "cell_type": "code",
      "source": [
        "print(lr_summary.precisionByLabel)"
      ],
      "metadata": {
        "colab": {
          "base_uri": "https://localhost:8080/"
        },
        "id": "EnLQgX_8NYsa",
        "outputId": "2d1057c6-e6e9-4fa9-9a0c-c1f5a43ea69b"
      },
      "execution_count": 25,
      "outputs": [
        {
          "output_type": "stream",
          "name": "stdout",
          "text": [
            "[0.924433249370277, 0.8418147877607337]\n"
          ]
        }
      ]
    },
    {
      "cell_type": "code",
      "source": [
        "print(lr_summary.recallByLabel)"
      ],
      "metadata": {
        "colab": {
          "base_uri": "https://localhost:8080/"
        },
        "id": "RCy1wRhvNnmq",
        "outputId": "76ea1085-06f6-422a-b86d-d3d7795113c6"
      },
      "execution_count": 26,
      "outputs": [
        {
          "output_type": "stream",
          "name": "stdout",
          "text": [
            "[0.9147717334266223, 0.8584671412017878]\n"
          ]
        }
      ]
    },
    {
      "cell_type": "code",
      "source": [
        "predictions = log_reg.transform(test_df)\n",
        "predictions.show(10)"
      ],
      "metadata": {
        "colab": {
          "base_uri": "https://localhost:8080/"
        },
        "id": "CfQwV9WYNu8D",
        "outputId": "d3a7516d-c2a8-4951-c6a0-266ae738892d"
      },
      "execution_count": 27,
      "outputs": [
        {
          "output_type": "stream",
          "name": "stdout",
          "text": [
            "+--------------------+-----+--------------------+--------------------+----------+\n",
            "|            features|label|       rawPrediction|         probability|prediction|\n",
            "+--------------------+-----+--------------------+--------------------+----------+\n",
            "|(13,[0,1,2,3,4,7]...|    1|[-6.9114082572908...|[9.95361953148917...|       1.0|\n",
            "|(13,[0,1,2,3,4,7]...|    1|[-1.8519132930933...|[0.13564841095108...|       1.0|\n",
            "|(13,[0,1,2,3,4,7]...|    1|[-1.5474300022587...|[0.17545776568584...|       1.0|\n",
            "|(13,[0,1,2,3,4,7]...|    0|[6.55941888405937...|[0.99858529548104...|       0.0|\n",
            "|(13,[0,1,2,3,4,7,...|    1|[-4.5229157037258...|[0.01074070545814...|       1.0|\n",
            "|(13,[0,1,2,3,4,7,...|    1|[-6.0246200201574...|[0.00241263547538...|       1.0|\n",
            "|(13,[0,1,2,3,4,7,...|    1|[-6.2625121325886...|[0.00190282288181...|       1.0|\n",
            "|(13,[0,1,2,3,4,7,...|    1|[-6.5829963322610...|[0.00138178508909...|       1.0|\n",
            "|(13,[0,1,2,3,4,7,...|    1|[-4.3341657372251...|[0.01294308878783...|       1.0|\n",
            "|(13,[0,1,2,3,4,7,...|    1|[-6.3445561561767...|[0.00175320296574...|       1.0|\n",
            "+--------------------+-----+--------------------+--------------------+----------+\n",
            "only showing top 10 rows\n",
            "\n"
          ]
        }
      ]
    },
    {
      "cell_type": "code",
      "source": [
        "model_prediction = log_reg.transform(test_df)\n",
        "model_prediction = log_reg.evaluate(test_df)\n",
        "model_prediction.accuracy"
      ],
      "metadata": {
        "colab": {
          "base_uri": "https://localhost:8080/"
        },
        "id": "cTrkgZuDN95x",
        "outputId": "2f17a68b-550d-487a-815f-8e4b6962ea5f"
      },
      "execution_count": 28,
      "outputs": [
        {
          "output_type": "execute_result",
          "data": {
            "text/plain": [
              "0.8900093212439624"
            ]
          },
          "metadata": {},
          "execution_count": 28
        }
      ]
    },
    {
      "cell_type": "code",
      "source": [
        "model_prediction.areaUnderROC"
      ],
      "metadata": {
        "colab": {
          "base_uri": "https://localhost:8080/"
        },
        "id": "4NRsdvBpOuAh",
        "outputId": "1a02cf56-67b5-4847-f4e8-a88ba7f491dc"
      },
      "execution_count": 29,
      "outputs": [
        {
          "output_type": "execute_result",
          "data": {
            "text/plain": [
              "0.9582228873264587"
            ]
          },
          "metadata": {},
          "execution_count": 29
        }
      ]
    },
    {
      "cell_type": "code",
      "source": [
        "print(model_prediction.recallByLabel)"
      ],
      "metadata": {
        "colab": {
          "base_uri": "https://localhost:8080/"
        },
        "id": "W7OA3sw5O6qc",
        "outputId": "58e3beb4-41e0-4c83-d344-e7e6f6fae994"
      },
      "execution_count": 30,
      "outputs": [
        {
          "output_type": "stream",
          "name": "stdout",
          "text": [
            "[0.9065347565738089, 0.8591891235736829]\n"
          ]
        }
      ]
    },
    {
      "cell_type": "code",
      "source": [
        "print(model_prediction.precisionByLabel)"
      ],
      "metadata": {
        "colab": {
          "base_uri": "https://localhost:8080/"
        },
        "id": "Fg3kKHFKO_LQ",
        "outputId": "eeda8c0f-e808-424c-f465-4b5bdb28400b"
      },
      "execution_count": 31,
      "outputs": [
        {
          "output_type": "stream",
          "name": "stdout",
          "text": [
            "[0.9231177094379639, 0.8313366220342965]\n"
          ]
        }
      ]
    },
    {
      "cell_type": "code",
      "source": [],
      "metadata": {
        "id": "aqmSdy7tPD52"
      },
      "execution_count": null,
      "outputs": []
    }
  ]
}